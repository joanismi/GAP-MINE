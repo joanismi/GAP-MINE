{
 "cells": [
  {
   "cell_type": "code",
   "execution_count": 1,
   "metadata": {},
   "outputs": [],
   "source": [
    "import pandas as pd\n",
    "import numpy as np\n",
    "from igraph import Graph\n",
    "import sys\n",
    "sys.path.insert(0, '../features')\n",
    "from disease_process_proteins import get_protein_index\n",
    "from steiner_tree import sca\n",
    "from tqdm.notebook import tqdm\n",
    "from IPython.display import display"
   ]
  },
  {
   "attachments": {},
   "cell_type": "markdown",
   "metadata": {},
   "source": [
    "# STRING PPI Conversion"
   ]
  },
  {
   "cell_type": "code",
   "execution_count": 2,
   "metadata": {},
   "outputs": [
    {
     "data": {
      "text/html": [
       "<div>\n",
       "<style scoped>\n",
       "    .dataframe tbody tr th:only-of-type {\n",
       "        vertical-align: middle;\n",
       "    }\n",
       "\n",
       "    .dataframe tbody tr th {\n",
       "        vertical-align: top;\n",
       "    }\n",
       "\n",
       "    .dataframe thead th {\n",
       "        text-align: right;\n",
       "    }\n",
       "</style>\n",
       "<table border=\"1\" class=\"dataframe\">\n",
       "  <thead>\n",
       "    <tr style=\"text-align: right;\">\n",
       "      <th></th>\n",
       "      <th>protein1</th>\n",
       "      <th>protein2</th>\n",
       "      <th>combined_score</th>\n",
       "    </tr>\n",
       "  </thead>\n",
       "  <tbody>\n",
       "    <tr>\n",
       "      <th>0</th>\n",
       "      <td>9606.ENSP00000000233</td>\n",
       "      <td>9606.ENSP00000379496</td>\n",
       "      <td>155</td>\n",
       "    </tr>\n",
       "    <tr>\n",
       "      <th>1</th>\n",
       "      <td>9606.ENSP00000000233</td>\n",
       "      <td>9606.ENSP00000314067</td>\n",
       "      <td>197</td>\n",
       "    </tr>\n",
       "  </tbody>\n",
       "</table>\n",
       "</div>"
      ],
      "text/plain": [
       "               protein1              protein2  combined_score\n",
       "0  9606.ENSP00000000233  9606.ENSP00000379496             155\n",
       "1  9606.ENSP00000000233  9606.ENSP00000314067             197"
      ]
     },
     "metadata": {},
     "output_type": "display_data"
    },
    {
     "data": {
      "text/html": [
       "<div>\n",
       "<style scoped>\n",
       "    .dataframe tbody tr th:only-of-type {\n",
       "        vertical-align: middle;\n",
       "    }\n",
       "\n",
       "    .dataframe tbody tr th {\n",
       "        vertical-align: top;\n",
       "    }\n",
       "\n",
       "    .dataframe thead th {\n",
       "        text-align: right;\n",
       "    }\n",
       "</style>\n",
       "<table border=\"1\" class=\"dataframe\">\n",
       "  <thead>\n",
       "    <tr style=\"text-align: right;\">\n",
       "      <th></th>\n",
       "      <th>protein1</th>\n",
       "      <th>protein2</th>\n",
       "      <th>combined_score</th>\n",
       "    </tr>\n",
       "  </thead>\n",
       "  <tbody>\n",
       "    <tr>\n",
       "      <th>0</th>\n",
       "      <td>9606.ENSP00000000233</td>\n",
       "      <td>9606.ENSP00000264718</td>\n",
       "      <td>156</td>\n",
       "    </tr>\n",
       "    <tr>\n",
       "      <th>1</th>\n",
       "      <td>9606.ENSP00000000233</td>\n",
       "      <td>9606.ENSP00000346046</td>\n",
       "      <td>177</td>\n",
       "    </tr>\n",
       "  </tbody>\n",
       "</table>\n",
       "</div>"
      ],
      "text/plain": [
       "               protein1              protein2  combined_score\n",
       "0  9606.ENSP00000000233  9606.ENSP00000264718             156\n",
       "1  9606.ENSP00000000233  9606.ENSP00000346046             177"
      ]
     },
     "metadata": {},
     "output_type": "display_data"
    },
    {
     "data": {
      "text/html": [
       "<div>\n",
       "<style scoped>\n",
       "    .dataframe tbody tr th:only-of-type {\n",
       "        vertical-align: middle;\n",
       "    }\n",
       "\n",
       "    .dataframe tbody tr th {\n",
       "        vertical-align: top;\n",
       "    }\n",
       "\n",
       "    .dataframe thead th {\n",
       "        text-align: right;\n",
       "    }\n",
       "</style>\n",
       "<table border=\"1\" class=\"dataframe\">\n",
       "  <thead>\n",
       "    <tr style=\"text-align: right;\">\n",
       "      <th></th>\n",
       "      <th>#string_protein_id</th>\n",
       "      <th>alias</th>\n",
       "      <th>source</th>\n",
       "    </tr>\n",
       "  </thead>\n",
       "  <tbody>\n",
       "    <tr>\n",
       "      <th>0</th>\n",
       "      <td>9606.ENSP00000000233</td>\n",
       "      <td>2B6H</td>\n",
       "      <td>BLAST_UniProt_DR_PDB</td>\n",
       "    </tr>\n",
       "    <tr>\n",
       "      <th>1</th>\n",
       "      <td>9606.ENSP00000000233</td>\n",
       "      <td>2B6H</td>\n",
       "      <td>Ensembl_HGNC_UniProt_ID(supplied_by_UniProt)_D...</td>\n",
       "    </tr>\n",
       "  </tbody>\n",
       "</table>\n",
       "</div>"
      ],
      "text/plain": [
       "     #string_protein_id alias  \\\n",
       "0  9606.ENSP00000000233  2B6H   \n",
       "1  9606.ENSP00000000233  2B6H   \n",
       "\n",
       "                                              source  \n",
       "0                               BLAST_UniProt_DR_PDB  \n",
       "1  Ensembl_HGNC_UniProt_ID(supplied_by_UniProt)_D...  "
      ]
     },
     "metadata": {},
     "output_type": "display_data"
    }
   ],
   "source": [
    "string_ppi = pd.read_csv('../../data/raw/9606.protein.links.v11.5.txt', sep=' ')\n",
    "display(string_ppi.head(2))\n",
    "string_phys_ppi = pd.read_csv('../../data/raw/9606.protein.physical.links.v11.5.txt', sep=' ')\n",
    "display(string_phys_ppi.head(2))\n",
    "string_aliases = pd.read_csv('../../data/raw/9606.protein.aliases.v11.5.txt', sep='\\t')\n",
    "display(string_aliases.head(2))\n",
    "#conversion_df = pd.read_csv('../../data/interim/HGNC symbols.txt')\n",
    "#conversion_df.head(2)"
   ]
  },
  {
   "cell_type": "code",
   "execution_count": 3,
   "metadata": {},
   "outputs": [
    {
     "name": "stdout",
     "output_type": "stream",
     "text": [
      "11938498\n",
      "1991832\n"
     ]
    }
   ],
   "source": [
    "print(string_ppi.shape[0])\n",
    "print(string_phys_ppi.shape[0])"
   ]
  },
  {
   "attachments": {},
   "cell_type": "markdown",
   "metadata": {},
   "source": [
    "## Process ID mapping table"
   ]
  },
  {
   "cell_type": "code",
   "execution_count": 4,
   "metadata": {},
   "outputs": [
    {
     "data": {
      "text/html": [
       "<div>\n",
       "<style scoped>\n",
       "    .dataframe tbody tr th:only-of-type {\n",
       "        vertical-align: middle;\n",
       "    }\n",
       "\n",
       "    .dataframe tbody tr th {\n",
       "        vertical-align: top;\n",
       "    }\n",
       "\n",
       "    .dataframe thead th {\n",
       "        text-align: right;\n",
       "    }\n",
       "</style>\n",
       "<table border=\"1\" class=\"dataframe\">\n",
       "  <thead>\n",
       "    <tr style=\"text-align: right;\">\n",
       "      <th></th>\n",
       "      <th>#string_protein_id</th>\n",
       "      <th>alias</th>\n",
       "      <th>source</th>\n",
       "    </tr>\n",
       "  </thead>\n",
       "  <tbody>\n",
       "    <tr>\n",
       "      <th>32</th>\n",
       "      <td>9606.ENSP00000000233</td>\n",
       "      <td>ARF5</td>\n",
       "      <td>Ensembl_HGNC</td>\n",
       "    </tr>\n",
       "    <tr>\n",
       "      <th>244</th>\n",
       "      <td>9606.ENSP00000000412</td>\n",
       "      <td>M6PR</td>\n",
       "      <td>Ensembl_HGNC</td>\n",
       "    </tr>\n",
       "    <tr>\n",
       "      <th>516</th>\n",
       "      <td>9606.ENSP00000001008</td>\n",
       "      <td>FKBP4</td>\n",
       "      <td>Ensembl_HGNC</td>\n",
       "    </tr>\n",
       "    <tr>\n",
       "      <th>712</th>\n",
       "      <td>9606.ENSP00000001146</td>\n",
       "      <td>CYP26B1</td>\n",
       "      <td>Ensembl_HGNC</td>\n",
       "    </tr>\n",
       "    <tr>\n",
       "      <th>976</th>\n",
       "      <td>9606.ENSP00000002125</td>\n",
       "      <td>NDUFAF7</td>\n",
       "      <td>Ensembl_HGNC</td>\n",
       "    </tr>\n",
       "  </tbody>\n",
       "</table>\n",
       "</div>"
      ],
      "text/plain": [
       "       #string_protein_id    alias        source\n",
       "32   9606.ENSP00000000233     ARF5  Ensembl_HGNC\n",
       "244  9606.ENSP00000000412     M6PR  Ensembl_HGNC\n",
       "516  9606.ENSP00000001008    FKBP4  Ensembl_HGNC\n",
       "712  9606.ENSP00000001146  CYP26B1  Ensembl_HGNC\n",
       "976  9606.ENSP00000002125  NDUFAF7  Ensembl_HGNC"
      ]
     },
     "execution_count": 4,
     "metadata": {},
     "output_type": "execute_result"
    }
   ],
   "source": [
    "# Allows ID mapping between Ensembl protein IDs and HGNC GeneName\n",
    "string_aliases[string_aliases['source']=='Ensembl_HGNC'].head() "
   ]
  },
  {
   "cell_type": "code",
   "execution_count": 5,
   "metadata": {},
   "outputs": [
    {
     "data": {
      "text/plain": [
       "19142"
      ]
     },
     "execution_count": 5,
     "metadata": {},
     "output_type": "execute_result"
    }
   ],
   "source": [
    "# Ensures full coverage of identifiers\n",
    "string_aliases_hgnc = string_aliases[string_aliases['source']=='Ensembl_HGNC']\n",
    "string_aliases_hgnc.shape[0]"
   ]
  },
  {
   "cell_type": "code",
   "execution_count": 6,
   "metadata": {},
   "outputs": [
    {
     "data": {
      "text/plain": [
       "19142"
      ]
     },
     "execution_count": 6,
     "metadata": {},
     "output_type": "execute_result"
    }
   ],
   "source": [
    "filtered_alias = string_aliases_hgnc.drop_duplicates(subset=['#string_protein_id', 'alias'])\n",
    "filtered_alias.shape[0]"
   ]
  },
  {
   "cell_type": "code",
   "execution_count": 7,
   "metadata": {},
   "outputs": [
    {
     "name": "stdout",
     "output_type": "stream",
     "text": [
      "17\n"
     ]
    },
    {
     "data": {
      "text/html": [
       "<div>\n",
       "<style scoped>\n",
       "    .dataframe tbody tr th:only-of-type {\n",
       "        vertical-align: middle;\n",
       "    }\n",
       "\n",
       "    .dataframe tbody tr th {\n",
       "        vertical-align: top;\n",
       "    }\n",
       "\n",
       "    .dataframe thead th {\n",
       "        text-align: right;\n",
       "    }\n",
       "</style>\n",
       "<table border=\"1\" class=\"dataframe\">\n",
       "  <thead>\n",
       "    <tr style=\"text-align: right;\">\n",
       "      <th></th>\n",
       "      <th>#string_protein_id</th>\n",
       "      <th>alias</th>\n",
       "      <th>source</th>\n",
       "    </tr>\n",
       "  </thead>\n",
       "  <tbody>\n",
       "    <tr>\n",
       "      <th>3917207</th>\n",
       "      <td>9606.ENSP00000451768</td>\n",
       "      <td>KIAA0408</td>\n",
       "      <td>Ensembl_HGNC</td>\n",
       "    </tr>\n",
       "    <tr>\n",
       "      <th>3917264</th>\n",
       "      <td>9606.ENSP00000451768</td>\n",
       "      <td>SOGA3</td>\n",
       "      <td>Ensembl_HGNC</td>\n",
       "    </tr>\n",
       "    <tr>\n",
       "      <th>4027534</th>\n",
       "      <td>9606.ENSP00000469970</td>\n",
       "      <td>OPN1MW</td>\n",
       "      <td>Ensembl_HGNC</td>\n",
       "    </tr>\n",
       "    <tr>\n",
       "      <th>4027544</th>\n",
       "      <td>9606.ENSP00000469970</td>\n",
       "      <td>OPN1MW2</td>\n",
       "      <td>Ensembl_HGNC</td>\n",
       "    </tr>\n",
       "    <tr>\n",
       "      <th>4035263</th>\n",
       "      <td>9606.ENSP00000471017</td>\n",
       "      <td>MAGEA9</td>\n",
       "      <td>Ensembl_HGNC</td>\n",
       "    </tr>\n",
       "    <tr>\n",
       "      <th>4035282</th>\n",
       "      <td>9606.ENSP00000471017</td>\n",
       "      <td>MAGEA9B</td>\n",
       "      <td>Ensembl_HGNC</td>\n",
       "    </tr>\n",
       "    <tr>\n",
       "      <th>4045792</th>\n",
       "      <td>9606.ENSP00000472749</td>\n",
       "      <td>TMSB15A</td>\n",
       "      <td>Ensembl_HGNC</td>\n",
       "    </tr>\n",
       "    <tr>\n",
       "      <th>4045796</th>\n",
       "      <td>9606.ENSP00000472749</td>\n",
       "      <td>TMSB15B</td>\n",
       "      <td>Ensembl_HGNC</td>\n",
       "    </tr>\n",
       "    <tr>\n",
       "      <th>4061631</th>\n",
       "      <td>9606.ENSP00000475814</td>\n",
       "      <td>HIST2H2AA3</td>\n",
       "      <td>Ensembl_HGNC</td>\n",
       "    </tr>\n",
       "    <tr>\n",
       "      <th>4061634</th>\n",
       "      <td>9606.ENSP00000475814</td>\n",
       "      <td>HIST2H2AA4</td>\n",
       "      <td>Ensembl_HGNC</td>\n",
       "    </tr>\n",
       "    <tr>\n",
       "      <th>4089436</th>\n",
       "      <td>9606.ENSP00000478426</td>\n",
       "      <td>TBC1D3</td>\n",
       "      <td>Ensembl_HGNC</td>\n",
       "    </tr>\n",
       "    <tr>\n",
       "      <th>4089447</th>\n",
       "      <td>9606.ENSP00000478426</td>\n",
       "      <td>TBC1D3C</td>\n",
       "      <td>Ensembl_HGNC</td>\n",
       "    </tr>\n",
       "    <tr>\n",
       "      <th>4140442</th>\n",
       "      <td>9606.ENSP00000481184</td>\n",
       "      <td>CT45A3</td>\n",
       "      <td>Ensembl_HGNC</td>\n",
       "    </tr>\n",
       "    <tr>\n",
       "      <th>4140445</th>\n",
       "      <td>9606.ENSP00000481184</td>\n",
       "      <td>CT45A4</td>\n",
       "      <td>Ensembl_HGNC</td>\n",
       "    </tr>\n",
       "    <tr>\n",
       "      <th>4140449</th>\n",
       "      <td>9606.ENSP00000481184</td>\n",
       "      <td>CT45A6</td>\n",
       "      <td>Ensembl_HGNC</td>\n",
       "    </tr>\n",
       "    <tr>\n",
       "      <th>4147819</th>\n",
       "      <td>9606.ENSP00000481824</td>\n",
       "      <td>C1QTNF5</td>\n",
       "      <td>Ensembl_HGNC</td>\n",
       "    </tr>\n",
       "    <tr>\n",
       "      <th>4147864</th>\n",
       "      <td>9606.ENSP00000481824</td>\n",
       "      <td>MFRP</td>\n",
       "      <td>Ensembl_HGNC</td>\n",
       "    </tr>\n",
       "  </tbody>\n",
       "</table>\n",
       "</div>"
      ],
      "text/plain": [
       "           #string_protein_id       alias        source\n",
       "3917207  9606.ENSP00000451768    KIAA0408  Ensembl_HGNC\n",
       "3917264  9606.ENSP00000451768       SOGA3  Ensembl_HGNC\n",
       "4027534  9606.ENSP00000469970      OPN1MW  Ensembl_HGNC\n",
       "4027544  9606.ENSP00000469970     OPN1MW2  Ensembl_HGNC\n",
       "4035263  9606.ENSP00000471017      MAGEA9  Ensembl_HGNC\n",
       "4035282  9606.ENSP00000471017     MAGEA9B  Ensembl_HGNC\n",
       "4045792  9606.ENSP00000472749     TMSB15A  Ensembl_HGNC\n",
       "4045796  9606.ENSP00000472749     TMSB15B  Ensembl_HGNC\n",
       "4061631  9606.ENSP00000475814  HIST2H2AA3  Ensembl_HGNC\n",
       "4061634  9606.ENSP00000475814  HIST2H2AA4  Ensembl_HGNC\n",
       "4089436  9606.ENSP00000478426      TBC1D3  Ensembl_HGNC\n",
       "4089447  9606.ENSP00000478426     TBC1D3C  Ensembl_HGNC\n",
       "4140442  9606.ENSP00000481184      CT45A3  Ensembl_HGNC\n",
       "4140445  9606.ENSP00000481184      CT45A4  Ensembl_HGNC\n",
       "4140449  9606.ENSP00000481184      CT45A6  Ensembl_HGNC\n",
       "4147819  9606.ENSP00000481824     C1QTNF5  Ensembl_HGNC\n",
       "4147864  9606.ENSP00000481824        MFRP  Ensembl_HGNC"
      ]
     },
     "execution_count": 7,
     "metadata": {},
     "output_type": "execute_result"
    }
   ],
   "source": [
    "# String IDs with more than one HGNC Alias\n",
    "duplicates = filtered_alias[filtered_alias['#string_protein_id'].duplicated(keep=False)]\n",
    "print(duplicates.shape[0])\n",
    "duplicates"
   ]
  },
  {
   "cell_type": "code",
   "execution_count": 8,
   "metadata": {},
   "outputs": [
    {
     "data": {
      "text/html": [
       "<div>\n",
       "<style scoped>\n",
       "    .dataframe tbody tr th:only-of-type {\n",
       "        vertical-align: middle;\n",
       "    }\n",
       "\n",
       "    .dataframe tbody tr th {\n",
       "        vertical-align: top;\n",
       "    }\n",
       "\n",
       "    .dataframe thead th {\n",
       "        text-align: right;\n",
       "    }\n",
       "</style>\n",
       "<table border=\"1\" class=\"dataframe\">\n",
       "  <thead>\n",
       "    <tr style=\"text-align: right;\">\n",
       "      <th></th>\n",
       "      <th>#string_protein_id</th>\n",
       "      <th>alias</th>\n",
       "    </tr>\n",
       "  </thead>\n",
       "  <tbody>\n",
       "    <tr>\n",
       "      <th>32</th>\n",
       "      <td>9606.ENSP00000000233</td>\n",
       "      <td>ARF5</td>\n",
       "    </tr>\n",
       "    <tr>\n",
       "      <th>244</th>\n",
       "      <td>9606.ENSP00000000412</td>\n",
       "      <td>M6PR</td>\n",
       "    </tr>\n",
       "  </tbody>\n",
       "</table>\n",
       "</div>"
      ],
      "text/plain": [
       "       #string_protein_id alias\n",
       "32   9606.ENSP00000000233  ARF5\n",
       "244  9606.ENSP00000000412  M6PR"
      ]
     },
     "execution_count": 8,
     "metadata": {},
     "output_type": "execute_result"
    }
   ],
   "source": [
    "# manual curation of duplicates with information from pharos.nih.gov/targets/.\n",
    "aliases = filtered_alias[~filtered_alias['alias'].isin(\n",
    "    ['KIAA0408', 'OPN1MW2', 'MAGEA9B', 'TMSB15B', 'HIST2H2AA4', 'TBC1D3', 'CT45A4', 'CT45A6', 'C1QTNF5']\n",
    ")][['#string_protein_id', 'alias']]\n",
    "aliases.head(2)"
   ]
  },
  {
   "attachments": {},
   "cell_type": "markdown",
   "metadata": {
    "jp-MarkdownHeadingCollapsed": true
   },
   "source": [
    "## ID mapping"
   ]
  },
  {
   "cell_type": "code",
   "execution_count": 9,
   "metadata": {},
   "outputs": [
    {
     "name": "stdout",
     "output_type": "stream",
     "text": [
      "11938498\n",
      "11741350\n"
     ]
    },
    {
     "data": {
      "text/html": [
       "<div>\n",
       "<style scoped>\n",
       "    .dataframe tbody tr th:only-of-type {\n",
       "        vertical-align: middle;\n",
       "    }\n",
       "\n",
       "    .dataframe tbody tr th {\n",
       "        vertical-align: top;\n",
       "    }\n",
       "\n",
       "    .dataframe thead th {\n",
       "        text-align: right;\n",
       "    }\n",
       "</style>\n",
       "<table border=\"1\" class=\"dataframe\">\n",
       "  <thead>\n",
       "    <tr style=\"text-align: right;\">\n",
       "      <th></th>\n",
       "      <th>protein1</th>\n",
       "      <th>protein2</th>\n",
       "      <th>combined_score</th>\n",
       "      <th>#string_protein_id_x</th>\n",
       "      <th>gene1</th>\n",
       "      <th>#string_protein_id_y</th>\n",
       "      <th>gene2</th>\n",
       "    </tr>\n",
       "  </thead>\n",
       "  <tbody>\n",
       "    <tr>\n",
       "      <th>0</th>\n",
       "      <td>9606.ENSP00000000233</td>\n",
       "      <td>9606.ENSP00000379496</td>\n",
       "      <td>155</td>\n",
       "      <td>9606.ENSP00000000233</td>\n",
       "      <td>ARF5</td>\n",
       "      <td>9606.ENSP00000379496</td>\n",
       "      <td>PDE1C</td>\n",
       "    </tr>\n",
       "    <tr>\n",
       "      <th>1</th>\n",
       "      <td>9606.ENSP00000013807</td>\n",
       "      <td>9606.ENSP00000379496</td>\n",
       "      <td>255</td>\n",
       "      <td>9606.ENSP00000013807</td>\n",
       "      <td>ERCC1</td>\n",
       "      <td>9606.ENSP00000379496</td>\n",
       "      <td>PDE1C</td>\n",
       "    </tr>\n",
       "  </tbody>\n",
       "</table>\n",
       "</div>"
      ],
      "text/plain": [
       "               protein1              protein2  combined_score  \\\n",
       "0  9606.ENSP00000000233  9606.ENSP00000379496             155   \n",
       "1  9606.ENSP00000013807  9606.ENSP00000379496             255   \n",
       "\n",
       "   #string_protein_id_x  gene1  #string_protein_id_y  gene2  \n",
       "0  9606.ENSP00000000233   ARF5  9606.ENSP00000379496  PDE1C  \n",
       "1  9606.ENSP00000013807  ERCC1  9606.ENSP00000379496  PDE1C  "
      ]
     },
     "execution_count": 9,
     "metadata": {},
     "output_type": "execute_result"
    }
   ],
   "source": [
    "# full network\n",
    "hgnc_string_ppi = pd.merge(\n",
    "    string_ppi, aliases, left_on='protein1', right_on='#string_protein_id', how='inner'\n",
    ").rename(columns={'alias':'gene1'})\n",
    "\n",
    "hgnc_string_ppi = pd.merge(\n",
    "    hgnc_string_ppi, aliases, left_on='protein2', right_on='#string_protein_id', how='inner'\n",
    ").rename(columns={'alias':'gene2'})\n",
    "\n",
    "print(string_ppi.shape[0])\n",
    "print(hgnc_string_ppi.shape[0])\n",
    "hgnc_string_ppi.head(2)"
   ]
  },
  {
   "cell_type": "code",
   "execution_count": 10,
   "metadata": {},
   "outputs": [
    {
     "name": "stdout",
     "output_type": "stream",
     "text": [
      "1991832\n",
      "1951472\n"
     ]
    },
    {
     "data": {
      "text/html": [
       "<div>\n",
       "<style scoped>\n",
       "    .dataframe tbody tr th:only-of-type {\n",
       "        vertical-align: middle;\n",
       "    }\n",
       "\n",
       "    .dataframe tbody tr th {\n",
       "        vertical-align: top;\n",
       "    }\n",
       "\n",
       "    .dataframe thead th {\n",
       "        text-align: right;\n",
       "    }\n",
       "</style>\n",
       "<table border=\"1\" class=\"dataframe\">\n",
       "  <thead>\n",
       "    <tr style=\"text-align: right;\">\n",
       "      <th></th>\n",
       "      <th>protein1</th>\n",
       "      <th>protein2</th>\n",
       "      <th>combined_score</th>\n",
       "      <th>#string_protein_id_x</th>\n",
       "      <th>gene1</th>\n",
       "      <th>#string_protein_id_y</th>\n",
       "      <th>gene2</th>\n",
       "    </tr>\n",
       "  </thead>\n",
       "  <tbody>\n",
       "    <tr>\n",
       "      <th>0</th>\n",
       "      <td>9606.ENSP00000000233</td>\n",
       "      <td>9606.ENSP00000264718</td>\n",
       "      <td>156</td>\n",
       "      <td>9606.ENSP00000000233</td>\n",
       "      <td>ARF5</td>\n",
       "      <td>9606.ENSP00000264718</td>\n",
       "      <td>GPN1</td>\n",
       "    </tr>\n",
       "    <tr>\n",
       "      <th>1</th>\n",
       "      <td>9606.ENSP00000005257</td>\n",
       "      <td>9606.ENSP00000264718</td>\n",
       "      <td>156</td>\n",
       "      <td>9606.ENSP00000005257</td>\n",
       "      <td>RALA</td>\n",
       "      <td>9606.ENSP00000264718</td>\n",
       "      <td>GPN1</td>\n",
       "    </tr>\n",
       "  </tbody>\n",
       "</table>\n",
       "</div>"
      ],
      "text/plain": [
       "               protein1              protein2  combined_score  \\\n",
       "0  9606.ENSP00000000233  9606.ENSP00000264718             156   \n",
       "1  9606.ENSP00000005257  9606.ENSP00000264718             156   \n",
       "\n",
       "   #string_protein_id_x gene1  #string_protein_id_y gene2  \n",
       "0  9606.ENSP00000000233  ARF5  9606.ENSP00000264718  GPN1  \n",
       "1  9606.ENSP00000005257  RALA  9606.ENSP00000264718  GPN1  "
      ]
     },
     "execution_count": 10,
     "metadata": {},
     "output_type": "execute_result"
    }
   ],
   "source": [
    "# physical network\n",
    "hgnc_string_phys_ppi = pd.merge(\n",
    "    string_phys_ppi, aliases, left_on='protein1', right_on='#string_protein_id', how='inner'\n",
    ").rename(columns={'alias':'gene1'})\n",
    "\n",
    "hgnc_string_phys_ppi = pd.merge(\n",
    "    hgnc_string_phys_ppi, aliases, left_on='protein2', right_on='#string_protein_id', how='inner'\n",
    ").rename(columns={'alias':'gene2'})\n",
    "\n",
    "print(string_phys_ppi.shape[0])\n",
    "print(hgnc_string_phys_ppi.shape[0])\n",
    "hgnc_string_phys_ppi.head(2)"
   ]
  },
  {
   "cell_type": "code",
   "execution_count": 11,
   "metadata": {},
   "outputs": [
    {
     "data": {
      "text/html": [
       "<div>\n",
       "<style scoped>\n",
       "    .dataframe tbody tr th:only-of-type {\n",
       "        vertical-align: middle;\n",
       "    }\n",
       "\n",
       "    .dataframe tbody tr th {\n",
       "        vertical-align: top;\n",
       "    }\n",
       "\n",
       "    .dataframe thead th {\n",
       "        text-align: right;\n",
       "    }\n",
       "</style>\n",
       "<table border=\"1\" class=\"dataframe\">\n",
       "  <thead>\n",
       "    <tr style=\"text-align: right;\">\n",
       "      <th></th>\n",
       "      <th>gene1</th>\n",
       "      <th>gene2</th>\n",
       "      <th>combined_score</th>\n",
       "    </tr>\n",
       "  </thead>\n",
       "  <tbody>\n",
       "    <tr>\n",
       "      <th>0</th>\n",
       "      <td>ARF5</td>\n",
       "      <td>PDE1C</td>\n",
       "      <td>155</td>\n",
       "    </tr>\n",
       "    <tr>\n",
       "      <th>1</th>\n",
       "      <td>ERCC1</td>\n",
       "      <td>PDE1C</td>\n",
       "      <td>255</td>\n",
       "    </tr>\n",
       "  </tbody>\n",
       "</table>\n",
       "</div>"
      ],
      "text/plain": [
       "   gene1  gene2  combined_score\n",
       "0   ARF5  PDE1C             155\n",
       "1  ERCC1  PDE1C             255"
      ]
     },
     "metadata": {},
     "output_type": "display_data"
    },
    {
     "data": {
      "text/html": [
       "<div>\n",
       "<style scoped>\n",
       "    .dataframe tbody tr th:only-of-type {\n",
       "        vertical-align: middle;\n",
       "    }\n",
       "\n",
       "    .dataframe tbody tr th {\n",
       "        vertical-align: top;\n",
       "    }\n",
       "\n",
       "    .dataframe thead th {\n",
       "        text-align: right;\n",
       "    }\n",
       "</style>\n",
       "<table border=\"1\" class=\"dataframe\">\n",
       "  <thead>\n",
       "    <tr style=\"text-align: right;\">\n",
       "      <th></th>\n",
       "      <th>gene1</th>\n",
       "      <th>gene2</th>\n",
       "      <th>combined_score</th>\n",
       "    </tr>\n",
       "  </thead>\n",
       "  <tbody>\n",
       "    <tr>\n",
       "      <th>0</th>\n",
       "      <td>ARF5</td>\n",
       "      <td>GPN1</td>\n",
       "      <td>156</td>\n",
       "    </tr>\n",
       "    <tr>\n",
       "      <th>1</th>\n",
       "      <td>RALA</td>\n",
       "      <td>GPN1</td>\n",
       "      <td>156</td>\n",
       "    </tr>\n",
       "  </tbody>\n",
       "</table>\n",
       "</div>"
      ],
      "text/plain": [
       "  gene1 gene2  combined_score\n",
       "0  ARF5  GPN1             156\n",
       "1  RALA  GPN1             156"
      ]
     },
     "execution_count": 11,
     "metadata": {},
     "output_type": "execute_result"
    }
   ],
   "source": [
    "hgnc_string_ppi = hgnc_string_ppi[['gene1', 'gene2', 'combined_score']]\n",
    "#hgnc_string_ppi['weight'] = hgnc_string_ppi['combined_score']/1000\n",
    "display(hgnc_string_ppi.head(2))\n",
    "\n",
    "hgnc_string_phys_ppi = hgnc_string_phys_ppi[['gene1', 'gene2', 'combined_score']]\n",
    "hgnc_string_phys_ppi.head(2)"
   ]
  },
  {
   "cell_type": "code",
   "execution_count": 12,
   "metadata": {},
   "outputs": [],
   "source": [
    "hgnc_string_ppi.to_csv('../../data/processed/ppis/string.csv', index=False)\n",
    "hgnc_string_phys_ppi.to_csv('../../data/processed/ppis/string_phys.csv', index=False)"
   ]
  },
  {
   "attachments": {},
   "cell_type": "markdown",
   "metadata": {
    "jp-MarkdownHeadingCollapsed": true
   },
   "source": [
    "# STRING Graph Creation"
   ]
  },
  {
   "cell_type": "code",
   "execution_count": 2,
   "metadata": {},
   "outputs": [
    {
     "name": "stdout",
     "output_type": "stream",
     "text": [
      "11741350\n"
     ]
    },
    {
     "data": {
      "text/html": [
       "<div>\n",
       "<style scoped>\n",
       "    .dataframe tbody tr th:only-of-type {\n",
       "        vertical-align: middle;\n",
       "    }\n",
       "\n",
       "    .dataframe tbody tr th {\n",
       "        vertical-align: top;\n",
       "    }\n",
       "\n",
       "    .dataframe thead th {\n",
       "        text-align: right;\n",
       "    }\n",
       "</style>\n",
       "<table border=\"1\" class=\"dataframe\">\n",
       "  <thead>\n",
       "    <tr style=\"text-align: right;\">\n",
       "      <th></th>\n",
       "      <th>gene1</th>\n",
       "      <th>gene2</th>\n",
       "      <th>combined_score</th>\n",
       "    </tr>\n",
       "  </thead>\n",
       "  <tbody>\n",
       "    <tr>\n",
       "      <th>0</th>\n",
       "      <td>ARF5</td>\n",
       "      <td>PDE1C</td>\n",
       "      <td>155</td>\n",
       "    </tr>\n",
       "    <tr>\n",
       "      <th>1</th>\n",
       "      <td>ERCC1</td>\n",
       "      <td>PDE1C</td>\n",
       "      <td>255</td>\n",
       "    </tr>\n",
       "  </tbody>\n",
       "</table>\n",
       "</div>"
      ],
      "text/plain": [
       "   gene1  gene2  combined_score\n",
       "0   ARF5  PDE1C             155\n",
       "1  ERCC1  PDE1C             255"
      ]
     },
     "metadata": {},
     "output_type": "display_data"
    },
    {
     "name": "stdout",
     "output_type": "stream",
     "text": [
      "1951472\n"
     ]
    },
    {
     "data": {
      "text/html": [
       "<div>\n",
       "<style scoped>\n",
       "    .dataframe tbody tr th:only-of-type {\n",
       "        vertical-align: middle;\n",
       "    }\n",
       "\n",
       "    .dataframe tbody tr th {\n",
       "        vertical-align: top;\n",
       "    }\n",
       "\n",
       "    .dataframe thead th {\n",
       "        text-align: right;\n",
       "    }\n",
       "</style>\n",
       "<table border=\"1\" class=\"dataframe\">\n",
       "  <thead>\n",
       "    <tr style=\"text-align: right;\">\n",
       "      <th></th>\n",
       "      <th>gene1</th>\n",
       "      <th>gene2</th>\n",
       "      <th>combined_score</th>\n",
       "    </tr>\n",
       "  </thead>\n",
       "  <tbody>\n",
       "    <tr>\n",
       "      <th>0</th>\n",
       "      <td>ARF5</td>\n",
       "      <td>GPN1</td>\n",
       "      <td>156</td>\n",
       "    </tr>\n",
       "    <tr>\n",
       "      <th>1</th>\n",
       "      <td>RALA</td>\n",
       "      <td>GPN1</td>\n",
       "      <td>156</td>\n",
       "    </tr>\n",
       "  </tbody>\n",
       "</table>\n",
       "</div>"
      ],
      "text/plain": [
       "  gene1 gene2  combined_score\n",
       "0  ARF5  GPN1             156\n",
       "1  RALA  GPN1             156"
      ]
     },
     "execution_count": 2,
     "metadata": {},
     "output_type": "execute_result"
    }
   ],
   "source": [
    "string_full = pd.read_csv('../../data/processed/ppis/string.csv')\n",
    "print(string_full.shape[0])\n",
    "display(string_full.head(2))\n",
    "string_phys = pd.read_csv('../../data/processed/ppis/string_phys.csv')\n",
    "print(string_phys.shape[0])\n",
    "string_phys.head(2)"
   ]
  },
  {
   "cell_type": "code",
   "execution_count": 3,
   "metadata": {},
   "outputs": [
    {
     "data": {
      "text/html": [
       "<div>\n",
       "<style scoped>\n",
       "    .dataframe tbody tr th:only-of-type {\n",
       "        vertical-align: middle;\n",
       "    }\n",
       "\n",
       "    .dataframe tbody tr th {\n",
       "        vertical-align: top;\n",
       "    }\n",
       "\n",
       "    .dataframe thead th {\n",
       "        text-align: right;\n",
       "    }\n",
       "</style>\n",
       "<table border=\"1\" class=\"dataframe\">\n",
       "  <thead>\n",
       "    <tr style=\"text-align: right;\">\n",
       "      <th></th>\n",
       "      <th>filter</th>\n",
       "      <th>graph</th>\n",
       "      <th>nodes</th>\n",
       "      <th>edges</th>\n",
       "      <th>density</th>\n",
       "    </tr>\n",
       "  </thead>\n",
       "  <tbody>\n",
       "    <tr>\n",
       "      <th>0</th>\n",
       "      <td>0</td>\n",
       "      <td>Full PPI Graph</td>\n",
       "      <td>19035</td>\n",
       "      <td>5849499</td>\n",
       "      <td>0.032290</td>\n",
       "    </tr>\n",
       "    <tr>\n",
       "      <th>1</th>\n",
       "      <td>0</td>\n",
       "      <td>Physical PPI Graph</td>\n",
       "      <td>18092</td>\n",
       "      <td>972696</td>\n",
       "      <td>0.005944</td>\n",
       "    </tr>\n",
       "    <tr>\n",
       "      <th>2</th>\n",
       "      <td>400</td>\n",
       "      <td>Full PPI Graph</td>\n",
       "      <td>18975</td>\n",
       "      <td>879691</td>\n",
       "      <td>0.004887</td>\n",
       "    </tr>\n",
       "    <tr>\n",
       "      <th>3</th>\n",
       "      <td>400</td>\n",
       "      <td>Physical PPI Graph</td>\n",
       "      <td>14409</td>\n",
       "      <td>205749</td>\n",
       "      <td>0.001982</td>\n",
       "    </tr>\n",
       "    <tr>\n",
       "      <th>4</th>\n",
       "      <td>600</td>\n",
       "      <td>Full PPI Graph</td>\n",
       "      <td>18274</td>\n",
       "      <td>386481</td>\n",
       "      <td>0.002315</td>\n",
       "    </tr>\n",
       "    <tr>\n",
       "      <th>5</th>\n",
       "      <td>600</td>\n",
       "      <td>Physical PPI Graph</td>\n",
       "      <td>11600</td>\n",
       "      <td>117600</td>\n",
       "      <td>0.001748</td>\n",
       "    </tr>\n",
       "    <tr>\n",
       "      <th>6</th>\n",
       "      <td>700</td>\n",
       "      <td>Full PPI Graph</td>\n",
       "      <td>16381</td>\n",
       "      <td>248982</td>\n",
       "      <td>0.001856</td>\n",
       "    </tr>\n",
       "    <tr>\n",
       "      <th>7</th>\n",
       "      <td>700</td>\n",
       "      <td>Physical PPI Graph</td>\n",
       "      <td>9508</td>\n",
       "      <td>80326</td>\n",
       "      <td>0.001777</td>\n",
       "    </tr>\n",
       "  </tbody>\n",
       "</table>\n",
       "</div>"
      ],
      "text/plain": [
       "   filter               graph  nodes    edges   density\n",
       "0       0      Full PPI Graph  19035  5849499  0.032290\n",
       "1       0  Physical PPI Graph  18092   972696  0.005944\n",
       "2     400      Full PPI Graph  18975   879691  0.004887\n",
       "3     400  Physical PPI Graph  14409   205749  0.001982\n",
       "4     600      Full PPI Graph  18274   386481  0.002315\n",
       "5     600  Physical PPI Graph  11600   117600  0.001748\n",
       "6     700      Full PPI Graph  16381   248982  0.001856\n",
       "7     700  Physical PPI Graph   9508    80326  0.001777"
      ]
     },
     "execution_count": 3,
     "metadata": {},
     "output_type": "execute_result"
    }
   ],
   "source": [
    "# evaluate different combined_score filters\n",
    "stats = []\n",
    "for i in [0, 400, 600, 700]:\n",
    "    for l, g in zip(('Full PPI Graph', 'Physical PPI Graph'), (string_full, string_phys)):\n",
    "        graph = Graph.DataFrame(\n",
    "            g.loc[g.combined_score>i, ['gene1', 'gene2']],\n",
    "            directed=False, use_vids=False\n",
    "        )\n",
    "        graph = graph.simplify()\n",
    "        graph = graph.subgraph(graph.components()[0])\n",
    "\n",
    "        stats.append({\n",
    "            'filter': i,\n",
    "            'graph': l,\n",
    "            'nodes': graph.vcount(),\n",
    "            'edges': graph.ecount(),\n",
    "            'density': graph.density()\n",
    "        })\n",
    "\n",
    "stats = pd.DataFrame(stats)\n",
    "stats"
   ]
  },
  {
   "cell_type": "code",
   "execution_count": 15,
   "metadata": {},
   "outputs": [
    {
     "data": {
      "text/plain": [
       "0.0034341529081280946"
      ]
     },
     "execution_count": 15,
     "metadata": {},
     "output_type": "execute_result"
    }
   ],
   "source": [
    "# density of the Net4 graph (Picart-Armada et al 2019)\n",
    "236963/(11748*(11748-1)/2)"
   ]
  },
  {
   "attachments": {},
   "cell_type": "markdown",
   "metadata": {},
   "source": [
    "We will use the combination of the Full PPI graph + combine_score > 700\n",
    "\n",
    "It has a good balance of # of nodes and edges when compared with the Net4 graph (Picart-Armada et al 2019)"
   ]
  },
  {
   "cell_type": "code",
   "execution_count": 16,
   "metadata": {},
   "outputs": [],
   "source": [
    "# build graph\n",
    "string_graph = Graph.DataFrame(\n",
    "    string_full.loc[string_full.combined_score>700, ['gene1', 'gene2']],\n",
    "    directed=False, use_vids=False\n",
    ")"
   ]
  },
  {
   "cell_type": "code",
   "execution_count": 4,
   "metadata": {},
   "outputs": [],
   "source": [
    "# alternative\n",
    "string_graph = Graph.DataFrame(\n",
    "    string_full[['gene1', 'gene2']],\n",
    "    directed=False, use_vids=False\n",
    ")"
   ]
  },
  {
   "cell_type": "code",
   "execution_count": 5,
   "metadata": {},
   "outputs": [
    {
     "name": "stdout",
     "output_type": "stream",
     "text": [
      "11741350\n",
      "5849499\n"
     ]
    }
   ],
   "source": [
    "print(string_graph.ecount())\n",
    "string_graph = string_graph.simplify()\n",
    "print(string_graph.ecount())"
   ]
  },
  {
   "cell_type": "code",
   "execution_count": 6,
   "metadata": {},
   "outputs": [
    {
     "name": "stdout",
     "output_type": "stream",
     "text": [
      "True\n",
      "True\n",
      "5849499\n"
     ]
    }
   ],
   "source": [
    "print(string_graph.is_connected())\n",
    "string_graph = string_graph.subgraph(string_graph.components()[0])\n",
    "print(string_graph.is_connected())\n",
    "print(string_graph.ecount())"
   ]
  },
  {
   "cell_type": "code",
   "execution_count": 7,
   "metadata": {},
   "outputs": [],
   "source": [
    "string_graph.write_gml(\"../../data/processed/graph_string\")"
   ]
  },
  {
   "cell_type": "code",
   "execution_count": 8,
   "metadata": {},
   "outputs": [],
   "source": [
    "adj_matrix = string_graph.get_adjacency()\n",
    "adj_matrix = np.array(adj_matrix.data)\n",
    "np.save('../../data/processed/string_adjacency_matrix.npy', adj_matrix, allow_pickle=True, fix_imports=True)"
   ]
  },
  {
   "attachments": {},
   "cell_type": "markdown",
   "metadata": {},
   "source": [
    "# STRING Process and Disease Modules"
   ]
  },
  {
   "cell_type": "code",
   "execution_count": 9,
   "metadata": {},
   "outputs": [],
   "source": [
    "graph = Graph.Read_GML(\"../../data/processed/graph_string\")"
   ]
  },
  {
   "cell_type": "code",
   "execution_count": 10,
   "metadata": {},
   "outputs": [],
   "source": [
    "adj_matrix = np.load(\"../../data/processed/string_adjacency_matrix.npy\")"
   ]
  },
  {
   "cell_type": "code",
   "execution_count": 11,
   "metadata": {},
   "outputs": [
    {
     "data": {
      "text/html": [
       "<div>\n",
       "<style scoped>\n",
       "    .dataframe tbody tr th:only-of-type {\n",
       "        vertical-align: middle;\n",
       "    }\n",
       "\n",
       "    .dataframe tbody tr th {\n",
       "        vertical-align: top;\n",
       "    }\n",
       "\n",
       "    .dataframe thead th {\n",
       "        text-align: right;\n",
       "    }\n",
       "</style>\n",
       "<table border=\"1\" class=\"dataframe\">\n",
       "  <thead>\n",
       "    <tr style=\"text-align: right;\">\n",
       "      <th></th>\n",
       "      <th>NCBI ID</th>\n",
       "      <th>Reactome ID</th>\n",
       "      <th>URL</th>\n",
       "      <th>Event</th>\n",
       "      <th>Evidence Code</th>\n",
       "      <th>Species</th>\n",
       "      <th>HGNC ID</th>\n",
       "    </tr>\n",
       "  </thead>\n",
       "  <tbody>\n",
       "    <tr>\n",
       "      <th>0</th>\n",
       "      <td>1</td>\n",
       "      <td>R-HSA-481007</td>\n",
       "      <td>https://reactome.org/PathwayBrowser/#/R-HSA-48...</td>\n",
       "      <td>Exocytosis of platelet alpha granule contents</td>\n",
       "      <td>TAS</td>\n",
       "      <td>Homo sapiens</td>\n",
       "      <td>A1BG</td>\n",
       "    </tr>\n",
       "    <tr>\n",
       "      <th>1</th>\n",
       "      <td>1</td>\n",
       "      <td>R-HSA-6798748</td>\n",
       "      <td>https://reactome.org/PathwayBrowser/#/R-HSA-67...</td>\n",
       "      <td>Exocytosis of secretory granule lumen proteins</td>\n",
       "      <td>TAS</td>\n",
       "      <td>Homo sapiens</td>\n",
       "      <td>A1BG</td>\n",
       "    </tr>\n",
       "  </tbody>\n",
       "</table>\n",
       "</div>"
      ],
      "text/plain": [
       "   NCBI ID    Reactome ID                                                URL  \\\n",
       "0        1   R-HSA-481007  https://reactome.org/PathwayBrowser/#/R-HSA-48...   \n",
       "1        1  R-HSA-6798748  https://reactome.org/PathwayBrowser/#/R-HSA-67...   \n",
       "\n",
       "                                            Event Evidence Code       Species  \\\n",
       "0   Exocytosis of platelet alpha granule contents           TAS  Homo sapiens   \n",
       "1  Exocytosis of secretory granule lumen proteins           TAS  Homo sapiens   \n",
       "\n",
       "  HGNC ID  \n",
       "0    A1BG  \n",
       "1    A1BG  "
      ]
     },
     "metadata": {},
     "output_type": "display_data"
    },
    {
     "data": {
      "text/html": [
       "<div>\n",
       "<style scoped>\n",
       "    .dataframe tbody tr th:only-of-type {\n",
       "        vertical-align: middle;\n",
       "    }\n",
       "\n",
       "    .dataframe tbody tr th {\n",
       "        vertical-align: top;\n",
       "    }\n",
       "\n",
       "    .dataframe thead th {\n",
       "        text-align: right;\n",
       "    }\n",
       "</style>\n",
       "<table border=\"1\" class=\"dataframe\">\n",
       "  <thead>\n",
       "    <tr style=\"text-align: right;\">\n",
       "      <th></th>\n",
       "      <th>geneId</th>\n",
       "      <th>geneSymbol</th>\n",
       "      <th>DSI</th>\n",
       "      <th>DPI</th>\n",
       "      <th>diseaseId</th>\n",
       "      <th>diseaseName</th>\n",
       "      <th>diseaseType</th>\n",
       "      <th>diseaseClass</th>\n",
       "      <th>diseaseSemanticType</th>\n",
       "      <th>score</th>\n",
       "      <th>EI</th>\n",
       "      <th>YearInitial</th>\n",
       "      <th>YearFinal</th>\n",
       "      <th>NofPmids</th>\n",
       "      <th>NofSnps</th>\n",
       "      <th>source</th>\n",
       "    </tr>\n",
       "  </thead>\n",
       "  <tbody>\n",
       "    <tr>\n",
       "      <th>0</th>\n",
       "      <td>1</td>\n",
       "      <td>A1BG</td>\n",
       "      <td>0.7</td>\n",
       "      <td>0.538</td>\n",
       "      <td>C0019209</td>\n",
       "      <td>Hepatomegaly</td>\n",
       "      <td>phenotype</td>\n",
       "      <td>C23;C06</td>\n",
       "      <td>Finding</td>\n",
       "      <td>0.3</td>\n",
       "      <td>1.0</td>\n",
       "      <td>2017.0</td>\n",
       "      <td>2017.0</td>\n",
       "      <td>1</td>\n",
       "      <td>0</td>\n",
       "      <td>CTD_human</td>\n",
       "    </tr>\n",
       "    <tr>\n",
       "      <th>1</th>\n",
       "      <td>1</td>\n",
       "      <td>A1BG</td>\n",
       "      <td>0.7</td>\n",
       "      <td>0.538</td>\n",
       "      <td>C0036341</td>\n",
       "      <td>Schizophrenia</td>\n",
       "      <td>disease</td>\n",
       "      <td>F03</td>\n",
       "      <td>Mental or Behavioral Dysfunction</td>\n",
       "      <td>0.3</td>\n",
       "      <td>1.0</td>\n",
       "      <td>2015.0</td>\n",
       "      <td>2015.0</td>\n",
       "      <td>1</td>\n",
       "      <td>0</td>\n",
       "      <td>CTD_human</td>\n",
       "    </tr>\n",
       "  </tbody>\n",
       "</table>\n",
       "</div>"
      ],
      "text/plain": [
       "   geneId geneSymbol  DSI    DPI diseaseId    diseaseName diseaseType  \\\n",
       "0       1       A1BG  0.7  0.538  C0019209   Hepatomegaly   phenotype   \n",
       "1       1       A1BG  0.7  0.538  C0036341  Schizophrenia     disease   \n",
       "\n",
       "  diseaseClass               diseaseSemanticType  score   EI  YearInitial  \\\n",
       "0      C23;C06                           Finding    0.3  1.0       2017.0   \n",
       "1          F03  Mental or Behavioral Dysfunction    0.3  1.0       2015.0   \n",
       "\n",
       "   YearFinal  NofPmids  NofSnps     source  \n",
       "0     2017.0         1        0  CTD_human  \n",
       "1     2015.0         1        0  CTD_human  "
      ]
     },
     "metadata": {},
     "output_type": "display_data"
    }
   ],
   "source": [
    "reactome = pd.read_csv('../../data/interim/ReactomeReactions.csv')\n",
    "display(reactome.head(2))\n",
    "disgenet = pd.read_csv('../../data/interim/disgenet.csv')\n",
    "display(disgenet.head(2))"
   ]
  },
  {
   "cell_type": "code",
   "execution_count": 29,
   "metadata": {},
   "outputs": [],
   "source": [
    "filtered_reactome = reactome[reactome['HGNC ID'].isin(graph.vs['name'])]\n",
    "filtered_disgenet = disgenet[disgenet['geneSymbol'].isin(graph.vs['name'])]\n",
    "#filtered_disgenet = filtered_disgenet[filtered_disgenet['diseaseType']=='disease']"
   ]
  },
  {
   "cell_type": "code",
   "execution_count": 30,
   "metadata": {},
   "outputs": [],
   "source": [
    "reactome_modules = get_protein_index(filtered_reactome, 'reactome', graph)\n",
    "reactome_modules['module_size'] = reactome_modules['protein_index'].apply(lambda row: len(row))\n",
    "reactome_modules = reactome_modules[(reactome_modules['module_size']>=50)&(reactome_modules['module_size']<=300)].reset_index(drop=True)"
   ]
  },
  {
   "cell_type": "code",
   "execution_count": 31,
   "metadata": {},
   "outputs": [],
   "source": [
    "disgenet_modules = get_protein_index(filtered_disgenet, 'disgenet', graph)\n",
    "disgenet_modules['len'] = disgenet_modules['protein_index'].apply(lambda row: len(row))\n",
    "disgenet_modules = disgenet_modules[(disgenet_modules['len']>=50)&(disgenet_modules['len']<=300)].reset_index(drop=True)"
   ]
  },
  {
   "cell_type": "code",
   "execution_count": 32,
   "metadata": {},
   "outputs": [
    {
     "data": {
      "text/html": [
       "<div>\n",
       "<style scoped>\n",
       "    .dataframe tbody tr th:only-of-type {\n",
       "        vertical-align: middle;\n",
       "    }\n",
       "\n",
       "    .dataframe tbody tr th {\n",
       "        vertical-align: top;\n",
       "    }\n",
       "\n",
       "    .dataframe thead th {\n",
       "        text-align: right;\n",
       "    }\n",
       "</style>\n",
       "<table border=\"1\" class=\"dataframe\">\n",
       "  <thead>\n",
       "    <tr style=\"text-align: right;\">\n",
       "      <th></th>\n",
       "      <th>process</th>\n",
       "      <th>proteins_ids</th>\n",
       "      <th>protein_index</th>\n",
       "      <th>module_size</th>\n",
       "    </tr>\n",
       "  </thead>\n",
       "  <tbody>\n",
       "    <tr>\n",
       "      <th>0</th>\n",
       "      <td>R-HSA-1031716</td>\n",
       "      <td>[TRIM10, TRIM22, IRF9, IFI30, TRIM38, TRIM3, T...</td>\n",
       "      <td>[13891, 6259, 6308, 6325, 6149, 5598, 16269, 2...</td>\n",
       "      <td>71</td>\n",
       "    </tr>\n",
       "    <tr>\n",
       "      <th>1</th>\n",
       "      <td>R-HSA-112379</td>\n",
       "      <td>[CDK7, CDK9, SUPT16H, LEO1, ERCC2, ERCC3, RTF1...</td>\n",
       "      <td>[786, 6625, 681, 996, 4031, 3268, 2755, 6574, ...</td>\n",
       "      <td>52</td>\n",
       "    </tr>\n",
       "    <tr>\n",
       "      <th>2</th>\n",
       "      <td>R-HSA-112385</td>\n",
       "      <td>[CDK7, CDK9, SUPT16H, LEO1, ERCC2, ERCC3, RTF1...</td>\n",
       "      <td>[786, 6625, 681, 996, 4031, 3268, 2755, 6574, ...</td>\n",
       "      <td>52</td>\n",
       "    </tr>\n",
       "    <tr>\n",
       "      <th>3</th>\n",
       "      <td>R-HSA-1168640</td>\n",
       "      <td>[PSME3, PSMD14, PSMB11, PSMA8, PSME4, NFKB1, N...</td>\n",
       "      <td>[967, 1572, 1569, 1048, 1564, 716, 2960, 10724...</td>\n",
       "      <td>50</td>\n",
       "    </tr>\n",
       "    <tr>\n",
       "      <th>4</th>\n",
       "      <td>R-HSA-1234159</td>\n",
       "      <td>[PSME3, PSMD14, EGLN3, PSMB11, WTIP, PSMA8, EP...</td>\n",
       "      <td>[967, 1572, 3047, 1569, 1746, 1048, 6497, 1564...</td>\n",
       "      <td>59</td>\n",
       "    </tr>\n",
       "    <tr>\n",
       "      <th>...</th>\n",
       "      <td>...</td>\n",
       "      <td>...</td>\n",
       "      <td>...</td>\n",
       "      <td>...</td>\n",
       "    </tr>\n",
       "    <tr>\n",
       "      <th>239</th>\n",
       "      <td>R-HSA-983147</td>\n",
       "      <td>[GPR75-ASB3, HUWE1, RNF41, STUB1, TRAIP, KLHL4...</td>\n",
       "      <td>[10661, 1183, 7912, 7774, 12581, 14383, 2905, ...</td>\n",
       "      <td>210</td>\n",
       "    </tr>\n",
       "    <tr>\n",
       "      <th>240</th>\n",
       "      <td>R-HSA-983156</td>\n",
       "      <td>[GPR75-ASB3, HUWE1, RNF41, STUB1, TRAIP, KLHL4...</td>\n",
       "      <td>[10661, 1183, 7912, 7774, 12581, 14383, 2905, ...</td>\n",
       "      <td>247</td>\n",
       "    </tr>\n",
       "    <tr>\n",
       "      <th>241</th>\n",
       "      <td>R-HSA-983157</td>\n",
       "      <td>[GPR75-ASB3, HUWE1, RNF41, STUB1, TRAIP, KLHL4...</td>\n",
       "      <td>[10661, 1183, 7912, 7774, 12581, 14383, 2905, ...</td>\n",
       "      <td>247</td>\n",
       "    </tr>\n",
       "    <tr>\n",
       "      <th>242</th>\n",
       "      <td>R-HSA-983259</td>\n",
       "      <td>[KIF20A, TUBA1B, TUBB3, TUBB4A, TUBB4B, CENPE,...</td>\n",
       "      <td>[1501, 3588, 2327, 3156, 3619, 884, 4602, 5798...</td>\n",
       "      <td>59</td>\n",
       "    </tr>\n",
       "    <tr>\n",
       "      <th>243</th>\n",
       "      <td>R-HSA-983266</td>\n",
       "      <td>[KIF20A, TUBA1B, TUBB3, TUBB4A, TUBB4B, CENPE,...</td>\n",
       "      <td>[1501, 3588, 2327, 3156, 3619, 884, 4602, 5798...</td>\n",
       "      <td>59</td>\n",
       "    </tr>\n",
       "  </tbody>\n",
       "</table>\n",
       "<p>244 rows × 4 columns</p>\n",
       "</div>"
      ],
      "text/plain": [
       "           process                                       proteins_ids  \\\n",
       "0    R-HSA-1031716  [TRIM10, TRIM22, IRF9, IFI30, TRIM38, TRIM3, T...   \n",
       "1     R-HSA-112379  [CDK7, CDK9, SUPT16H, LEO1, ERCC2, ERCC3, RTF1...   \n",
       "2     R-HSA-112385  [CDK7, CDK9, SUPT16H, LEO1, ERCC2, ERCC3, RTF1...   \n",
       "3    R-HSA-1168640  [PSME3, PSMD14, PSMB11, PSMA8, PSME4, NFKB1, N...   \n",
       "4    R-HSA-1234159  [PSME3, PSMD14, EGLN3, PSMB11, WTIP, PSMA8, EP...   \n",
       "..             ...                                                ...   \n",
       "239   R-HSA-983147  [GPR75-ASB3, HUWE1, RNF41, STUB1, TRAIP, KLHL4...   \n",
       "240   R-HSA-983156  [GPR75-ASB3, HUWE1, RNF41, STUB1, TRAIP, KLHL4...   \n",
       "241   R-HSA-983157  [GPR75-ASB3, HUWE1, RNF41, STUB1, TRAIP, KLHL4...   \n",
       "242   R-HSA-983259  [KIF20A, TUBA1B, TUBB3, TUBB4A, TUBB4B, CENPE,...   \n",
       "243   R-HSA-983266  [KIF20A, TUBA1B, TUBB3, TUBB4A, TUBB4B, CENPE,...   \n",
       "\n",
       "                                         protein_index  module_size  \n",
       "0    [13891, 6259, 6308, 6325, 6149, 5598, 16269, 2...           71  \n",
       "1    [786, 6625, 681, 996, 4031, 3268, 2755, 6574, ...           52  \n",
       "2    [786, 6625, 681, 996, 4031, 3268, 2755, 6574, ...           52  \n",
       "3    [967, 1572, 1569, 1048, 1564, 716, 2960, 10724...           50  \n",
       "4    [967, 1572, 3047, 1569, 1746, 1048, 6497, 1564...           59  \n",
       "..                                                 ...          ...  \n",
       "239  [10661, 1183, 7912, 7774, 12581, 14383, 2905, ...          210  \n",
       "240  [10661, 1183, 7912, 7774, 12581, 14383, 2905, ...          247  \n",
       "241  [10661, 1183, 7912, 7774, 12581, 14383, 2905, ...          247  \n",
       "242  [1501, 3588, 2327, 3156, 3619, 884, 4602, 5798...           59  \n",
       "243  [1501, 3588, 2327, 3156, 3619, 884, 4602, 5798...           59  \n",
       "\n",
       "[244 rows x 4 columns]"
      ]
     },
     "execution_count": 32,
     "metadata": {},
     "output_type": "execute_result"
    }
   ],
   "source": [
    "reactome_modules"
   ]
  },
  {
   "attachments": {},
   "cell_type": "markdown",
   "metadata": {},
   "source": [
    "## SCA & Conservative Modules"
   ]
  },
  {
   "cell_type": "code",
   "execution_count": 15,
   "metadata": {},
   "outputs": [
    {
     "data": {
      "text/html": [
       "<div>\n",
       "<style scoped>\n",
       "    .dataframe tbody tr th:only-of-type {\n",
       "        vertical-align: middle;\n",
       "    }\n",
       "\n",
       "    .dataframe tbody tr th {\n",
       "        vertical-align: top;\n",
       "    }\n",
       "\n",
       "    .dataframe thead th {\n",
       "        text-align: right;\n",
       "    }\n",
       "</style>\n",
       "<table border=\"1\" class=\"dataframe\">\n",
       "  <thead>\n",
       "    <tr style=\"text-align: right;\">\n",
       "      <th></th>\n",
       "      <th>process</th>\n",
       "      <th>proteins_ids</th>\n",
       "      <th>protein_index</th>\n",
       "      <th>len</th>\n",
       "    </tr>\n",
       "  </thead>\n",
       "  <tbody>\n",
       "    <tr>\n",
       "      <th>0</th>\n",
       "      <td>C0000786</td>\n",
       "      <td>[AGTR1, AHR, APOE, ARNT, CEACAM1, CD7, CD8A, C...</td>\n",
       "      <td>[9810, 10634, 4866, 7455, 7208, 6890, 6332, 59...</td>\n",
       "      <td>107</td>\n",
       "    </tr>\n",
       "    <tr>\n",
       "      <th>1</th>\n",
       "      <td>C0000822</td>\n",
       "      <td>[AGTR1, AHR, APOE, ARNT, CEACAM1, CD7, CD8A, C...</td>\n",
       "      <td>[9810, 10634, 4866, 7455, 7208, 6890, 6332, 59...</td>\n",
       "      <td>107</td>\n",
       "    </tr>\n",
       "    <tr>\n",
       "      <th>2</th>\n",
       "      <td>C0001418</td>\n",
       "      <td>[ABL1, ALOX5, ALOX12B, APC, BIRC5, APOA1, APOE...</td>\n",
       "      <td>[1371, 12169, 15208, 7267, 3369, 8223, 4866, 1...</td>\n",
       "      <td>114</td>\n",
       "    </tr>\n",
       "    <tr>\n",
       "      <th>3</th>\n",
       "      <td>C0001787</td>\n",
       "      <td>[ACTG1, ADCY5, ANXA2, ATIC, CA2, CALCR, COL1A1...</td>\n",
       "      <td>[1735, 550, 3656, 7785, 13478, 9600, 7234, 735...</td>\n",
       "      <td>61</td>\n",
       "    </tr>\n",
       "    <tr>\n",
       "      <th>4</th>\n",
       "      <td>C0001973</td>\n",
       "      <td>[NAT1, ABO, ADCY5, ADCY7, ADH1A, ADH1B, ADH1C,...</td>\n",
       "      <td>[16166, 14222, 550, 461, 13093, 9473, 13196, 9...</td>\n",
       "      <td>260</td>\n",
       "    </tr>\n",
       "    <tr>\n",
       "      <th>...</th>\n",
       "      <td>...</td>\n",
       "      <td>...</td>\n",
       "      <td>...</td>\n",
       "      <td>...</td>\n",
       "    </tr>\n",
       "    <tr>\n",
       "      <th>296</th>\n",
       "      <td>C4552766</td>\n",
       "      <td>[AGTR1, AHR, APOE, ARNT, CEACAM1, CD7, CD8A, C...</td>\n",
       "      <td>[9810, 10634, 4866, 7455, 7208, 6890, 6332, 59...</td>\n",
       "      <td>107</td>\n",
       "    </tr>\n",
       "    <tr>\n",
       "      <th>297</th>\n",
       "      <td>C4704862</td>\n",
       "      <td>[ADCY7, ALOX12, AQP9, AREG, RERE, BTG1, C8B, C...</td>\n",
       "      <td>[461, 9928, 9291, 7568, 11337, 10419, 12162, 7...</td>\n",
       "      <td>125</td>\n",
       "    </tr>\n",
       "    <tr>\n",
       "      <th>298</th>\n",
       "      <td>C4707243</td>\n",
       "      <td>[ACTA2, ACVRL1, JAG1, BGN, CBS, COL1A1, COL1A2...</td>\n",
       "      <td>[1623, 5420, 778, 7414, 4105, 7234, 7356, 7372...</td>\n",
       "      <td>53</td>\n",
       "    </tr>\n",
       "    <tr>\n",
       "      <th>299</th>\n",
       "      <td>C4721453</td>\n",
       "      <td>[ABCA1, ALOX12, ATF3, CACNA1B, CASP9, CDKN2A, ...</td>\n",
       "      <td>[8291, 9928, 6140, 5326, 1128, 4272, 10812, 58...</td>\n",
       "      <td>54</td>\n",
       "    </tr>\n",
       "    <tr>\n",
       "      <th>300</th>\n",
       "      <td>C4721507</td>\n",
       "      <td>[ABCA3, ACTA2, PARP1, AGT, AREG, BMP7, CALCA, ...</td>\n",
       "      <td>[14234, 1623, 3754, 351, 7568, 14324, 7421, 64...</td>\n",
       "      <td>69</td>\n",
       "    </tr>\n",
       "  </tbody>\n",
       "</table>\n",
       "<p>301 rows × 4 columns</p>\n",
       "</div>"
      ],
      "text/plain": [
       "      process                                       proteins_ids  \\\n",
       "0    C0000786  [AGTR1, AHR, APOE, ARNT, CEACAM1, CD7, CD8A, C...   \n",
       "1    C0000822  [AGTR1, AHR, APOE, ARNT, CEACAM1, CD7, CD8A, C...   \n",
       "2    C0001418  [ABL1, ALOX5, ALOX12B, APC, BIRC5, APOA1, APOE...   \n",
       "3    C0001787  [ACTG1, ADCY5, ANXA2, ATIC, CA2, CALCR, COL1A1...   \n",
       "4    C0001973  [NAT1, ABO, ADCY5, ADCY7, ADH1A, ADH1B, ADH1C,...   \n",
       "..        ...                                                ...   \n",
       "296  C4552766  [AGTR1, AHR, APOE, ARNT, CEACAM1, CD7, CD8A, C...   \n",
       "297  C4704862  [ADCY7, ALOX12, AQP9, AREG, RERE, BTG1, C8B, C...   \n",
       "298  C4707243  [ACTA2, ACVRL1, JAG1, BGN, CBS, COL1A1, COL1A2...   \n",
       "299  C4721453  [ABCA1, ALOX12, ATF3, CACNA1B, CASP9, CDKN2A, ...   \n",
       "300  C4721507  [ABCA3, ACTA2, PARP1, AGT, AREG, BMP7, CALCA, ...   \n",
       "\n",
       "                                         protein_index  len  \n",
       "0    [9810, 10634, 4866, 7455, 7208, 6890, 6332, 59...  107  \n",
       "1    [9810, 10634, 4866, 7455, 7208, 6890, 6332, 59...  107  \n",
       "2    [1371, 12169, 15208, 7267, 3369, 8223, 4866, 1...  114  \n",
       "3    [1735, 550, 3656, 7785, 13478, 9600, 7234, 735...   61  \n",
       "4    [16166, 14222, 550, 461, 13093, 9473, 13196, 9...  260  \n",
       "..                                                 ...  ...  \n",
       "296  [9810, 10634, 4866, 7455, 7208, 6890, 6332, 59...  107  \n",
       "297  [461, 9928, 9291, 7568, 11337, 10419, 12162, 7...  125  \n",
       "298  [1623, 5420, 778, 7414, 4105, 7234, 7356, 7372...   53  \n",
       "299  [8291, 9928, 6140, 5326, 1128, 4272, 10812, 58...   54  \n",
       "300  [14234, 1623, 3754, 351, 7568, 14324, 7421, 64...   69  \n",
       "\n",
       "[301 rows x 4 columns]"
      ]
     },
     "execution_count": 15,
     "metadata": {},
     "output_type": "execute_result"
    }
   ],
   "source": [
    "disgenet_modules"
   ]
  },
  {
   "cell_type": "code",
   "execution_count": 16,
   "metadata": {},
   "outputs": [
    {
     "data": {
      "application/vnd.jupyter.widget-view+json": {
       "model_id": "7221f570ee764125bf5c63a9bfd2664a",
       "version_major": 2,
       "version_minor": 0
      },
      "text/plain": [
       "  0%|          | 0/301 [00:00<?, ?it/s]"
      ]
     },
     "metadata": {},
     "output_type": "display_data"
    }
   ],
   "source": [
    "tqdm.pandas()\n",
    "disgenet_modules['main_component'],\\\n",
    "      disgenet_modules['conservative_module'],\\\n",
    "          disgenet_modules['added_nodes'] = disgenet_modules.progress_apply(\n",
    "              lambda row: sca(row['protein_index'], graph, adj_matrix), axis=1, result_type='expand'\n",
    "              ).T.values"
   ]
  },
  {
   "cell_type": "code",
   "execution_count": 17,
   "metadata": {},
   "outputs": [],
   "source": [
    "disgenet_modules['len_sca'] = disgenet_modules['main_component'].apply(lambda x: len(x))\n",
    "disgenet_modules['len_conservative'] = disgenet_modules['conservative_module'].apply(lambda x: len(x))\n",
    "disgenet_modules['len_added_nodes'] = disgenet_modules['added_nodes'].apply(lambda x: len(x))"
   ]
  },
  {
   "cell_type": "code",
   "execution_count": 18,
   "metadata": {},
   "outputs": [],
   "source": [
    "disgenet_modules['main_component_ids'] = disgenet_modules.apply(lambda row: [graph.vs['name'][i] for i in row['main_component']], axis=1)\n",
    "disgenet_modules['conservative_module_ids'] = disgenet_modules.apply(lambda row: [graph.vs['name'][i] for i in row['conservative_module']], axis=1)\n",
    "disgenet_modules['added_nodes_ids'] = disgenet_modules.apply(lambda row: [graph.vs['name'][i] for i in row['added_nodes']], axis=1)"
   ]
  },
  {
   "cell_type": "code",
   "execution_count": 19,
   "metadata": {},
   "outputs": [],
   "source": [
    "disgenet_modules['increase'] = disgenet_modules.apply(lambda row: row['len_added_nodes']/row['len'], axis=1)"
   ]
  },
  {
   "cell_type": "code",
   "execution_count": 20,
   "metadata": {},
   "outputs": [
    {
     "data": {
      "text/plain": [
       "0.03636363636363636"
      ]
     },
     "execution_count": 20,
     "metadata": {},
     "output_type": "execute_result"
    }
   ],
   "source": [
    "disgenet_modules['increase'].max()"
   ]
  },
  {
   "attachments": {},
   "cell_type": "markdown",
   "metadata": {},
   "source": [
    "There is a very big difference between the connectivity observed in the STRING network and in the APID&HuRI networks. No SCA modules need to be discarded."
   ]
  },
  {
   "cell_type": "code",
   "execution_count": 21,
   "metadata": {},
   "outputs": [
    {
     "data": {
      "text/html": [
       "<div>\n",
       "<style scoped>\n",
       "    .dataframe tbody tr th:only-of-type {\n",
       "        vertical-align: middle;\n",
       "    }\n",
       "\n",
       "    .dataframe tbody tr th {\n",
       "        vertical-align: top;\n",
       "    }\n",
       "\n",
       "    .dataframe thead th {\n",
       "        text-align: right;\n",
       "    }\n",
       "</style>\n",
       "<table border=\"1\" class=\"dataframe\">\n",
       "  <thead>\n",
       "    <tr style=\"text-align: right;\">\n",
       "      <th></th>\n",
       "      <th>process</th>\n",
       "      <th>proteins_ids</th>\n",
       "      <th>protein_index</th>\n",
       "      <th>len</th>\n",
       "      <th>main_component</th>\n",
       "      <th>conservative_module</th>\n",
       "      <th>added_nodes</th>\n",
       "      <th>len_sca</th>\n",
       "      <th>len_conservative</th>\n",
       "      <th>len_added_nodes</th>\n",
       "      <th>main_component_ids</th>\n",
       "      <th>conservative_module_ids</th>\n",
       "      <th>added_nodes_ids</th>\n",
       "      <th>increase</th>\n",
       "    </tr>\n",
       "  </thead>\n",
       "  <tbody>\n",
       "    <tr>\n",
       "      <th>0</th>\n",
       "      <td>C0000786</td>\n",
       "      <td>[AGTR1, AHR, APOE, ARNT, CEACAM1, CD7, CD8A, C...</td>\n",
       "      <td>[9810, 10634, 4866, 7455, 7208, 6890, 6332, 59...</td>\n",
       "      <td>107</td>\n",
       "      <td>[9810, 10634, 4866, 7455, 7208, 6890, 6332, 59...</td>\n",
       "      <td>[11272, 6160, 12816, 6684, 4645, 7208, 7214, 7...</td>\n",
       "      <td>[16513]</td>\n",
       "      <td>108</td>\n",
       "      <td>107</td>\n",
       "      <td>1</td>\n",
       "      <td>[AGTR1, AHR, APOE, ARNT, CEACAM1, CD7, CD8A, C...</td>\n",
       "      <td>[PRLR, CD163, SPAG5, IGF2, TFRC, CEACAM1, ITGB...</td>\n",
       "      <td>[ADAM12]</td>\n",
       "      <td>0.009346</td>\n",
       "    </tr>\n",
       "    <tr>\n",
       "      <th>1</th>\n",
       "      <td>C0000822</td>\n",
       "      <td>[AGTR1, AHR, APOE, ARNT, CEACAM1, CD7, CD8A, C...</td>\n",
       "      <td>[9810, 10634, 4866, 7455, 7208, 6890, 6332, 59...</td>\n",
       "      <td>107</td>\n",
       "      <td>[9810, 10634, 4866, 7455, 7208, 6890, 6332, 59...</td>\n",
       "      <td>[11272, 6160, 12816, 6684, 4645, 7208, 7214, 7...</td>\n",
       "      <td>[16513]</td>\n",
       "      <td>108</td>\n",
       "      <td>107</td>\n",
       "      <td>1</td>\n",
       "      <td>[AGTR1, AHR, APOE, ARNT, CEACAM1, CD7, CD8A, C...</td>\n",
       "      <td>[PRLR, CD163, SPAG5, IGF2, TFRC, CEACAM1, ITGB...</td>\n",
       "      <td>[ADAM12]</td>\n",
       "      <td>0.009346</td>\n",
       "    </tr>\n",
       "    <tr>\n",
       "      <th>2</th>\n",
       "      <td>C0001418</td>\n",
       "      <td>[ABL1, ALOX5, ALOX12B, APC, BIRC5, APOA1, APOE...</td>\n",
       "      <td>[1371, 12169, 15208, 7267, 3369, 8223, 4866, 1...</td>\n",
       "      <td>114</td>\n",
       "      <td>[1371, 12169, 15208, 7267, 3369, 8223, 4866, 1...</td>\n",
       "      <td>[1029, 13318, 11783, 5128, 1543, 8735, 8223, 6...</td>\n",
       "      <td>[]</td>\n",
       "      <td>114</td>\n",
       "      <td>114</td>\n",
       "      <td>0</td>\n",
       "      <td>[ABL1, ALOX5, ALOX12B, APC, BIRC5, APOA1, APOE...</td>\n",
       "      <td>[EEF2, HOXA10, MSLN, PGR, BCL2, PAWR, APOA1, P...</td>\n",
       "      <td>[]</td>\n",
       "      <td>0.000000</td>\n",
       "    </tr>\n",
       "    <tr>\n",
       "      <th>3</th>\n",
       "      <td>C0001787</td>\n",
       "      <td>[ACTG1, ADCY5, ANXA2, ATIC, CA2, CALCR, COL1A1...</td>\n",
       "      <td>[1735, 550, 3656, 7785, 13478, 9600, 7234, 735...</td>\n",
       "      <td>61</td>\n",
       "      <td>[1735, 550, 3656, 7785, 13478, 9600, 7234, 735...</td>\n",
       "      <td>[9600, 6402, 387, 3588, 516, 2568, 907, 6925, ...</td>\n",
       "      <td>[]</td>\n",
       "      <td>61</td>\n",
       "      <td>61</td>\n",
       "      <td>0</td>\n",
       "      <td>[ACTG1, ADCY5, ANXA2, ATIC, CA2, CALCR, COL1A1...</td>\n",
       "      <td>[CALCR, SOD2, CAP1, TUBA1B, ZDHHC13, TLN1, PSM...</td>\n",
       "      <td>[]</td>\n",
       "      <td>0.000000</td>\n",
       "    </tr>\n",
       "    <tr>\n",
       "      <th>4</th>\n",
       "      <td>C0001973</td>\n",
       "      <td>[NAT1, ABO, ADCY5, ADCY7, ADH1A, ADH1B, ADH1C,...</td>\n",
       "      <td>[16166, 14222, 550, 461, 13093, 9473, 13196, 9...</td>\n",
       "      <td>260</td>\n",
       "      <td>[16166, 14222, 550, 461, 13093, 9473, 13196, 9...</td>\n",
       "      <td>[1538, 9219, 10757, 3080, 6154, 5643, 15885, 3...</td>\n",
       "      <td>[]</td>\n",
       "      <td>260</td>\n",
       "      <td>260</td>\n",
       "      <td>0</td>\n",
       "      <td>[NAT1, ABO, ADCY5, ADCY7, ADH1A, ADH1B, ADH1C,...</td>\n",
       "      <td>[MBP, CNR1, ANKRD7, ALDH3B2, RFX4, CDH8, LILRA...</td>\n",
       "      <td>[]</td>\n",
       "      <td>0.000000</td>\n",
       "    </tr>\n",
       "  </tbody>\n",
       "</table>\n",
       "</div>"
      ],
      "text/plain": [
       "    process                                       proteins_ids  \\\n",
       "0  C0000786  [AGTR1, AHR, APOE, ARNT, CEACAM1, CD7, CD8A, C...   \n",
       "1  C0000822  [AGTR1, AHR, APOE, ARNT, CEACAM1, CD7, CD8A, C...   \n",
       "2  C0001418  [ABL1, ALOX5, ALOX12B, APC, BIRC5, APOA1, APOE...   \n",
       "3  C0001787  [ACTG1, ADCY5, ANXA2, ATIC, CA2, CALCR, COL1A1...   \n",
       "4  C0001973  [NAT1, ABO, ADCY5, ADCY7, ADH1A, ADH1B, ADH1C,...   \n",
       "\n",
       "                                       protein_index  len  \\\n",
       "0  [9810, 10634, 4866, 7455, 7208, 6890, 6332, 59...  107   \n",
       "1  [9810, 10634, 4866, 7455, 7208, 6890, 6332, 59...  107   \n",
       "2  [1371, 12169, 15208, 7267, 3369, 8223, 4866, 1...  114   \n",
       "3  [1735, 550, 3656, 7785, 13478, 9600, 7234, 735...   61   \n",
       "4  [16166, 14222, 550, 461, 13093, 9473, 13196, 9...  260   \n",
       "\n",
       "                                      main_component  \\\n",
       "0  [9810, 10634, 4866, 7455, 7208, 6890, 6332, 59...   \n",
       "1  [9810, 10634, 4866, 7455, 7208, 6890, 6332, 59...   \n",
       "2  [1371, 12169, 15208, 7267, 3369, 8223, 4866, 1...   \n",
       "3  [1735, 550, 3656, 7785, 13478, 9600, 7234, 735...   \n",
       "4  [16166, 14222, 550, 461, 13093, 9473, 13196, 9...   \n",
       "\n",
       "                                 conservative_module added_nodes  len_sca  \\\n",
       "0  [11272, 6160, 12816, 6684, 4645, 7208, 7214, 7...     [16513]      108   \n",
       "1  [11272, 6160, 12816, 6684, 4645, 7208, 7214, 7...     [16513]      108   \n",
       "2  [1029, 13318, 11783, 5128, 1543, 8735, 8223, 6...          []      114   \n",
       "3  [9600, 6402, 387, 3588, 516, 2568, 907, 6925, ...          []       61   \n",
       "4  [1538, 9219, 10757, 3080, 6154, 5643, 15885, 3...          []      260   \n",
       "\n",
       "   len_conservative  len_added_nodes  \\\n",
       "0               107                1   \n",
       "1               107                1   \n",
       "2               114                0   \n",
       "3                61                0   \n",
       "4               260                0   \n",
       "\n",
       "                                  main_component_ids  \\\n",
       "0  [AGTR1, AHR, APOE, ARNT, CEACAM1, CD7, CD8A, C...   \n",
       "1  [AGTR1, AHR, APOE, ARNT, CEACAM1, CD7, CD8A, C...   \n",
       "2  [ABL1, ALOX5, ALOX12B, APC, BIRC5, APOA1, APOE...   \n",
       "3  [ACTG1, ADCY5, ANXA2, ATIC, CA2, CALCR, COL1A1...   \n",
       "4  [NAT1, ABO, ADCY5, ADCY7, ADH1A, ADH1B, ADH1C,...   \n",
       "\n",
       "                             conservative_module_ids added_nodes_ids  increase  \n",
       "0  [PRLR, CD163, SPAG5, IGF2, TFRC, CEACAM1, ITGB...        [ADAM12]  0.009346  \n",
       "1  [PRLR, CD163, SPAG5, IGF2, TFRC, CEACAM1, ITGB...        [ADAM12]  0.009346  \n",
       "2  [EEF2, HOXA10, MSLN, PGR, BCL2, PAWR, APOA1, P...              []  0.000000  \n",
       "3  [CALCR, SOD2, CAP1, TUBA1B, ZDHHC13, TLN1, PSM...              []  0.000000  \n",
       "4  [MBP, CNR1, ANKRD7, ALDH3B2, RFX4, CDH8, LILRA...              []  0.000000  "
      ]
     },
     "execution_count": 21,
     "metadata": {},
     "output_type": "execute_result"
    }
   ],
   "source": [
    "disgenet_modules.head()"
   ]
  },
  {
   "cell_type": "code",
   "execution_count": 22,
   "metadata": {},
   "outputs": [],
   "source": [
    "disgenet_modules.to_csv('../../data/processed/string_disgenet_modules.csv', index=False)"
   ]
  },
  {
   "cell_type": "code",
   "execution_count": 23,
   "metadata": {},
   "outputs": [],
   "source": [
    "reactome_modules.to_csv('../../data/processed/string_reactome_modules.csv', index=False)"
   ]
  },
  {
   "cell_type": "code",
   "execution_count": null,
   "metadata": {},
   "outputs": [],
   "source": []
  }
 ],
 "metadata": {
  "kernelspec": {
   "display_name": "Python 3 (ipykernel)",
   "language": "python",
   "name": "python3"
  },
  "language_info": {
   "codemirror_mode": {
    "name": "ipython",
    "version": 3
   },
   "file_extension": ".py",
   "mimetype": "text/x-python",
   "name": "python",
   "nbconvert_exporter": "python",
   "pygments_lexer": "ipython3",
   "version": "3.10.11"
  },
  "vscode": {
   "interpreter": {
    "hash": "42555cd0c5f1594a81e40866f5733b2cbf65026c937bf0149d49f47f234897c3"
   }
  }
 },
 "nbformat": 4,
 "nbformat_minor": 4
}
