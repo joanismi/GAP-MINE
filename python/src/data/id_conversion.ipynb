{
 "cells": [
  {
   "cell_type": "code",
   "execution_count": 1,
   "metadata": {},
   "outputs": [],
   "source": [
    "import requests\n",
    "from tqdm import tqdm\n",
    "import pandas as pd\n",
    "import id_conversion\n",
    "from IPython.display import display"
   ]
  },
  {
   "attachments": {},
   "cell_type": "markdown",
   "metadata": {},
   "source": [
    "# APID (apid2hgnc.py)"
   ]
  },
  {
   "cell_type": "code",
   "execution_count": 5,
   "metadata": {},
   "outputs": [
    {
     "data": {
      "text/html": [
       "<div>\n",
       "<style scoped>\n",
       "    .dataframe tbody tr th:only-of-type {\n",
       "        vertical-align: middle;\n",
       "    }\n",
       "\n",
       "    .dataframe tbody tr th {\n",
       "        vertical-align: top;\n",
       "    }\n",
       "\n",
       "    .dataframe thead th {\n",
       "        text-align: right;\n",
       "    }\n",
       "</style>\n",
       "<table border=\"1\" class=\"dataframe\">\n",
       "  <thead>\n",
       "    <tr style=\"text-align: right;\">\n",
       "      <th></th>\n",
       "      <th>InteractionID</th>\n",
       "      <th>UniprotID_A</th>\n",
       "      <th>UniprotName_A</th>\n",
       "      <th>GeneName_A</th>\n",
       "      <th>UniprotID_B</th>\n",
       "      <th>UniprotName_B</th>\n",
       "      <th>GeneName_B</th>\n",
       "      <th>ExpEvidences</th>\n",
       "      <th>Methods</th>\n",
       "      <th>Publications</th>\n",
       "      <th>3DStructures</th>\n",
       "      <th>CurationEvents</th>\n",
       "    </tr>\n",
       "  </thead>\n",
       "  <tbody>\n",
       "    <tr>\n",
       "      <th>0</th>\n",
       "      <td>1205000</td>\n",
       "      <td>Q14160</td>\n",
       "      <td>SCRIB_HUMAN</td>\n",
       "      <td>SCRIB</td>\n",
       "      <td>B7Z2Y1</td>\n",
       "      <td>B7Z2Y1_HUMAN</td>\n",
       "      <td>&lt;NA&gt;</td>\n",
       "      <td>1</td>\n",
       "      <td>1</td>\n",
       "      <td>1</td>\n",
       "      <td>0</td>\n",
       "      <td>3</td>\n",
       "    </tr>\n",
       "    <tr>\n",
       "      <th>1</th>\n",
       "      <td>1205001</td>\n",
       "      <td>Q14160</td>\n",
       "      <td>SCRIB_HUMAN</td>\n",
       "      <td>SCRIB</td>\n",
       "      <td>Q14155</td>\n",
       "      <td>ARHG7_HUMAN</td>\n",
       "      <td>ARHGEF7</td>\n",
       "      <td>11</td>\n",
       "      <td>8</td>\n",
       "      <td>8</td>\n",
       "      <td>0</td>\n",
       "      <td>20</td>\n",
       "    </tr>\n",
       "    <tr>\n",
       "      <th>2</th>\n",
       "      <td>1205002</td>\n",
       "      <td>Q14160</td>\n",
       "      <td>SCRIB_HUMAN</td>\n",
       "      <td>SCRIB</td>\n",
       "      <td>Q7Z628</td>\n",
       "      <td>ARHG8_HUMAN</td>\n",
       "      <td>NET1</td>\n",
       "      <td>2</td>\n",
       "      <td>2</td>\n",
       "      <td>2</td>\n",
       "      <td>0</td>\n",
       "      <td>2</td>\n",
       "    </tr>\n",
       "    <tr>\n",
       "      <th>3</th>\n",
       "      <td>1205003</td>\n",
       "      <td>P22460</td>\n",
       "      <td>KCNA5_HUMAN</td>\n",
       "      <td>KCNA5</td>\n",
       "      <td>Q14160</td>\n",
       "      <td>SCRIB_HUMAN</td>\n",
       "      <td>SCRIB</td>\n",
       "      <td>1</td>\n",
       "      <td>1</td>\n",
       "      <td>1</td>\n",
       "      <td>0</td>\n",
       "      <td>2</td>\n",
       "    </tr>\n",
       "    <tr>\n",
       "      <th>4</th>\n",
       "      <td>1205004</td>\n",
       "      <td>Q96DN2</td>\n",
       "      <td>VWCE_HUMAN</td>\n",
       "      <td>VWCE</td>\n",
       "      <td>Q14160</td>\n",
       "      <td>SCRIB_HUMAN</td>\n",
       "      <td>SCRIB</td>\n",
       "      <td>1</td>\n",
       "      <td>1</td>\n",
       "      <td>1</td>\n",
       "      <td>0</td>\n",
       "      <td>1</td>\n",
       "    </tr>\n",
       "  </tbody>\n",
       "</table>\n",
       "</div>"
      ],
      "text/plain": [
       "   InteractionID UniprotID_A UniprotName_A GeneName_A UniprotID_B  \\\n",
       "0        1205000      Q14160   SCRIB_HUMAN      SCRIB      B7Z2Y1   \n",
       "1        1205001      Q14160   SCRIB_HUMAN      SCRIB      Q14155   \n",
       "2        1205002      Q14160   SCRIB_HUMAN      SCRIB      Q7Z628   \n",
       "3        1205003      P22460   KCNA5_HUMAN      KCNA5      Q14160   \n",
       "4        1205004      Q96DN2    VWCE_HUMAN       VWCE      Q14160   \n",
       "\n",
       "  UniprotName_B GeneName_B  ExpEvidences  Methods  Publications  3DStructures  \\\n",
       "0  B7Z2Y1_HUMAN       <NA>             1        1             1             0   \n",
       "1   ARHG7_HUMAN    ARHGEF7            11        8             8             0   \n",
       "2   ARHG8_HUMAN       NET1             2        2             2             0   \n",
       "3   SCRIB_HUMAN      SCRIB             1        1             1             0   \n",
       "4   SCRIB_HUMAN      SCRIB             1        1             1             0   \n",
       "\n",
       "   CurationEvents  \n",
       "0               3  \n",
       "1              20  \n",
       "2               2  \n",
       "3               2  \n",
       "4               1  "
      ]
     },
     "metadata": {},
     "output_type": "display_data"
    },
    {
     "data": {
      "text/html": [
       "<div>\n",
       "<style scoped>\n",
       "    .dataframe tbody tr th:only-of-type {\n",
       "        vertical-align: middle;\n",
       "    }\n",
       "\n",
       "    .dataframe tbody tr th {\n",
       "        vertical-align: top;\n",
       "    }\n",
       "\n",
       "    .dataframe thead th {\n",
       "        text-align: right;\n",
       "    }\n",
       "</style>\n",
       "<table border=\"1\" class=\"dataframe\">\n",
       "  <thead>\n",
       "    <tr style=\"text-align: right;\">\n",
       "      <th></th>\n",
       "      <th>hgnc_id</th>\n",
       "      <th>symbol</th>\n",
       "      <th>name</th>\n",
       "      <th>locus_group</th>\n",
       "      <th>locus_type</th>\n",
       "      <th>status</th>\n",
       "      <th>location</th>\n",
       "      <th>location_sortable</th>\n",
       "      <th>alias_symbol</th>\n",
       "      <th>alias_name</th>\n",
       "      <th>...</th>\n",
       "      <th>cd</th>\n",
       "      <th>lncrnadb</th>\n",
       "      <th>enzyme_id</th>\n",
       "      <th>intermediate_filament_db</th>\n",
       "      <th>rna_central_ids</th>\n",
       "      <th>lncipedia</th>\n",
       "      <th>gtrnadb</th>\n",
       "      <th>agr</th>\n",
       "      <th>mane_select</th>\n",
       "      <th>gencc</th>\n",
       "    </tr>\n",
       "  </thead>\n",
       "  <tbody>\n",
       "    <tr>\n",
       "      <th>0</th>\n",
       "      <td>HGNC:5</td>\n",
       "      <td>A1BG</td>\n",
       "      <td>alpha-1-B glycoprotein</td>\n",
       "      <td>protein-coding gene</td>\n",
       "      <td>gene with protein product</td>\n",
       "      <td>Approved</td>\n",
       "      <td>19q13.43</td>\n",
       "      <td>19q13.43</td>\n",
       "      <td>&lt;NA&gt;</td>\n",
       "      <td>&lt;NA&gt;</td>\n",
       "      <td>...</td>\n",
       "      <td>&lt;NA&gt;</td>\n",
       "      <td>&lt;NA&gt;</td>\n",
       "      <td>&lt;NA&gt;</td>\n",
       "      <td>&lt;NA&gt;</td>\n",
       "      <td>&lt;NA&gt;</td>\n",
       "      <td>&lt;NA&gt;</td>\n",
       "      <td>&lt;NA&gt;</td>\n",
       "      <td>HGNC:5</td>\n",
       "      <td>ENST00000263100.8|NM_130786.4</td>\n",
       "      <td>&lt;NA&gt;</td>\n",
       "    </tr>\n",
       "    <tr>\n",
       "      <th>1</th>\n",
       "      <td>HGNC:37133</td>\n",
       "      <td>A1BG-AS1</td>\n",
       "      <td>A1BG antisense RNA 1</td>\n",
       "      <td>non-coding RNA</td>\n",
       "      <td>RNA, long non-coding</td>\n",
       "      <td>Approved</td>\n",
       "      <td>19q13.43</td>\n",
       "      <td>19q13.43</td>\n",
       "      <td>FLJ23569</td>\n",
       "      <td>&lt;NA&gt;</td>\n",
       "      <td>...</td>\n",
       "      <td>&lt;NA&gt;</td>\n",
       "      <td>&lt;NA&gt;</td>\n",
       "      <td>&lt;NA&gt;</td>\n",
       "      <td>&lt;NA&gt;</td>\n",
       "      <td>&lt;NA&gt;</td>\n",
       "      <td>A1BG-AS1</td>\n",
       "      <td>&lt;NA&gt;</td>\n",
       "      <td>HGNC:37133</td>\n",
       "      <td>&lt;NA&gt;</td>\n",
       "      <td>&lt;NA&gt;</td>\n",
       "    </tr>\n",
       "  </tbody>\n",
       "</table>\n",
       "<p>2 rows × 54 columns</p>\n",
       "</div>"
      ],
      "text/plain": [
       "      hgnc_id    symbol                    name          locus_group  \\\n",
       "0      HGNC:5      A1BG  alpha-1-B glycoprotein  protein-coding gene   \n",
       "1  HGNC:37133  A1BG-AS1    A1BG antisense RNA 1       non-coding RNA   \n",
       "\n",
       "                  locus_type    status  location location_sortable  \\\n",
       "0  gene with protein product  Approved  19q13.43          19q13.43   \n",
       "1       RNA, long non-coding  Approved  19q13.43          19q13.43   \n",
       "\n",
       "  alias_symbol alias_name  ...    cd lncrnadb enzyme_id  \\\n",
       "0         <NA>       <NA>  ...  <NA>     <NA>      <NA>   \n",
       "1     FLJ23569       <NA>  ...  <NA>     <NA>      <NA>   \n",
       "\n",
       "  intermediate_filament_db rna_central_ids lncipedia gtrnadb         agr  \\\n",
       "0                     <NA>            <NA>      <NA>    <NA>      HGNC:5   \n",
       "1                     <NA>            <NA>  A1BG-AS1    <NA>  HGNC:37133   \n",
       "\n",
       "                     mane_select gencc  \n",
       "0  ENST00000263100.8|NM_130786.4  <NA>  \n",
       "1                           <NA>  <NA>  \n",
       "\n",
       "[2 rows x 54 columns]"
      ]
     },
     "execution_count": 5,
     "metadata": {},
     "output_type": "execute_result"
    }
   ],
   "source": [
    "apid = pd.read_csv(\n",
    "    \"../../data/raw/9606_noISI_Q2.txt\",\n",
    "      sep='\\t', header=0, dtype={'UniprotID_A': 'string', 'UniprotID_B': 'string', 'GeneName_A':'string','GeneName_B':'string'}\n",
    "      )\n",
    "display(apid.head(5))\n",
    "hgnc_symbols = pd.read_csv(\n",
    "    \"../../data/raw/hgnc_complete_set.tsv\",\n",
    "      sep='\\t', header=0, dtype='string'\n",
    "      )\n",
    "hgnc_symbols.head(2)"
   ]
  },
  {
   "cell_type": "code",
   "execution_count": 6,
   "metadata": {},
   "outputs": [],
   "source": [
    "# all genes in apid\n",
    "genenames = set(list(apid['GeneName_A'].dropna().unique()) + list(apid['GeneName_B'].dropna().unique()))\n",
    "# all genes with approved HGNC symbol\n",
    "hgnc_ids = list(hgnc_symbols['symbol'].unique())\n",
    "# apid genes not found in hgnc table\n",
    "missing_apid_ids = [protein for protein in genenames if protein not in hgnc_ids]"
   ]
  },
  {
   "cell_type": "code",
   "execution_count": 7,
   "metadata": {},
   "outputs": [
    {
     "name": "stderr",
     "output_type": "stream",
     "text": [
      "100%|██████████| 751/751 [00:08<00:00, 93.21it/s]"
     ]
    },
    {
     "name": "stdout",
     "output_type": "stream",
     "text": [
      "105 symbols were not found.\n"
     ]
    },
    {
     "name": "stderr",
     "output_type": "stream",
     "text": [
      "\n"
     ]
    }
   ],
   "source": [
    "# search for deprecated or alternative symbols\n",
    "resolved_ids = {}\n",
    "not_found = []\n",
    "for protein in tqdm(missing_apid_ids):\n",
    "\n",
    "    for id_type in ['alias_symbol', 'prev_symbol']:\n",
    "        new_symbol = hgnc_symbols.loc[hgnc_symbols[id_type].str.contains(protein), 'symbol'].values\n",
    "        if len(new_symbol) > 0:\n",
    "            resolved_ids[protein] = new_symbol[0]\n",
    "            break\n",
    "    else:\n",
    "        not_found.append(protein)\n",
    "print(f'{len(not_found)} symbols were not found.' )"
   ]
  },
  {
   "cell_type": "code",
   "execution_count": 8,
   "metadata": {},
   "outputs": [],
   "source": [
    "a = apid[['GeneName_A', 'UniprotID_A']].rename(columns={'GeneName_A': 'GeneName', 'UniprotID_A': 'UniprotID'})\n",
    "b = apid[['GeneName_B', 'UniprotID_B']].rename(columns={'GeneName_B': 'GeneName', 'UniprotID_B': 'UniprotID'})\n",
    "uniprot_ids = pd.concat([a, b]).drop_duplicates()\n",
    "not_found_uniprot_ids = uniprot_ids.loc[uniprot_ids.GeneName.isin(not_found)].to_dict('records')"
   ]
  },
  {
   "cell_type": "code",
   "execution_count": 9,
   "metadata": {},
   "outputs": [
    {
     "name": "stderr",
     "output_type": "stream",
     "text": [
      "100%|██████████| 108/108 [00:00<00:00, 582.36it/s]"
     ]
    },
    {
     "name": "stdout",
     "output_type": "stream",
     "text": [
      "104 symbols were not found.\n"
     ]
    },
    {
     "name": "stderr",
     "output_type": "stream",
     "text": [
      "\n"
     ]
    }
   ],
   "source": [
    "# search in Uniprot IDs\n",
    "remaining = []\n",
    "for protein in tqdm(not_found_uniprot_ids):\n",
    "\n",
    "    new_symbol = hgnc_symbols.loc[hgnc_symbols['uniprot_ids'] == protein['UniprotID'], 'symbol'].values\n",
    "    if len(new_symbol) > 0:\n",
    "        resolved_ids[protein['GeneName']] = new_symbol[0]\n",
    "        \n",
    "    else:\n",
    "        remaining.append(protein['GeneName'])\n",
    "        \n",
    "print(f'{len(remaining)} symbols were not found.' )"
   ]
  },
  {
   "cell_type": "code",
   "execution_count": 10,
   "metadata": {},
   "outputs": [],
   "source": [
    "# replace alternative IDs with Approved IDs\n",
    "apid_graph = apid[['GeneName_A', 'GeneName_B']].replace(resolved_ids).dropna(how='any')"
   ]
  },
  {
   "cell_type": "code",
   "execution_count": 11,
   "metadata": {},
   "outputs": [],
   "source": [
    "# remove IDs that could not be converted\n",
    "apid_graph = apid_graph[\n",
    "    ~apid_graph['GeneName_A'].isin(remaining)&\n",
    "    ~apid_graph['GeneName_B'].isin(remaining)\n",
    "    ].rename(columns={'GeneName_A': 'protein_A', 'GeneName_B': 'protein_B'})"
   ]
  },
  {
   "cell_type": "code",
   "execution_count": 12,
   "metadata": {},
   "outputs": [],
   "source": [
    "apid_graph.to_csv('../../data/interim/apid_graph.csv', header=-1, index=False)"
   ]
  },
  {
   "attachments": {},
   "cell_type": "markdown",
   "metadata": {},
   "source": [
    "# HuRI (ensembl2hgnc.py)"
   ]
  },
  {
   "cell_type": "code",
   "execution_count": 13,
   "metadata": {},
   "outputs": [
    {
     "name": "stdout",
     "output_type": "stream",
     "text": [
      "52548\n"
     ]
    },
    {
     "data": {
      "text/html": [
       "<div>\n",
       "<style scoped>\n",
       "    .dataframe tbody tr th:only-of-type {\n",
       "        vertical-align: middle;\n",
       "    }\n",
       "\n",
       "    .dataframe tbody tr th {\n",
       "        vertical-align: top;\n",
       "    }\n",
       "\n",
       "    .dataframe thead th {\n",
       "        text-align: right;\n",
       "    }\n",
       "</style>\n",
       "<table border=\"1\" class=\"dataframe\">\n",
       "  <thead>\n",
       "    <tr style=\"text-align: right;\">\n",
       "      <th></th>\n",
       "      <th>ENSG_A</th>\n",
       "      <th>ENSG_B</th>\n",
       "    </tr>\n",
       "  </thead>\n",
       "  <tbody>\n",
       "    <tr>\n",
       "      <th>0</th>\n",
       "      <td>ENSG00000000005</td>\n",
       "      <td>ENSG00000061656</td>\n",
       "    </tr>\n",
       "    <tr>\n",
       "      <th>1</th>\n",
       "      <td>ENSG00000000005</td>\n",
       "      <td>ENSG00000099968</td>\n",
       "    </tr>\n",
       "  </tbody>\n",
       "</table>\n",
       "</div>"
      ],
      "text/plain": [
       "            ENSG_A           ENSG_B\n",
       "0  ENSG00000000005  ENSG00000061656\n",
       "1  ENSG00000000005  ENSG00000099968"
      ]
     },
     "execution_count": 13,
     "metadata": {},
     "output_type": "execute_result"
    }
   ],
   "source": [
    "huri = pd.read_csv(\"../../data/raw/HuRI.tsv\", sep='\\t',header=None, names=['ENSG_A', 'ENSG_B'])\n",
    "print(huri.shape[0])\n",
    "huri.head(2)"
   ]
  },
  {
   "cell_type": "code",
   "execution_count": 15,
   "metadata": {},
   "outputs": [],
   "source": [
    "huri_hgnc = pd.merge(\n",
    "    huri, \n",
    "    hgnc_symbols[['ensembl_gene_id', 'symbol']].set_index('ensembl_gene_id'),\n",
    "    how='left',\n",
    "    left_on='ENSG_A',\n",
    "    right_on='ensembl_gene_id'\n",
    "    )\n",
    "huri_hgnc = pd.merge(\n",
    "    huri_hgnc, \n",
    "    hgnc_symbols[['ensembl_gene_id', 'symbol']].set_index('ensembl_gene_id'),\n",
    "    how='left',\n",
    "    left_on='ENSG_B',\n",
    "    right_on='ensembl_gene_id',\n",
    "    suffixes=['_A', '_B']\n",
    "    )\n",
    "\n",
    "huri_hgnc.rename(columns={'symbol_A': 'protein_A', 'symbol_B': 'protein_B'}, inplace=True)"
   ]
  },
  {
   "cell_type": "code",
   "execution_count": 16,
   "metadata": {},
   "outputs": [],
   "source": [
    "huri_graph = huri_hgnc[['protein_A', 'protein_B']].dropna()"
   ]
  },
  {
   "cell_type": "code",
   "execution_count": 17,
   "metadata": {},
   "outputs": [],
   "source": [
    "huri_graph.to_csv('../../data/interim/huri_graph.csv', index=False)"
   ]
  },
  {
   "attachments": {},
   "cell_type": "markdown",
   "metadata": {},
   "source": [
    "# Reactome"
   ]
  },
  {
   "cell_type": "code",
   "execution_count": 19,
   "metadata": {},
   "outputs": [
    {
     "name": "stdout",
     "output_type": "stream",
     "text": [
      "112796\n"
     ]
    },
    {
     "data": {
      "text/html": [
       "<div>\n",
       "<style scoped>\n",
       "    .dataframe tbody tr th:only-of-type {\n",
       "        vertical-align: middle;\n",
       "    }\n",
       "\n",
       "    .dataframe tbody tr th {\n",
       "        vertical-align: top;\n",
       "    }\n",
       "\n",
       "    .dataframe thead th {\n",
       "        text-align: right;\n",
       "    }\n",
       "</style>\n",
       "<table border=\"1\" class=\"dataframe\">\n",
       "  <thead>\n",
       "    <tr style=\"text-align: right;\">\n",
       "      <th></th>\n",
       "      <th>NCBI_ID</th>\n",
       "      <th>Reactome_ID</th>\n",
       "      <th>URL</th>\n",
       "      <th>Event</th>\n",
       "      <th>Evidence_Code</th>\n",
       "      <th>Species</th>\n",
       "    </tr>\n",
       "  </thead>\n",
       "  <tbody>\n",
       "    <tr>\n",
       "      <th>0</th>\n",
       "      <td>1</td>\n",
       "      <td>R-HSA-481007</td>\n",
       "      <td>https://reactome.org/PathwayBrowser/#/R-HSA-48...</td>\n",
       "      <td>Exocytosis of platelet alpha granule contents</td>\n",
       "      <td>TAS</td>\n",
       "      <td>Homo sapiens</td>\n",
       "    </tr>\n",
       "    <tr>\n",
       "      <th>1</th>\n",
       "      <td>1</td>\n",
       "      <td>R-HSA-6798748</td>\n",
       "      <td>https://reactome.org/PathwayBrowser/#/R-HSA-67...</td>\n",
       "      <td>Exocytosis of secretory granule lumen proteins</td>\n",
       "      <td>TAS</td>\n",
       "      <td>Homo sapiens</td>\n",
       "    </tr>\n",
       "  </tbody>\n",
       "</table>\n",
       "</div>"
      ],
      "text/plain": [
       "  NCBI_ID    Reactome_ID                                                URL  \\\n",
       "0       1   R-HSA-481007  https://reactome.org/PathwayBrowser/#/R-HSA-48...   \n",
       "1       1  R-HSA-6798748  https://reactome.org/PathwayBrowser/#/R-HSA-67...   \n",
       "\n",
       "                                            Event Evidence_Code       Species  \n",
       "0   Exocytosis of platelet alpha granule contents           TAS  Homo sapiens  \n",
       "1  Exocytosis of secretory granule lumen proteins           TAS  Homo sapiens  "
      ]
     },
     "execution_count": 19,
     "metadata": {},
     "output_type": "execute_result"
    }
   ],
   "source": [
    "reactome = pd.read_csv(\n",
    "    \"../../data/raw/NCBI2ReactomeReactions.txt\", sep='\\t', header=None, dtype='string',\n",
    "      names = ['NCBI_ID', 'Reactome_ID', 'URL', 'Event', 'Evidence_Code', 'Species']\n",
    "      )\n",
    "reactome = reactome[reactome['Species'] == 'Homo sapiens']\n",
    "print(reactome.shape[0])\n",
    "reactome.head(2)"
   ]
  },
  {
   "cell_type": "code",
   "execution_count": 20,
   "metadata": {},
   "outputs": [],
   "source": [
    "# convert entrez IDs (NCBI) to HGNC Gene Symbols\n",
    "reactome_hgnc = pd.merge(\n",
    "    reactome, hgnc_symbols[['entrez_id', 'symbol']].set_index('entrez_id'),\n",
    "    left_on='NCBI_ID', right_on='entrez_id'\n",
    "    ).rename(columns={'symbol': 'protein_id'})"
   ]
  },
  {
   "cell_type": "code",
   "execution_count": 21,
   "metadata": {},
   "outputs": [],
   "source": [
    "# keep only reactome modules with sizes between 50 and 300 proteins\n",
    "reactome_final = reactome_hgnc.groupby('Reactome_ID').filter(lambda x: 50 <= len(x) <= 300)\n",
    "reactome_final = reactome_final[['Reactome_ID', 'protein_id', 'Event']]"
   ]
  },
  {
   "cell_type": "code",
   "execution_count": 22,
   "metadata": {},
   "outputs": [],
   "source": [
    "reactome_final.to_csv('../../data/interim/reactome_reactions.csv', index=False)"
   ]
  },
  {
   "attachments": {},
   "cell_type": "markdown",
   "metadata": {},
   "source": [
    "# Disgenet"
   ]
  },
  {
   "cell_type": "code",
   "execution_count": 23,
   "metadata": {},
   "outputs": [
    {
     "name": "stdout",
     "output_type": "stream",
     "text": [
      "84038\n"
     ]
    },
    {
     "data": {
      "text/html": [
       "<div>\n",
       "<style scoped>\n",
       "    .dataframe tbody tr th:only-of-type {\n",
       "        vertical-align: middle;\n",
       "    }\n",
       "\n",
       "    .dataframe tbody tr th {\n",
       "        vertical-align: top;\n",
       "    }\n",
       "\n",
       "    .dataframe thead th {\n",
       "        text-align: right;\n",
       "    }\n",
       "</style>\n",
       "<table border=\"1\" class=\"dataframe\">\n",
       "  <thead>\n",
       "    <tr style=\"text-align: right;\">\n",
       "      <th></th>\n",
       "      <th>geneId</th>\n",
       "      <th>geneSymbol</th>\n",
       "      <th>DSI</th>\n",
       "      <th>DPI</th>\n",
       "      <th>diseaseId</th>\n",
       "      <th>diseaseName</th>\n",
       "      <th>diseaseType</th>\n",
       "      <th>diseaseClass</th>\n",
       "      <th>diseaseSemanticType</th>\n",
       "      <th>score</th>\n",
       "      <th>EI</th>\n",
       "      <th>YearInitial</th>\n",
       "      <th>YearFinal</th>\n",
       "      <th>NofPmids</th>\n",
       "      <th>NofSnps</th>\n",
       "      <th>source</th>\n",
       "    </tr>\n",
       "  </thead>\n",
       "  <tbody>\n",
       "    <tr>\n",
       "      <th>0</th>\n",
       "      <td>1</td>\n",
       "      <td>A1BG</td>\n",
       "      <td>0.7</td>\n",
       "      <td>0.538</td>\n",
       "      <td>C0019209</td>\n",
       "      <td>Hepatomegaly</td>\n",
       "      <td>phenotype</td>\n",
       "      <td>C23;C06</td>\n",
       "      <td>Finding</td>\n",
       "      <td>0.3</td>\n",
       "      <td>1.0</td>\n",
       "      <td>2017.0</td>\n",
       "      <td>2017.0</td>\n",
       "      <td>1</td>\n",
       "      <td>0</td>\n",
       "      <td>CTD_human</td>\n",
       "    </tr>\n",
       "    <tr>\n",
       "      <th>1</th>\n",
       "      <td>1</td>\n",
       "      <td>A1BG</td>\n",
       "      <td>0.7</td>\n",
       "      <td>0.538</td>\n",
       "      <td>C0036341</td>\n",
       "      <td>Schizophrenia</td>\n",
       "      <td>disease</td>\n",
       "      <td>F03</td>\n",
       "      <td>Mental or Behavioral Dysfunction</td>\n",
       "      <td>0.3</td>\n",
       "      <td>1.0</td>\n",
       "      <td>2015.0</td>\n",
       "      <td>2015.0</td>\n",
       "      <td>1</td>\n",
       "      <td>0</td>\n",
       "      <td>CTD_human</td>\n",
       "    </tr>\n",
       "  </tbody>\n",
       "</table>\n",
       "</div>"
      ],
      "text/plain": [
       "   geneId geneSymbol  DSI    DPI diseaseId    diseaseName diseaseType  \\\n",
       "0       1       A1BG  0.7  0.538  C0019209   Hepatomegaly   phenotype   \n",
       "1       1       A1BG  0.7  0.538  C0036341  Schizophrenia     disease   \n",
       "\n",
       "  diseaseClass               diseaseSemanticType  score   EI  YearInitial  \\\n",
       "0      C23;C06                           Finding    0.3  1.0       2017.0   \n",
       "1          F03  Mental or Behavioral Dysfunction    0.3  1.0       2015.0   \n",
       "\n",
       "   YearFinal  NofPmids  NofSnps     source  \n",
       "0     2017.0         1        0  CTD_human  \n",
       "1     2015.0         1        0  CTD_human  "
      ]
     },
     "execution_count": 23,
     "metadata": {},
     "output_type": "execute_result"
    }
   ],
   "source": [
    "disgenet = pd.read_csv(\n",
    "    \"../../data/raw/curated_gene_disease_associations.tsv\", sep='\\t', header=0)\n",
    "\n",
    "print(disgenet.shape[0])\n",
    "disgenet.head(2)"
   ]
  },
  {
   "cell_type": "code",
   "execution_count": 24,
   "metadata": {},
   "outputs": [],
   "source": [
    "# all genes in apid\n",
    "disgenet_symbols = list(disgenet.geneSymbol.unique())\n",
    "# all genes with approved HGNC symbol\n",
    "hgnc_ids = list(hgnc_symbols['symbol'].unique())\n",
    "# apid genes not found in hgnc table\n",
    "missing_disgenet_ids = [protein for protein in disgenet_symbols if protein not in hgnc_ids]"
   ]
  },
  {
   "cell_type": "code",
   "execution_count": 25,
   "metadata": {},
   "outputs": [
    {
     "name": "stderr",
     "output_type": "stream",
     "text": [
      "100%|██████████| 146/146 [00:01<00:00, 92.62it/s]"
     ]
    },
    {
     "name": "stdout",
     "output_type": "stream",
     "text": [
      "60 symbols were not found.\n"
     ]
    },
    {
     "name": "stderr",
     "output_type": "stream",
     "text": [
      "\n"
     ]
    }
   ],
   "source": [
    "# search for deprecated or alternative symbols\n",
    "resolved_ids = {}\n",
    "not_found = []\n",
    "for protein in tqdm(missing_disgenet_ids):\n",
    "\n",
    "    for id_type in ['alias_symbol', 'prev_symbol']:\n",
    "        new_symbol = hgnc_symbols.loc[hgnc_symbols[id_type].str.contains(protein), 'symbol'].values\n",
    "        if len(new_symbol) > 0:\n",
    "            resolved_ids[protein] = new_symbol[0]\n",
    "            break\n",
    "    else:\n",
    "        not_found.append(protein)\n",
    "        \n",
    "print(f'{len(not_found)} symbols were not found.' )"
   ]
  },
  {
   "cell_type": "code",
   "execution_count": 28,
   "metadata": {},
   "outputs": [],
   "source": [
    "# replace alternative IDs with Approved IDs\n",
    "disgenet_hgnc = disgenet.copy()\n",
    "disgenet_hgnc['geneSymbol'] = disgenet_hgnc.geneSymbol.replace(resolved_ids)"
   ]
  },
  {
   "cell_type": "code",
   "execution_count": 29,
   "metadata": {},
   "outputs": [],
   "source": [
    "# remove IDs that could not be converted\n",
    "disgenet_hgnc = disgenet_hgnc.loc[\n",
    "    ~disgenet_hgnc['geneSymbol'].isin(not_found),\n",
    "    ['geneId', 'geneSymbol', 'diseaseId', 'diseaseName', 'diseaseType', 'score']\n",
    "    ].rename(columns={'geneId': 'entrez_id', 'geneSymbol': 'protein_id'})"
   ]
  },
  {
   "cell_type": "code",
   "execution_count": 30,
   "metadata": {},
   "outputs": [],
   "source": [
    "disgenet_hgnc.to_csv('../../data/interim/disgenet.csv', index=False)"
   ]
  },
  {
   "attachments": {},
   "cell_type": "markdown",
   "metadata": {},
   "source": [
    "# PPI Integration"
   ]
  },
  {
   "cell_type": "code",
   "execution_count": 31,
   "metadata": {},
   "outputs": [
    {
     "name": "stdout",
     "output_type": "stream",
     "text": [
      "263595\n"
     ]
    },
    {
     "data": {
      "text/html": [
       "<div>\n",
       "<style scoped>\n",
       "    .dataframe tbody tr th:only-of-type {\n",
       "        vertical-align: middle;\n",
       "    }\n",
       "\n",
       "    .dataframe tbody tr th {\n",
       "        vertical-align: top;\n",
       "    }\n",
       "\n",
       "    .dataframe thead th {\n",
       "        text-align: right;\n",
       "    }\n",
       "</style>\n",
       "<table border=\"1\" class=\"dataframe\">\n",
       "  <thead>\n",
       "    <tr style=\"text-align: right;\">\n",
       "      <th></th>\n",
       "      <th>protein_A</th>\n",
       "      <th>protein_B</th>\n",
       "    </tr>\n",
       "  </thead>\n",
       "  <tbody>\n",
       "    <tr>\n",
       "      <th>0</th>\n",
       "      <td>SCRIB</td>\n",
       "      <td>ARHGEF7</td>\n",
       "    </tr>\n",
       "    <tr>\n",
       "      <th>1</th>\n",
       "      <td>SCRIB</td>\n",
       "      <td>NET1</td>\n",
       "    </tr>\n",
       "  </tbody>\n",
       "</table>\n",
       "</div>"
      ],
      "text/plain": [
       "  protein_A protein_B\n",
       "0     SCRIB   ARHGEF7\n",
       "1     SCRIB      NET1"
      ]
     },
     "metadata": {},
     "output_type": "display_data"
    },
    {
     "name": "stdout",
     "output_type": "stream",
     "text": [
      "52225\n"
     ]
    },
    {
     "data": {
      "text/html": [
       "<div>\n",
       "<style scoped>\n",
       "    .dataframe tbody tr th:only-of-type {\n",
       "        vertical-align: middle;\n",
       "    }\n",
       "\n",
       "    .dataframe tbody tr th {\n",
       "        vertical-align: top;\n",
       "    }\n",
       "\n",
       "    .dataframe thead th {\n",
       "        text-align: right;\n",
       "    }\n",
       "</style>\n",
       "<table border=\"1\" class=\"dataframe\">\n",
       "  <thead>\n",
       "    <tr style=\"text-align: right;\">\n",
       "      <th></th>\n",
       "      <th>protein_A</th>\n",
       "      <th>protein_B</th>\n",
       "    </tr>\n",
       "  </thead>\n",
       "  <tbody>\n",
       "    <tr>\n",
       "      <th>0</th>\n",
       "      <td>TNMD</td>\n",
       "      <td>SPAG4</td>\n",
       "    </tr>\n",
       "    <tr>\n",
       "      <th>1</th>\n",
       "      <td>TNMD</td>\n",
       "      <td>BCL2L13</td>\n",
       "    </tr>\n",
       "  </tbody>\n",
       "</table>\n",
       "</div>"
      ],
      "text/plain": [
       "  protein_A protein_B\n",
       "0      TNMD     SPAG4\n",
       "1      TNMD   BCL2L13"
      ]
     },
     "metadata": {},
     "output_type": "display_data"
    }
   ],
   "source": [
    "apid = pd.read_csv(\"../../data/interim/apid_graph.csv\")\n",
    "print(apid.shape[0])\n",
    "display(apid.head(2))\n",
    "\n",
    "huri = pd.read_csv(\"../../data/interim/huri_graph.csv\")\n",
    "print(huri.shape[0])\n",
    "display(huri.head(2))"
   ]
  },
  {
   "cell_type": "code",
   "execution_count": 32,
   "metadata": {},
   "outputs": [],
   "source": [
    "apid_huri = pd.concat([apid, huri]).drop_duplicates()"
   ]
  },
  {
   "cell_type": "code",
   "execution_count": 33,
   "metadata": {},
   "outputs": [],
   "source": [
    "apid_huri.to_csv('../../data/processed/ppis/apid_huri_graph.csv', index=False)"
   ]
  },
  {
   "cell_type": "code",
   "execution_count": null,
   "metadata": {},
   "outputs": [],
   "source": []
  }
 ],
 "metadata": {
  "kernelspec": {
   "display_name": ".venv",
   "language": "python",
   "name": "python3"
  },
  "language_info": {
   "codemirror_mode": {
    "name": "ipython",
    "version": 3
   },
   "file_extension": ".py",
   "mimetype": "text/x-python",
   "name": "python",
   "nbconvert_exporter": "python",
   "pygments_lexer": "ipython3",
   "version": "3.10.11"
  },
  "orig_nbformat": 4
 },
 "nbformat": 4,
 "nbformat_minor": 2
}
