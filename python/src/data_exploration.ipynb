{
 "cells": [
  {
   "cell_type": "code",
   "execution_count": 1,
   "metadata": {},
   "outputs": [],
   "source": [
    "from tqdm import tqdm\n",
    "import pandas as pd\n",
    "import numpy as np\n",
    "from IPython.display import display\n",
    "from igraph import Graph\n",
    "import requests, sys, os"
   ]
  },
  {
   "cell_type": "markdown",
   "metadata": {},
   "source": [
    "# Functions"
   ]
  },
  {
   "cell_type": "code",
   "execution_count": 2,
   "metadata": {},
   "outputs": [],
   "source": [
    "# search for deprecated or alternative symbols\n",
    "def alias_mapping(ids, hgnc_table):\n",
    "    resolved_ids = {}\n",
    "    not_found = []\n",
    "    for protein in tqdm(ids):\n",
    "        \n",
    "        for id_type in ['alias_symbol', 'prev_symbol']:\n",
    "            new_symbol = hgnc_table.loc[hgnc_table[id_type].str.contains(protein), 'symbol'].values\n",
    "            if len(new_symbol) > 0:\n",
    "                resolved_ids[protein] = new_symbol[0]\n",
    "                break\n",
    "        else:\n",
    "            not_found.append(protein)\n",
    "    return resolved_ids, not_found"
   ]
  },
  {
   "cell_type": "code",
   "execution_count": 3,
   "metadata": {},
   "outputs": [],
   "source": [
    "def check_dir(dir):\n",
    "    if os.path.exists(dir) and os.path.isdir(dir):\n",
    "        pass\n",
    "    else:\n",
    "        os.makedirs(dir)"
   ]
  },
  {
   "cell_type": "markdown",
   "metadata": {},
   "source": [
    "# Data Exploration\n",
    "This notebook shows how we explored and prepared data to feed into the machine learning pipeline.\n",
    "\n",
    "We converted protein identifiers in all datasets to HGNC gene symbols using the HGNC complete set table. The tab separated file was downloaded from [HGNC Link](https://www.genenames.org/download/archive/) and saved in *.tsv format."
   ]
  },
  {
   "cell_type": "code",
   "execution_count": 4,
   "metadata": {},
   "outputs": [
    {
     "data": {
      "text/html": [
       "<div>\n",
       "<style scoped>\n",
       "    .dataframe tbody tr th:only-of-type {\n",
       "        vertical-align: middle;\n",
       "    }\n",
       "\n",
       "    .dataframe tbody tr th {\n",
       "        vertical-align: top;\n",
       "    }\n",
       "\n",
       "    .dataframe thead th {\n",
       "        text-align: right;\n",
       "    }\n",
       "</style>\n",
       "<table border=\"1\" class=\"dataframe\">\n",
       "  <thead>\n",
       "    <tr style=\"text-align: right;\">\n",
       "      <th></th>\n",
       "      <th>hgnc_id</th>\n",
       "      <th>symbol</th>\n",
       "      <th>name</th>\n",
       "      <th>locus_group</th>\n",
       "      <th>locus_type</th>\n",
       "      <th>status</th>\n",
       "      <th>location</th>\n",
       "      <th>location_sortable</th>\n",
       "      <th>alias_symbol</th>\n",
       "      <th>alias_name</th>\n",
       "      <th>...</th>\n",
       "      <th>cd</th>\n",
       "      <th>lncrnadb</th>\n",
       "      <th>enzyme_id</th>\n",
       "      <th>intermediate_filament_db</th>\n",
       "      <th>rna_central_ids</th>\n",
       "      <th>lncipedia</th>\n",
       "      <th>gtrnadb</th>\n",
       "      <th>agr</th>\n",
       "      <th>mane_select</th>\n",
       "      <th>gencc</th>\n",
       "    </tr>\n",
       "  </thead>\n",
       "  <tbody>\n",
       "    <tr>\n",
       "      <th>0</th>\n",
       "      <td>HGNC:5</td>\n",
       "      <td>A1BG</td>\n",
       "      <td>alpha-1-B glycoprotein</td>\n",
       "      <td>protein-coding gene</td>\n",
       "      <td>gene with protein product</td>\n",
       "      <td>Approved</td>\n",
       "      <td>19q13.43</td>\n",
       "      <td>19q13.43</td>\n",
       "      <td>&lt;NA&gt;</td>\n",
       "      <td>&lt;NA&gt;</td>\n",
       "      <td>...</td>\n",
       "      <td>&lt;NA&gt;</td>\n",
       "      <td>&lt;NA&gt;</td>\n",
       "      <td>&lt;NA&gt;</td>\n",
       "      <td>&lt;NA&gt;</td>\n",
       "      <td>&lt;NA&gt;</td>\n",
       "      <td>&lt;NA&gt;</td>\n",
       "      <td>&lt;NA&gt;</td>\n",
       "      <td>HGNC:5</td>\n",
       "      <td>ENST00000263100.8|NM_130786.4</td>\n",
       "      <td>&lt;NA&gt;</td>\n",
       "    </tr>\n",
       "    <tr>\n",
       "      <th>1</th>\n",
       "      <td>HGNC:37133</td>\n",
       "      <td>A1BG-AS1</td>\n",
       "      <td>A1BG antisense RNA 1</td>\n",
       "      <td>non-coding RNA</td>\n",
       "      <td>RNA, long non-coding</td>\n",
       "      <td>Approved</td>\n",
       "      <td>19q13.43</td>\n",
       "      <td>19q13.43</td>\n",
       "      <td>FLJ23569</td>\n",
       "      <td>&lt;NA&gt;</td>\n",
       "      <td>...</td>\n",
       "      <td>&lt;NA&gt;</td>\n",
       "      <td>&lt;NA&gt;</td>\n",
       "      <td>&lt;NA&gt;</td>\n",
       "      <td>&lt;NA&gt;</td>\n",
       "      <td>&lt;NA&gt;</td>\n",
       "      <td>A1BG-AS1</td>\n",
       "      <td>&lt;NA&gt;</td>\n",
       "      <td>HGNC:37133</td>\n",
       "      <td>&lt;NA&gt;</td>\n",
       "      <td>&lt;NA&gt;</td>\n",
       "    </tr>\n",
       "  </tbody>\n",
       "</table>\n",
       "<p>2 rows × 54 columns</p>\n",
       "</div>"
      ],
      "text/plain": [
       "      hgnc_id    symbol                    name          locus_group  \\\n",
       "0      HGNC:5      A1BG  alpha-1-B glycoprotein  protein-coding gene   \n",
       "1  HGNC:37133  A1BG-AS1    A1BG antisense RNA 1       non-coding RNA   \n",
       "\n",
       "                  locus_type    status  location location_sortable  \\\n",
       "0  gene with protein product  Approved  19q13.43          19q13.43   \n",
       "1       RNA, long non-coding  Approved  19q13.43          19q13.43   \n",
       "\n",
       "  alias_symbol alias_name  ...    cd lncrnadb enzyme_id  \\\n",
       "0         <NA>       <NA>  ...  <NA>     <NA>      <NA>   \n",
       "1     FLJ23569       <NA>  ...  <NA>     <NA>      <NA>   \n",
       "\n",
       "  intermediate_filament_db rna_central_ids lncipedia gtrnadb         agr  \\\n",
       "0                     <NA>            <NA>      <NA>    <NA>      HGNC:5   \n",
       "1                     <NA>            <NA>  A1BG-AS1    <NA>  HGNC:37133   \n",
       "\n",
       "                     mane_select gencc  \n",
       "0  ENST00000263100.8|NM_130786.4  <NA>  \n",
       "1                           <NA>  <NA>  \n",
       "\n",
       "[2 rows x 54 columns]"
      ]
     },
     "execution_count": 4,
     "metadata": {},
     "output_type": "execute_result"
    }
   ],
   "source": [
    "hgnc_table = pd.read_csv(\n",
    "    \"../data/raw/hgnc_complete_set.tsv\",\n",
    "      sep='\\t', header=0, dtype='string'\n",
    "      )\n",
    "hgnc_table.head(2)"
   ]
  },
  {
   "cell_type": "code",
   "execution_count": 5,
   "metadata": {},
   "outputs": [
    {
     "data": {
      "text/plain": [
       "Index(['hgnc_id', 'symbol', 'name', 'locus_group', 'locus_type', 'status',\n",
       "       'location', 'location_sortable', 'alias_symbol', 'alias_name',\n",
       "       'prev_symbol', 'prev_name', 'gene_group', 'gene_group_id',\n",
       "       'date_approved_reserved', 'date_symbol_changed', 'date_name_changed',\n",
       "       'date_modified', 'entrez_id', 'ensembl_gene_id', 'vega_id', 'ucsc_id',\n",
       "       'ena', 'refseq_accession', 'ccds_id', 'uniprot_ids', 'pubmed_id',\n",
       "       'mgd_id', 'rgd_id', 'lsdb', 'cosmic', 'omim_id', 'mirbase', 'homeodb',\n",
       "       'snornabase', 'bioparadigms_slc', 'orphanet', 'pseudogene.org',\n",
       "       'horde_id', 'merops', 'imgt', 'iuphar', 'kznf_gene_catalog',\n",
       "       'mamit-trnadb', 'cd', 'lncrnadb', 'enzyme_id',\n",
       "       'intermediate_filament_db', 'rna_central_ids', 'lncipedia', 'gtrnadb',\n",
       "       'agr', 'mane_select', 'gencc'],\n",
       "      dtype='object')"
      ]
     },
     "execution_count": 5,
     "metadata": {},
     "output_type": "execute_result"
    }
   ],
   "source": [
    "hgnc_table.columns"
   ]
  },
  {
   "cell_type": "code",
   "execution_count": 6,
   "metadata": {},
   "outputs": [],
   "source": [
    "# create directories to store data generated throughout this pipeline\n",
    "# each network will have a separated directory\n",
    "networks = ['apid_huri', 'string']\n",
    "parent_dir = '../data/processed/'\n",
    "modules_dir = parent_dir + 'modules/'\n",
    "check_dir(modules_dir)\n",
    "\n",
    "network_dir = parent_dir + 'networks/'\n",
    "directories = {}\n",
    "for net in networks:\n",
    "    graph_dir = network_dir + net + '/' + 'graph/'\n",
    "    check_dir(graph_dir)\n",
    "    directories[net] = graph_dir"
   ]
  },
  {
   "cell_type": "markdown",
   "metadata": {},
   "source": [
    "# Networks"
   ]
  },
  {
   "attachments": {},
   "cell_type": "markdown",
   "metadata": {},
   "source": [
    "## APID-HuRI Network"
   ]
  },
  {
   "cell_type": "markdown",
   "metadata": {},
   "source": [
    "### APID ID Mapping\n",
    "APID provides HGNC symbols, as well as uniprot IDs"
   ]
  },
  {
   "cell_type": "code",
   "execution_count": 7,
   "metadata": {},
   "outputs": [
    {
     "data": {
      "text/html": [
       "<div>\n",
       "<style scoped>\n",
       "    .dataframe tbody tr th:only-of-type {\n",
       "        vertical-align: middle;\n",
       "    }\n",
       "\n",
       "    .dataframe tbody tr th {\n",
       "        vertical-align: top;\n",
       "    }\n",
       "\n",
       "    .dataframe thead th {\n",
       "        text-align: right;\n",
       "    }\n",
       "</style>\n",
       "<table border=\"1\" class=\"dataframe\">\n",
       "  <thead>\n",
       "    <tr style=\"text-align: right;\">\n",
       "      <th></th>\n",
       "      <th>InteractionID</th>\n",
       "      <th>UniprotID_A</th>\n",
       "      <th>UniprotName_A</th>\n",
       "      <th>GeneName_A</th>\n",
       "      <th>UniprotID_B</th>\n",
       "      <th>UniprotName_B</th>\n",
       "      <th>GeneName_B</th>\n",
       "      <th>ExpEvidences</th>\n",
       "      <th>Methods</th>\n",
       "      <th>Publications</th>\n",
       "      <th>3DStructures</th>\n",
       "      <th>CurationEvents</th>\n",
       "    </tr>\n",
       "  </thead>\n",
       "  <tbody>\n",
       "    <tr>\n",
       "      <th>0</th>\n",
       "      <td>1205000</td>\n",
       "      <td>Q14160</td>\n",
       "      <td>SCRIB_HUMAN</td>\n",
       "      <td>SCRIB</td>\n",
       "      <td>B7Z2Y1</td>\n",
       "      <td>B7Z2Y1_HUMAN</td>\n",
       "      <td>&lt;NA&gt;</td>\n",
       "      <td>1</td>\n",
       "      <td>1</td>\n",
       "      <td>1</td>\n",
       "      <td>0</td>\n",
       "      <td>3</td>\n",
       "    </tr>\n",
       "    <tr>\n",
       "      <th>1</th>\n",
       "      <td>1205001</td>\n",
       "      <td>Q14160</td>\n",
       "      <td>SCRIB_HUMAN</td>\n",
       "      <td>SCRIB</td>\n",
       "      <td>Q14155</td>\n",
       "      <td>ARHG7_HUMAN</td>\n",
       "      <td>ARHGEF7</td>\n",
       "      <td>11</td>\n",
       "      <td>8</td>\n",
       "      <td>8</td>\n",
       "      <td>0</td>\n",
       "      <td>20</td>\n",
       "    </tr>\n",
       "  </tbody>\n",
       "</table>\n",
       "</div>"
      ],
      "text/plain": [
       "   InteractionID UniprotID_A UniprotName_A GeneName_A UniprotID_B  \\\n",
       "0        1205000      Q14160   SCRIB_HUMAN      SCRIB      B7Z2Y1   \n",
       "1        1205001      Q14160   SCRIB_HUMAN      SCRIB      Q14155   \n",
       "\n",
       "  UniprotName_B GeneName_B  ExpEvidences  Methods  Publications  3DStructures  \\\n",
       "0  B7Z2Y1_HUMAN       <NA>             1        1             1             0   \n",
       "1   ARHG7_HUMAN    ARHGEF7            11        8             8             0   \n",
       "\n",
       "   CurationEvents  \n",
       "0               3  \n",
       "1              20  "
      ]
     },
     "execution_count": 7,
     "metadata": {},
     "output_type": "execute_result"
    }
   ],
   "source": [
    "apid = pd.read_csv(\n",
    "    \"../data/raw/9606_noISI_Q2.txt\",\n",
    "      sep='\\t', header=0, dtype={'UniprotID_A': 'string', 'UniprotID_B': 'string', 'GeneName_A':'string','GeneName_B':'string'}\n",
    "      )\n",
    "apid.head(2)"
   ]
  },
  {
   "cell_type": "code",
   "execution_count": 8,
   "metadata": {},
   "outputs": [],
   "source": [
    "# all genes in apid\n",
    "genenames = set(list(apid['GeneName_A'].dropna().unique()) + list(apid['GeneName_B'].dropna().unique()))\n",
    "# all genes with approved HGNC symbol\n",
    "hgnc_ids = list(hgnc_table['symbol'].unique())\n",
    "# apid genes not found in hgnc table\n",
    "missing_apid_ids = [protein for protein in genenames if protein not in hgnc_ids]"
   ]
  },
  {
   "cell_type": "code",
   "execution_count": 9,
   "metadata": {},
   "outputs": [
    {
     "name": "stderr",
     "output_type": "stream",
     "text": [
      "  0%|          | 0/751 [00:00<?, ?it/s]"
     ]
    },
    {
     "name": "stderr",
     "output_type": "stream",
     "text": [
      "100%|██████████| 751/751 [00:06<00:00, 119.07it/s]"
     ]
    },
    {
     "name": "stdout",
     "output_type": "stream",
     "text": [
      "105 symbols were not found.\n"
     ]
    },
    {
     "name": "stderr",
     "output_type": "stream",
     "text": [
      "\n"
     ]
    }
   ],
   "source": [
    "resolved_ids, not_found = alias_mapping(missing_apid_ids, hgnc_table)\n",
    "print(f'{len(not_found)} symbols were not found.' )"
   ]
  },
  {
   "cell_type": "code",
   "execution_count": 10,
   "metadata": {},
   "outputs": [],
   "source": [
    "# Extract Uniprot IDs\n",
    "a = apid[['GeneName_A', 'UniprotID_A']].rename(columns={'GeneName_A': 'GeneName', 'UniprotID_A': 'UniprotID'})\n",
    "b = apid[['GeneName_B', 'UniprotID_B']].rename(columns={'GeneName_B': 'GeneName', 'UniprotID_B': 'UniprotID'})\n",
    "uniprot_ids = pd.concat([a, b]).drop_duplicates()\n",
    "not_found_uniprot_ids = uniprot_ids.loc[uniprot_ids.GeneName.isin(not_found)].to_dict('records')"
   ]
  },
  {
   "cell_type": "code",
   "execution_count": 11,
   "metadata": {},
   "outputs": [
    {
     "name": "stderr",
     "output_type": "stream",
     "text": [
      "100%|██████████| 108/108 [00:00<00:00, 203.60it/s]"
     ]
    },
    {
     "name": "stdout",
     "output_type": "stream",
     "text": [
      "104 symbols were not found.\n"
     ]
    },
    {
     "name": "stderr",
     "output_type": "stream",
     "text": [
      "\n"
     ]
    }
   ],
   "source": [
    "# search in Uniprot IDs for missing symbols\n",
    "remaining = []\n",
    "for protein in tqdm(not_found_uniprot_ids):\n",
    "\n",
    "    new_symbol = hgnc_table.loc[hgnc_table['uniprot_ids'].str.contains(protein['UniprotID']), 'symbol'].values\n",
    "    if len(new_symbol) > 0:\n",
    "        resolved_ids[protein['GeneName']] = new_symbol[0]\n",
    "        \n",
    "    else:\n",
    "        remaining.append(protein['GeneName'])\n",
    "        \n",
    "print(f'{len(remaining)} symbols were not found.' )"
   ]
  },
  {
   "cell_type": "code",
   "execution_count": 12,
   "metadata": {},
   "outputs": [],
   "source": [
    "# replace alternative IDs with Approved IDs\n",
    "apid_graph = apid[['GeneName_A', 'GeneName_B']].replace(resolved_ids).dropna(how='any')"
   ]
  },
  {
   "cell_type": "code",
   "execution_count": 10,
   "metadata": {},
   "outputs": [
    {
     "data": {
      "text/html": [
       "<div>\n",
       "<style scoped>\n",
       "    .dataframe tbody tr th:only-of-type {\n",
       "        vertical-align: middle;\n",
       "    }\n",
       "\n",
       "    .dataframe tbody tr th {\n",
       "        vertical-align: top;\n",
       "    }\n",
       "\n",
       "    .dataframe thead th {\n",
       "        text-align: right;\n",
       "    }\n",
       "</style>\n",
       "<table border=\"1\" class=\"dataframe\">\n",
       "  <thead>\n",
       "    <tr style=\"text-align: right;\">\n",
       "      <th></th>\n",
       "      <th>protein_A</th>\n",
       "      <th>protein_B</th>\n",
       "    </tr>\n",
       "  </thead>\n",
       "  <tbody>\n",
       "    <tr>\n",
       "      <th>1</th>\n",
       "      <td>SCRIB</td>\n",
       "      <td>ARHGEF7</td>\n",
       "    </tr>\n",
       "    <tr>\n",
       "      <th>2</th>\n",
       "      <td>SCRIB</td>\n",
       "      <td>NET1</td>\n",
       "    </tr>\n",
       "  </tbody>\n",
       "</table>\n",
       "</div>"
      ],
      "text/plain": [
       "  protein_A protein_B\n",
       "1     SCRIB   ARHGEF7\n",
       "2     SCRIB      NET1"
      ]
     },
     "execution_count": 10,
     "metadata": {},
     "output_type": "execute_result"
    }
   ],
   "source": [
    "# remove IDs that could not be converted\n",
    "apid_graph = apid_graph[\n",
    "    ~apid_graph['GeneName_A'].isin(remaining)&\n",
    "    ~apid_graph['GeneName_B'].isin(remaining)\n",
    "    ].rename(columns={'GeneName_A': 'protein_A', 'GeneName_B': 'protein_B'})\n",
    "\n",
    "apid_graph.head(2)"
   ]
  },
  {
   "attachments": {},
   "cell_type": "markdown",
   "metadata": {},
   "source": [
    "### HuRI ID Conversion\n",
    "HuRI provides only Ensembl gene IDs."
   ]
  },
  {
   "cell_type": "code",
   "execution_count": 11,
   "metadata": {},
   "outputs": [
    {
     "name": "stdout",
     "output_type": "stream",
     "text": [
      "52548\n"
     ]
    },
    {
     "data": {
      "text/html": [
       "<div>\n",
       "<style scoped>\n",
       "    .dataframe tbody tr th:only-of-type {\n",
       "        vertical-align: middle;\n",
       "    }\n",
       "\n",
       "    .dataframe tbody tr th {\n",
       "        vertical-align: top;\n",
       "    }\n",
       "\n",
       "    .dataframe thead th {\n",
       "        text-align: right;\n",
       "    }\n",
       "</style>\n",
       "<table border=\"1\" class=\"dataframe\">\n",
       "  <thead>\n",
       "    <tr style=\"text-align: right;\">\n",
       "      <th></th>\n",
       "      <th>ENSG_A</th>\n",
       "      <th>ENSG_B</th>\n",
       "    </tr>\n",
       "  </thead>\n",
       "  <tbody>\n",
       "    <tr>\n",
       "      <th>0</th>\n",
       "      <td>ENSG00000000005</td>\n",
       "      <td>ENSG00000061656</td>\n",
       "    </tr>\n",
       "    <tr>\n",
       "      <th>1</th>\n",
       "      <td>ENSG00000000005</td>\n",
       "      <td>ENSG00000099968</td>\n",
       "    </tr>\n",
       "  </tbody>\n",
       "</table>\n",
       "</div>"
      ],
      "text/plain": [
       "            ENSG_A           ENSG_B\n",
       "0  ENSG00000000005  ENSG00000061656\n",
       "1  ENSG00000000005  ENSG00000099968"
      ]
     },
     "execution_count": 11,
     "metadata": {},
     "output_type": "execute_result"
    }
   ],
   "source": [
    "huri = pd.read_csv(\"../../data/raw/HuRI.tsv\", sep='\\t',header=None, names=['ENSG_A', 'ENSG_B'])\n",
    "print(huri.shape[0])\n",
    "huri.head(2)"
   ]
  },
  {
   "cell_type": "code",
   "execution_count": 12,
   "metadata": {},
   "outputs": [],
   "source": [
    "# merge HuRI with the HGNC table using Ensembl IDs as keys\n",
    "huri_hgnc = pd.merge(\n",
    "    huri, \n",
    "    hgnc_table[['ensembl_gene_id', 'symbol']].set_index('ensembl_gene_id'),\n",
    "    how='left',\n",
    "    left_on='ENSG_A',\n",
    "    right_on='ensembl_gene_id'\n",
    "    )\n",
    "huri_hgnc = pd.merge(\n",
    "    huri_hgnc, \n",
    "    hgnc_table[['ensembl_gene_id', 'symbol']].set_index('ensembl_gene_id'),\n",
    "    how='left',\n",
    "    left_on='ENSG_B',\n",
    "    right_on='ensembl_gene_id',\n",
    "    suffixes=['_A', '_B']\n",
    "    )\n",
    "\n",
    "huri_hgnc.rename(columns={'symbol_A': 'protein_A', 'symbol_B': 'protein_B'}, inplace=True)"
   ]
  },
  {
   "cell_type": "code",
   "execution_count": 13,
   "metadata": {},
   "outputs": [
    {
     "data": {
      "text/html": [
       "<div>\n",
       "<style scoped>\n",
       "    .dataframe tbody tr th:only-of-type {\n",
       "        vertical-align: middle;\n",
       "    }\n",
       "\n",
       "    .dataframe tbody tr th {\n",
       "        vertical-align: top;\n",
       "    }\n",
       "\n",
       "    .dataframe thead th {\n",
       "        text-align: right;\n",
       "    }\n",
       "</style>\n",
       "<table border=\"1\" class=\"dataframe\">\n",
       "  <thead>\n",
       "    <tr style=\"text-align: right;\">\n",
       "      <th></th>\n",
       "      <th>protein_A</th>\n",
       "      <th>protein_B</th>\n",
       "    </tr>\n",
       "  </thead>\n",
       "  <tbody>\n",
       "    <tr>\n",
       "      <th>0</th>\n",
       "      <td>TNMD</td>\n",
       "      <td>SPAG4</td>\n",
       "    </tr>\n",
       "    <tr>\n",
       "      <th>1</th>\n",
       "      <td>TNMD</td>\n",
       "      <td>BCL2L13</td>\n",
       "    </tr>\n",
       "  </tbody>\n",
       "</table>\n",
       "</div>"
      ],
      "text/plain": [
       "  protein_A protein_B\n",
       "0      TNMD     SPAG4\n",
       "1      TNMD   BCL2L13"
      ]
     },
     "execution_count": 13,
     "metadata": {},
     "output_type": "execute_result"
    }
   ],
   "source": [
    "huri_graph = huri_hgnc[['protein_A', 'protein_B']].dropna()\n",
    "huri_graph.head(2)"
   ]
  },
  {
   "cell_type": "markdown",
   "metadata": {},
   "source": [
    "### APID & HuRI Graph\n",
    "We merged the APID and HuRI graphs into a single APID-HuRI graph, which will be used throughout this work."
   ]
  },
  {
   "cell_type": "code",
   "execution_count": 14,
   "metadata": {},
   "outputs": [
    {
     "name": "stdout",
     "output_type": "stream",
     "text": [
      "# of interactions (APID graph): 263595\n",
      "# of interactions (HuRI graph): 52225\n",
      "# of interactions (APID-HuRI graph): 282394\n"
     ]
    }
   ],
   "source": [
    "print('# of interactions (APID graph):', apid_graph.shape[0])\n",
    "print('# of interactions (HuRI graph):', huri_graph.shape[0])\n",
    "apid_huri = pd.concat([apid_graph, huri_graph]).drop_duplicates()\n",
    "print('# of interactions (APID-HuRI graph):', apid_huri.shape[0])"
   ]
  },
  {
   "cell_type": "code",
   "execution_count": 15,
   "metadata": {},
   "outputs": [
    {
     "name": "stdout",
     "output_type": "stream",
     "text": [
      "282394\n",
      "260627\n"
     ]
    }
   ],
   "source": [
    "apid_huri_graph = Graph.DataFrame(apid_huri, use_vids=False, directed=False)\n",
    "print(apid_huri_graph.ecount())\n",
    "apid_huri_graph = apid_huri_graph.simplify()\n",
    "print(apid_huri_graph.ecount())"
   ]
  },
  {
   "cell_type": "code",
   "execution_count": 16,
   "metadata": {},
   "outputs": [
    {
     "name": "stdout",
     "output_type": "stream",
     "text": [
      "True\n",
      "260624\n"
     ]
    }
   ],
   "source": [
    "if not apid_huri_graph.is_connected():\n",
    "    apid_huri_graph = apid_huri_graph.subgraph(apid_huri_graph.components()[0])\n",
    "\n",
    "print(apid_huri_graph.is_connected())\n",
    "print(apid_huri_graph.ecount())"
   ]
  },
  {
   "cell_type": "code",
   "execution_count": 201,
   "metadata": {},
   "outputs": [],
   "source": [
    "apid_huri.to_csv(directories['apid_huri'] + 'graph.csv', index=False)\n",
    "apid_huri_graph.write_gml(directories['apid_huri'] + \"graph.gml\")"
   ]
  },
  {
   "cell_type": "code",
   "execution_count": 202,
   "metadata": {},
   "outputs": [],
   "source": [
    "apid_huri_adj_matrix = apid_huri_graph.get_adjacency()\n",
    "apid_huri_adj_matrix = np.array(apid_huri_adj_matrix.data)\n",
    "np.save(directories['apid_huri'] + 'adjacency_matrix.npy', apid_huri_adj_matrix, allow_pickle=True, fix_imports=True)"
   ]
  },
  {
   "cell_type": "markdown",
   "metadata": {},
   "source": [
    "## STRING Network\n",
    "We evaluated two different STRING networks: one containing all types of interactions and other containing only physical interactions. We used the provided combined score to filter interactions by relevance."
   ]
  },
  {
   "cell_type": "markdown",
   "metadata": {},
   "source": [
    "### STRING ID mapping"
   ]
  },
  {
   "cell_type": "code",
   "execution_count": 78,
   "metadata": {},
   "outputs": [
    {
     "name": "stdout",
     "output_type": "stream",
     "text": [
      "11938498\n"
     ]
    },
    {
     "data": {
      "text/html": [
       "<div>\n",
       "<style scoped>\n",
       "    .dataframe tbody tr th:only-of-type {\n",
       "        vertical-align: middle;\n",
       "    }\n",
       "\n",
       "    .dataframe tbody tr th {\n",
       "        vertical-align: top;\n",
       "    }\n",
       "\n",
       "    .dataframe thead th {\n",
       "        text-align: right;\n",
       "    }\n",
       "</style>\n",
       "<table border=\"1\" class=\"dataframe\">\n",
       "  <thead>\n",
       "    <tr style=\"text-align: right;\">\n",
       "      <th></th>\n",
       "      <th>protein1</th>\n",
       "      <th>protein2</th>\n",
       "      <th>combined_score</th>\n",
       "    </tr>\n",
       "  </thead>\n",
       "  <tbody>\n",
       "    <tr>\n",
       "      <th>0</th>\n",
       "      <td>9606.ENSP00000000233</td>\n",
       "      <td>9606.ENSP00000379496</td>\n",
       "      <td>155</td>\n",
       "    </tr>\n",
       "    <tr>\n",
       "      <th>1</th>\n",
       "      <td>9606.ENSP00000000233</td>\n",
       "      <td>9606.ENSP00000314067</td>\n",
       "      <td>197</td>\n",
       "    </tr>\n",
       "  </tbody>\n",
       "</table>\n",
       "</div>"
      ],
      "text/plain": [
       "               protein1              protein2  combined_score\n",
       "0  9606.ENSP00000000233  9606.ENSP00000379496             155\n",
       "1  9606.ENSP00000000233  9606.ENSP00000314067             197"
      ]
     },
     "metadata": {},
     "output_type": "display_data"
    },
    {
     "name": "stdout",
     "output_type": "stream",
     "text": [
      "1991832\n"
     ]
    },
    {
     "data": {
      "text/html": [
       "<div>\n",
       "<style scoped>\n",
       "    .dataframe tbody tr th:only-of-type {\n",
       "        vertical-align: middle;\n",
       "    }\n",
       "\n",
       "    .dataframe tbody tr th {\n",
       "        vertical-align: top;\n",
       "    }\n",
       "\n",
       "    .dataframe thead th {\n",
       "        text-align: right;\n",
       "    }\n",
       "</style>\n",
       "<table border=\"1\" class=\"dataframe\">\n",
       "  <thead>\n",
       "    <tr style=\"text-align: right;\">\n",
       "      <th></th>\n",
       "      <th>protein1</th>\n",
       "      <th>protein2</th>\n",
       "      <th>combined_score</th>\n",
       "    </tr>\n",
       "  </thead>\n",
       "  <tbody>\n",
       "    <tr>\n",
       "      <th>0</th>\n",
       "      <td>9606.ENSP00000000233</td>\n",
       "      <td>9606.ENSP00000264718</td>\n",
       "      <td>156</td>\n",
       "    </tr>\n",
       "    <tr>\n",
       "      <th>1</th>\n",
       "      <td>9606.ENSP00000000233</td>\n",
       "      <td>9606.ENSP00000346046</td>\n",
       "      <td>177</td>\n",
       "    </tr>\n",
       "  </tbody>\n",
       "</table>\n",
       "</div>"
      ],
      "text/plain": [
       "               protein1              protein2  combined_score\n",
       "0  9606.ENSP00000000233  9606.ENSP00000264718             156\n",
       "1  9606.ENSP00000000233  9606.ENSP00000346046             177"
      ]
     },
     "execution_count": 78,
     "metadata": {},
     "output_type": "execute_result"
    }
   ],
   "source": [
    "string_ppi = pd.read_csv('../../data/raw/9606.protein.links.v11.5.txt', sep=' ')\n",
    "print(string_ppi.shape[0])\n",
    "display(string_ppi.head(2))\n",
    "\n",
    "string_phys_ppi = pd.read_csv('../../data/raw/9606.protein.physical.links.v11.5.txt', sep=' ')\n",
    "print(string_phys_ppi.shape[0])\n",
    "string_phys_ppi.head(2)\n"
   ]
  },
  {
   "cell_type": "code",
   "execution_count": 79,
   "metadata": {},
   "outputs": [
    {
     "data": {
      "text/html": [
       "<div>\n",
       "<style scoped>\n",
       "    .dataframe tbody tr th:only-of-type {\n",
       "        vertical-align: middle;\n",
       "    }\n",
       "\n",
       "    .dataframe tbody tr th {\n",
       "        vertical-align: top;\n",
       "    }\n",
       "\n",
       "    .dataframe thead th {\n",
       "        text-align: right;\n",
       "    }\n",
       "</style>\n",
       "<table border=\"1\" class=\"dataframe\">\n",
       "  <thead>\n",
       "    <tr style=\"text-align: right;\">\n",
       "      <th></th>\n",
       "      <th>#string_protein_id</th>\n",
       "      <th>alias</th>\n",
       "      <th>source</th>\n",
       "    </tr>\n",
       "  </thead>\n",
       "  <tbody>\n",
       "    <tr>\n",
       "      <th>0</th>\n",
       "      <td>9606.ENSP00000000233</td>\n",
       "      <td>2B6H</td>\n",
       "      <td>BLAST_UniProt_DR_PDB</td>\n",
       "    </tr>\n",
       "    <tr>\n",
       "      <th>1</th>\n",
       "      <td>9606.ENSP00000000233</td>\n",
       "      <td>2B6H</td>\n",
       "      <td>Ensembl_HGNC_UniProt_ID(supplied_by_UniProt)_D...</td>\n",
       "    </tr>\n",
       "  </tbody>\n",
       "</table>\n",
       "</div>"
      ],
      "text/plain": [
       "     #string_protein_id alias  \\\n",
       "0  9606.ENSP00000000233  2B6H   \n",
       "1  9606.ENSP00000000233  2B6H   \n",
       "\n",
       "                                              source  \n",
       "0                               BLAST_UniProt_DR_PDB  \n",
       "1  Ensembl_HGNC_UniProt_ID(supplied_by_UniProt)_D...  "
      ]
     },
     "metadata": {},
     "output_type": "display_data"
    }
   ],
   "source": [
    "# STRING provides an ID mapping table between Ensembl protein IDs and HGNC gene symbols\n",
    "string_aliases = pd.read_csv('../../data/raw/9606.protein.aliases.v11.5.txt', sep='\\t')\n",
    "display(string_aliases.head(2))"
   ]
  },
  {
   "cell_type": "code",
   "execution_count": 80,
   "metadata": {},
   "outputs": [
    {
     "name": "stdout",
     "output_type": "stream",
     "text": [
      "19142\n"
     ]
    },
    {
     "data": {
      "text/html": [
       "<div>\n",
       "<style scoped>\n",
       "    .dataframe tbody tr th:only-of-type {\n",
       "        vertical-align: middle;\n",
       "    }\n",
       "\n",
       "    .dataframe tbody tr th {\n",
       "        vertical-align: top;\n",
       "    }\n",
       "\n",
       "    .dataframe thead th {\n",
       "        text-align: right;\n",
       "    }\n",
       "</style>\n",
       "<table border=\"1\" class=\"dataframe\">\n",
       "  <thead>\n",
       "    <tr style=\"text-align: right;\">\n",
       "      <th></th>\n",
       "      <th>#string_protein_id</th>\n",
       "      <th>alias</th>\n",
       "    </tr>\n",
       "  </thead>\n",
       "  <tbody>\n",
       "    <tr>\n",
       "      <th>32</th>\n",
       "      <td>9606.ENSP00000000233</td>\n",
       "      <td>ARF5</td>\n",
       "    </tr>\n",
       "    <tr>\n",
       "      <th>244</th>\n",
       "      <td>9606.ENSP00000000412</td>\n",
       "      <td>M6PR</td>\n",
       "    </tr>\n",
       "  </tbody>\n",
       "</table>\n",
       "</div>"
      ],
      "text/plain": [
       "       #string_protein_id alias\n",
       "32   9606.ENSP00000000233  ARF5\n",
       "244  9606.ENSP00000000412  M6PR"
      ]
     },
     "execution_count": 80,
     "metadata": {},
     "output_type": "execute_result"
    }
   ],
   "source": [
    "# we want HGNC gene symbols\n",
    "string_aliases_hgnc = string_aliases.loc[string_aliases['source']=='Ensembl_HGNC', ['#string_protein_id', 'alias']].drop_duplicates()\n",
    "print(string_aliases_hgnc.shape[0])\n",
    "string_aliases_hgnc.head(2)"
   ]
  },
  {
   "cell_type": "code",
   "execution_count": 81,
   "metadata": {},
   "outputs": [],
   "source": [
    "not_in_hgnc = string_aliases_hgnc.loc[~string_aliases_hgnc['alias'].isin(hgnc_table['symbol'].to_list()), 'alias'].to_list()"
   ]
  },
  {
   "cell_type": "code",
   "execution_count": 82,
   "metadata": {},
   "outputs": [
    {
     "name": "stderr",
     "output_type": "stream",
     "text": [
      "  0%|          | 0/1194 [00:00<?, ?it/s]"
     ]
    },
    {
     "name": "stderr",
     "output_type": "stream",
     "text": [
      "100%|██████████| 1194/1194 [00:18<00:00, 63.94it/s]"
     ]
    },
    {
     "name": "stdout",
     "output_type": "stream",
     "text": [
      "14\n"
     ]
    },
    {
     "name": "stderr",
     "output_type": "stream",
     "text": [
      "\n"
     ]
    }
   ],
   "source": [
    "alias, not_found = alias_mapping(not_in_hgnc, hgnc_table)\n",
    "print(len(not_found))"
   ]
  },
  {
   "cell_type": "code",
   "execution_count": 83,
   "metadata": {},
   "outputs": [
    {
     "data": {
      "text/plain": [
       "19128"
      ]
     },
     "execution_count": 83,
     "metadata": {},
     "output_type": "execute_result"
    }
   ],
   "source": [
    "# convert mapped alias\n",
    "string_hgnc = string_aliases_hgnc.replace(alias)\n",
    "string_hgnc = string_hgnc[~string_hgnc['alias'].isin(not_found)]\n",
    "string_hgnc.shape[0]"
   ]
  },
  {
   "cell_type": "code",
   "execution_count": 84,
   "metadata": {},
   "outputs": [
    {
     "name": "stdout",
     "output_type": "stream",
     "text": [
      "8\n",
      "19111\n"
     ]
    },
    {
     "data": {
      "text/plain": [
       "array(['9606.ENSP00000451768', '9606.ENSP00000469970',\n",
       "       '9606.ENSP00000471017', '9606.ENSP00000472749',\n",
       "       '9606.ENSP00000475814', '9606.ENSP00000478426',\n",
       "       '9606.ENSP00000481184', '9606.ENSP00000481824'], dtype=object)"
      ]
     },
     "execution_count": 84,
     "metadata": {},
     "output_type": "execute_result"
    }
   ],
   "source": [
    "# String IDs with more than one HGNC symbol\n",
    "duplicates = string_hgnc.loc[string_hgnc['#string_protein_id'].duplicated(), '#string_protein_id'].unique()\n",
    "print(len(duplicates))\n",
    "\n",
    "# remove duplicates\n",
    "string_hgnc = string_hgnc.drop_duplicates(subset='#string_protein_id', keep=False)\n",
    "print(string_hgnc.shape[0])\n",
    "duplicates"
   ]
  },
  {
   "cell_type": "code",
   "execution_count": 85,
   "metadata": {},
   "outputs": [
    {
     "data": {
      "text/plain": [
       "{'9606.ENSP00000451768': 'ENST00000595065',\n",
       " '9606.ENSP00000469970': 'ENST00000611660',\n",
       " '9606.ENSP00000471017': 'ENST00000616101',\n",
       " '9606.ENSP00000475814': 'ENST00000619721',\n",
       " '9606.ENSP00000478426': 'ENST00000598087',\n",
       " '9606.ENSP00000481184': 'ENST00000607355',\n",
       " '9606.ENSP00000481824': 'ENST00000599405'}"
      ]
     },
     "execution_count": 85,
     "metadata": {},
     "output_type": "execute_result"
    }
   ],
   "source": [
    "# STRING IDs are protein ensembl IDs\n",
    "# The HGNC only has Ensembl gene IDs\n",
    "# We will retrieve gene ID information from ensembl \n",
    " \n",
    "server = \"https://rest.ensembl.org\"\n",
    "ext = \"/lookup/id\"\n",
    "headers={ \"Content-Type\" : \"application/json\", \"Accept\" : \"application/json\"}\n",
    "\n",
    "ensembl = [gene.split('.')[1] for gene in duplicates]\n",
    "\n",
    "r = requests.post(server+ext, headers=headers, json={'ids': ensembl})\n",
    "if not r.ok:\n",
    "    r.raise_for_status()\n",
    "    sys.exit()\n",
    "\n",
    "decoded = r.json()\n",
    "\n",
    "# The first query returned transcript symbols\n",
    "transcripts = {}\n",
    "not_found = []\n",
    "for k, i in zip(decoded, duplicates):\n",
    "    if decoded[k]:\n",
    "        transcripts[i] = decoded[k]['Parent']\n",
    "    else:\n",
    "        not_found.append(i)\n",
    "\n",
    "transcripts"
   ]
  },
  {
   "cell_type": "code",
   "execution_count": 86,
   "metadata": {},
   "outputs": [
    {
     "data": {
      "text/html": [
       "<div>\n",
       "<style scoped>\n",
       "    .dataframe tbody tr th:only-of-type {\n",
       "        vertical-align: middle;\n",
       "    }\n",
       "\n",
       "    .dataframe tbody tr th {\n",
       "        vertical-align: top;\n",
       "    }\n",
       "\n",
       "    .dataframe thead th {\n",
       "        text-align: right;\n",
       "    }\n",
       "</style>\n",
       "<table border=\"1\" class=\"dataframe\">\n",
       "  <thead>\n",
       "    <tr style=\"text-align: right;\">\n",
       "      <th></th>\n",
       "      <th>#string_protein_id</th>\n",
       "      <th>alias</th>\n",
       "    </tr>\n",
       "  </thead>\n",
       "  <tbody>\n",
       "    <tr>\n",
       "      <th>0</th>\n",
       "      <td>9606.ENSP00000451768</td>\n",
       "      <td>MFRP</td>\n",
       "    </tr>\n",
       "    <tr>\n",
       "      <th>1</th>\n",
       "      <td>9606.ENSP00000469970</td>\n",
       "      <td>TMSB15C</td>\n",
       "    </tr>\n",
       "    <tr>\n",
       "      <th>2</th>\n",
       "      <td>9606.ENSP00000471017</td>\n",
       "      <td>H2AC19</td>\n",
       "    </tr>\n",
       "    <tr>\n",
       "      <th>3</th>\n",
       "      <td>9606.ENSP00000475814</td>\n",
       "      <td>TBC1D3D</td>\n",
       "    </tr>\n",
       "    <tr>\n",
       "      <th>4</th>\n",
       "      <td>9606.ENSP00000478426</td>\n",
       "      <td>MAGEA9B</td>\n",
       "    </tr>\n",
       "    <tr>\n",
       "      <th>5</th>\n",
       "      <td>9606.ENSP00000481184</td>\n",
       "      <td>CT45A8</td>\n",
       "    </tr>\n",
       "    <tr>\n",
       "      <th>6</th>\n",
       "      <td>9606.ENSP00000481824</td>\n",
       "      <td>OPN1MW3</td>\n",
       "    </tr>\n",
       "  </tbody>\n",
       "</table>\n",
       "</div>"
      ],
      "text/plain": [
       "     #string_protein_id    alias\n",
       "0  9606.ENSP00000451768     MFRP\n",
       "1  9606.ENSP00000469970  TMSB15C\n",
       "2  9606.ENSP00000471017   H2AC19\n",
       "3  9606.ENSP00000475814  TBC1D3D\n",
       "4  9606.ENSP00000478426  MAGEA9B\n",
       "5  9606.ENSP00000481184   CT45A8\n",
       "6  9606.ENSP00000481824  OPN1MW3"
      ]
     },
     "execution_count": 86,
     "metadata": {},
     "output_type": "execute_result"
    }
   ],
   "source": [
    "# The second query will return gene symbols\n",
    "r = requests.post(server+ext, headers=headers, json={'ids': list(transcripts.values())})\n",
    "if not r.ok:\n",
    "    r.raise_for_status()\n",
    "    sys.exit()\n",
    "\n",
    "decoded = r.json()\n",
    "\n",
    "genes = []\n",
    "for k, i in zip(decoded, transcripts.keys()):\n",
    "    if decoded[k]:\n",
    "        genes.append((i, decoded[k]['Parent']))\n",
    "\n",
    "genes = pd.DataFrame(genes, columns=['#string_protein_id', 'ensembl_gene_id'])\n",
    "genes = pd.merge(genes, hgnc_table)[['#string_protein_id', 'symbol']].rename(columns={'symbol': 'alias'})\n",
    "genes"
   ]
  },
  {
   "cell_type": "code",
   "execution_count": 87,
   "metadata": {},
   "outputs": [
    {
     "name": "stdout",
     "output_type": "stream",
     "text": [
      "19111\n",
      "19118\n"
     ]
    }
   ],
   "source": [
    "# add symbols to the string-hgnc mapping table\n",
    "print(string_hgnc.shape[0])\n",
    "string_hgnc = pd.concat([string_hgnc, genes])\n",
    "print(string_hgnc.shape[0])"
   ]
  },
  {
   "cell_type": "code",
   "execution_count": 88,
   "metadata": {},
   "outputs": [
    {
     "name": "stdout",
     "output_type": "stream",
     "text": [
      "11938498\n",
      "11740334\n"
     ]
    },
    {
     "data": {
      "text/html": [
       "<div>\n",
       "<style scoped>\n",
       "    .dataframe tbody tr th:only-of-type {\n",
       "        vertical-align: middle;\n",
       "    }\n",
       "\n",
       "    .dataframe tbody tr th {\n",
       "        vertical-align: top;\n",
       "    }\n",
       "\n",
       "    .dataframe thead th {\n",
       "        text-align: right;\n",
       "    }\n",
       "</style>\n",
       "<table border=\"1\" class=\"dataframe\">\n",
       "  <thead>\n",
       "    <tr style=\"text-align: right;\">\n",
       "      <th></th>\n",
       "      <th>protein1</th>\n",
       "      <th>protein2</th>\n",
       "      <th>combined_score</th>\n",
       "      <th>#string_protein_id_x</th>\n",
       "      <th>protein_A</th>\n",
       "      <th>#string_protein_id_y</th>\n",
       "      <th>protein_B</th>\n",
       "    </tr>\n",
       "  </thead>\n",
       "  <tbody>\n",
       "    <tr>\n",
       "      <th>0</th>\n",
       "      <td>9606.ENSP00000000233</td>\n",
       "      <td>9606.ENSP00000379496</td>\n",
       "      <td>155</td>\n",
       "      <td>9606.ENSP00000000233</td>\n",
       "      <td>ARF5</td>\n",
       "      <td>9606.ENSP00000379496</td>\n",
       "      <td>PDE1C</td>\n",
       "    </tr>\n",
       "    <tr>\n",
       "      <th>1</th>\n",
       "      <td>9606.ENSP00000013807</td>\n",
       "      <td>9606.ENSP00000379496</td>\n",
       "      <td>255</td>\n",
       "      <td>9606.ENSP00000013807</td>\n",
       "      <td>ERCC1</td>\n",
       "      <td>9606.ENSP00000379496</td>\n",
       "      <td>PDE1C</td>\n",
       "    </tr>\n",
       "  </tbody>\n",
       "</table>\n",
       "</div>"
      ],
      "text/plain": [
       "               protein1              protein2  combined_score  \\\n",
       "0  9606.ENSP00000000233  9606.ENSP00000379496             155   \n",
       "1  9606.ENSP00000013807  9606.ENSP00000379496             255   \n",
       "\n",
       "   #string_protein_id_x protein_A  #string_protein_id_y protein_B  \n",
       "0  9606.ENSP00000000233      ARF5  9606.ENSP00000379496     PDE1C  \n",
       "1  9606.ENSP00000013807     ERCC1  9606.ENSP00000379496     PDE1C  "
      ]
     },
     "execution_count": 88,
     "metadata": {},
     "output_type": "execute_result"
    }
   ],
   "source": [
    "# full network\n",
    "string_full = pd.merge(\n",
    "    string_ppi, string_hgnc, left_on='protein1', right_on='#string_protein_id', how='inner'\n",
    ").rename(columns={'alias': 'protein_A'})\n",
    "\n",
    "string_full = pd.merge(\n",
    "    string_full, string_hgnc, left_on='protein2', right_on='#string_protein_id', how='inner'\n",
    ").rename(columns={'alias': 'protein_B'})\n",
    "\n",
    "print(string_ppi.shape[0])\n",
    "print(string_full.shape[0])\n",
    "string_full.head(2)"
   ]
  },
  {
   "cell_type": "code",
   "execution_count": 89,
   "metadata": {},
   "outputs": [
    {
     "name": "stdout",
     "output_type": "stream",
     "text": [
      "1991832\n",
      "1951474\n"
     ]
    },
    {
     "data": {
      "text/html": [
       "<div>\n",
       "<style scoped>\n",
       "    .dataframe tbody tr th:only-of-type {\n",
       "        vertical-align: middle;\n",
       "    }\n",
       "\n",
       "    .dataframe tbody tr th {\n",
       "        vertical-align: top;\n",
       "    }\n",
       "\n",
       "    .dataframe thead th {\n",
       "        text-align: right;\n",
       "    }\n",
       "</style>\n",
       "<table border=\"1\" class=\"dataframe\">\n",
       "  <thead>\n",
       "    <tr style=\"text-align: right;\">\n",
       "      <th></th>\n",
       "      <th>protein1</th>\n",
       "      <th>protein2</th>\n",
       "      <th>combined_score</th>\n",
       "      <th>#string_protein_id_x</th>\n",
       "      <th>protein_A</th>\n",
       "      <th>#string_protein_id_y</th>\n",
       "      <th>protein_B</th>\n",
       "    </tr>\n",
       "  </thead>\n",
       "  <tbody>\n",
       "    <tr>\n",
       "      <th>0</th>\n",
       "      <td>9606.ENSP00000000233</td>\n",
       "      <td>9606.ENSP00000264718</td>\n",
       "      <td>156</td>\n",
       "      <td>9606.ENSP00000000233</td>\n",
       "      <td>ARF5</td>\n",
       "      <td>9606.ENSP00000264718</td>\n",
       "      <td>GPN1</td>\n",
       "    </tr>\n",
       "    <tr>\n",
       "      <th>1</th>\n",
       "      <td>9606.ENSP00000005257</td>\n",
       "      <td>9606.ENSP00000264718</td>\n",
       "      <td>156</td>\n",
       "      <td>9606.ENSP00000005257</td>\n",
       "      <td>RALA</td>\n",
       "      <td>9606.ENSP00000264718</td>\n",
       "      <td>GPN1</td>\n",
       "    </tr>\n",
       "  </tbody>\n",
       "</table>\n",
       "</div>"
      ],
      "text/plain": [
       "               protein1              protein2  combined_score  \\\n",
       "0  9606.ENSP00000000233  9606.ENSP00000264718             156   \n",
       "1  9606.ENSP00000005257  9606.ENSP00000264718             156   \n",
       "\n",
       "   #string_protein_id_x protein_A  #string_protein_id_y protein_B  \n",
       "0  9606.ENSP00000000233      ARF5  9606.ENSP00000264718      GPN1  \n",
       "1  9606.ENSP00000005257      RALA  9606.ENSP00000264718      GPN1  "
      ]
     },
     "execution_count": 89,
     "metadata": {},
     "output_type": "execute_result"
    }
   ],
   "source": [
    "# physical PPI network\n",
    "string_phys = pd.merge(\n",
    "    string_phys_ppi, string_hgnc, left_on='protein1', right_on='#string_protein_id', how='inner'\n",
    ").rename(columns={'alias':'protein_A'})\n",
    "\n",
    "string_phys = pd.merge(\n",
    "    string_phys, string_hgnc, left_on='protein2', right_on='#string_protein_id', how='inner'\n",
    ").rename(columns={'alias':'protein_B'})\n",
    "\n",
    "print(string_phys_ppi.shape[0])\n",
    "print(string_phys.shape[0])\n",
    "string_phys.head(2)"
   ]
  },
  {
   "cell_type": "markdown",
   "metadata": {},
   "source": [
    "### STRING Graph"
   ]
  },
  {
   "cell_type": "code",
   "execution_count": 90,
   "metadata": {},
   "outputs": [
    {
     "data": {
      "text/html": [
       "<div>\n",
       "<style scoped>\n",
       "    .dataframe tbody tr th:only-of-type {\n",
       "        vertical-align: middle;\n",
       "    }\n",
       "\n",
       "    .dataframe tbody tr th {\n",
       "        vertical-align: top;\n",
       "    }\n",
       "\n",
       "    .dataframe thead th {\n",
       "        text-align: right;\n",
       "    }\n",
       "</style>\n",
       "<table border=\"1\" class=\"dataframe\">\n",
       "  <thead>\n",
       "    <tr style=\"text-align: right;\">\n",
       "      <th></th>\n",
       "      <th>filter</th>\n",
       "      <th>graph</th>\n",
       "      <th>nodes</th>\n",
       "      <th>edges</th>\n",
       "      <th>density</th>\n",
       "    </tr>\n",
       "  </thead>\n",
       "  <tbody>\n",
       "    <tr>\n",
       "      <th>0</th>\n",
       "      <td>0</td>\n",
       "      <td>Full PPI Graph</td>\n",
       "      <td>18951</td>\n",
       "      <td>5840324</td>\n",
       "      <td>0.032526</td>\n",
       "    </tr>\n",
       "    <tr>\n",
       "      <th>1</th>\n",
       "      <td>0</td>\n",
       "      <td>Physical PPI Graph</td>\n",
       "      <td>18022</td>\n",
       "      <td>971356</td>\n",
       "      <td>0.005982</td>\n",
       "    </tr>\n",
       "    <tr>\n",
       "      <th>2</th>\n",
       "      <td>400</td>\n",
       "      <td>Full PPI Graph</td>\n",
       "      <td>18894</td>\n",
       "      <td>878839</td>\n",
       "      <td>0.004924</td>\n",
       "    </tr>\n",
       "    <tr>\n",
       "      <th>3</th>\n",
       "      <td>400</td>\n",
       "      <td>Physical PPI Graph</td>\n",
       "      <td>14364</td>\n",
       "      <td>205632</td>\n",
       "      <td>0.001993</td>\n",
       "    </tr>\n",
       "    <tr>\n",
       "      <th>4</th>\n",
       "      <td>600</td>\n",
       "      <td>Full PPI Graph</td>\n",
       "      <td>18197</td>\n",
       "      <td>386137</td>\n",
       "      <td>0.002332</td>\n",
       "    </tr>\n",
       "    <tr>\n",
       "      <th>5</th>\n",
       "      <td>600</td>\n",
       "      <td>Physical PPI Graph</td>\n",
       "      <td>11564</td>\n",
       "      <td>117529</td>\n",
       "      <td>0.001758</td>\n",
       "    </tr>\n",
       "    <tr>\n",
       "      <th>6</th>\n",
       "      <td>700</td>\n",
       "      <td>Full PPI Graph</td>\n",
       "      <td>16322</td>\n",
       "      <td>248709</td>\n",
       "      <td>0.001867</td>\n",
       "    </tr>\n",
       "    <tr>\n",
       "      <th>7</th>\n",
       "      <td>700</td>\n",
       "      <td>Physical PPI Graph</td>\n",
       "      <td>9486</td>\n",
       "      <td>80287</td>\n",
       "      <td>0.001785</td>\n",
       "    </tr>\n",
       "  </tbody>\n",
       "</table>\n",
       "</div>"
      ],
      "text/plain": [
       "   filter               graph  nodes    edges   density\n",
       "0       0      Full PPI Graph  18951  5840324  0.032526\n",
       "1       0  Physical PPI Graph  18022   971356  0.005982\n",
       "2     400      Full PPI Graph  18894   878839  0.004924\n",
       "3     400  Physical PPI Graph  14364   205632  0.001993\n",
       "4     600      Full PPI Graph  18197   386137  0.002332\n",
       "5     600  Physical PPI Graph  11564   117529  0.001758\n",
       "6     700      Full PPI Graph  16322   248709  0.001867\n",
       "7     700  Physical PPI Graph   9486    80287  0.001785"
      ]
     },
     "execution_count": 90,
     "metadata": {},
     "output_type": "execute_result"
    }
   ],
   "source": [
    "# evaluate different combined_score filters\n",
    "stats = []\n",
    "for i in [0, 400, 600, 700]:\n",
    "    for l, g in zip(('Full PPI Graph', 'Physical PPI Graph'), (string_full, string_phys)):\n",
    "        graph = Graph.DataFrame(\n",
    "            g.loc[g.combined_score>i, ['protein_A', 'protein_B']],\n",
    "            directed=False, use_vids=False\n",
    "        )\n",
    "        graph = graph.simplify()\n",
    "        graph = graph.subgraph(graph.components()[0])\n",
    "\n",
    "        stats.append({\n",
    "            'filter': i,\n",
    "            'graph': l,\n",
    "            'nodes': graph.vcount(),\n",
    "            'edges': graph.ecount(),\n",
    "            'density': graph.density()\n",
    "        })\n",
    "\n",
    "stats = pd.DataFrame(stats)\n",
    "stats"
   ]
  },
  {
   "cell_type": "markdown",
   "metadata": {},
   "source": [
    "We will use the combination of the Full PPI graph + combine_score > 700\n",
    "\n",
    "It has a good balance of # of nodes and edges when compared with the Net4 graph (Picart-Armada et al 2019)"
   ]
  },
  {
   "cell_type": "code",
   "execution_count": 91,
   "metadata": {},
   "outputs": [],
   "source": [
    "# build graph\n",
    "string = string_full.loc[string_full.combined_score>700, ['protein_A', 'protein_B']]\n",
    "string_graph = Graph.DataFrame(string, directed=False, use_vids=False)"
   ]
  },
  {
   "cell_type": "code",
   "execution_count": 92,
   "metadata": {},
   "outputs": [
    {
     "name": "stdout",
     "output_type": "stream",
     "text": [
      "499404\n",
      "248857\n"
     ]
    }
   ],
   "source": [
    "print(string_graph.ecount())\n",
    "string_graph = string_graph.simplify()\n",
    "print(string_graph.ecount())"
   ]
  },
  {
   "cell_type": "code",
   "execution_count": 93,
   "metadata": {},
   "outputs": [
    {
     "name": "stdout",
     "output_type": "stream",
     "text": [
      "False\n",
      "True\n",
      "248709\n"
     ]
    }
   ],
   "source": [
    "print(string_graph.is_connected())\n",
    "string_graph = string_graph.subgraph(string_graph.components()[0])\n",
    "print(string_graph.is_connected())\n",
    "print(string_graph.ecount())"
   ]
  },
  {
   "cell_type": "code",
   "execution_count": 203,
   "metadata": {},
   "outputs": [],
   "source": [
    "string.to_csv(directories['string'] + \"graph.csv\", index=False)\n",
    "string_graph.write_gml(directories['string'] + \"graph.gml\")"
   ]
  },
  {
   "cell_type": "code",
   "execution_count": 204,
   "metadata": {},
   "outputs": [],
   "source": [
    "adj_matrix = string_graph.get_adjacency()\n",
    "adj_matrix = np.array(adj_matrix.data)\n",
    "np.save(directories['string'] + 'adjacency_matrix.npy', adj_matrix, allow_pickle=True, fix_imports=True)"
   ]
  },
  {
   "cell_type": "markdown",
   "metadata": {},
   "source": [
    "# Reactome Processes"
   ]
  },
  {
   "cell_type": "code",
   "execution_count": 2,
   "metadata": {},
   "outputs": [
    {
     "name": "stdout",
     "output_type": "stream",
     "text": [
      "112796\n"
     ]
    },
    {
     "data": {
      "text/html": [
       "<div>\n",
       "<style scoped>\n",
       "    .dataframe tbody tr th:only-of-type {\n",
       "        vertical-align: middle;\n",
       "    }\n",
       "\n",
       "    .dataframe tbody tr th {\n",
       "        vertical-align: top;\n",
       "    }\n",
       "\n",
       "    .dataframe thead th {\n",
       "        text-align: right;\n",
       "    }\n",
       "</style>\n",
       "<table border=\"1\" class=\"dataframe\">\n",
       "  <thead>\n",
       "    <tr style=\"text-align: right;\">\n",
       "      <th></th>\n",
       "      <th>NCBI_ID</th>\n",
       "      <th>Reactome_ID</th>\n",
       "      <th>URL</th>\n",
       "      <th>Event</th>\n",
       "      <th>Evidence_Code</th>\n",
       "      <th>Species</th>\n",
       "    </tr>\n",
       "  </thead>\n",
       "  <tbody>\n",
       "    <tr>\n",
       "      <th>0</th>\n",
       "      <td>1</td>\n",
       "      <td>R-HSA-481007</td>\n",
       "      <td>https://reactome.org/PathwayBrowser/#/R-HSA-48...</td>\n",
       "      <td>Exocytosis of platelet alpha granule contents</td>\n",
       "      <td>TAS</td>\n",
       "      <td>Homo sapiens</td>\n",
       "    </tr>\n",
       "    <tr>\n",
       "      <th>1</th>\n",
       "      <td>1</td>\n",
       "      <td>R-HSA-6798748</td>\n",
       "      <td>https://reactome.org/PathwayBrowser/#/R-HSA-67...</td>\n",
       "      <td>Exocytosis of secretory granule lumen proteins</td>\n",
       "      <td>TAS</td>\n",
       "      <td>Homo sapiens</td>\n",
       "    </tr>\n",
       "  </tbody>\n",
       "</table>\n",
       "</div>"
      ],
      "text/plain": [
       "  NCBI_ID    Reactome_ID                                                URL  \\\n",
       "0       1   R-HSA-481007  https://reactome.org/PathwayBrowser/#/R-HSA-48...   \n",
       "1       1  R-HSA-6798748  https://reactome.org/PathwayBrowser/#/R-HSA-67...   \n",
       "\n",
       "                                            Event Evidence_Code       Species  \n",
       "0   Exocytosis of platelet alpha granule contents           TAS  Homo sapiens  \n",
       "1  Exocytosis of secretory granule lumen proteins           TAS  Homo sapiens  "
      ]
     },
     "execution_count": 2,
     "metadata": {},
     "output_type": "execute_result"
    }
   ],
   "source": [
    "reactome = pd.read_csv(\n",
    "    \"../../data/raw/NCBI2ReactomeReactions.txt\", sep='\\t', header=None, dtype='string',\n",
    "      names = ['NCBI_ID', 'Reactome_ID', 'URL', 'Event', 'Evidence_Code', 'Species']\n",
    "      )\n",
    "reactome = reactome[reactome['Species'] == 'Homo sapiens']\n",
    "print(reactome.shape[0])\n",
    "reactome.head(2)"
   ]
  },
  {
   "cell_type": "code",
   "execution_count": 8,
   "metadata": {},
   "outputs": [
    {
     "data": {
      "text/html": [
       "<div>\n",
       "<style scoped>\n",
       "    .dataframe tbody tr th:only-of-type {\n",
       "        vertical-align: middle;\n",
       "    }\n",
       "\n",
       "    .dataframe tbody tr th {\n",
       "        vertical-align: top;\n",
       "    }\n",
       "\n",
       "    .dataframe thead th {\n",
       "        text-align: right;\n",
       "    }\n",
       "</style>\n",
       "<table border=\"1\" class=\"dataframe\">\n",
       "  <thead>\n",
       "    <tr style=\"text-align: right;\">\n",
       "      <th></th>\n",
       "      <th>module_id</th>\n",
       "      <th>protein_id</th>\n",
       "    </tr>\n",
       "  </thead>\n",
       "  <tbody>\n",
       "    <tr>\n",
       "      <th>0</th>\n",
       "      <td>R-HSA-481007</td>\n",
       "      <td>A1BG</td>\n",
       "    </tr>\n",
       "    <tr>\n",
       "      <th>1</th>\n",
       "      <td>R-HSA-6798748</td>\n",
       "      <td>A1BG</td>\n",
       "    </tr>\n",
       "  </tbody>\n",
       "</table>\n",
       "</div>"
      ],
      "text/plain": [
       "       module_id protein_id\n",
       "0   R-HSA-481007       A1BG\n",
       "1  R-HSA-6798748       A1BG"
      ]
     },
     "execution_count": 8,
     "metadata": {},
     "output_type": "execute_result"
    }
   ],
   "source": [
    "# convert entrez IDs (NCBI) to HGNC Gene Symbols\n",
    "reactome_processes = pd.merge(\n",
    "    reactome, hgnc_table[['entrez_id', 'symbol']].set_index('entrez_id'),\n",
    "    left_on='NCBI_ID', right_on='entrez_id'\n",
    "    ).rename(columns={'Reactome_ID': 'module_id', 'symbol': 'protein_id'})\n",
    "\n",
    "reactome_processes = reactome_processes[['module_id', 'protein_id']]\n",
    "reactome_processes.head(2)"
   ]
  },
  {
   "cell_type": "code",
   "execution_count": 11,
   "metadata": {},
   "outputs": [],
   "source": [
    "reactome_processes.to_csv(modules_dir + 'reactome.csv', index=False)"
   ]
  },
  {
   "attachments": {},
   "cell_type": "markdown",
   "metadata": {},
   "source": [
    "# Disgenet Disease Modules"
   ]
  },
  {
   "cell_type": "code",
   "execution_count": 12,
   "metadata": {},
   "outputs": [
    {
     "name": "stdout",
     "output_type": "stream",
     "text": [
      "84038\n"
     ]
    },
    {
     "data": {
      "text/html": [
       "<div>\n",
       "<style scoped>\n",
       "    .dataframe tbody tr th:only-of-type {\n",
       "        vertical-align: middle;\n",
       "    }\n",
       "\n",
       "    .dataframe tbody tr th {\n",
       "        vertical-align: top;\n",
       "    }\n",
       "\n",
       "    .dataframe thead th {\n",
       "        text-align: right;\n",
       "    }\n",
       "</style>\n",
       "<table border=\"1\" class=\"dataframe\">\n",
       "  <thead>\n",
       "    <tr style=\"text-align: right;\">\n",
       "      <th></th>\n",
       "      <th>geneId</th>\n",
       "      <th>geneSymbol</th>\n",
       "      <th>DSI</th>\n",
       "      <th>DPI</th>\n",
       "      <th>diseaseId</th>\n",
       "      <th>diseaseName</th>\n",
       "      <th>diseaseType</th>\n",
       "      <th>diseaseClass</th>\n",
       "      <th>diseaseSemanticType</th>\n",
       "      <th>score</th>\n",
       "      <th>EI</th>\n",
       "      <th>YearInitial</th>\n",
       "      <th>YearFinal</th>\n",
       "      <th>NofPmids</th>\n",
       "      <th>NofSnps</th>\n",
       "      <th>source</th>\n",
       "    </tr>\n",
       "  </thead>\n",
       "  <tbody>\n",
       "    <tr>\n",
       "      <th>0</th>\n",
       "      <td>1</td>\n",
       "      <td>A1BG</td>\n",
       "      <td>0.7</td>\n",
       "      <td>0.538</td>\n",
       "      <td>C0019209</td>\n",
       "      <td>Hepatomegaly</td>\n",
       "      <td>phenotype</td>\n",
       "      <td>C23;C06</td>\n",
       "      <td>Finding</td>\n",
       "      <td>0.3</td>\n",
       "      <td>1.0</td>\n",
       "      <td>2017.0</td>\n",
       "      <td>2017.0</td>\n",
       "      <td>1</td>\n",
       "      <td>0</td>\n",
       "      <td>CTD_human</td>\n",
       "    </tr>\n",
       "    <tr>\n",
       "      <th>1</th>\n",
       "      <td>1</td>\n",
       "      <td>A1BG</td>\n",
       "      <td>0.7</td>\n",
       "      <td>0.538</td>\n",
       "      <td>C0036341</td>\n",
       "      <td>Schizophrenia</td>\n",
       "      <td>disease</td>\n",
       "      <td>F03</td>\n",
       "      <td>Mental or Behavioral Dysfunction</td>\n",
       "      <td>0.3</td>\n",
       "      <td>1.0</td>\n",
       "      <td>2015.0</td>\n",
       "      <td>2015.0</td>\n",
       "      <td>1</td>\n",
       "      <td>0</td>\n",
       "      <td>CTD_human</td>\n",
       "    </tr>\n",
       "  </tbody>\n",
       "</table>\n",
       "</div>"
      ],
      "text/plain": [
       "   geneId geneSymbol  DSI    DPI diseaseId    diseaseName diseaseType  \\\n",
       "0       1       A1BG  0.7  0.538  C0019209   Hepatomegaly   phenotype   \n",
       "1       1       A1BG  0.7  0.538  C0036341  Schizophrenia     disease   \n",
       "\n",
       "  diseaseClass               diseaseSemanticType  score   EI  YearInitial  \\\n",
       "0      C23;C06                           Finding    0.3  1.0       2017.0   \n",
       "1          F03  Mental or Behavioral Dysfunction    0.3  1.0       2015.0   \n",
       "\n",
       "   YearFinal  NofPmids  NofSnps     source  \n",
       "0     2017.0         1        0  CTD_human  \n",
       "1     2015.0         1        0  CTD_human  "
      ]
     },
     "execution_count": 12,
     "metadata": {},
     "output_type": "execute_result"
    }
   ],
   "source": [
    "disgenet = pd.read_csv(\n",
    "    \"../../data/raw/curated_gene_disease_associations.tsv\", sep='\\t', header=0)\n",
    "\n",
    "print(disgenet.shape[0])\n",
    "disgenet.head(2)"
   ]
  },
  {
   "cell_type": "code",
   "execution_count": 13,
   "metadata": {},
   "outputs": [],
   "source": [
    "# all genes in Disgenet\n",
    "disgenet_symbols = list(disgenet.geneSymbol.unique())\n",
    "# all genes with approved HGNC symbol\n",
    "hgnc_ids = list(hgnc_table['symbol'].unique())\n",
    "# Disgenet genes not found in hgnc table\n",
    "missing_disgenet_ids = [protein for protein in disgenet_symbols if protein not in hgnc_ids]"
   ]
  },
  {
   "cell_type": "code",
   "execution_count": 14,
   "metadata": {},
   "outputs": [
    {
     "name": "stderr",
     "output_type": "stream",
     "text": [
      "100%|██████████| 146/146 [00:01<00:00, 92.94it/s]"
     ]
    },
    {
     "name": "stdout",
     "output_type": "stream",
     "text": [
      "60 symbols were not found.\n"
     ]
    },
    {
     "name": "stderr",
     "output_type": "stream",
     "text": [
      "\n"
     ]
    }
   ],
   "source": [
    "# search for deprecated or alternative symbols\n",
    "resolved_ids, not_found = alias_mapping(missing_disgenet_ids, hgnc_table)\n",
    "print(f'{len(not_found)} symbols were not found.' )"
   ]
  },
  {
   "cell_type": "code",
   "execution_count": 16,
   "metadata": {},
   "outputs": [
    {
     "name": "stdout",
     "output_type": "stream",
     "text": [
      "83953\n"
     ]
    },
    {
     "data": {
      "text/html": [
       "<div>\n",
       "<style scoped>\n",
       "    .dataframe tbody tr th:only-of-type {\n",
       "        vertical-align: middle;\n",
       "    }\n",
       "\n",
       "    .dataframe tbody tr th {\n",
       "        vertical-align: top;\n",
       "    }\n",
       "\n",
       "    .dataframe thead th {\n",
       "        text-align: right;\n",
       "    }\n",
       "</style>\n",
       "<table border=\"1\" class=\"dataframe\">\n",
       "  <thead>\n",
       "    <tr style=\"text-align: right;\">\n",
       "      <th></th>\n",
       "      <th>protein_id</th>\n",
       "      <th>module_id</th>\n",
       "      <th>score</th>\n",
       "    </tr>\n",
       "  </thead>\n",
       "  <tbody>\n",
       "    <tr>\n",
       "      <th>0</th>\n",
       "      <td>A1BG</td>\n",
       "      <td>C0019209</td>\n",
       "      <td>0.3</td>\n",
       "    </tr>\n",
       "    <tr>\n",
       "      <th>1</th>\n",
       "      <td>A1BG</td>\n",
       "      <td>C0036341</td>\n",
       "      <td>0.3</td>\n",
       "    </tr>\n",
       "  </tbody>\n",
       "</table>\n",
       "</div>"
      ],
      "text/plain": [
       "  protein_id module_id  score\n",
       "0       A1BG  C0019209    0.3\n",
       "1       A1BG  C0036341    0.3"
      ]
     },
     "execution_count": 16,
     "metadata": {},
     "output_type": "execute_result"
    }
   ],
   "source": [
    "# replace alternative IDs with Approved IDs\n",
    "disgenet_modules= disgenet.copy()\n",
    "disgenet_modules['geneSymbol'] = disgenet_modules.geneSymbol.replace(resolved_ids)\n",
    "\n",
    "# remove IDs that could not be converted\n",
    "disgenet_modules = disgenet_modules.loc[\n",
    "    ~disgenet_modules['geneSymbol'].isin(not_found),\n",
    "    ['geneSymbol', 'diseaseId', 'score']\n",
    "    ].rename(columns={'diseaseId': 'module_id', 'geneSymbol': 'protein_id'})\n",
    "print(disgenet_modules.shape[0])\n",
    "disgenet_modules.head(2)"
   ]
  },
  {
   "cell_type": "code",
   "execution_count": 17,
   "metadata": {},
   "outputs": [],
   "source": [
    "disgenet_modules.to_csv(modules_dir + 'disgenet.csv', index=False)"
   ]
  }
 ],
 "metadata": {
  "kernelspec": {
   "display_name": ".venv",
   "language": "python",
   "name": "python3"
  },
  "language_info": {
   "codemirror_mode": {
    "name": "ipython",
    "version": 3
   },
   "file_extension": ".py",
   "mimetype": "text/x-python",
   "name": "python",
   "nbconvert_exporter": "python",
   "pygments_lexer": "ipython3",
   "version": "3.10.12"
  },
  "orig_nbformat": 4
 },
 "nbformat": 4,
 "nbformat_minor": 2
}
