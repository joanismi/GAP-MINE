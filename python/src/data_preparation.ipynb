{
 "cells": [
  {
   "attachments": {},
   "cell_type": "markdown",
   "id": "48a0b930",
   "metadata": {},
   "source": [
    "### OBJETIVO: TRANSFORMAR ESTE NOTEBOOK NUM SCRIPT QUE POSSA SER USADO PARA QUALQUER REDE"
   ]
  },
  {
   "cell_type": "code",
   "execution_count": 1,
   "id": "13b600b6",
   "metadata": {},
   "outputs": [],
   "source": [
    "import pandas as pd\n",
    "from igraph import Graph\n",
    "import numpy as np\n",
    "from IPython.display import display\n",
    "import os\n",
    "from tqdm.notebook import tqdm, trange"
   ]
  },
  {
   "cell_type": "markdown",
   "id": "419e2565",
   "metadata": {},
   "source": [
    "# Functions"
   ]
  },
  {
   "cell_type": "code",
   "execution_count": 2,
   "id": "b55a4b97",
   "metadata": {},
   "outputs": [],
   "source": [
    "def check_dir(dir):\n",
    "    \"\"\"\n",
    "    \"\"\"\n",
    "    if os.path.exists(dir) and os.path.isdir(dir):\n",
    "        pass\n",
    "    else:\n",
    "        os.makedirs(dir)"
   ]
  },
  {
   "cell_type": "code",
   "execution_count": 3,
   "id": "7fe00ed2",
   "metadata": {},
   "outputs": [],
   "source": [
    "def get_labels(module_df, graph):\n",
    "    \n",
    "    graph_prots = graph.vs['name']\n",
    "        \n",
    "    # remove proteins not in graph and choose modules with sizes between 50 and 300 proteins\n",
    "    module_df = module_df[module_df['protein_id'].isin(graph_prots)]\n",
    "    module_df = module_df.groupby('module_id').filter(lambda x: 50 <= x.shape[0] <= 300)\n",
    "\n",
    "    modules = module_df['module_id'].unique()\n",
    "    # create labels\n",
    "    labels = pd.DataFrame(np.zeros((len(graph_prots), modules.shape[0])), index=graph_prots, columns=modules)\n",
    "    crosstab = pd.crosstab(module_df['protein_id'], module_df['module_id'])\n",
    "\n",
    "    labels.loc[crosstab.index.to_list(), crosstab.columns.to_list()] = crosstab\n",
    "\n",
    "    return labels"
   ]
  },
  {
   "cell_type": "code",
   "execution_count": 4,
   "id": "95ca963c",
   "metadata": {},
   "outputs": [],
   "source": [
    "def random_walks_restart(labels, graph):\n",
    "    \"\"\"\n",
    "    \n",
    "    \"\"\"\n",
    "    \n",
    "    rwr = np.array(labels).T\n",
    "    \n",
    "    for mod in rwr:\n",
    "\n",
    "        mod_prots = np.flatnonzero(mod==1)\n",
    "        \n",
    "        mod[:] = graph.personalized_pagerank(reset_vertices=mod_prots)\n",
    "\n",
    "    return pd.DataFrame(rwr.T, index=labels.index, columns=labels.columns)"
   ]
  },
  {
   "cell_type": "code",
   "execution_count": 5,
   "id": "553c62ff",
   "metadata": {},
   "outputs": [],
   "source": [
    "def seed_component_algorithm(module, graph, adj_matrix):\n",
    "    \"\"\"\n",
    "    \"\"\"\n",
    "    idlist = list(np.flatnonzero(module==1))\n",
    "    mod_size = len(idlist)\n",
    "\n",
    "    added_nodes = []\n",
    "    increase = True\n",
    "    original_nodes = idlist[:]\n",
    "    count = 0\n",
    "    while increase:\n",
    "        subgraph = graph.induced_subgraph(idlist)\n",
    "        components = Graph.components(subgraph, mode='strong')\n",
    "\n",
    "        # largest connected component\n",
    "        lcc = max(components.sizes())\n",
    "\n",
    "        comp_adj_matrix = adj_matrix[:, sorted(idlist)]\n",
    "        # adjacency matrix for each component\n",
    "        ind_comp_adj_matrices = [comp_adj_matrix[:, comp]\n",
    "                                    for comp in components]\n",
    "\n",
    "        max_addition = []\n",
    "        for ind_comp in ind_comp_adj_matrices:\n",
    "            \n",
    "            n_int = np.sum(ind_comp, axis=1)\n",
    "            \n",
    "            n_int[n_int >= 1] = ind_comp.shape[1]\n",
    "            \n",
    "            max_addition.append(n_int)\n",
    "\n",
    "        max_addition = np.array(max_addition).transpose()\n",
    "        max_addition_total = np.array(max_addition).sum(axis=1)\n",
    "\n",
    "        if np.amax(max_addition_total) > lcc:\n",
    "            \n",
    "            candidates = np.flatnonzero(max_addition_total == np.amax(max_addition_total))\n",
    "\n",
    "            if candidates.shape[0] > 1:\n",
    "                \n",
    "                cand_vals = []\n",
    "                for cand in candidates:\n",
    "                    # neighbours in idlist/ total neighbours\n",
    "                    cand_vals.append(np.sum(adj_matrix[idlist, cand])/np.sum(adj_matrix[:, cand]))\n",
    "                candidates = candidates[cand_vals == np.amax(cand_vals)]\n",
    "                \n",
    "            idlist.append(candidates[0])\n",
    "            added_nodes.append(candidates[0])\n",
    "\n",
    "        else:\n",
    "            increase = False\n",
    "        count += 1\n",
    "        \n",
    "    subgraph = graph.induced_subgraph(idlist)\n",
    "    final_components = list(Graph.connected_components(subgraph, mode='strong'))\n",
    "    final_component = max(final_components, key=len)\n",
    "\n",
    "    sca_module = [idlist[node] for node in final_component]\n",
    "    conservative_module = list(set(original_nodes) & set(sca_module))\n",
    "\n",
    "    r = len(added_nodes)/mod_size\n",
    "    return sca_module, conservative_module, r"
   ]
  },
  {
   "cell_type": "code",
   "execution_count": 6,
   "id": "887f3397",
   "metadata": {},
   "outputs": [],
   "source": [
    "def get_sca(labels, graph, adj_matrix, add_threshold=False):\n",
    "    \"\"\"\n",
    "    \"\"\"\n",
    "    modules = labels.to_numpy()\n",
    "    sca_modules = np.zeros_like(modules)\n",
    "    conservative_modules = np.zeros_like(modules)\n",
    "    rs = []\n",
    "    for mod in trange(modules.shape[1]):\n",
    "        sca_module, conservative_module, r = seed_component_algorithm(modules[:, mod], graph, adj_matrix)\n",
    "        sca_modules[sca_module, mod] = 1\n",
    "        conservative_modules[conservative_module, mod] = 1\n",
    "        rs.append(r)\n",
    "\n",
    "    sca_modules = pd.DataFrame(sca_modules, index=labels.index, columns=labels.columns)\n",
    "    conservative_modules = pd.DataFrame(conservative_modules, index=labels.index, columns=labels.columns)\n",
    "    \n",
    "    if add_threshold:\n",
    "    # remove modules with more than add_threshold% added proteins\n",
    "        sca_modules = sca_modules.loc[:, np.array(rs) < add_threshold]\n",
    "    \n",
    "    return sca_modules, conservative_modules"
   ]
  },
  {
   "cell_type": "markdown",
   "id": "6f3307e5",
   "metadata": {},
   "source": [
    "# Metrics"
   ]
  },
  {
   "cell_type": "code",
   "execution_count": 7,
   "id": "d880af2c",
   "metadata": {},
   "outputs": [],
   "source": [
    "parent_dir = '../data/processed/'\n",
    "modules_dir = parent_dir + 'modules/'\n",
    "network_dir = parent_dir + 'networks/'"
   ]
  },
  {
   "cell_type": "code",
   "execution_count": 8,
   "id": "5e315ea6",
   "metadata": {},
   "outputs": [],
   "source": [
    "networks = ['apid_huri', 'string']\n",
    "directories = {net: {} for net in networks}\n",
    "\n",
    "for net in networks:\n",
    "    for dir_ in ['graph', 'metrics', 'labels', 'models']:\n",
    "        new_dir = network_dir + net + '/' + dir_ +'/'\n",
    "        check_dir(new_dir)\n",
    "        directories[net][dir_] = new_dir"
   ]
  },
  {
   "cell_type": "code",
   "execution_count": 9,
   "id": "ae76aa9d",
   "metadata": {},
   "outputs": [
    {
     "data": {
      "text/html": [
       "<div>\n",
       "<style scoped>\n",
       "    .dataframe tbody tr th:only-of-type {\n",
       "        vertical-align: middle;\n",
       "    }\n",
       "\n",
       "    .dataframe tbody tr th {\n",
       "        vertical-align: top;\n",
       "    }\n",
       "\n",
       "    .dataframe thead th {\n",
       "        text-align: right;\n",
       "    }\n",
       "</style>\n",
       "<table border=\"1\" class=\"dataframe\">\n",
       "  <thead>\n",
       "    <tr style=\"text-align: right;\">\n",
       "      <th></th>\n",
       "      <th>module_id</th>\n",
       "      <th>protein_id</th>\n",
       "    </tr>\n",
       "  </thead>\n",
       "  <tbody>\n",
       "    <tr>\n",
       "      <th>0</th>\n",
       "      <td>R-HSA-481007</td>\n",
       "      <td>A1BG</td>\n",
       "    </tr>\n",
       "    <tr>\n",
       "      <th>1</th>\n",
       "      <td>R-HSA-6798748</td>\n",
       "      <td>A1BG</td>\n",
       "    </tr>\n",
       "  </tbody>\n",
       "</table>\n",
       "</div>"
      ],
      "text/plain": [
       "       module_id protein_id\n",
       "0   R-HSA-481007       A1BG\n",
       "1  R-HSA-6798748       A1BG"
      ]
     },
     "metadata": {},
     "output_type": "display_data"
    },
    {
     "data": {
      "text/html": [
       "<div>\n",
       "<style scoped>\n",
       "    .dataframe tbody tr th:only-of-type {\n",
       "        vertical-align: middle;\n",
       "    }\n",
       "\n",
       "    .dataframe tbody tr th {\n",
       "        vertical-align: top;\n",
       "    }\n",
       "\n",
       "    .dataframe thead th {\n",
       "        text-align: right;\n",
       "    }\n",
       "</style>\n",
       "<table border=\"1\" class=\"dataframe\">\n",
       "  <thead>\n",
       "    <tr style=\"text-align: right;\">\n",
       "      <th></th>\n",
       "      <th>protein_id</th>\n",
       "      <th>module_id</th>\n",
       "      <th>score</th>\n",
       "    </tr>\n",
       "  </thead>\n",
       "  <tbody>\n",
       "    <tr>\n",
       "      <th>0</th>\n",
       "      <td>A1BG</td>\n",
       "      <td>C0019209</td>\n",
       "      <td>0.3</td>\n",
       "    </tr>\n",
       "    <tr>\n",
       "      <th>1</th>\n",
       "      <td>A1BG</td>\n",
       "      <td>C0036341</td>\n",
       "      <td>0.3</td>\n",
       "    </tr>\n",
       "  </tbody>\n",
       "</table>\n",
       "</div>"
      ],
      "text/plain": [
       "  protein_id module_id  score\n",
       "0       A1BG  C0019209    0.3\n",
       "1       A1BG  C0036341    0.3"
      ]
     },
     "metadata": {},
     "output_type": "display_data"
    }
   ],
   "source": [
    "# modules\n",
    "modules = dict(\n",
    "    reactome = pd.read_csv(modules_dir+'reactome.csv'),\n",
    "    disgenet = pd.read_csv(modules_dir+'disgenet.csv')\n",
    ")\n",
    "display(modules['reactome'].head(2))\n",
    "display(modules['disgenet'].head(2))"
   ]
  },
  {
   "cell_type": "code",
   "execution_count": 10,
   "id": "0a10b943",
   "metadata": {},
   "outputs": [],
   "source": [
    "# graph\n",
    "graphs = {}\n",
    "adj_matrices = {}\n",
    "for net in networks:\n",
    "    graphs[net] = Graph.Read_GML(directories[net]['graph'] + 'graph.gml')\n",
    "    adj_matrices[net] = np.load(directories[net]['graph'] + 'adjacency_matrix.npy')"
   ]
  },
  {
   "cell_type": "code",
   "execution_count": 11,
   "id": "787c51ea",
   "metadata": {},
   "outputs": [
    {
     "data": {
      "application/vnd.jupyter.widget-view+json": {
       "model_id": "d61d20673d9d413fa3afb9c304a56c2c",
       "version_major": 2,
       "version_minor": 0
      },
      "text/plain": [
       "  0%|          | 0/2 [00:00<?, ?it/s]"
      ]
     },
     "metadata": {},
     "output_type": "display_data"
    },
    {
     "data": {
      "application/vnd.jupyter.widget-view+json": {
       "model_id": "7293e0cfdac34204a1b1c8cc50236169",
       "version_major": 2,
       "version_minor": 0
      },
      "text/plain": [
       "  0%|          | 0/2 [00:00<?, ?it/s]"
      ]
     },
     "metadata": {},
     "output_type": "display_data"
    }
   ],
   "source": [
    "# compute metrics\n",
    "for net in networks:\n",
    "    for l, m in tqdm(modules.items()):\n",
    "        \n",
    "        labels = get_labels(m, graphs[net])\n",
    "        metrics = random_walks_restart(labels, graphs[net])\n",
    "\n",
    "        metrics.to_csv(directories[net]['metrics'] + f'{l}_rwr.csv')\n",
    "        labels.to_csv(directories[net]['labels'] + f'{l}.csv')"
   ]
  },
  {
   "cell_type": "markdown",
   "id": "a5769201",
   "metadata": {},
   "source": [
    "## Seed Component Algorithm"
   ]
  },
  {
   "cell_type": "code",
   "execution_count": 12,
   "id": "01bec943",
   "metadata": {},
   "outputs": [],
   "source": [
    "labels = {}\n",
    "for net in networks:\n",
    "    labels[net] = pd.read_csv(directories[net]['labels'] + 'disgenet.csv', index_col=0)"
   ]
  },
  {
   "cell_type": "code",
   "execution_count": 13,
   "id": "9ce52d2c",
   "metadata": {},
   "outputs": [
    {
     "data": {
      "application/vnd.jupyter.widget-view+json": {
       "model_id": "d8b2b77e5b2844f6b3e8aafd044746b9",
       "version_major": 2,
       "version_minor": 0
      },
      "text/plain": [
       "  0%|          | 0/300 [00:00<?, ?it/s]"
      ]
     },
     "metadata": {},
     "output_type": "display_data"
    },
    {
     "data": {
      "application/vnd.jupyter.widget-view+json": {
       "model_id": "7d173fa2e00c43408d5b547ede5089ec",
       "version_major": 2,
       "version_minor": 0
      },
      "text/plain": [
       "  0%|          | 0/301 [00:00<?, ?it/s]"
      ]
     },
     "metadata": {},
     "output_type": "display_data"
    }
   ],
   "source": [
    "for net in networks:\n",
    "    graph = graphs[net]\n",
    "    adj_matrix = adj_matrices[net]\n",
    "\n",
    "    new_labels = get_sca(labels[net], graph, adj_matrix, add_threshold=0.4)\n",
    "    \n",
    "    for name, new_label in zip(['sca', 'conservative'], new_labels):\n",
    "        \n",
    "        metrics = random_walks_restart(new_label, graph)\n",
    "        \n",
    "        metrics.to_csv(directories[net]['metrics'] + f'disgenet_{name}_rwr.csv')\n",
    "        new_label.to_csv(directories[net]['labels'] + f'disgenet_{name}_rwr.csv')"
   ]
  }
 ],
 "metadata": {
  "interpreter": {
   "hash": "42555cd0c5f1594a81e40866f5733b2cbf65026c937bf0149d49f47f234897c3"
  },
  "kernelspec": {
   "display_name": "Python 3.8.8 ('base')",
   "language": "python",
   "name": "python3"
  },
  "language_info": {
   "codemirror_mode": {
    "name": "ipython",
    "version": 3
   },
   "file_extension": ".py",
   "mimetype": "text/x-python",
   "name": "python",
   "nbconvert_exporter": "python",
   "pygments_lexer": "ipython3",
   "version": "3.10.12"
  }
 },
 "nbformat": 4,
 "nbformat_minor": 5
}
