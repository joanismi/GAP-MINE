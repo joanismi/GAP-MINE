{
 "cells": [
  {
   "cell_type": "code",
   "execution_count": 1,
   "id": "006b9b41",
   "metadata": {},
   "outputs": [],
   "source": [
    "import pandas as pd\n",
    "from igraph import Graph\n",
    "import disease_process_proteins\n",
    "import importlib\n",
    "import numpy as np\n",
    "import steiner_tree\n",
    "from tqdm.notebook import tqdm\n",
    "tqdm.pandas()"
   ]
  },
  {
   "attachments": {},
   "cell_type": "markdown",
   "id": "80135b0c",
   "metadata": {
    "jp-MarkdownHeadingCollapsed": true
   },
   "source": [
    "# APID & HuRI Graph"
   ]
  },
  {
   "cell_type": "code",
   "execution_count": 119,
   "id": "757d5d58",
   "metadata": {},
   "outputs": [
    {
     "name": "stdout",
     "output_type": "stream",
     "text": [
      "282394\n"
     ]
    },
    {
     "data": {
      "text/html": [
       "<div>\n",
       "<style scoped>\n",
       "    .dataframe tbody tr th:only-of-type {\n",
       "        vertical-align: middle;\n",
       "    }\n",
       "\n",
       "    .dataframe tbody tr th {\n",
       "        vertical-align: top;\n",
       "    }\n",
       "\n",
       "    .dataframe thead th {\n",
       "        text-align: right;\n",
       "    }\n",
       "</style>\n",
       "<table border=\"1\" class=\"dataframe\">\n",
       "  <thead>\n",
       "    <tr style=\"text-align: right;\">\n",
       "      <th></th>\n",
       "      <th>protein_A</th>\n",
       "      <th>protein_B</th>\n",
       "    </tr>\n",
       "  </thead>\n",
       "  <tbody>\n",
       "    <tr>\n",
       "      <th>0</th>\n",
       "      <td>SCRIB</td>\n",
       "      <td>ARHGEF7</td>\n",
       "    </tr>\n",
       "    <tr>\n",
       "      <th>1</th>\n",
       "      <td>SCRIB</td>\n",
       "      <td>NET1</td>\n",
       "    </tr>\n",
       "    <tr>\n",
       "      <th>2</th>\n",
       "      <td>KCNA5</td>\n",
       "      <td>SCRIB</td>\n",
       "    </tr>\n",
       "    <tr>\n",
       "      <th>3</th>\n",
       "      <td>VWCE</td>\n",
       "      <td>SCRIB</td>\n",
       "    </tr>\n",
       "    <tr>\n",
       "      <th>4</th>\n",
       "      <td>DNM1L</td>\n",
       "      <td>SCRIB</td>\n",
       "    </tr>\n",
       "  </tbody>\n",
       "</table>\n",
       "</div>"
      ],
      "text/plain": [
       "  protein_A protein_B\n",
       "0     SCRIB   ARHGEF7\n",
       "1     SCRIB      NET1\n",
       "2     KCNA5     SCRIB\n",
       "3      VWCE     SCRIB\n",
       "4     DNM1L     SCRIB"
      ]
     },
     "execution_count": 119,
     "metadata": {},
     "output_type": "execute_result"
    }
   ],
   "source": [
    "apid_huri = pd.read_csv(\"../../data/processed/ppis/apid_huri_graph.csv\", sep=',', header=0)\n",
    "print(apid_huri.shape[0])\n",
    "apid_huri.head()"
   ]
  },
  {
   "cell_type": "code",
   "execution_count": 120,
   "id": "72e9a2cc",
   "metadata": {},
   "outputs": [
    {
     "name": "stdout",
     "output_type": "stream",
     "text": [
      "282394\n",
      "260627\n"
     ]
    }
   ],
   "source": [
    "apid_huri_graph = Graph.DataFrame(apid_huri, use_vids=False, directed=False)\n",
    "print(apid_huri_graph.ecount())\n",
    "apid_huri_graph = apid_huri_graph.simplify()\n",
    "print(apid_huri_graph.ecount())"
   ]
  },
  {
   "cell_type": "code",
   "execution_count": 121,
   "id": "1e9a44f7",
   "metadata": {},
   "outputs": [
    {
     "name": "stdout",
     "output_type": "stream",
     "text": [
      "True\n",
      "260624\n"
     ]
    }
   ],
   "source": [
    "if not apid_huri_graph.is_connected():\n",
    "    apid_huri_graph = apid_huri_graph.subgraph(apid_huri_graph.components()[0])\n",
    "\n",
    "print(apid_huri_graph.is_connected())\n",
    "print(apid_huri_graph.ecount())"
   ]
  },
  {
   "cell_type": "code",
   "execution_count": 122,
   "id": "9ea085c7",
   "metadata": {},
   "outputs": [],
   "source": [
    "apid_huri_graph.write_gml(\"../../data/processed/apid_huri_graph\")"
   ]
  },
  {
   "cell_type": "code",
   "execution_count": 123,
   "id": "7584f6d8",
   "metadata": {},
   "outputs": [
    {
     "data": {
      "text/html": [
       "<div>\n",
       "<style scoped>\n",
       "    .dataframe tbody tr th:only-of-type {\n",
       "        vertical-align: middle;\n",
       "    }\n",
       "\n",
       "    .dataframe tbody tr th {\n",
       "        vertical-align: top;\n",
       "    }\n",
       "\n",
       "    .dataframe thead th {\n",
       "        text-align: right;\n",
       "    }\n",
       "</style>\n",
       "<table border=\"1\" class=\"dataframe\">\n",
       "  <thead>\n",
       "    <tr style=\"text-align: right;\">\n",
       "      <th></th>\n",
       "      <th>protein_id</th>\n",
       "    </tr>\n",
       "  </thead>\n",
       "  <tbody>\n",
       "    <tr>\n",
       "      <th>0</th>\n",
       "      <td>SCRIB</td>\n",
       "    </tr>\n",
       "    <tr>\n",
       "      <th>1</th>\n",
       "      <td>ARHGEF7</td>\n",
       "    </tr>\n",
       "    <tr>\n",
       "      <th>2</th>\n",
       "      <td>NET1</td>\n",
       "    </tr>\n",
       "    <tr>\n",
       "      <th>3</th>\n",
       "      <td>KCNA5</td>\n",
       "    </tr>\n",
       "    <tr>\n",
       "      <th>4</th>\n",
       "      <td>VWCE</td>\n",
       "    </tr>\n",
       "  </tbody>\n",
       "</table>\n",
       "</div>"
      ],
      "text/plain": [
       "  protein_id\n",
       "0      SCRIB\n",
       "1    ARHGEF7\n",
       "2       NET1\n",
       "3      KCNA5\n",
       "4       VWCE"
      ]
     },
     "execution_count": 123,
     "metadata": {},
     "output_type": "execute_result"
    }
   ],
   "source": [
    "apid_huri_gene_ids = pd.DataFrame(apid_huri_graph.vs['name'], columns=['protein_id'])\n",
    "apid_huri_gene_ids.to_csv('../../data/processed/apid_huri_gene_ids.csv', index=False)\n",
    "apid_huri_gene_ids.head()"
   ]
  },
  {
   "cell_type": "code",
   "execution_count": null,
   "id": "e5b6e99f",
   "metadata": {},
   "outputs": [
    {
     "ename": "KeyboardInterrupt",
     "evalue": "",
     "output_type": "error",
     "traceback": [
      "\u001b[0;31m---------------------------------------------------------------------------\u001b[0m",
      "\u001b[0;31mKeyboardInterrupt\u001b[0m                         Traceback (most recent call last)",
      "Cell \u001b[0;32mIn[124], line 1\u001b[0m\n\u001b[0;32m----> 1\u001b[0m apid_huri_adj_matrix \u001b[39m=\u001b[39m apid_huri_graph\u001b[39m.\u001b[39;49mget_adjacency()\n\u001b[1;32m      2\u001b[0m apid_huri_adj_matrix \u001b[39m=\u001b[39m np\u001b[39m.\u001b[39marray(apid_huri_adj_matrix\u001b[39m.\u001b[39mdata)\n\u001b[1;32m      3\u001b[0m np\u001b[39m.\u001b[39msave(\u001b[39m'\u001b[39m\u001b[39m../../data/processed/apid_huri_adjacency_matrix.npy\u001b[39m\u001b[39m'\u001b[39m, apid_huri_adj_matrix, allow_pickle\u001b[39m=\u001b[39m\u001b[39mTrue\u001b[39;00m, fix_imports\u001b[39m=\u001b[39m\u001b[39mTrue\u001b[39;00m)\n",
      "File \u001b[0;32m~/GAP-MINE/.venv/lib/python3.10/site-packages/igraph/adjacency.py:62\u001b[0m, in \u001b[0;36m_get_adjacency\u001b[0;34m(self, type, attribute, default, eids)\u001b[0m\n\u001b[1;32m     59\u001b[0m     \u001b[39mreturn\u001b[39;00m result\n\u001b[1;32m     61\u001b[0m \u001b[39mif\u001b[39;00m attribute \u001b[39mis\u001b[39;00m \u001b[39mNone\u001b[39;00m:\n\u001b[0;32m---> 62\u001b[0m     \u001b[39mreturn\u001b[39;00m Matrix(GraphBase\u001b[39m.\u001b[39;49mget_adjacency(\u001b[39mself\u001b[39;49m, \u001b[39mtype\u001b[39;49m))\n\u001b[1;32m     64\u001b[0m \u001b[39mif\u001b[39;00m attribute \u001b[39mnot\u001b[39;00m \u001b[39min\u001b[39;00m \u001b[39mself\u001b[39m\u001b[39m.\u001b[39mes\u001b[39m.\u001b[39mattribute_names():\n\u001b[1;32m     65\u001b[0m     \u001b[39mraise\u001b[39;00m \u001b[39mValueError\u001b[39;00m(\u001b[39m\"\u001b[39m\u001b[39mAttribute does not exist\u001b[39m\u001b[39m\"\u001b[39m)\n",
      "\u001b[0;31mKeyboardInterrupt\u001b[0m: "
     ]
    }
   ],
   "source": [
    "apid_huri_adj_matrix = apid_huri_graph.get_adjacency()\n",
    "apid_huri_adj_matrix = np.array(apid_huri_adj_matrix.data)\n",
    "np.save('../../data/processed/apid_huri_adjacency_matrix.npy', apid_huri_adj_matrix, allow_pickle=True, fix_imports=True)"
   ]
  },
  {
   "attachments": {},
   "cell_type": "markdown",
   "id": "efa368b2",
   "metadata": {},
   "source": [
    "# Pathways and Diseases"
   ]
  },
  {
   "attachments": {},
   "cell_type": "markdown",
   "id": "e26f05be",
   "metadata": {},
   "source": [
    "## Load Data"
   ]
  },
  {
   "cell_type": "code",
   "execution_count": 2,
   "id": "01e2f543",
   "metadata": {
    "scrolled": true
   },
   "outputs": [
    {
     "name": "stdout",
     "output_type": "stream",
     "text": [
      "83953\n"
     ]
    },
    {
     "data": {
      "text/html": [
       "<div>\n",
       "<style scoped>\n",
       "    .dataframe tbody tr th:only-of-type {\n",
       "        vertical-align: middle;\n",
       "    }\n",
       "\n",
       "    .dataframe tbody tr th {\n",
       "        vertical-align: top;\n",
       "    }\n",
       "\n",
       "    .dataframe thead th {\n",
       "        text-align: right;\n",
       "    }\n",
       "</style>\n",
       "<table border=\"1\" class=\"dataframe\">\n",
       "  <thead>\n",
       "    <tr style=\"text-align: right;\">\n",
       "      <th></th>\n",
       "      <th>entrez_id</th>\n",
       "      <th>protein_id</th>\n",
       "      <th>diseaseId</th>\n",
       "      <th>diseaseName</th>\n",
       "      <th>diseaseType</th>\n",
       "      <th>score</th>\n",
       "    </tr>\n",
       "  </thead>\n",
       "  <tbody>\n",
       "    <tr>\n",
       "      <th>0</th>\n",
       "      <td>1</td>\n",
       "      <td>A1BG</td>\n",
       "      <td>C0019209</td>\n",
       "      <td>Hepatomegaly</td>\n",
       "      <td>phenotype</td>\n",
       "      <td>0.3</td>\n",
       "    </tr>\n",
       "    <tr>\n",
       "      <th>1</th>\n",
       "      <td>1</td>\n",
       "      <td>A1BG</td>\n",
       "      <td>C0036341</td>\n",
       "      <td>Schizophrenia</td>\n",
       "      <td>disease</td>\n",
       "      <td>0.3</td>\n",
       "    </tr>\n",
       "  </tbody>\n",
       "</table>\n",
       "</div>"
      ],
      "text/plain": [
       "   entrez_id protein_id diseaseId    diseaseName diseaseType  score\n",
       "0          1       A1BG  C0019209   Hepatomegaly   phenotype    0.3\n",
       "1          1       A1BG  C0036341  Schizophrenia     disease    0.3"
      ]
     },
     "execution_count": 2,
     "metadata": {},
     "output_type": "execute_result"
    }
   ],
   "source": [
    "disgenet = pd.read_csv(\"../../data/interim/disgenet.csv\")\n",
    "print(disgenet.shape[0])\n",
    "disgenet.head(2)"
   ]
  },
  {
   "cell_type": "code",
   "execution_count": 3,
   "id": "82da6ba5",
   "metadata": {},
   "outputs": [
    {
     "name": "stdout",
     "output_type": "stream",
     "text": [
      "33205\n"
     ]
    },
    {
     "data": {
      "text/html": [
       "<div>\n",
       "<style scoped>\n",
       "    .dataframe tbody tr th:only-of-type {\n",
       "        vertical-align: middle;\n",
       "    }\n",
       "\n",
       "    .dataframe tbody tr th {\n",
       "        vertical-align: top;\n",
       "    }\n",
       "\n",
       "    .dataframe thead th {\n",
       "        text-align: right;\n",
       "    }\n",
       "</style>\n",
       "<table border=\"1\" class=\"dataframe\">\n",
       "  <thead>\n",
       "    <tr style=\"text-align: right;\">\n",
       "      <th></th>\n",
       "      <th>Reactome_ID</th>\n",
       "      <th>protein_id</th>\n",
       "      <th>Event</th>\n",
       "    </tr>\n",
       "  </thead>\n",
       "  <tbody>\n",
       "    <tr>\n",
       "      <th>0</th>\n",
       "      <td>R-HSA-481007</td>\n",
       "      <td>A1BG</td>\n",
       "      <td>Exocytosis of platelet alpha granule contents</td>\n",
       "    </tr>\n",
       "    <tr>\n",
       "      <th>1</th>\n",
       "      <td>R-HSA-6798748</td>\n",
       "      <td>A1BG</td>\n",
       "      <td>Exocytosis of secretory granule lumen proteins</td>\n",
       "    </tr>\n",
       "    <tr>\n",
       "      <th>2</th>\n",
       "      <td>R-HSA-6800434</td>\n",
       "      <td>A1BG</td>\n",
       "      <td>Exocytosis of ficolin-rich granule lumen proteins</td>\n",
       "    </tr>\n",
       "    <tr>\n",
       "      <th>3</th>\n",
       "      <td>R-HSA-8952289</td>\n",
       "      <td>CDH2</td>\n",
       "      <td>FAM20C phosphorylates FAM20C substrates</td>\n",
       "    </tr>\n",
       "    <tr>\n",
       "      <th>4</th>\n",
       "      <td>R-HSA-560473</td>\n",
       "      <td>MED6</td>\n",
       "      <td>Expression of ANGPTL4</td>\n",
       "    </tr>\n",
       "  </tbody>\n",
       "</table>\n",
       "</div>"
      ],
      "text/plain": [
       "     Reactome_ID protein_id                                              Event\n",
       "0   R-HSA-481007       A1BG      Exocytosis of platelet alpha granule contents\n",
       "1  R-HSA-6798748       A1BG     Exocytosis of secretory granule lumen proteins\n",
       "2  R-HSA-6800434       A1BG  Exocytosis of ficolin-rich granule lumen proteins\n",
       "3  R-HSA-8952289       CDH2            FAM20C phosphorylates FAM20C substrates\n",
       "4   R-HSA-560473       MED6                              Expression of ANGPTL4"
      ]
     },
     "execution_count": 3,
     "metadata": {},
     "output_type": "execute_result"
    }
   ],
   "source": [
    "reactome = pd.read_csv(\"../../data/interim/reactome_reactions.csv\",)\n",
    "print(reactome.shape[0])\n",
    "reactome.head()"
   ]
  },
  {
   "cell_type": "code",
   "execution_count": 4,
   "id": "31a6426b",
   "metadata": {},
   "outputs": [
    {
     "data": {
      "text/html": [
       "<div>\n",
       "<style scoped>\n",
       "    .dataframe tbody tr th:only-of-type {\n",
       "        vertical-align: middle;\n",
       "    }\n",
       "\n",
       "    .dataframe tbody tr th {\n",
       "        vertical-align: top;\n",
       "    }\n",
       "\n",
       "    .dataframe thead th {\n",
       "        text-align: right;\n",
       "    }\n",
       "</style>\n",
       "<table border=\"1\" class=\"dataframe\">\n",
       "  <thead>\n",
       "    <tr style=\"text-align: right;\">\n",
       "      <th></th>\n",
       "      <th>protein_id</th>\n",
       "    </tr>\n",
       "  </thead>\n",
       "  <tbody>\n",
       "    <tr>\n",
       "      <th>0</th>\n",
       "      <td>SCRIB</td>\n",
       "    </tr>\n",
       "    <tr>\n",
       "      <th>1</th>\n",
       "      <td>ARHGEF7</td>\n",
       "    </tr>\n",
       "    <tr>\n",
       "      <th>2</th>\n",
       "      <td>NET1</td>\n",
       "    </tr>\n",
       "    <tr>\n",
       "      <th>3</th>\n",
       "      <td>KCNA5</td>\n",
       "    </tr>\n",
       "    <tr>\n",
       "      <th>4</th>\n",
       "      <td>VWCE</td>\n",
       "    </tr>\n",
       "  </tbody>\n",
       "</table>\n",
       "</div>"
      ],
      "text/plain": [
       "  protein_id\n",
       "0      SCRIB\n",
       "1    ARHGEF7\n",
       "2       NET1\n",
       "3      KCNA5\n",
       "4       VWCE"
      ]
     },
     "execution_count": 4,
     "metadata": {},
     "output_type": "execute_result"
    }
   ],
   "source": [
    "gene_ids = pd.read_csv('../../data/processed/apid_huri_gene_ids.csv')\n",
    "gene_ids.head()"
   ]
  },
  {
   "cell_type": "code",
   "execution_count": 5,
   "id": "391c4ebb",
   "metadata": {},
   "outputs": [],
   "source": [
    "apid_huri_graph = Graph.Read_GML(\"../../data/processed/apid_huri_graph\")\n",
    "apid_huri_adj_matrix = np.load(\"../../data/processed/apid_huri_adjacency_matrix.npy\")"
   ]
  },
  {
   "cell_type": "code",
   "execution_count": 6,
   "id": "d888d2cd",
   "metadata": {},
   "outputs": [],
   "source": [
    "# compute shortest paths\n",
    "sp = apid_huri_graph.distances()\n",
    "sp_df = pd.DataFrame(sp)"
   ]
  },
  {
   "attachments": {},
   "cell_type": "markdown",
   "id": "319964e7",
   "metadata": {},
   "source": [
    "## Reactome Pathway Modules"
   ]
  },
  {
   "cell_type": "code",
   "execution_count": 48,
   "id": "28df972c",
   "metadata": {},
   "outputs": [
    {
     "name": "stdout",
     "output_type": "stream",
     "text": [
      "32069\n"
     ]
    },
    {
     "data": {
      "text/html": [
       "<div>\n",
       "<style scoped>\n",
       "    .dataframe tbody tr th:only-of-type {\n",
       "        vertical-align: middle;\n",
       "    }\n",
       "\n",
       "    .dataframe tbody tr th {\n",
       "        vertical-align: top;\n",
       "    }\n",
       "\n",
       "    .dataframe thead th {\n",
       "        text-align: right;\n",
       "    }\n",
       "</style>\n",
       "<table border=\"1\" class=\"dataframe\">\n",
       "  <thead>\n",
       "    <tr style=\"text-align: right;\">\n",
       "      <th></th>\n",
       "      <th>Reactome_ID</th>\n",
       "      <th>protein_id</th>\n",
       "    </tr>\n",
       "  </thead>\n",
       "  <tbody>\n",
       "    <tr>\n",
       "      <th>0</th>\n",
       "      <td>R-HSA-481007</td>\n",
       "      <td>A1BG</td>\n",
       "    </tr>\n",
       "    <tr>\n",
       "      <th>1</th>\n",
       "      <td>R-HSA-6798748</td>\n",
       "      <td>A1BG</td>\n",
       "    </tr>\n",
       "  </tbody>\n",
       "</table>\n",
       "</div>"
      ],
      "text/plain": [
       "     Reactome_ID protein_id\n",
       "0   R-HSA-481007       A1BG\n",
       "1  R-HSA-6798748       A1BG"
      ]
     },
     "execution_count": 48,
     "metadata": {},
     "output_type": "execute_result"
    }
   ],
   "source": [
    "reactome_modules = reactome.loc[reactome['protein_id'].isin(gene_ids['protein_id']), ['Reactome_ID', 'protein_id']]\n",
    "print(reactome_modules.shape[0])\n",
    "reactome_modules.head(2)"
   ]
  },
  {
   "cell_type": "code",
   "execution_count": 49,
   "id": "30a02a0e",
   "metadata": {},
   "outputs": [
    {
     "name": "stdout",
     "output_type": "stream",
     "text": [
      "433\n"
     ]
    },
    {
     "data": {
      "text/html": [
       "<div>\n",
       "<style scoped>\n",
       "    .dataframe tbody tr th:only-of-type {\n",
       "        vertical-align: middle;\n",
       "    }\n",
       "\n",
       "    .dataframe tbody tr th {\n",
       "        vertical-align: top;\n",
       "    }\n",
       "\n",
       "    .dataframe thead th {\n",
       "        text-align: right;\n",
       "    }\n",
       "</style>\n",
       "<table border=\"1\" class=\"dataframe\">\n",
       "  <thead>\n",
       "    <tr style=\"text-align: right;\">\n",
       "      <th></th>\n",
       "      <th>Reactome_ID</th>\n",
       "      <th>protein_id</th>\n",
       "      <th>protein_index</th>\n",
       "      <th>module_size</th>\n",
       "    </tr>\n",
       "  </thead>\n",
       "  <tbody>\n",
       "    <tr>\n",
       "      <th>0</th>\n",
       "      <td>R-HSA-1031716</td>\n",
       "      <td>[TRIM10, TRIM22, IRF9, IFI30, TRIM38, TRIM3, T...</td>\n",
       "      <td>[10480, 6234, 7001, 11737, 4192, 8083, 7685, 8...</td>\n",
       "      <td>73</td>\n",
       "    </tr>\n",
       "    <tr>\n",
       "      <th>1</th>\n",
       "      <td>R-HSA-112379</td>\n",
       "      <td>[CDK7, CDK9, SUPT16H, LEO1, ERCC2, ERCC3, RTF1...</td>\n",
       "      <td>[3063, 2790, 512, 5493, 2565, 2775, 5494, 4148...</td>\n",
       "      <td>56</td>\n",
       "    </tr>\n",
       "  </tbody>\n",
       "</table>\n",
       "</div>"
      ],
      "text/plain": [
       "     Reactome_ID                                         protein_id  \\\n",
       "0  R-HSA-1031716  [TRIM10, TRIM22, IRF9, IFI30, TRIM38, TRIM3, T...   \n",
       "1   R-HSA-112379  [CDK7, CDK9, SUPT16H, LEO1, ERCC2, ERCC3, RTF1...   \n",
       "\n",
       "                                       protein_index  module_size  \n",
       "0  [10480, 6234, 7001, 11737, 4192, 8083, 7685, 8...           73  \n",
       "1  [3063, 2790, 512, 5493, 2565, 2775, 5494, 4148...           56  "
      ]
     },
     "execution_count": 49,
     "metadata": {},
     "output_type": "execute_result"
    }
   ],
   "source": [
    "importlib.reload(disease_process_proteins)\n",
    "reactome_proteins_indices = disease_process_proteins.get_protein_index(reactome_modules, apid_huri_graph)\n",
    "print(reactome_proteins_indices.shape[0])\n",
    "reactome_proteins_indices.head(2)"
   ]
  },
  {
   "cell_type": "code",
   "execution_count": 50,
   "id": "4e0c7ede",
   "metadata": {},
   "outputs": [
    {
     "name": "stdout",
     "output_type": "stream",
     "text": [
      "426\n"
     ]
    },
    {
     "data": {
      "text/html": [
       "<div>\n",
       "<style scoped>\n",
       "    .dataframe tbody tr th:only-of-type {\n",
       "        vertical-align: middle;\n",
       "    }\n",
       "\n",
       "    .dataframe tbody tr th {\n",
       "        vertical-align: top;\n",
       "    }\n",
       "\n",
       "    .dataframe thead th {\n",
       "        text-align: right;\n",
       "    }\n",
       "</style>\n",
       "<table border=\"1\" class=\"dataframe\">\n",
       "  <thead>\n",
       "    <tr style=\"text-align: right;\">\n",
       "      <th></th>\n",
       "      <th>Reactome_ID</th>\n",
       "      <th>protein_id</th>\n",
       "      <th>protein_index</th>\n",
       "      <th>module_size</th>\n",
       "    </tr>\n",
       "  </thead>\n",
       "  <tbody>\n",
       "    <tr>\n",
       "      <th>0</th>\n",
       "      <td>R-HSA-1031716</td>\n",
       "      <td>[TRIM10, TRIM22, IRF9, IFI30, TRIM38, TRIM3, T...</td>\n",
       "      <td>[10480, 6234, 7001, 11737, 4192, 8083, 7685, 8...</td>\n",
       "      <td>73</td>\n",
       "    </tr>\n",
       "    <tr>\n",
       "      <th>1</th>\n",
       "      <td>R-HSA-112379</td>\n",
       "      <td>[CDK7, CDK9, SUPT16H, LEO1, ERCC2, ERCC3, RTF1...</td>\n",
       "      <td>[3063, 2790, 512, 5493, 2565, 2775, 5494, 4148...</td>\n",
       "      <td>56</td>\n",
       "    </tr>\n",
       "  </tbody>\n",
       "</table>\n",
       "</div>"
      ],
      "text/plain": [
       "     Reactome_ID                                         protein_id  \\\n",
       "0  R-HSA-1031716  [TRIM10, TRIM22, IRF9, IFI30, TRIM38, TRIM3, T...   \n",
       "1   R-HSA-112379  [CDK7, CDK9, SUPT16H, LEO1, ERCC2, ERCC3, RTF1...   \n",
       "\n",
       "                                       protein_index  module_size  \n",
       "0  [10480, 6234, 7001, 11737, 4192, 8083, 7685, 8...           73  \n",
       "1  [3063, 2790, 512, 5493, 2565, 2775, 5494, 4148...           56  "
      ]
     },
     "execution_count": 50,
     "metadata": {},
     "output_type": "execute_result"
    }
   ],
   "source": [
    "reactome_proteins_indices = reactome_proteins_indices[\n",
    "    (reactome_proteins_indices.module_size <= 300)&\n",
    "    (reactome_proteins_indices.module_size >= 50)\n",
    "    ]\n",
    "\n",
    "print(reactome_proteins_indices.shape[0])\n",
    "reactome_proteins_indices.head(2)"
   ]
  },
  {
   "cell_type": "code",
   "execution_count": 51,
   "id": "09393398",
   "metadata": {},
   "outputs": [
    {
     "data": {
      "text/html": [
       "<div>\n",
       "<style scoped>\n",
       "    .dataframe tbody tr th:only-of-type {\n",
       "        vertical-align: middle;\n",
       "    }\n",
       "\n",
       "    .dataframe tbody tr th {\n",
       "        vertical-align: top;\n",
       "    }\n",
       "\n",
       "    .dataframe thead th {\n",
       "        text-align: right;\n",
       "    }\n",
       "</style>\n",
       "<table border=\"1\" class=\"dataframe\">\n",
       "  <thead>\n",
       "    <tr style=\"text-align: right;\">\n",
       "      <th></th>\n",
       "      <th>module_id</th>\n",
       "      <th>protein_id</th>\n",
       "      <th>protein_index</th>\n",
       "      <th>module_size</th>\n",
       "    </tr>\n",
       "  </thead>\n",
       "  <tbody>\n",
       "    <tr>\n",
       "      <th>0</th>\n",
       "      <td>R-HSA-1031716</td>\n",
       "      <td>[TRIM10, TRIM22, IRF9, IFI30, TRIM38, TRIM3, T...</td>\n",
       "      <td>[10480, 6234, 7001, 11737, 4192, 8083, 7685, 8...</td>\n",
       "      <td>73</td>\n",
       "    </tr>\n",
       "    <tr>\n",
       "      <th>1</th>\n",
       "      <td>R-HSA-112379</td>\n",
       "      <td>[CDK7, CDK9, SUPT16H, LEO1, ERCC2, ERCC3, RTF1...</td>\n",
       "      <td>[3063, 2790, 512, 5493, 2565, 2775, 5494, 4148...</td>\n",
       "      <td>56</td>\n",
       "    </tr>\n",
       "  </tbody>\n",
       "</table>\n",
       "</div>"
      ],
      "text/plain": [
       "       module_id                                         protein_id  \\\n",
       "0  R-HSA-1031716  [TRIM10, TRIM22, IRF9, IFI30, TRIM38, TRIM3, T...   \n",
       "1   R-HSA-112379  [CDK7, CDK9, SUPT16H, LEO1, ERCC2, ERCC3, RTF1...   \n",
       "\n",
       "                                       protein_index  module_size  \n",
       "0  [10480, 6234, 7001, 11737, 4192, 8083, 7685, 8...           73  \n",
       "1  [3063, 2790, 512, 5493, 2565, 2775, 5494, 4148...           56  "
      ]
     },
     "execution_count": 51,
     "metadata": {},
     "output_type": "execute_result"
    }
   ],
   "source": [
    "reactome_proteins_indices.rename(columns={'Reactome_ID': 'module_id'}, inplace=True)\n",
    "reactome_proteins_indices.head(2)"
   ]
  },
  {
   "cell_type": "code",
   "execution_count": 52,
   "id": "044fdb3d",
   "metadata": {},
   "outputs": [],
   "source": [
    "reactome_proteins_indices.to_csv('../../data/processed/reactome_modules_apid_huri.csv', index=False)"
   ]
  },
  {
   "attachments": {},
   "cell_type": "markdown",
   "id": "3ffb77ee",
   "metadata": {},
   "source": [
    "### Add false annotations to modules"
   ]
  },
  {
   "cell_type": "code",
   "execution_count": 53,
   "id": "bfcb63ed",
   "metadata": {},
   "outputs": [
    {
     "name": "stderr",
     "output_type": "stream",
     "text": [
      "  0%|          | 0/426 [00:00<?, ?it/s]"
     ]
    },
    {
     "name": "stderr",
     "output_type": "stream",
     "text": [
      "100%|██████████| 426/426 [10:30<00:00,  1.48s/it]\n"
     ]
    },
    {
     "data": {
      "text/html": [
       "<div>\n",
       "<style scoped>\n",
       "    .dataframe tbody tr th:only-of-type {\n",
       "        vertical-align: middle;\n",
       "    }\n",
       "\n",
       "    .dataframe tbody tr th {\n",
       "        vertical-align: top;\n",
       "    }\n",
       "\n",
       "    .dataframe thead th {\n",
       "        text-align: right;\n",
       "    }\n",
       "</style>\n",
       "<table border=\"1\" class=\"dataframe\">\n",
       "  <thead>\n",
       "    <tr style=\"text-align: right;\">\n",
       "      <th></th>\n",
       "      <th>module_id</th>\n",
       "      <th>protein_id</th>\n",
       "      <th>protein_index</th>\n",
       "    </tr>\n",
       "  </thead>\n",
       "  <tbody>\n",
       "    <tr>\n",
       "      <th>0</th>\n",
       "      <td>R-HSA-1031716</td>\n",
       "      <td>[TRIM10, TRIM22, IRF9, IFI30, TRIM38, TRIM3, T...</td>\n",
       "      <td>[10480, 6234, 7001, 11737, 4192, 8083, 7685, 8...</td>\n",
       "    </tr>\n",
       "    <tr>\n",
       "      <th>1</th>\n",
       "      <td>R-HSA-112379</td>\n",
       "      <td>[CDK7, CDK9, SUPT16H, LEO1, ERCC2, ERCC3, RTF1...</td>\n",
       "      <td>[3063, 2790, 512, 5493, 2565, 2775, 5494, 4148...</td>\n",
       "    </tr>\n",
       "  </tbody>\n",
       "</table>\n",
       "</div>"
      ],
      "text/plain": [
       "       module_id                                         protein_id  \\\n",
       "0  R-HSA-1031716  [TRIM10, TRIM22, IRF9, IFI30, TRIM38, TRIM3, T...   \n",
       "1   R-HSA-112379  [CDK7, CDK9, SUPT16H, LEO1, ERCC2, ERCC3, RTF1...   \n",
       "\n",
       "                                       protein_index  \n",
       "0  [10480, 6234, 7001, 11737, 4192, 8083, 7685, 8...  \n",
       "1  [3063, 2790, 512, 5493, 2565, 2775, 5494, 4148...  "
      ]
     },
     "execution_count": 53,
     "metadata": {},
     "output_type": "execute_result"
    }
   ],
   "source": [
    "importlib.reload(disease_process_proteins)\n",
    "reactome_proteins_indices_fa = disease_process_proteins.add_false_annotations(reactome_proteins_indices, sp_df, apid_huri_graph, n_jobs=4)\n",
    "reactome_proteins_indices_fa.head(2)"
   ]
  },
  {
   "cell_type": "code",
   "execution_count": 54,
   "id": "ed329f65",
   "metadata": {},
   "outputs": [],
   "source": [
    "reactome_proteins_indices_fa.to_csv('../../data/processed/reactome_modules_fa_apid_huri.csv', index=False)"
   ]
  },
  {
   "attachments": {},
   "cell_type": "markdown",
   "id": "d6600c30",
   "metadata": {},
   "source": [
    "## Disgenet Disease Modules"
   ]
  },
  {
   "cell_type": "code",
   "execution_count": 7,
   "id": "4204e3de",
   "metadata": {},
   "outputs": [
    {
     "name": "stdout",
     "output_type": "stream",
     "text": [
      "78830\n"
     ]
    },
    {
     "data": {
      "text/html": [
       "<div>\n",
       "<style scoped>\n",
       "    .dataframe tbody tr th:only-of-type {\n",
       "        vertical-align: middle;\n",
       "    }\n",
       "\n",
       "    .dataframe tbody tr th {\n",
       "        vertical-align: top;\n",
       "    }\n",
       "\n",
       "    .dataframe thead th {\n",
       "        text-align: right;\n",
       "    }\n",
       "</style>\n",
       "<table border=\"1\" class=\"dataframe\">\n",
       "  <thead>\n",
       "    <tr style=\"text-align: right;\">\n",
       "      <th></th>\n",
       "      <th>diseaseId</th>\n",
       "      <th>protein_id</th>\n",
       "    </tr>\n",
       "  </thead>\n",
       "  <tbody>\n",
       "    <tr>\n",
       "      <th>0</th>\n",
       "      <td>C0019209</td>\n",
       "      <td>A1BG</td>\n",
       "    </tr>\n",
       "    <tr>\n",
       "      <th>1</th>\n",
       "      <td>C0036341</td>\n",
       "      <td>A1BG</td>\n",
       "    </tr>\n",
       "  </tbody>\n",
       "</table>\n",
       "</div>"
      ],
      "text/plain": [
       "  diseaseId protein_id\n",
       "0  C0019209       A1BG\n",
       "1  C0036341       A1BG"
      ]
     },
     "execution_count": 7,
     "metadata": {},
     "output_type": "execute_result"
    }
   ],
   "source": [
    "disgenet_diseases = disgenet.loc[disgenet['protein_id'].isin(gene_ids['protein_id']), ['diseaseId', 'protein_id']]\n",
    "print(disgenet_diseases.shape[0])\n",
    "disgenet_diseases.head(2)"
   ]
  },
  {
   "cell_type": "code",
   "execution_count": 36,
   "id": "2d6bdaa0",
   "metadata": {},
   "outputs": [
    {
     "name": "stdout",
     "output_type": "stream",
     "text": [
      "10859\n"
     ]
    },
    {
     "data": {
      "text/html": [
       "<div>\n",
       "<style scoped>\n",
       "    .dataframe tbody tr th:only-of-type {\n",
       "        vertical-align: middle;\n",
       "    }\n",
       "\n",
       "    .dataframe tbody tr th {\n",
       "        vertical-align: top;\n",
       "    }\n",
       "\n",
       "    .dataframe thead th {\n",
       "        text-align: right;\n",
       "    }\n",
       "</style>\n",
       "<table border=\"1\" class=\"dataframe\">\n",
       "  <thead>\n",
       "    <tr style=\"text-align: right;\">\n",
       "      <th></th>\n",
       "      <th>diseaseId</th>\n",
       "      <th>protein_id</th>\n",
       "      <th>protein_index</th>\n",
       "      <th>module_size</th>\n",
       "    </tr>\n",
       "  </thead>\n",
       "  <tbody>\n",
       "    <tr>\n",
       "      <th>0</th>\n",
       "      <td>C0000737</td>\n",
       "      <td>[IFNA2]</td>\n",
       "      <td>[9754]</td>\n",
       "      <td>1</td>\n",
       "    </tr>\n",
       "    <tr>\n",
       "      <th>1</th>\n",
       "      <td>C0000744</td>\n",
       "      <td>[MTTP]</td>\n",
       "      <td>[2991]</td>\n",
       "      <td>1</td>\n",
       "    </tr>\n",
       "  </tbody>\n",
       "</table>\n",
       "</div>"
      ],
      "text/plain": [
       "  diseaseId protein_id protein_index  module_size\n",
       "0  C0000737    [IFNA2]        [9754]            1\n",
       "1  C0000744     [MTTP]        [2991]            1"
      ]
     },
     "execution_count": 36,
     "metadata": {},
     "output_type": "execute_result"
    }
   ],
   "source": [
    "importlib.reload(disease_process_proteins)\n",
    "disgenet_protein_indices = disease_process_proteins.get_protein_index(disgenet_diseases, apid_huri_graph, 'diseaseId')\n",
    "print(disgenet_protein_indices.shape[0])\n",
    "disgenet_protein_indices.head(2)"
   ]
  },
  {
   "cell_type": "code",
   "execution_count": 38,
   "id": "55121e5a",
   "metadata": {},
   "outputs": [
    {
     "name": "stdout",
     "output_type": "stream",
     "text": [
      "300\n"
     ]
    },
    {
     "data": {
      "text/html": [
       "<div>\n",
       "<style scoped>\n",
       "    .dataframe tbody tr th:only-of-type {\n",
       "        vertical-align: middle;\n",
       "    }\n",
       "\n",
       "    .dataframe tbody tr th {\n",
       "        vertical-align: top;\n",
       "    }\n",
       "\n",
       "    .dataframe thead th {\n",
       "        text-align: right;\n",
       "    }\n",
       "</style>\n",
       "<table border=\"1\" class=\"dataframe\">\n",
       "  <thead>\n",
       "    <tr style=\"text-align: right;\">\n",
       "      <th></th>\n",
       "      <th>diseaseId</th>\n",
       "      <th>protein_id</th>\n",
       "      <th>protein_index</th>\n",
       "      <th>module_size</th>\n",
       "    </tr>\n",
       "  </thead>\n",
       "  <tbody>\n",
       "    <tr>\n",
       "      <th>5</th>\n",
       "      <td>C0000786</td>\n",
       "      <td>[AGTR1, AHR, ALPG, APOE, ARNT, CEACAM1, CD7, C...</td>\n",
       "      <td>[2375, 3514, 14913, 2195, 3758, 4206, 9816, 25...</td>\n",
       "      <td>104</td>\n",
       "    </tr>\n",
       "    <tr>\n",
       "      <th>8</th>\n",
       "      <td>C0000822</td>\n",
       "      <td>[AGTR1, AHR, ALPG, APOE, ARNT, CEACAM1, CD7, C...</td>\n",
       "      <td>[2375, 3514, 14913, 2195, 3758, 4206, 9816, 25...</td>\n",
       "      <td>104</td>\n",
       "    </tr>\n",
       "  </tbody>\n",
       "</table>\n",
       "</div>"
      ],
      "text/plain": [
       "  diseaseId                                         protein_id  \\\n",
       "5  C0000786  [AGTR1, AHR, ALPG, APOE, ARNT, CEACAM1, CD7, C...   \n",
       "8  C0000822  [AGTR1, AHR, ALPG, APOE, ARNT, CEACAM1, CD7, C...   \n",
       "\n",
       "                                       protein_index  module_size  \n",
       "5  [2375, 3514, 14913, 2195, 3758, 4206, 9816, 25...          104  \n",
       "8  [2375, 3514, 14913, 2195, 3758, 4206, 9816, 25...          104  "
      ]
     },
     "execution_count": 38,
     "metadata": {},
     "output_type": "execute_result"
    }
   ],
   "source": [
    "disgenet_protein_indices = disgenet_protein_indices[\n",
    "    (disgenet_protein_indices.module_size <= 300)&\n",
    "    (disgenet_protein_indices.module_size >= 50)\n",
    "    ]\n",
    "\n",
    "print(disgenet_protein_indices.shape[0])\n",
    "disgenet_protein_indices.head(2)"
   ]
  },
  {
   "cell_type": "code",
   "execution_count": 39,
   "id": "1ed31bfe",
   "metadata": {},
   "outputs": [],
   "source": [
    "ids = apid_huri_graph.vs['name']"
   ]
  },
  {
   "cell_type": "code",
   "execution_count": 41,
   "id": "a1c4eedc",
   "metadata": {},
   "outputs": [
    {
     "data": {
      "application/vnd.jupyter.widget-view+json": {
       "model_id": "544a74531ab345709a5719d02a896249",
       "version_major": 2,
       "version_minor": 0
      },
      "text/plain": [
       "  0%|          | 0/300 [00:00<?, ?it/s]"
      ]
     },
     "metadata": {},
     "output_type": "display_data"
    }
   ],
   "source": [
    "importlib.reload(steiner_tree)\n",
    "\n",
    "disgenet_protein_indices_sca = disgenet_protein_indices.copy()\n",
    "\n",
    "disgenet_protein_indices_sca['main_component'],\\\n",
    "    disgenet_protein_indices_sca['conservative_module'],\\\n",
    "        disgenet_protein_indices_sca['added_proteins'] = disgenet_protein_indices_sca.progress_apply(\n",
    "            lambda row: steiner_tree.sca(row['protein_index'], apid_huri_graph, apid_huri_adj_matrix), axis=1, result_type='expand'\n",
    "            ).T.values"
   ]
  },
  {
   "cell_type": "code",
   "execution_count": 42,
   "id": "e03396f9",
   "metadata": {},
   "outputs": [],
   "source": [
    "disgenet_protein_indices_sca['main_component_size'] = disgenet_protein_indices_sca['main_component'].apply(lambda x: len(x))\n",
    "disgenet_protein_indices_sca['conservative_module_size'] = disgenet_protein_indices_sca['conservative_module'].apply(lambda x: len(x))\n",
    "disgenet_protein_indices_sca['n_added_proteins'] = disgenet_protein_indices_sca['added_proteins'].apply(lambda x: len(x))"
   ]
  },
  {
   "cell_type": "code",
   "execution_count": 43,
   "id": "e1297a8a",
   "metadata": {},
   "outputs": [],
   "source": [
    "disgenet_protein_indices_sca['main_component_ids'] = disgenet_protein_indices_sca.apply(lambda row: [ids[i] for i in row['main_component']], axis=1)\n",
    "disgenet_protein_indices_sca['conservative_module_ids'] = disgenet_protein_indices_sca.apply(lambda row: [ids[i] for i in row['conservative_module']], axis=1)\n",
    "disgenet_protein_indices_sca['added_protein_ids'] = disgenet_protein_indices_sca.apply(lambda row: [ids[i] for i in row['added_proteins']], axis=1)"
   ]
  },
  {
   "cell_type": "code",
   "execution_count": 45,
   "id": "fe67b199",
   "metadata": {},
   "outputs": [],
   "source": [
    "disgenet_protein_indices_sca['increase_pct'] = disgenet_protein_indices_sca.n_added_proteins/disgenet_protein_indices_sca.module_size"
   ]
  },
  {
   "cell_type": "code",
   "execution_count": 55,
   "id": "1588f1a0",
   "metadata": {},
   "outputs": [
    {
     "data": {
      "text/html": [
       "<div>\n",
       "<style scoped>\n",
       "    .dataframe tbody tr th:only-of-type {\n",
       "        vertical-align: middle;\n",
       "    }\n",
       "\n",
       "    .dataframe tbody tr th {\n",
       "        vertical-align: top;\n",
       "    }\n",
       "\n",
       "    .dataframe thead th {\n",
       "        text-align: right;\n",
       "    }\n",
       "</style>\n",
       "<table border=\"1\" class=\"dataframe\">\n",
       "  <thead>\n",
       "    <tr style=\"text-align: right;\">\n",
       "      <th></th>\n",
       "      <th>module_id</th>\n",
       "      <th>protein_id</th>\n",
       "      <th>protein_index</th>\n",
       "      <th>module_size</th>\n",
       "      <th>main_component</th>\n",
       "      <th>conservative_module</th>\n",
       "      <th>added_proteins</th>\n",
       "      <th>main_component_size</th>\n",
       "      <th>conservative_module_size</th>\n",
       "      <th>n_added_proteins</th>\n",
       "      <th>main_component_ids</th>\n",
       "      <th>conservative_module_ids</th>\n",
       "      <th>added_protein_ids</th>\n",
       "      <th>increase_pct</th>\n",
       "    </tr>\n",
       "  </thead>\n",
       "  <tbody>\n",
       "    <tr>\n",
       "      <th>5</th>\n",
       "      <td>C0000786</td>\n",
       "      <td>[AGTR1, AHR, ALPG, APOE, ARNT, CEACAM1, CD7, C...</td>\n",
       "      <td>[2375, 3514, 14913, 2195, 3758, 4206, 9816, 25...</td>\n",
       "      <td>104</td>\n",
       "      <td>[2375, 3514, 14913, 2195, 3758, 4206, 9816, 25...</td>\n",
       "      <td>[12291, 13317, 9737, 9739, 1548, 11791, 16923,...</td>\n",
       "      <td>[145, 1243, 1453, 2613, 7084, 1838, 932, 4497,...</td>\n",
       "      <td>148</td>\n",
       "      <td>102</td>\n",
       "      <td>46</td>\n",
       "      <td>[AGTR1, AHR, ALPG, APOE, ARNT, CEACAM1, CD7, C...</td>\n",
       "      <td>[IFI44, MMP12, CD226, CEACAM6, MMP15, FLRT3, I...</td>\n",
       "      <td>[EGFR, KANK2, APP, TGM2, HSCB, UBQLN2, EBP, CU...</td>\n",
       "      <td>0.442308</td>\n",
       "    </tr>\n",
       "    <tr>\n",
       "      <th>8</th>\n",
       "      <td>C0000822</td>\n",
       "      <td>[AGTR1, AHR, ALPG, APOE, ARNT, CEACAM1, CD7, C...</td>\n",
       "      <td>[2375, 3514, 14913, 2195, 3758, 4206, 9816, 25...</td>\n",
       "      <td>104</td>\n",
       "      <td>[2375, 3514, 14913, 2195, 3758, 4206, 9816, 25...</td>\n",
       "      <td>[12291, 13317, 9737, 9739, 1548, 11791, 16923,...</td>\n",
       "      <td>[145, 1243, 1453, 2613, 7084, 1838, 932, 4497,...</td>\n",
       "      <td>148</td>\n",
       "      <td>102</td>\n",
       "      <td>46</td>\n",
       "      <td>[AGTR1, AHR, ALPG, APOE, ARNT, CEACAM1, CD7, C...</td>\n",
       "      <td>[IFI44, MMP12, CD226, CEACAM6, MMP15, FLRT3, I...</td>\n",
       "      <td>[EGFR, KANK2, APP, TGM2, HSCB, UBQLN2, EBP, CU...</td>\n",
       "      <td>0.442308</td>\n",
       "    </tr>\n",
       "  </tbody>\n",
       "</table>\n",
       "</div>"
      ],
      "text/plain": [
       "  module_id                                         protein_id  \\\n",
       "5  C0000786  [AGTR1, AHR, ALPG, APOE, ARNT, CEACAM1, CD7, C...   \n",
       "8  C0000822  [AGTR1, AHR, ALPG, APOE, ARNT, CEACAM1, CD7, C...   \n",
       "\n",
       "                                       protein_index  module_size  \\\n",
       "5  [2375, 3514, 14913, 2195, 3758, 4206, 9816, 25...          104   \n",
       "8  [2375, 3514, 14913, 2195, 3758, 4206, 9816, 25...          104   \n",
       "\n",
       "                                      main_component  \\\n",
       "5  [2375, 3514, 14913, 2195, 3758, 4206, 9816, 25...   \n",
       "8  [2375, 3514, 14913, 2195, 3758, 4206, 9816, 25...   \n",
       "\n",
       "                                 conservative_module  \\\n",
       "5  [12291, 13317, 9737, 9739, 1548, 11791, 16923,...   \n",
       "8  [12291, 13317, 9737, 9739, 1548, 11791, 16923,...   \n",
       "\n",
       "                                      added_proteins  main_component_size  \\\n",
       "5  [145, 1243, 1453, 2613, 7084, 1838, 932, 4497,...                  148   \n",
       "8  [145, 1243, 1453, 2613, 7084, 1838, 932, 4497,...                  148   \n",
       "\n",
       "   conservative_module_size  n_added_proteins  \\\n",
       "5                       102                46   \n",
       "8                       102                46   \n",
       "\n",
       "                                  main_component_ids  \\\n",
       "5  [AGTR1, AHR, ALPG, APOE, ARNT, CEACAM1, CD7, C...   \n",
       "8  [AGTR1, AHR, ALPG, APOE, ARNT, CEACAM1, CD7, C...   \n",
       "\n",
       "                             conservative_module_ids  \\\n",
       "5  [IFI44, MMP12, CD226, CEACAM6, MMP15, FLRT3, I...   \n",
       "8  [IFI44, MMP12, CD226, CEACAM6, MMP15, FLRT3, I...   \n",
       "\n",
       "                                   added_protein_ids  increase_pct  \n",
       "5  [EGFR, KANK2, APP, TGM2, HSCB, UBQLN2, EBP, CU...      0.442308  \n",
       "8  [EGFR, KANK2, APP, TGM2, HSCB, UBQLN2, EBP, CU...      0.442308  "
      ]
     },
     "execution_count": 55,
     "metadata": {},
     "output_type": "execute_result"
    }
   ],
   "source": [
    "disgenet_protein_indices_sca.rename(columns={'diseaseId': 'module_id'}, inplace=True)\n",
    "disgenet_protein_indices_sca.head(2)"
   ]
  },
  {
   "cell_type": "code",
   "execution_count": 47,
   "id": "94547d22",
   "metadata": {},
   "outputs": [],
   "source": [
    "disgenet_protein_indices.to_csv('../../data/processed/disgenet_modules_apid_huri.csv', index=False)"
   ]
  },
  {
   "cell_type": "code",
   "execution_count": 59,
   "id": "f8e06802",
   "metadata": {},
   "outputs": [
    {
     "data": {
      "text/html": [
       "<div>\n",
       "<style scoped>\n",
       "    .dataframe tbody tr th:only-of-type {\n",
       "        vertical-align: middle;\n",
       "    }\n",
       "\n",
       "    .dataframe tbody tr th {\n",
       "        vertical-align: top;\n",
       "    }\n",
       "\n",
       "    .dataframe thead th {\n",
       "        text-align: right;\n",
       "    }\n",
       "</style>\n",
       "<table border=\"1\" class=\"dataframe\">\n",
       "  <thead>\n",
       "    <tr style=\"text-align: right;\">\n",
       "      <th></th>\n",
       "      <th>module_id</th>\n",
       "      <th>protein_id</th>\n",
       "      <th>protein_index</th>\n",
       "      <th>module_size</th>\n",
       "    </tr>\n",
       "  </thead>\n",
       "  <tbody>\n",
       "    <tr>\n",
       "      <th>24</th>\n",
       "      <td>C0001418</td>\n",
       "      <td>[ABL1, ALOX5, ALOX12B, APC, BIRC5, APOA1, APOE...</td>\n",
       "      <td>[2510, 3877, 10381, 853, 2600, 2518, 2195, 789...</td>\n",
       "      <td>134</td>\n",
       "    </tr>\n",
       "    <tr>\n",
       "      <th>48</th>\n",
       "      <td>C0001973</td>\n",
       "      <td>[NAT1, ABO, ADCY5, ADCY7, ADH1A, ADH1B, ADH1C,...</td>\n",
       "      <td>[14914, 16411, 13350, 9792, 16667, 9783, 14841...</td>\n",
       "      <td>325</td>\n",
       "    </tr>\n",
       "  </tbody>\n",
       "</table>\n",
       "</div>"
      ],
      "text/plain": [
       "   module_id                                         protein_id  \\\n",
       "24  C0001418  [ABL1, ALOX5, ALOX12B, APC, BIRC5, APOA1, APOE...   \n",
       "48  C0001973  [NAT1, ABO, ADCY5, ADCY7, ADH1A, ADH1B, ADH1C,...   \n",
       "\n",
       "                                        protein_index  module_size  \n",
       "24  [2510, 3877, 10381, 853, 2600, 2518, 2195, 789...          134  \n",
       "48  [14914, 16411, 13350, 9792, 16667, 9783, 14841...          325  "
      ]
     },
     "execution_count": 59,
     "metadata": {},
     "output_type": "execute_result"
    }
   ],
   "source": [
    "disgenet_sca_modules = disgenet_protein_indices_sca[disgenet_protein_indices_sca['increase_pct']<0.4][\n",
    "    ['module_id', 'main_component_ids', 'main_component', 'main_component_size']\n",
    "    ]\n",
    "disgenet_sca_modules.columns = ['module_id', 'protein_id', 'protein_index', 'module_size']\n",
    "disgenet_sca_modules.head(2)"
   ]
  },
  {
   "cell_type": "code",
   "execution_count": 63,
   "id": "f1f6074e",
   "metadata": {},
   "outputs": [
    {
     "data": {
      "text/html": [
       "<div>\n",
       "<style scoped>\n",
       "    .dataframe tbody tr th:only-of-type {\n",
       "        vertical-align: middle;\n",
       "    }\n",
       "\n",
       "    .dataframe tbody tr th {\n",
       "        vertical-align: top;\n",
       "    }\n",
       "\n",
       "    .dataframe thead th {\n",
       "        text-align: right;\n",
       "    }\n",
       "</style>\n",
       "<table border=\"1\" class=\"dataframe\">\n",
       "  <thead>\n",
       "    <tr style=\"text-align: right;\">\n",
       "      <th></th>\n",
       "      <th>module_id</th>\n",
       "      <th>protein_id</th>\n",
       "      <th>protein_index</th>\n",
       "      <th>module_size</th>\n",
       "    </tr>\n",
       "  </thead>\n",
       "  <tbody>\n",
       "    <tr>\n",
       "      <th>5</th>\n",
       "      <td>C0000786</td>\n",
       "      <td>[IFI44, MMP12, CD226, CEACAM6, MMP15, FLRT3, I...</td>\n",
       "      <td>[12291, 13317, 9737, 9739, 1548, 11791, 16923,...</td>\n",
       "      <td>102</td>\n",
       "    </tr>\n",
       "    <tr>\n",
       "      <th>8</th>\n",
       "      <td>C0000822</td>\n",
       "      <td>[IFI44, MMP12, CD226, CEACAM6, MMP15, FLRT3, I...</td>\n",
       "      <td>[12291, 13317, 9737, 9739, 1548, 11791, 16923,...</td>\n",
       "      <td>102</td>\n",
       "    </tr>\n",
       "  </tbody>\n",
       "</table>\n",
       "</div>"
      ],
      "text/plain": [
       "  module_id                                         protein_id  \\\n",
       "5  C0000786  [IFI44, MMP12, CD226, CEACAM6, MMP15, FLRT3, I...   \n",
       "8  C0000822  [IFI44, MMP12, CD226, CEACAM6, MMP15, FLRT3, I...   \n",
       "\n",
       "                                       protein_index  module_size  \n",
       "5  [12291, 13317, 9737, 9739, 1548, 11791, 16923,...          102  \n",
       "8  [12291, 13317, 9737, 9739, 1548, 11791, 16923,...          102  "
      ]
     },
     "execution_count": 63,
     "metadata": {},
     "output_type": "execute_result"
    }
   ],
   "source": [
    "disgenet_conservative_modules = disgenet_protein_indices_sca[['module_id', 'conservative_module_ids', 'conservative_module', 'conservative_module_size']]\n",
    "disgenet_conservative_modules.columns = ['module_id', 'protein_id', 'protein_index', 'module_size']\n",
    "disgenet_conservative_modules.head(2)"
   ]
  },
  {
   "cell_type": "code",
   "execution_count": 65,
   "id": "f2e14947",
   "metadata": {},
   "outputs": [],
   "source": [
    "disgenet_sca_modules.to_csv('../../data/processed/disgenet_sca_modules_apid_huri.csv', index=False)\n",
    "disgenet_conservative_modules.to_csv('../../data/processed/disgenet_conservative_modules_apid_huri.csv', index=False)"
   ]
  },
  {
   "attachments": {},
   "cell_type": "markdown",
   "id": "d2702a3a",
   "metadata": {},
   "source": [
    "### Add false annotations"
   ]
  },
  {
   "cell_type": "code",
   "execution_count": 7,
   "id": "93061816",
   "metadata": {},
   "outputs": [
    {
     "name": "stdout",
     "output_type": "stream",
     "text": [
      "204\n"
     ]
    },
    {
     "data": {
      "text/html": [
       "<div>\n",
       "<style scoped>\n",
       "    .dataframe tbody tr th:only-of-type {\n",
       "        vertical-align: middle;\n",
       "    }\n",
       "\n",
       "    .dataframe tbody tr th {\n",
       "        vertical-align: top;\n",
       "    }\n",
       "\n",
       "    .dataframe thead th {\n",
       "        text-align: right;\n",
       "    }\n",
       "</style>\n",
       "<table border=\"1\" class=\"dataframe\">\n",
       "  <thead>\n",
       "    <tr style=\"text-align: right;\">\n",
       "      <th></th>\n",
       "      <th>module_id</th>\n",
       "      <th>protein_id</th>\n",
       "      <th>protein_index</th>\n",
       "      <th>module_size</th>\n",
       "    </tr>\n",
       "  </thead>\n",
       "  <tbody>\n",
       "    <tr>\n",
       "      <th>0</th>\n",
       "      <td>C0001418</td>\n",
       "      <td>[ABL1, ALOX5, ALOX12B, APC, BIRC5, APOA1, APOE...</td>\n",
       "      <td>[2510, 3877, 10381, 853, 2600, 2518, 2195, 789...</td>\n",
       "      <td>134</td>\n",
       "    </tr>\n",
       "    <tr>\n",
       "      <th>1</th>\n",
       "      <td>C0001973</td>\n",
       "      <td>[NAT1, ABO, ADCY5, ADCY7, ADH1A, ADH1B, ADH1C,...</td>\n",
       "      <td>[14914, 16411, 13350, 9792, 16667, 9783, 14841...</td>\n",
       "      <td>325</td>\n",
       "    </tr>\n",
       "  </tbody>\n",
       "</table>\n",
       "</div>"
      ],
      "text/plain": [
       "  module_id                                         protein_id  \\\n",
       "0  C0001418  [ABL1, ALOX5, ALOX12B, APC, BIRC5, APOA1, APOE...   \n",
       "1  C0001973  [NAT1, ABO, ADCY5, ADCY7, ADH1A, ADH1B, ADH1C,...   \n",
       "\n",
       "                                       protein_index  module_size  \n",
       "0  [2510, 3877, 10381, 853, 2600, 2518, 2195, 789...          134  \n",
       "1  [14914, 16411, 13350, 9792, 16667, 9783, 14841...          325  "
      ]
     },
     "metadata": {},
     "output_type": "display_data"
    },
    {
     "name": "stdout",
     "output_type": "stream",
     "text": [
      "300\n"
     ]
    },
    {
     "data": {
      "text/html": [
       "<div>\n",
       "<style scoped>\n",
       "    .dataframe tbody tr th:only-of-type {\n",
       "        vertical-align: middle;\n",
       "    }\n",
       "\n",
       "    .dataframe tbody tr th {\n",
       "        vertical-align: top;\n",
       "    }\n",
       "\n",
       "    .dataframe thead th {\n",
       "        text-align: right;\n",
       "    }\n",
       "</style>\n",
       "<table border=\"1\" class=\"dataframe\">\n",
       "  <thead>\n",
       "    <tr style=\"text-align: right;\">\n",
       "      <th></th>\n",
       "      <th>module_id</th>\n",
       "      <th>protein_id</th>\n",
       "      <th>protein_index</th>\n",
       "      <th>module_size</th>\n",
       "    </tr>\n",
       "  </thead>\n",
       "  <tbody>\n",
       "    <tr>\n",
       "      <th>0</th>\n",
       "      <td>C0000786</td>\n",
       "      <td>[IFI44, MMP12, CD226, CEACAM6, MMP15, FLRT3, I...</td>\n",
       "      <td>[12291, 13317, 9737, 9739, 1548, 11791, 16923,...</td>\n",
       "      <td>102</td>\n",
       "    </tr>\n",
       "    <tr>\n",
       "      <th>1</th>\n",
       "      <td>C0000822</td>\n",
       "      <td>[IFI44, MMP12, CD226, CEACAM6, MMP15, FLRT3, I...</td>\n",
       "      <td>[12291, 13317, 9737, 9739, 1548, 11791, 16923,...</td>\n",
       "      <td>102</td>\n",
       "    </tr>\n",
       "  </tbody>\n",
       "</table>\n",
       "</div>"
      ],
      "text/plain": [
       "  module_id                                         protein_id  \\\n",
       "0  C0000786  [IFI44, MMP12, CD226, CEACAM6, MMP15, FLRT3, I...   \n",
       "1  C0000822  [IFI44, MMP12, CD226, CEACAM6, MMP15, FLRT3, I...   \n",
       "\n",
       "                                       protein_index  module_size  \n",
       "0  [12291, 13317, 9737, 9739, 1548, 11791, 16923,...          102  \n",
       "1  [12291, 13317, 9737, 9739, 1548, 11791, 16923,...          102  "
      ]
     },
     "execution_count": 7,
     "metadata": {},
     "output_type": "execute_result"
    }
   ],
   "source": [
    "disgenet_sca_modules = pd.read_csv(\n",
    "    '../../data/processed/disgenet_sca_modules_apid_huri.csv',\n",
    "    converters={'protein_id': eval, 'protein_index': eval}\n",
    "    )\n",
    "print(disgenet_sca_modules.shape[0])\n",
    "display(disgenet_sca_modules.head(2))\n",
    "\n",
    "disgenet_conservative_modules = pd.read_csv(\n",
    "    '../../data/processed/disgenet_conservative_modules_apid_huri.csv',\n",
    "    converters={'protein_id': eval, 'protein_index': eval}\n",
    "    )\n",
    "print(disgenet_conservative_modules.shape[0])\n",
    "disgenet_conservative_modules.head(2)"
   ]
  },
  {
   "cell_type": "code",
   "execution_count": null,
   "id": "a2f77816",
   "metadata": {},
   "outputs": [],
   "source": [
    "importlib.reload(disease_process_proteins)\n",
    "disgenet_sca_modules_fa = disease_process_proteins.add_false_annotations(disgenet_sca_modules, sp_df, apid_huri_graph, n_jobs=4)\n",
    "disgenet_sca_modules_fa.head(2)"
   ]
  },
  {
   "cell_type": "code",
   "execution_count": 16,
   "id": "080de61b",
   "metadata": {},
   "outputs": [
    {
     "name": "stderr",
     "output_type": "stream",
     "text": [
      "100%|██████████| 300/300 [06:35<00:00,  1.32s/it]\n"
     ]
    },
    {
     "data": {
      "text/html": [
       "<div>\n",
       "<style scoped>\n",
       "    .dataframe tbody tr th:only-of-type {\n",
       "        vertical-align: middle;\n",
       "    }\n",
       "\n",
       "    .dataframe tbody tr th {\n",
       "        vertical-align: top;\n",
       "    }\n",
       "\n",
       "    .dataframe thead th {\n",
       "        text-align: right;\n",
       "    }\n",
       "</style>\n",
       "<table border=\"1\" class=\"dataframe\">\n",
       "  <thead>\n",
       "    <tr style=\"text-align: right;\">\n",
       "      <th></th>\n",
       "      <th>module_id</th>\n",
       "      <th>protein_id</th>\n",
       "      <th>protein_index</th>\n",
       "    </tr>\n",
       "  </thead>\n",
       "  <tbody>\n",
       "    <tr>\n",
       "      <th>0</th>\n",
       "      <td>C0000786</td>\n",
       "      <td>[IFI44, MMP12, CD226, CEACAM6, MMP15, FLRT3, I...</td>\n",
       "      <td>[12291, 13317, 9737, 9739, 1548, 11791, 16923,...</td>\n",
       "    </tr>\n",
       "    <tr>\n",
       "      <th>1</th>\n",
       "      <td>C0000822</td>\n",
       "      <td>[IFI44, MMP12, CD226, CEACAM6, MMP15, FLRT3, I...</td>\n",
       "      <td>[12291, 13317, 9737, 9739, 1548, 11791, 16923,...</td>\n",
       "    </tr>\n",
       "  </tbody>\n",
       "</table>\n",
       "</div>"
      ],
      "text/plain": [
       "  module_id                                         protein_id  \\\n",
       "0  C0000786  [IFI44, MMP12, CD226, CEACAM6, MMP15, FLRT3, I...   \n",
       "1  C0000822  [IFI44, MMP12, CD226, CEACAM6, MMP15, FLRT3, I...   \n",
       "\n",
       "                                       protein_index  \n",
       "0  [12291, 13317, 9737, 9739, 1548, 11791, 16923,...  \n",
       "1  [12291, 13317, 9737, 9739, 1548, 11791, 16923,...  "
      ]
     },
     "execution_count": 16,
     "metadata": {},
     "output_type": "execute_result"
    }
   ],
   "source": [
    "importlib.reload(disease_process_proteins)\n",
    "disgenet_conservative_modules_fa = disease_process_proteins.add_false_annotations(disgenet_conservative_modules, sp_df, apid_huri_graph, n_jobs=4)\n",
    "disgenet_conservative_modules_fa.head(2)"
   ]
  },
  {
   "cell_type": "code",
   "execution_count": 18,
   "id": "d183c9c7",
   "metadata": {},
   "outputs": [],
   "source": [
    "disgenet_sca_modules_fa.to_csv('../../data/processed/disgenet_sca_modules_fa_apid_huri.csv', index=False)\n",
    "disgenet_conservative_modules_fa.to_csv('../../data/processed/disgenet_conservative_modules_fa_apid_huri.csv', index=False)"
   ]
  }
 ],
 "metadata": {
  "interpreter": {
   "hash": "42555cd0c5f1594a81e40866f5733b2cbf65026c937bf0149d49f47f234897c3"
  },
  "kernelspec": {
   "display_name": "Python 3 (ipykernel)",
   "language": "python",
   "name": "python3"
  },
  "language_info": {
   "codemirror_mode": {
    "name": "ipython",
    "version": 3
   },
   "file_extension": ".py",
   "mimetype": "text/x-python",
   "name": "python",
   "nbconvert_exporter": "python",
   "pygments_lexer": "ipython3",
   "version": "3.10.11"
  }
 },
 "nbformat": 4,
 "nbformat_minor": 5
}
