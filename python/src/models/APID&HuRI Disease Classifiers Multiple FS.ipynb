{
 "cells": [
  {
   "cell_type": "markdown",
   "id": "e16730ee",
   "metadata": {},
   "source": [
    "# 0. Imports"
   ]
  },
  {
   "cell_type": "code",
   "execution_count": null,
   "id": "ebce7fbd",
   "metadata": {},
   "outputs": [],
   "source": [
    "import pandas as pd\n",
    "import numpy as np\n",
    "from sklearn.linear_model import LogisticRegression\n",
    "from tqdm.notebook import tqdm\n",
    "from tqdm import tqdm_notebook\n",
    "import classifiers\n",
    "import importlib\n",
    "import pickle\n",
    "import warnings\n",
    "warnings.filterwarnings(\"ignore\")"
   ]
  },
  {
   "cell_type": "code",
   "execution_count": null,
   "id": "bc5838ad",
   "metadata": {},
   "outputs": [],
   "source": [
    "%%javascript\n",
    "(function(on) {\n",
    "const e=$( \"<a>Setup failed</a>\" );\n",
    "const ns=\"js_jupyter_suppress_warnings\";\n",
    "var cssrules=$(\"#\"+ns);\n",
    "if(!cssrules.length) cssrules = $(\"<style id='\"+ns+\"' type='text/css'>div.output_stderr { } </style>\").appendTo(\"head\");\n",
    "e.click(function() {\n",
    "    var s='Showing';  \n",
    "    cssrules.empty()\n",
    "    if(on) {\n",
    "        s='Hiding';\n",
    "        cssrules.append(\"div.output_stderr, div[data-mime-type*='.stderr'] { display:none; }\");\n",
    "    }\n",
    "    e.text(s+' warnings (click to toggle)');\n",
    "    on=!on;\n",
    "}).click();\n",
    "$(element).append(e);\n",
    "})(true);"
   ]
  },
  {
   "cell_type": "markdown",
   "id": "88438d25",
   "metadata": {},
   "source": [
    "# 1. Data Load"
   ]
  },
  {
   "cell_type": "code",
   "execution_count": null,
   "id": "6aab1581",
   "metadata": {},
   "outputs": [],
   "source": [
    "hypergeometric = np.array(pd.read_csv(\"../../data/processed/metrics/disease_hypergeometric_apid_huri.csv\", sep=',', header=0, index_col=0).transpose())\n",
    "closeness = np.array(pd.read_csv(\"../../data/processed/metrics/disease_closeness_apid_huri.csv\", sep=',', header=0, index_col=0).transpose())\n",
    "betweenness = np.array(pd.read_csv(\"../../data/processed/metrics/disease_betweenness_apid_huri.csv\", sep=',', header=0, index_col=0).transpose())\n",
    "rwr = np.array(pd.read_csv(\"../../data/processed/metrics/disease_rwr_apid_huri.csv\", sep=',', header=0, index_col=0).transpose())\n",
    "fraction_betweenness = np.array(pd.read_csv(\"../../data/processed/metrics/disease_fraction_betweenness_apid_huri.csv\", sep=',', header=0, index_col=0).transpose())\n",
    "\n",
    "hypergeometric_80 = pd.read_csv(\"../../data/processed/metrics/disease_ppi80_hyper_apid_huri.csv\", sep=',', header=0, index_col=0)\n",
    "closeness_80 = pd.read_csv(\"../../data/processed/metrics/disease_ppi80_closeness_apid_huri.csv\", sep=',', header=0, index_col=0)\n",
    "betweenness_80 = pd.read_csv(\"../../data/processed/metrics/disease_ppi80_betweenness_apid_huri.csv\", sep=',', header=0, index_col=0)\n",
    "fraction_betweenness_80 = pd.read_csv(\"../../data/processed/metrics/disease_ppi80_fraction_betweenness_apid_huri.csv\", sep=',', header=0, index_col=0)\n",
    "rwr_80 = pd.read_csv(\"../../data/processed/metrics/disease_ppi80_rwr_apid_huri.csv\", sep=',', header=0, index_col=0)\n",
    "\n",
    "hypergeometric_protein80 = pd.read_csv(\"../../data/processed/metrics/disease_protein80_hyper_apid_huri.csv\", sep=',', header=0, index_col=0)\n",
    "closeness_protein80 = pd.read_csv(\"../../data/processed/metrics/disease_protein80_closeness_apid_huri.csv\", sep=',', header=0, index_col=0)\n",
    "betweenness_protein80 = pd.read_csv(\"../../data/processed/metrics/disease_protein80_betweenness_apid_huri.csv\", sep=',', header=0, index_col=0)\n",
    "fraction_betweenness_protein80 = pd.read_csv(\"../../data/processed/metrics/disease_protein80_fraction_betweenness_apid_huri.csv\", sep=',', header=0, index_col=0)\n",
    "rwr_protein80 = pd.read_csv(\"../../data/processed/metrics/disease_protein80_rwr_apid_huri.csv\", sep=',', header=0, index_col=0)"
   ]
  },
  {
   "cell_type": "code",
   "execution_count": null,
   "id": "15d699f3",
   "metadata": {},
   "outputs": [],
   "source": [
    "hypergeometric_conservative = np.array(pd.read_csv(\"../../data/processed/metrics/disease_hypergeometric_conservative_apid_huri.csv\", sep=',', header=0, index_col=0).transpose())\n",
    "closeness_conservative = np.array(pd.read_csv(\"../../data/processed/metrics/disease_closeness_conservative_apid_huri.csv\", sep=',', header=0, index_col=0).transpose())\n",
    "betweenness_conservative = np.array(pd.read_csv(\"../../data/processed/metrics/disease_betweenness_conservative_apid_huri.csv\", sep=',', header=0, index_col=0).transpose())\n",
    "rwr_conservative = np.array(pd.read_csv(\"../../data/processed/metrics/disease_rwr_conservative_apid_huri.csv\", sep=',', header=0, index_col=0).transpose())\n",
    "fraction_betweenness_conservative = np.array(pd.read_csv(\"../../data/processed/metrics/disease_fraction_betweenness_conservative_apid_huri.csv\", sep=',', header=0, index_col=0).transpose())\n",
    "\n",
    "hypergeometric_conservative_80 = pd.read_csv(\"../../data/processed/metrics/disease_ppi80_hyper_conservative_apid_huri.csv\", sep=',', header=0, index_col=0)\n",
    "closeness_conservative_80 = pd.read_csv(\"../../data/processed/metrics/disease_ppi80_closeness_conservative_apid_huri.csv\", sep=',', header=0, index_col=0)\n",
    "betweenness_conservative_80 = pd.read_csv(\"../../data/processed/metrics/disease_ppi80_betweenness_conservative_apid_huri.csv\", sep=',', header=0, index_col=0)\n",
    "fraction_betweenness_conservative_80 = pd.read_csv(\"../../data/processed/metrics/disease_ppi80_fraction_betweenness_conservative_apid_huri.csv\", sep=',', header=0, index_col=0)\n",
    "rwr_conservative_80 = pd.read_csv(\"../../data/processed/metrics/disease_ppi80_rwr_conservative_apid_huri.csv\", sep=',', header=0, index_col=0)\n",
    "\n",
    "hypergeometric_conservative_protein80 = pd.read_csv(\"../../data/processed/metrics/disease_protein80_hyper_conservative_apid_huri.csv\", sep=',', header=0, index_col=0)\n",
    "closeness_conservative_protein80 = pd.read_csv(\"../../data/processed/metrics/disease_protein80_closeness_conservative_apid_huri.csv\", sep=',', header=0, index_col=0)\n",
    "betweenness_conservative_protein80 = pd.read_csv(\"../../data/processed/metrics/disease_protein80_betweenness_conservative_apid_huri.csv\", sep=',', header=0, index_col=0)\n",
    "fraction_betweenness_conservative_protein80 = pd.read_csv(\"../../data/processed/metrics/disease_protein80_fraction_betweenness_conservative_apid_huri.csv\", sep=',', header=0, index_col=0)\n",
    "rwr_conservative_protein80 = pd.read_csv(\"../../data/processed/metrics/disease_protein80_rwr_conservative_apid_huri.csv\", sep=',', header=0, index_col=0)"
   ]
  },
  {
   "cell_type": "code",
   "execution_count": null,
   "id": "b219c68f",
   "metadata": {},
   "outputs": [],
   "source": [
    "hypergeometric_df = pd.read_csv(\"../../data/processed/metrics/disease_hypergeometric_apid_huri.csv\", sep=',', header=0, index_col=0)\n",
    "disgenet_labels_df = pd.read_csv(\"../../data/processed/disgenet_filtered_labels_apid_huri.csv\", sep=',', names=hypergeometric_df.columns)\n",
    "disgenet_labels_df['protein_id'] = hypergeometric_df.index\n",
    "disgenet_labels_df.set_index('protein_id', inplace=True)"
   ]
  },
  {
   "cell_type": "code",
   "execution_count": null,
   "id": "34308ea2",
   "metadata": {},
   "outputs": [],
   "source": [
    "hypergeometric_conservative_df = pd.read_csv(\"../../data/processed/metrics/disease_hypergeometric_conservative_apid_huri.csv\", sep=',', header=0, index_col=0)\n",
    "disgenet_labels_conservative_df = pd.read_csv('../../data/processed/disgenet_conservative_labels_apid_huri.csv', names=hypergeometric_conservative_df.columns)\n",
    "disgenet_labels_conservative_df['protein_id'] = hypergeometric_conservative_df.index\n",
    "disgenet_labels_conservative_df.set_index('protein_id', inplace=True)"
   ]
  },
  {
   "cell_type": "code",
   "execution_count": null,
   "id": "cabf5377",
   "metadata": {},
   "outputs": [],
   "source": [
    "ppi80_hyper_list = []\n",
    "ppi80_closeness_list = []\n",
    "ppi80_betweenness_list = []\n",
    "ppi80_fraction_betweenness_list = []\n",
    "ppi80_rwr_list = []\n",
    "label_list = []\n",
    "\n",
    "for i, df in hypergeometric_80.groupby(level=0):\n",
    "    df.set_index('level_1', inplace=True)\n",
    "    ppi80_hyper_list.append(df)\n",
    "    label_list.append(disgenet_labels_df[disgenet_labels_df.index.isin(df.index)])\n",
    "\n",
    "for i, df in closeness_80.groupby(level=0):\n",
    "    df.set_index('level_1', inplace=True)\n",
    "    ppi80_closeness_list.append(df)\n",
    "    \n",
    "for i, df in betweenness_80.groupby(level=0):\n",
    "    df.set_index('level_1', inplace=True)\n",
    "    ppi80_betweenness_list.append(df)\n",
    "    \n",
    "for i, df in fraction_betweenness_80.groupby(level=0):\n",
    "    df.set_index('index', inplace=True)\n",
    "    ppi80_fraction_betweenness_list.append(df)\n",
    "    \n",
    "for i, df in rwr_80.groupby(level=0):\n",
    "    df.set_index('level_1', inplace=True)\n",
    "    ppi80_rwr_list.append(df)\n",
    "\n",
    "protein80_hyper_list = []\n",
    "protein80_closeness_list = []\n",
    "protein80_betweenness_list = []\n",
    "protein80_fraction_betweenness_list = []\n",
    "protein80_rwr_list = []\n",
    "label_list_protein80 = []\n",
    "\n",
    "for i, df in hypergeometric_protein80.groupby(level=0):\n",
    "    df.set_index('level_1', inplace=True)\n",
    "    protein80_hyper_list.append(df)\n",
    "    label_list_protein80.append(disgenet_labels_df[disgenet_labels_df.index.isin(df.index)])\n",
    "\n",
    "for i, df in closeness_protein80.groupby(level=0):\n",
    "    df.set_index('level_1', inplace=True)\n",
    "    protein80_closeness_list.append(df)\n",
    "    \n",
    "for i, df in betweenness_protein80.groupby(level=0):\n",
    "    df.set_index('level_1', inplace=True)\n",
    "    protein80_betweenness_list.append(df)\n",
    "    \n",
    "for i, df in fraction_betweenness_protein80.groupby(level=0):\n",
    "    df.set_index('index', inplace=True)\n",
    "    protein80_fraction_betweenness_list.append(df)\n",
    "    \n",
    "for i, df in rwr_protein80.groupby(level=0):\n",
    "    df.set_index('level_1', inplace=True)\n",
    "    protein80_rwr_list.append(df)"
   ]
  },
  {
   "cell_type": "code",
   "execution_count": null,
   "id": "82b94e46",
   "metadata": {},
   "outputs": [],
   "source": [
    "ppi80_hyper_list_conservative = []\n",
    "ppi80_closeness_list_conservative = []\n",
    "ppi80_betweenness_list_conservative = []\n",
    "ppi80_fraction_betweenness_list_conservative = []\n",
    "ppi80_rwr_list_conservative = []\n",
    "label_list_conservative = []\n",
    "\n",
    "for i, df in hypergeometric_conservative_80.groupby(level=0):\n",
    "    df.set_index('level_1', inplace=True)\n",
    "    ppi80_hyper_list_conservative.append(df)\n",
    "    label_list_conservative.append(disgenet_labels_conservative_df[disgenet_labels_conservative_df.index.isin(df.index)])\n",
    "\n",
    "for i, df in closeness_conservative_80.groupby(level=0):\n",
    "    df.set_index('level_1', inplace=True)\n",
    "    ppi80_closeness_list_conservative.append(df)\n",
    "    \n",
    "for i, df in betweenness_conservative_80.groupby(level=0):\n",
    "    df.set_index('level_1', inplace=True)\n",
    "    ppi80_betweenness_list_conservative.append(df)\n",
    "    \n",
    "for i, df in fraction_betweenness_conservative_80.groupby(level=0):\n",
    "    df.set_index('index', inplace=True)\n",
    "    ppi80_fraction_betweenness_list_conservative.append(df)\n",
    "    \n",
    "for i, df in rwr_conservative_80.groupby(level=0):\n",
    "    df.set_index('level_1', inplace=True)\n",
    "    ppi80_rwr_list_conservative.append(df)\n",
    "    \n",
    "protein80_hyper_list_conservative = []\n",
    "protein80_closeness_list_conservative = []\n",
    "protein80_betweenness_list_conservative = []\n",
    "protein80_fraction_betweenness_list_conservative = []\n",
    "protein80_rwr_list_conservative = []\n",
    "label_list_protein80_conservative = []\n",
    "\n",
    "for i, df in hypergeometric_conservative_protein80.groupby(level=0):\n",
    "    df.set_index('level_1', inplace=True)\n",
    "    protein80_hyper_list_conservative.append(df)\n",
    "    label_list_protein80_conservative.append(disgenet_labels_conservative_df[disgenet_labels_conservative_df.index.isin(df.index)])\n",
    "\n",
    "for i, df in closeness_conservative_protein80.groupby(level=0):\n",
    "    df.set_index('level_1', inplace=True)\n",
    "    protein80_closeness_list_conservative.append(df)\n",
    "    \n",
    "for i, df in betweenness_conservative_protein80.groupby(level=0):\n",
    "    df.set_index('level_1', inplace=True)\n",
    "    protein80_betweenness_list_conservative.append(df)\n",
    "    \n",
    "for i, df in fraction_betweenness_conservative_protein80.groupby(level=0):\n",
    "    df.set_index('index', inplace=True)\n",
    "    protein80_fraction_betweenness_list_conservative.append(df)\n",
    "    \n",
    "for i, df in rwr_conservative_protein80.groupby(level=0):\n",
    "    df.set_index('level_1', inplace=True)\n",
    "    protein80_rwr_list_conservative.append(df)"
   ]
  },
  {
   "cell_type": "code",
   "execution_count": null,
   "id": "4764f965",
   "metadata": {},
   "outputs": [],
   "source": [
    "hypergeometric_fs_ar = pd.read_csv(\"../../data/processed/fs/disease/disease_hyper_fs_apid_huri.csv\", sep=',', header=0)\n",
    "closeness_fs_ar = pd.read_csv(\"../../data/processed/fs/disease/disease_closeness_fs_apid_huri.csv\", sep=',', header=0)\n",
    "betweenness_fs_ar = pd.read_csv(\"../../data/processed/fs/disease/disease_betweenness_fs_apid_huri.csv\", sep=',', header=0)\n",
    "rwr_fs_ar = pd.read_csv(\"../../data/processed/fs/disease/disease_rwr_fs_apid_huri.csv\", sep=',', header=0)\n",
    "fraction_betweenness_fs_ar = pd.read_csv(\"../../data/processed/fs/disease/disease_fraction_betweenness_fs_apid_huri.csv\", sep=',', header=0)\n",
    "\n",
    "hypergeometric_80_fs_ar = np.array(np.array_split(pd.read_csv(\"../../data/processed/fs/disease/disgenet_hyper_ppi80_fs_apid_huri.csv\", sep=',', header=0).transpose(),10, axis=1))\n",
    "closeness_80_fs_ar = np.array(np.array_split(pd.read_csv(\"../../data/processed/fs/disease/disgenet_closeness_ppi80_fs_apid_huri.csv\", sep=',', header=0).transpose(),10, axis=1))\n",
    "betweenness_80_fs_ar = np.array(np.array_split(pd.read_csv(\"../../data/processed/fs/disease/disgenet_betweenness_ppi80_fs_apid_huri.csv\", sep=',', header=0).transpose(),10, axis=1))\n",
    "rwr_80_fs_ar = np.array(np.array_split(pd.read_csv(\"../../data/processed/fs/disease/disgenet_rwr_ppi80_fs_apid_huri.csv\", sep=',', header=0).transpose(),10, axis=1))\n",
    "fraction_betweenness_80_fs_ar = np.array(np.array_split(pd.read_csv(\"../../data/processed/fs/disease/disgenet_fraction_betweenness_ppi80_fs_apid_huri.csv\", sep=',', header=0).transpose(),10, axis=1))\n",
    "\n",
    "hypergeometric_protein80_fs_ar = np.array(np.array_split(pd.read_csv(\"../../data/processed/fs/disease/disgenet_hyper_protein80_fs_apid_huri.csv\", sep=',', header=0).transpose(),10, axis=1))\n",
    "closeness_protein80_fs_ar = np.array(np.array_split(pd.read_csv(\"../../data/processed/fs/disease/disgenet_closeness_protein80_fs_apid_huri.csv\", sep=',', header=0).transpose(),10, axis=1))\n",
    "betweenness_protein80_fs_ar = np.array(np.array_split(pd.read_csv(\"../../data/processed/fs/disease/disgenet_betweenness_protein80_fs_apid_huri.csv\", sep=',', header=0).transpose(),10, axis=1))\n",
    "rwr_protein80_fs_ar = np.array(np.array_split(pd.read_csv(\"../../data/processed/fs/disease/disgenet_rwr_protein80_fs_apid_huri.csv\", sep=',', header=0).transpose(),10, axis=1))\n",
    "fraction_betweenness_protein80_fs_ar = np.array(np.array_split(pd.read_csv(\"../../data/processed/fs/disease/disgenet_fraction_betweenness_protein80_fs_apid_huri.csv\", sep=',', header=0).transpose(),10, axis=1))"
   ]
  },
  {
   "cell_type": "code",
   "execution_count": null,
   "id": "35a1cc44",
   "metadata": {},
   "outputs": [],
   "source": [
    "hypergeometric_fs_ar_conservative = pd.read_csv(\"../../data/processed/fs/disease/disease_hyper_fs_conservative_apid_huri.csv\", sep=',', header=0)\n",
    "closeness_fs_ar_conservative = pd.read_csv(\"../../data/processed/fs/disease/disease_closeness_fs_conservative_apid_huri.csv\", sep=',', header=0)\n",
    "betweenness_fs_ar_conservative = pd.read_csv(\"../../data/processed/fs/disease/disease_betweenness_fs_conservative_apid_huri.csv\", sep=',', header=0)\n",
    "rwr_fs_ar_conservative = pd.read_csv(\"../../data/processed/fs/disease/disease_rwr_fs_conservative_apid_huri.csv\", sep=',', header=0)\n",
    "fraction_betweenness_fs_ar_conservative = pd.read_csv(\"../../data/processed/fs/disease/disease_fraction_betweenness_fs_conservative_apid_huri.csv\", sep=',', header=0)\n",
    "\n",
    "hypergeometric_80_fs_ar_conservative = np.array(np.array_split(pd.read_csv(\"../../data/processed/fs/disease/disgenet_hyper_ppi80_fs_conservative_apid_huri.csv\", sep=',', header=0).transpose(),10, axis=1))\n",
    "closeness_80_fs_ar_conservative = np.array(np.array_split(pd.read_csv(\"../../data/processed/fs/disease/disgenet_closeness_ppi80_fs_conservative_apid_huri.csv\", sep=',', header=0).transpose(),10, axis=1))\n",
    "betweenness_80_fs_ar_conservative = np.array(np.array_split(pd.read_csv(\"../../data/processed/fs/disease/disgenet_betweenness_ppi80_fs_conservative_apid_huri.csv\", sep=',', header=0).transpose(),10, axis=1))\n",
    "rwr_80_fs_ar_conservative = np.array(np.array_split(pd.read_csv(\"../../data/processed/fs/disease/disgenet_rwr_ppi80_fs_conservative_apid_huri.csv\", sep=',', header=0).transpose(),10, axis=1))\n",
    "fraction_betweenness_80_fs_ar_conservative = np.array(np.array_split(pd.read_csv(\"../../data/processed/fs/disease/disgenet_fraction_betweenness_ppi80_fs_conservative_apid_huri.csv\", sep=',', header=0).transpose(),10, axis=1))\n",
    "\n",
    "hypergeometric_protein80_fs_ar_conservative = np.array(np.array_split(pd.read_csv(\"../../data/processed/fs/disease/disgenet_hyper_protein80_fs_conservative_apid_huri.csv\", sep=',', header=0).transpose(),10, axis=1))\n",
    "closeness_protein80_fs_ar_conservative = np.array(np.array_split(pd.read_csv(\"../../data/processed/fs/disease/disgenet_closeness_protein80_fs_conservative_apid_huri.csv\", sep=',', header=0).transpose(),10, axis=1))\n",
    "betweenness_protein80_fs_ar_conservative = np.array(np.array_split(pd.read_csv(\"../../data/processed/fs/disease/disgenet_betweenness_protein80_fs_conservative_apid_huri.csv\", sep=',', header=0).transpose(),10, axis=1))\n",
    "rwr_protein80_fs_ar_conservative = np.array(np.array_split(pd.read_csv(\"../../data/processed/fs/disease/disgenet_rwr_protein80_fs_conservative_apid_huri.csv\", sep=',', header=0).transpose(),10, axis=1))\n",
    "fraction_betweenness_protein80_fs_ar_conservative = np.array(np.array_split(pd.read_csv(\"../../data/processed/fs/disease/disgenet_fraction_betweenness_protein80_fs_conservative_apid_huri.csv\", sep=',', header=0).transpose(),10, axis=1))"
   ]
  },
  {
   "cell_type": "code",
   "execution_count": null,
   "id": "cddf21d5",
   "metadata": {},
   "outputs": [],
   "source": [
    "hypergeometric_test_indices = pd.read_csv(\"../../data/processed/fs/disease/disease_hyper_test_apid_huri.csv\", sep=',', header=0).transpose().to_numpy(dtype='int')-1\n",
    "closeness_test_indices = pd.read_csv(\"../../data/processed/fs/disease/disease_closeness_test_apid_huri.csv\", sep=',', header=0).transpose().to_numpy(dtype='int')-1\n",
    "betweenness_test_indices = pd.read_csv(\"../../data/processed/fs/disease/disease_betweenness_test_apid_huri.csv\", sep=',', header=0).transpose().to_numpy(dtype='int')-1\n",
    "fraction_betweenness_test_indices = pd.read_csv(\"../../data/processed/fs/disease/disease_fraction_betweenness_test_apid_huri.csv\", sep=',', header=0).transpose().to_numpy(dtype='int')-1\n",
    "rwr_test_indices = pd.read_csv(\"../../data/processed/fs/disease/disease_rwr_test_apid_huri.csv\", sep=',', header=0).transpose().to_numpy(dtype='int')-1\n",
    "\n",
    "hypergeometric_80_test_index = np.moveaxis((np.array(np.array_split(pd.read_csv(\"../../data/processed/fs/disease/disgenet_hyper_ppi80_test_apid_huri.csv\", sep=',', header=0).transpose(), 203, axis = 1)).astype(int) -1), 0, 1)\n",
    "closeness_80_test_index = np.moveaxis((np.array(np.array_split(pd.read_csv(\"../../data/processed/fs/disease/disgenet_closeness_ppi80_test_apid_huri.csv\", sep=',', header=0).transpose(), 203, axis = 1)).astype(int) -1), 0, 1)\n",
    "betweenness_80_test_index = np.moveaxis((np.array(np.array_split(pd.read_csv(\"../../data/processed/fs/disease/disgenet_betweenness_ppi80_test_apid_huri.csv\", sep=',', header=0).transpose(), 203, axis = 1)).astype(int) -1), 0, 1)\n",
    "fraction_betweenness_80_test_index = np.moveaxis((np.array(np.array_split(pd.read_csv(\"../../data/processed/fs/disease/disgenet_fraction_betweenness_ppi80_test_apid_huri.csv\", sep=',', header=0).transpose(), 203, axis = 1)).astype(int) -1), 0, 1)\n",
    "rwr_80_test_index = np.moveaxis((np.array(np.array_split(pd.read_csv(\"../../data/processed/fs/disease/disgenet_rwr_ppi80_test_apid_huri.csv\", sep=',', header=0).transpose(), 203, axis = 1)).astype(int) -1), 0, 1)\n",
    "\n",
    "hypergeometric_protein80_test_index = np.moveaxis((np.array(np.array_split(pd.read_csv(\"../../data/processed/fs/disease/disgenet_hyper_protein80_test_apid_huri.csv\", sep=',', header=0).transpose(), 203, axis = 1)).astype(int) -1), 0, 1)\n",
    "closeness_protein80_test_index = np.moveaxis((np.array(np.array_split(pd.read_csv(\"../../data/processed/fs/disease/disgenet_closeness_protein80_test_apid_huri.csv\", sep=',', header=0).transpose(), 203, axis = 1)).astype(int) -1), 0, 1)\n",
    "betweenness_protein80_test_index = np.moveaxis((np.array(np.array_split(pd.read_csv(\"../../data/processed/fs/disease/disgenet_betweenness_protein80_test_apid_huri.csv\", sep=',', header=0).transpose(), 203, axis = 1)).astype(int) -1), 0, 1)\n",
    "fraction_betweenness_protein80_test_index = np.moveaxis((np.array(np.array_split(pd.read_csv(\"../../data/processed/fs/disease/disgenet_fraction_betweenness_protein80_test_apid_huri.csv\", sep=',', header=0).transpose(), 203, axis = 1)).astype(int) -1), 0, 1)\n",
    "rwr_protein80_test_index = np.moveaxis((np.array(np.array_split(pd.read_csv(\"../../data/processed/fs/disease/disgenet_rwr_protein80_test_apid_huri.csv\", sep=',', header=0).transpose(), 203, axis = 1)).astype(int) -1), 0, 1)"
   ]
  },
  {
   "cell_type": "code",
   "execution_count": null,
   "id": "ff22f3e8",
   "metadata": {},
   "outputs": [],
   "source": [
    "hypergeometric_test_indices_conservative = pd.read_csv(\"../../data/processed/fs/disease/disease_hyper_test_conservative_apid_huri.csv\", sep=',', header=0).transpose().to_numpy(dtype='int')-1\n",
    "closeness_test_indices_conservative = pd.read_csv(\"../../data/processed/fs/disease/disease_closeness_test_conservative_apid_huri.csv\", sep=',', header=0).transpose().to_numpy(dtype='int')-1\n",
    "betweenness_test_indices_conservative = pd.read_csv(\"../../data/processed/fs/disease/disease_betweenness_test_conservative_apid_huri.csv\", sep=',', header=0).transpose().to_numpy(dtype='int')-1\n",
    "fraction_betweenness_test_indices_conservative = pd.read_csv(\"../../data/processed/fs/disease/disease_fraction_betweenness_test_conservative_apid_huri.csv\", sep=',', header=0).transpose().to_numpy(dtype='int')-1\n",
    "rwr_test_indices_conservative = pd.read_csv(\"../../data/processed/fs/disease/disease_rwr_test_conservative_apid_huri.csv\", sep=',', header=0).transpose().to_numpy(dtype='int')-1\n",
    "\n",
    "hypergeometric_80_test_index_conservative = np.moveaxis((np.array(np.array_split(pd.read_csv(\"../../data/processed/fs/disease/disgenet_hyper_ppi80_test_conservative_apid_huri.csv\", sep=',', header=0).transpose(), 301, axis = 1)).astype(int) -1), 0, 1)\n",
    "closeness_80_test_index_conservative = np.moveaxis((np.array(np.array_split(pd.read_csv(\"../../data/processed/fs/disease/disgenet_closeness_ppi80_test_conservative_apid_huri.csv\", sep=',', header=0).transpose(), 301, axis = 1)).astype(int) -1), 0, 1)\n",
    "betweenness_80_test_index_conservative = np.moveaxis((np.array(np.array_split(pd.read_csv(\"../../data/processed/fs/disease/disgenet_betweenness_ppi80_test_conservative_apid_huri.csv\", sep=',', header=0).transpose(), 301, axis = 1)).astype(int) -1), 0, 1)\n",
    "fraction_betweenness_80_test_index_conservative = np.moveaxis((np.array(np.array_split(pd.read_csv(\"../../data/processed/fs/disease/disgenet_fraction_betweenness_ppi80_test_conservative_apid_huri.csv\", sep=',', header=0).transpose(), 301, axis = 1)).astype(int) -1), 0, 1)\n",
    "rwr_80_test_index_conservative = np.moveaxis((np.array(np.array_split(pd.read_csv(\"../../data/processed/fs/disease/disgenet_rwr_ppi80_test_conservative_apid_huri.csv\", sep=',', header=0).transpose(), 301, axis = 1)).astype(int) -1), 0, 1)\n",
    "\n",
    "hypergeometric_protein80_test_index_conservative = np.moveaxis((np.array(np.array_split(pd.read_csv(\"../../data/processed/fs/disease/disgenet_hyper_protein80_test_conservative_apid_huri.csv\", sep=',', header=0).transpose(), 301, axis = 1)).astype(int) -1), 0, 1)\n",
    "closeness_protein80_test_index_conservative = np.moveaxis((np.array(np.array_split(pd.read_csv(\"../../data/processed/fs/disease/disgenet_closeness_protein80_test_conservative_apid_huri.csv\", sep=',', header=0).transpose(), 301, axis = 1)).astype(int) -1), 0, 1)\n",
    "betweenness_protein80_test_index_conservative = np.moveaxis((np.array(np.array_split(pd.read_csv(\"../../data/processed/fs/disease/disgenet_betweenness_protein80_test_conservative_apid_huri.csv\", sep=',', header=0).transpose(), 301, axis = 1)).astype(int) -1), 0, 1)\n",
    "fraction_betweenness_protein80_test_index_conservative = np.moveaxis((np.array(np.array_split(pd.read_csv(\"../../data/processed/fs/disease/disgenet_fraction_betweenness_protein80_test_conservative_apid_huri.csv\", sep=',', header=0).transpose(), 301, axis = 1)).astype(int) -1), 0, 1)\n",
    "rwr_protein80_test_index_conservative = np.moveaxis((np.array(np.array_split(pd.read_csv(\"../../data/processed/fs/disease/disgenet_rwr_protein80_test_conservative_apid_huri.csv\", sep=',', header=0).transpose(), 301, axis = 1)).astype(int) -1), 0, 1)"
   ]
  },
  {
   "cell_type": "markdown",
   "id": "a95499cb",
   "metadata": {},
   "source": [
    "# 2. Classification Tasks"
   ]
  },
  {
   "cell_type": "markdown",
   "id": "791e955f",
   "metadata": {},
   "source": [
    "## 2.1. Complete Network"
   ]
  },
  {
   "cell_type": "markdown",
   "id": "5917b165",
   "metadata": {},
   "source": [
    "### 2.1.1. Steiner Tree"
   ]
  },
  {
   "cell_type": "code",
   "execution_count": null,
   "id": "f9915d93",
   "metadata": {},
   "outputs": [],
   "source": [
    "importlib.reload(classifiers)\n",
    "\n",
    "clf = LogisticRegression(random_state=22)\n",
    "\n",
    "parameters = [{'penalty':['l1','l2'], 'C':[100, 10, 1.0, 0.1, 0.01],\n",
    "             'solver': ['liblinear'], 'max_iter':[10, 50, 100]}, \n",
    "              {'penalty':['l2', 'none'], 'C':[100, 10, 1.0, 0.1, 0.01],\n",
    "             'solver': ['sag', 'saga', 'newton-cg'], 'max_iter':[10, 50, 100]}]\n",
    "\n",
    "hyper_lgr_clf, hyper_lgr_proba_clf, hyper_cv, hyper_n_fs, hyper_models = classifiers.multiple_fs_classifier2(clf, parameters, hypergeometric, hypergeometric_test_indices, hypergeometric_fs_ar, disgenet_labels_df, jobs=20)\n",
    "hyper_lgr_clf.to_csv('../../models/GAP-MINE/disease/binary/disease_hypergeometric_lgr.csv', index=False)\n",
    "hyper_lgr_proba_clf.to_csv('../../models/GAP-MINE/disease/probability/disease_hypergeometric_lgr_proba.csv', index=False)\n",
    "with open('../../models/GAP-MINE/disease/cv_results/disease_hypergeometric.txt', 'w') as fp:\n",
    "    fp.write('\\n'.join('%s %s' % x for x in hyper_cv))\n",
    "with open(\"../../models/GAP-MINE/disease/n_fs/disease_hypergeometric.txt\", \"w\") as f:\n",
    "    for s in hyper_n_fs:\n",
    "        f.write(str(s) +\"\\n\")\n",
    "with open(\"../../models/GAP-MINE/disease/models/hypergeometric.pckl\", \"wb\") as f:\n",
    "    for model in hyper_models:\n",
    "         pickle.dump(model, f)"
   ]
  },
  {
   "cell_type": "code",
   "execution_count": null,
   "id": "b6f242aa",
   "metadata": {},
   "outputs": [],
   "source": [
    "importlib.reload(classifiers)\n",
    "clf = LogisticRegression(random_state=22)\n",
    "parameters = [{'penalty':['l1','l2'], 'C':[100, 10, 1.0, 0.1, 0.01],\n",
    "             'solver': ['liblinear'], 'max_iter':[10, 50, 100]}, \n",
    "              {'penalty':['l2', 'none'], 'C':[100, 10, 1.0, 0.1, 0.01],\n",
    "             'solver': ['sag', 'saga', 'newton-cg'], 'max_iter':[10, 50, 100]}]\n",
    "rwr_lgr_clf, rwr_lgr_proba_clf, rwr_cv, rwr_n_fs, rwr_models = classifiers.multiple_fs_classifier2(clf, parameters, rwr, rwr_test_indices, rwr_fs_ar, disgenet_labels_df, jobs=20)\n",
    "rwr_lgr_clf.to_csv('../../models/GAP-MINE/disease/binary/disease_rwr_lgr.csv', index=False)\n",
    "rwr_lgr_proba_clf.to_csv('../../models/GAP-MINE/disease/probability/disease_rwr_lgr_proba.csv', index=False)\n",
    "with open('../../models/GAP-MINE/disease/cv_results/disease_rwr.txt', 'w') as fp:\n",
    "    fp.write('\\n'.join('%s %s' % x for x in rwr_cv))\n",
    "with open(\"../../models/GAP-MINE/disease/n_fs/disease_rwr.txt\", \"w\") as f:\n",
    "    for s in rwr_n_fs:\n",
    "        f.write(str(s) +\"\\n\")\n",
    "with open(\"../../models/GAP-MINE/disease/models/rwr.pckl\", \"wb\") as f:\n",
    "    for model in rwr_models:\n",
    "         pickle.dump(model, f)"
   ]
  },
  {
   "cell_type": "code",
   "execution_count": null,
   "id": "f91671af",
   "metadata": {},
   "outputs": [],
   "source": [
    "clf = LogisticRegression(random_state=22)\n",
    "parameters = [{'penalty':['l1','l2'], 'C':[100, 10, 1.0, 0.1, 0.01],\n",
    "             'solver': ['liblinear'], 'max_iter':[10, 50, 100]}, \n",
    "              {'penalty':['l2', 'none'], 'C':[100, 10, 1.0, 0.1, 0.01],\n",
    "             'solver': ['sag', 'saga', 'newton-cg'], 'max_iter':[10, 50, 100]}]\n",
    "closeness_lgr_clf, closeness_lgr_proba_clf, closeness_cv, closeness_n_fs, closeness_models = classifiers.multiple_fs_classifier2(clf, parameters, closeness, closeness_test_indices, closeness_fs_ar, disgenet_labels_df, jobs=20)\n",
    "closeness_lgr_clf.to_csv('../../models/GAP-MINE/disease/binary/disease_closeness_lgr.csv', index=False)\n",
    "closeness_lgr_proba_clf.to_csv('../../models/GAP-MINE/disease/probability/disease_closeness_lgr_proba.csv', index=False)\n",
    "with open('../../models/GAP-MINE/disease/cv_results/disease_closeness.txt', 'w') as fp:\n",
    "    fp.write('\\n'.join('%s %s' % x for x in closeness_cv))\n",
    "with open(\"../../models/GAP-MINE/disease/n_fs/disease_closeness.txt\", \"w\") as f:\n",
    "    for s in closeness_n_fs:\n",
    "        f.write(str(s) +\"\\n\")\n",
    "with open(\"../../models/GAP-MINE/disease/models/closeness.pckl\", \"wb\") as f:\n",
    "    for model in closeness_models:\n",
    "         pickle.dump(model, f)"
   ]
  },
  {
   "cell_type": "code",
   "execution_count": null,
   "id": "32c11337",
   "metadata": {},
   "outputs": [],
   "source": [
    "importlib.reload(classifiers)\n",
    "clf = LogisticRegression(random_state=22)\n",
    "parameters = [{'penalty':['l1','l2'], 'C':[100, 10, 1.0, 0.1, 0.01],\n",
    "             'solver': ['liblinear'], 'max_iter':[10, 50, 100]}, \n",
    "              {'penalty':['l2', 'none'], 'C':[100, 10, 1.0, 0.1, 0.01],\n",
    "             'solver': ['sag', 'saga', 'newton-cg'], 'max_iter':[10, 50, 100]}]\n",
    "betweenness_lgr_clf, betweenness_lgr_proba_clf, betweenness_cv, betweenness_n_fs, betweenness_models = classifiers.multiple_fs_classifier2(clf, parameters, betweenness, betweenness_test_indices, betweenness_fs_ar, disgenet_labels_df, jobs=20)\n",
    "betweenness_lgr_clf.to_csv('../../models/GAP-MINE/disease/binary/disease_betweenness_lgr.csv', index=False)\n",
    "betweenness_lgr_proba_clf.to_csv('../../models/GAP-MINE/disease/probability/disease_betweenness_lgr_proba.csv', index=False)\n",
    "with open('../../models/GAP-MINE/disease/cv_results/disease_betweenness.txt', 'w') as fp:\n",
    "    fp.write('\\n'.join('%s %s' % x for x in betweenness_cv))\n",
    "with open(\"../../models/GAP-MINE/disease/n_fs/disease_betweenness.txt\", \"w\") as f:\n",
    "    for s in betweenness_n_fs:\n",
    "        f.write(str(s) +\"\\n\")\n",
    "with open(\"../../models/GAP-MINE/disease/models/betweenness.pckl\", \"wb\") as f:\n",
    "    for model in betweenness_models:\n",
    "         pickle.dump(model, f)"
   ]
  },
  {
   "cell_type": "code",
   "execution_count": null,
   "id": "448b92c5",
   "metadata": {},
   "outputs": [],
   "source": [
    "clf = LogisticRegression(random_state=22)\n",
    "parameters = [{'penalty':['l1','l2'], 'C':[100, 10, 1.0, 0.1, 0.01],\n",
    "             'solver': ['liblinear'], 'max_iter':[10, 50, 100]}, \n",
    "              {'penalty':['l2', 'none'], 'C':[100, 10, 1.0, 0.1, 0.01],\n",
    "             'solver': ['sag', 'saga', 'newton-cg'], 'max_iter':[10, 50, 100]}]\n",
    "fraction_betweenness_lgr_clf, fraction_betweenness_lgr_proba_clf, fraction_betweenness_cv, fraction_betweenness_n_fs, fraction_betweenness_models = classifiers.multiple_fs_classifier2(clf, parameters, fraction_betweenness, fraction_betweenness_test_indices, fraction_betweenness_fs_ar, disgenet_labels_df, jobs=20)\n",
    "fraction_betweenness_lgr_clf.to_csv('../../models/GAP-MINE/disease/binary/disease_fraction_betweenness_lgr.csv', index=False)\n",
    "fraction_betweenness_lgr_proba_clf.to_csv('../../models/GAP-MINE/disease/probability/disease_fraction_betweenness_lgr.csv', index=False)\n",
    "with open('../../models/GAP-MINE/disease/cv_results/disease_fraction_betweenness.txt', 'w') as fp:\n",
    "    fp.write('\\n'.join('%s %s' % x for x in fraction_betweenness_cv))\n",
    "with open(\"../../models/GAP-MINE/disease/n_fs/disease_fraction_betweenness.txt\", \"w\") as f:\n",
    "    for s in fraction_betweenness_n_fs:\n",
    "        f.write(str(s) +\"\\n\")\n",
    "with open(\"../../models/GAP-MINE/disease/models/fraction_betweenness.pckl\", \"wb\") as f:\n",
    "    for model in fraction_betweenness_models:\n",
    "         pickle.dump(model, f)"
   ]
  },
  {
   "cell_type": "markdown",
   "id": "6c757812",
   "metadata": {},
   "source": [
    "### 2.1.2. Conservative Module"
   ]
  },
  {
   "cell_type": "code",
   "execution_count": null,
   "id": "a22787e3",
   "metadata": {},
   "outputs": [],
   "source": [
    "importlib.reload(classifiers)\n",
    "clf = LogisticRegression(random_state=22)\n",
    "parameters = [{'penalty':['l1','l2'], 'C':[100, 10, 1.0, 0.1, 0.01],\n",
    "             'solver': ['liblinear'], 'max_iter':[10, 50, 100]}, \n",
    "              {'penalty':['l2', 'none'], 'C':[100, 10, 1.0, 0.1, 0.01],\n",
    "             'solver': ['sag', 'saga', 'newton-cg'], 'max_iter':[10, 50, 100]}]\n",
    "\n",
    "hyper_lgr_clf_conservative, hyper_lgr_proba_clf_conservative, hyper_cv_conservative, hyper_n_fs_conservative, hyper_conservative_models = classifiers.multiple_fs_classifier2(clf, parameters, hypergeometric_conservative, hypergeometric_test_indices_conservative, hypergeometric_fs_ar_conservative, disgenet_labels_conservative_df, jobs=20)\n",
    "hyper_lgr_clf_conservative.to_csv('../../models/GAP-MINE/disease/binary/disease_hypergeometric_lgr_conservative.csv', index=False)\n",
    "hyper_lgr_proba_clf_conservative.to_csv('../../models/GAP-MINE/disease/probability/disease_hypergeometric_lgr_proba_conservative.csv', index=False)\n",
    "with open('../../models/GAP-MINE/disease/cv_results/disease_hypergeometric_conservative.txt', 'w') as fp:\n",
    "    fp.write('\\n'.join('%s %s' % x for x in hyper_cv_conservative))\n",
    "with open(\"../../models/GAP-MINE/disease/n_fs/disease_hypergeometric_conservative.txt\", \"w\") as f:\n",
    "    for s in hyper_n_fs_conservative:\n",
    "        f.write(str(s) +\"\\n\")\n",
    "with open(\"../../models/GAP-MINE/disease/models/hyper_conservative.pckl\", \"wb\") as f:\n",
    "    for model in hyper_conservative_models:\n",
    "         pickle.dump(model, f)"
   ]
  },
  {
   "cell_type": "code",
   "execution_count": null,
   "id": "7286941f",
   "metadata": {},
   "outputs": [],
   "source": [
    "importlib.reload(classifiers)\n",
    "clf = LogisticRegression(random_state=22)\n",
    "parameters = [{'penalty':['l1','l2'], 'C':[100, 10, 1.0, 0.1, 0.01],\n",
    "             'solver': ['liblinear'], 'max_iter':[10, 50, 100]}, \n",
    "              {'penalty':['l2', 'none'], 'C':[100, 10, 1.0, 0.1, 0.01],\n",
    "             'solver': ['sag', 'saga', 'newton-cg'], 'max_iter':[10, 50, 100]}]\n",
    "rwr_lgr_clf_conservative, rwr_lgr_proba_clf_conservative, rwr_cv_conservative, rwr_n_fs_conservative, rwr_conservative_models = classifiers.multiple_fs_classifier2(clf, parameters, rwr_conservative, rwr_test_indices_conservative, rwr_fs_ar_conservative, disgenet_labels_conservative_df, jobs=20)\n",
    "rwr_lgr_clf_conservative.to_csv('../../models/GAP-MINE/disease/binary/disease_rwr_lgr_conservative.csv', index=False)\n",
    "rwr_lgr_proba_clf_conservative.to_csv('../../models/GAP-MINE/disease/probability/disease_rwr_lgr_proba_conservative.csv', index=False)\n",
    "with open('../../models/GAP-MINE/disease/cv_results/disease_rwr_conservative.txt', 'w') as fp:\n",
    "    fp.write('\\n'.join('%s %s' % x for x in rwr_cv_conservative))\n",
    "with open(\"../../models/GAP-MINE/disease/n_fs/disease_rwr_conservative.txt\", \"w\") as f:\n",
    "    for s in rwr_n_fs_conservative:\n",
    "        f.write(str(s) +\"\\n\")\n",
    "with open(\"../../models/GAP-MINE/disease/models/rwr_conservative.pckl\", \"wb\") as f:\n",
    "    for model in rwr_conservative_models:\n",
    "         pickle.dump(model, f)"
   ]
  },
  {
   "cell_type": "code",
   "execution_count": null,
   "id": "e270112a",
   "metadata": {},
   "outputs": [],
   "source": [
    "clf = LogisticRegression(random_state=22)\n",
    "parameters = [{'penalty':['l1','l2'], 'C':[100, 10, 1.0, 0.1, 0.01],\n",
    "             'solver': ['liblinear'], 'max_iter':[10, 50, 100]}, \n",
    "              {'penalty':['l2', 'none'], 'C':[100, 10, 1.0, 0.1, 0.01],\n",
    "             'solver': ['sag', 'saga', 'newton-cg'], 'max_iter':[10, 50, 100]}]\n",
    "closeness_lgr_clf_conservative, closeness_lgr_proba_clf_conservative, closeness_cv_conservative, closeness_n_fs_conservative, closeness_conservative_models = classifiers.multiple_fs_classifier2(clf, parameters, closeness_conservative, closeness_test_indices_conservative, closeness_fs_ar_conservative, disgenet_labels_conservative_df, jobs=20)\n",
    "closeness_lgr_clf_conservative.to_csv('../../models/GAP-MINE/disease/binary/disease_closeness_lgr_conservative.csv', index=False)\n",
    "closeness_lgr_proba_clf_conservative.to_csv('../../models/GAP-MINE/disease/probability/disease_closeness_lgr_proba_conservative.csv', index=False)\n",
    "with open('../../models/GAP-MINE/disease/cv_results/disease_closeness_conservative.txt', 'w') as fp:\n",
    "    fp.write('\\n'.join('%s %s' % x for x in closeness_cv_conservative))\n",
    "with open(\"../../models/GAP-MINE/disease/n_fs/disease_closeness_conservative.txt\", \"w\") as f:\n",
    "    for s in closeness_n_fs_conservative:\n",
    "        f.write(str(s) +\"\\n\")\n",
    "with open(\"../../models/GAP-MINE/disease/models/closeness_conservative.pckl\", \"wb\") as f:\n",
    "    for model in closeness_conservative_models:\n",
    "         pickle.dump(model, f)"
   ]
  },
  {
   "cell_type": "code",
   "execution_count": null,
   "id": "7c78ad22",
   "metadata": {},
   "outputs": [],
   "source": [
    "importlib.reload(classifiers)\n",
    "clf = LogisticRegression(random_state=22)\n",
    "parameters = [{'penalty':['l1','l2'], 'C':[100, 10, 1.0, 0.1, 0.01],\n",
    "             'solver': ['liblinear'], 'max_iter':[10, 50, 100]}, \n",
    "              {'penalty':['l2', 'none'], 'C':[100, 10, 1.0, 0.1, 0.01],\n",
    "             'solver': ['sag', 'saga', 'newton-cg'], 'max_iter':[10, 50, 100]}]\n",
    "betweenness_lgr_clf_conservative, betweenness_lgr_proba_clf_conservative, betweenness_cv_conservative, betweenness_n_fs_conservative, betweenness_conservative_models = classifiers.multiple_fs_classifier2(clf, parameters, betweenness_conservative, betweenness_test_indices_conservative, betweenness_fs_ar_conservative, disgenet_labels_conservative_df, jobs=20)\n",
    "betweenness_lgr_clf_conservative.to_csv('../../models/GAP-MINE/disease/binary/disease_betweenness_lgr_conservative.csv', index=False)\n",
    "betweenness_lgr_proba_clf_conservative.to_csv('../../models/GAP-MINE/disease/probability/disease_betweenness_lgr_proba_conservative.csv', index=False)\n",
    "with open('../../models/GAP-MINE/disease/cv_results/disease_betweenness_conservative.txt', 'w') as fp:\n",
    "    fp.write('\\n'.join('%s %s' % x for x in betweenness_cv_conservative))\n",
    "with open(\"../../models/GAP-MINE/disease/n_fs/disease_betweenness_conservative.txt\", \"w\") as f:\n",
    "    for s in betweenness_n_fs_conservative:\n",
    "        f.write(str(s) +\"\\n\")\n",
    "with open(\"../../models/GAP-MINE/disease/models/betweenness_conservative.pckl\", \"wb\") as f:\n",
    "    for model in betweenness_conservative_models:\n",
    "         pickle.dump(model, f)"
   ]
  },
  {
   "cell_type": "code",
   "execution_count": null,
   "id": "7c0d278b",
   "metadata": {},
   "outputs": [],
   "source": [
    "clf = LogisticRegression(random_state=22)\n",
    "parameters = [{'penalty':['l1','l2'], 'C':[100, 10, 1.0, 0.1, 0.01],\n",
    "             'solver': ['liblinear'], 'max_iter':[10, 50, 100]}, \n",
    "              {'penalty':['l2', 'none'], 'C':[100, 10, 1.0, 0.1, 0.01],\n",
    "             'solver': ['sag', 'saga', 'newton-cg'], 'max_iter':[10, 50, 100]}]\n",
    "fraction_betweenness_lgr_clf_conservative, fraction_betweenness_lgr_proba_clf_conservative, fraction_betweenness_cv_conservative, fraction_betweenness_n_fs_conservative, fraction_betweenness_conservative_models = classifiers.multiple_fs_classifier2(clf, parameters, fraction_betweenness_conservative, fraction_betweenness_test_indices_conservative, fraction_betweenness_fs_ar_conservative, disgenet_labels_conservative_df, jobs=20)\n",
    "fraction_betweenness_lgr_clf_conservative.to_csv('../../models/GAP-MINE/disease/binary/disease_fraction_betweenness_lgr_conservative.csv', index=False)\n",
    "fraction_betweenness_lgr_proba_clf_conservative.to_csv('../../models/GAP-MINE/disease/probability/disease_fraction_betweenness_lgr_conservative.csv', index=False)\n",
    "with open('../../models/GAP-MINE/disease/cv_results/disease_fraction_betweenness_conservative.txt', 'w') as fp:\n",
    "    fp.write('\\n'.join('%s %s' % x for x in fraction_betweenness_cv_conservative))\n",
    "with open(\"../../models/GAP-MINE/disease/n_fs/disease_fraction_betweenness_conservative.txt\", \"w\") as f:\n",
    "    for s in fraction_betweenness_n_fs_conservative:\n",
    "        f.write(str(s) +\"\\n\")\n",
    "with open(\"../../models/GAP-MINE/disease/models/fraction_betweenness_conservative.pckl\", \"wb\") as f:\n",
    "    for model in fraction_betweenness_conservative_models:\n",
    "         pickle.dump(model, f)"
   ]
  },
  {
   "cell_type": "markdown",
   "id": "72237216",
   "metadata": {},
   "source": [
    "## 2.2. Reduced Networks"
   ]
  },
  {
   "cell_type": "markdown",
   "id": "56b51626",
   "metadata": {},
   "source": [
    "### 2.2.1. PPI 80% Reduced"
   ]
  },
  {
   "cell_type": "markdown",
   "id": "2f83063b",
   "metadata": {},
   "source": [
    "#### 2.2.1.1. Steiner Tree"
   ]
  },
  {
   "cell_type": "code",
   "execution_count": null,
   "id": "9ad9f7bc",
   "metadata": {
    "scrolled": true
   },
   "outputs": [],
   "source": [
    "importlib.reload(classifiers)\n",
    "clf = LogisticRegression(random_state=22)\n",
    "parameters = [{'penalty':['l1','l2'], 'C':[100, 10, 1.0, 0.1, 0.01],\n",
    "             'solver': ['liblinear'], 'max_iter':[10, 50, 100]}, \n",
    "              {'penalty':['l2', 'none'], 'C':[100, 10, 1.0, 0.1, 0.01],\n",
    "             'solver': ['sag', 'saga', 'newton-cg'], 'max_iter':[10, 50, 100]}]\n",
    "hyper_80_lgr, hyper_80_lgr_proba, hyper_80_cv, hyper_80_n_fs = classifiers.reduced_classifier_multiple_fs(clf, parameters, ppi80_hyper_list, hypergeometric_80_test_index, hypergeometric_80_fs_ar, label_list)\n",
    "hyper_80_lgr.to_csv('../../models/GAP-MINE/disease/binary/disease_hypergeometric_80_lgr.csv', index=False)\n",
    "hyper_80_lgr_proba.to_csv('../../models/GAP-MINE/disease/probability/disease_hypergeometric_80_lgr.csv', index=False)"
   ]
  },
  {
   "cell_type": "code",
   "execution_count": null,
   "id": "412a8d8c",
   "metadata": {},
   "outputs": [],
   "source": [
    "clf = LogisticRegression(random_state=22)\n",
    "parameters = [{'penalty':['l1','l2'], 'C':[100, 10, 1.0, 0.1, 0.01],\n",
    "             'solver': ['liblinear'], 'max_iter':[10, 50, 100]}, \n",
    "              {'penalty':['l2', 'none'], 'C':[100, 10, 1.0, 0.1, 0.01],\n",
    "             'solver': ['sag', 'saga', 'newton-cg'], 'max_iter':[10, 50, 100]}]\n",
    "closeness_80_lgr, closeness_80_lgr_proba, closeness_80_cv, closeness_80_n_fs = classifiers.reduced_classifier_multiple_fs(clf, parameters, ppi80_closeness_list, closeness_80_test_index, closeness_80_fs_ar, label_list)\n",
    "closeness_80_lgr.to_csv('../../models/GAP-MINE/disease/binary/disease_closeness_80_lgr.csv', index=False)\n",
    "closeness_80_lgr_proba.to_csv('../../models/GAP-MINE/disease/probability/disease_closeness_80_lgr.csv', index=False)"
   ]
  },
  {
   "cell_type": "code",
   "execution_count": null,
   "id": "17df9e01",
   "metadata": {},
   "outputs": [],
   "source": [
    "clf = LogisticRegression(random_state=22)\n",
    "parameters = [{'penalty':['l1','l2'], 'C':[100, 10, 1.0, 0.1, 0.01],\n",
    "             'solver': ['liblinear'], 'max_iter':[10, 50, 100]}, \n",
    "              {'penalty':['l2', 'none'], 'C':[100, 10, 1.0, 0.1, 0.01],\n",
    "             'solver': ['sag', 'saga', 'newton-cg'], 'max_iter':[10, 50, 100]}]\n",
    "rwr_80_lgr, rwr_80_lgr_proba, rwr_80_cv, rwr_80_n_fs = classifiers.reduced_classifier_multiple_fs(clf, parameters, ppi80_rwr_list, rwr_80_test_index, rwr_80_fs_ar, label_list)\n",
    "rwr_80_lgr.to_csv('../../models/GAP-MINE/disease/binary/disease_rwr_80_lgr.csv', index=False)\n",
    "rwr_80_lgr_proba.to_csv('../../models/GAP-MINE/disease/probability/disease_rwr_80_lgr.csv', index=False)"
   ]
  },
  {
   "cell_type": "code",
   "execution_count": null,
   "id": "0a85d940",
   "metadata": {},
   "outputs": [],
   "source": [
    "importlib.reload(classifiers)\n",
    "clf = LogisticRegression(random_state=22)\n",
    "parameters = [{'penalty':['l1','l2'], 'C':[100, 10, 1.0, 0.1, 0.01],\n",
    "             'solver': ['liblinear'], 'max_iter':[10, 50, 100]}, \n",
    "              {'penalty':['l2', 'none'], 'C':[100, 10, 1.0, 0.1, 0.01],\n",
    "             'solver': ['sag', 'saga', 'newton-cg'], 'max_iter':[10, 50, 100]}]\n",
    "fraction_betweenness_80_lgr, fraction_betweenness_80_lgr_proba, fraction_betweenness_80_cv, fraction_betweenness_80_n_fs = classifiers.reduced_classifier_multiple_fs(clf, parameters, ppi80_fraction_betweenness_list, fraction_betweenness_80_test_index, fraction_betweenness_80_fs_ar, label_list)\n",
    "fraction_betweenness_80_lgr.to_csv('../../models/GAP-MINE/disease/binary/disease_fraction_betweenness_80_lgr.csv', index=False)\n",
    "fraction_betweenness_80_lgr_proba.to_csv('../../models/GAP-MINE/disease/probability/disease_fraction_betweenness_80_lgr.csv', index=False)"
   ]
  },
  {
   "cell_type": "code",
   "execution_count": null,
   "id": "79c89ec3",
   "metadata": {},
   "outputs": [],
   "source": [
    "importlib.reload(classifiers)\n",
    "clf = LogisticRegression(random_state=22)\n",
    "parameters = [{'penalty':['l1','l2'], 'C':[100, 10, 1.0, 0.1, 0.01],\n",
    "             'solver': ['liblinear'], 'max_iter':[10, 50, 100]}, \n",
    "              {'penalty':['l2', 'none'], 'C':[100, 10, 1.0, 0.1, 0.01],\n",
    "             'solver': ['sag', 'saga', 'newton-cg'], 'max_iter':[10, 50, 100]}]\n",
    "betweenness_80_lgr, betweenness_80_lgr_proba, betweenness_80_cv, betweenness_80_n_fs = classifiers.reduced_classifier_multiple_fs(clf, parameters, ppi80_betweenness_list, betweenness_80_test_index, betweenness_80_fs_ar, label_list)\n",
    "betweenness_80_lgr.to_csv('../../models/GAP-MINE/disease/disease_betweenness_80_lgr.csv', index=False)\n",
    "betweenness_80_lgr_proba.to_csv('../../models/GAP-MINE/disease/probability/disease_betweenness_80_lgr.csv', index=False)"
   ]
  },
  {
   "cell_type": "markdown",
   "id": "10b2f714",
   "metadata": {},
   "source": [
    "#### 2.2.1.2. Conservative Module"
   ]
  },
  {
   "cell_type": "code",
   "execution_count": null,
   "id": "e2d6017e",
   "metadata": {},
   "outputs": [],
   "source": [
    "importlib.reload(classifiers)\n",
    "clf = LogisticRegression(random_state=22)\n",
    "parameters = [{'penalty':['l1','l2'], 'C':[100, 10, 1.0, 0.1, 0.01],\n",
    "             'solver': ['liblinear'], 'max_iter':[10, 50, 100]}, \n",
    "              {'penalty':['l2', 'none'], 'C':[100, 10, 1.0, 0.1, 0.01],\n",
    "             'solver': ['sag', 'saga', 'newton-cg'], 'max_iter':[10, 50, 100]}]\n",
    "hyper_80_lgr_conservative, hyper_80_lgr_proba_conservative, hyper_80_cv_conservative, hyper_80_n_fs_conservative = classifiers.reduced_classifier_multiple_fs(clf, parameters, ppi80_hyper_list_conservative, hypergeometric_80_test_index_conservative, hypergeometric_80_fs_ar_conservative, label_list_conservative)\n",
    "hyper_80_lgr_conservative.to_csv('../../models/GAP-MINE/disease/binary/disease_hypergeometric_80_lgr_conservative.csv', index=False)\n",
    "hyper_80_lgr_proba_conservative.to_csv('../../models/GAP-MINE/disease/probability/disease_hypergeometric_80_lgr_conservative.csv', index=False)"
   ]
  },
  {
   "cell_type": "code",
   "execution_count": null,
   "id": "fb572fa7",
   "metadata": {},
   "outputs": [],
   "source": [
    "clf = LogisticRegression(random_state=22)\n",
    "parameters = [{'penalty':['l1','l2'], 'C':[100, 10, 1.0, 0.1, 0.01],\n",
    "             'solver': ['liblinear'], 'max_iter':[10, 50, 100]}, \n",
    "              {'penalty':['l2', 'none'], 'C':[100, 10, 1.0, 0.1, 0.01],\n",
    "             'solver': ['sag', 'saga', 'newton-cg'], 'max_iter':[10, 50, 100]}]\n",
    "closeness_80_lgr_conservative, closeness_80_lgr_proba_conservative, closeness_80_cv_conservative, closeness_80_n_fs_conservative = classifiers.reduced_classifier_multiple_fs(clf, parameters, ppi80_closeness_list_conservative, closeness_80_test_index_conservative, closeness_80_fs_ar_conservative, label_list_conservative)\n",
    "closeness_80_lgr_conservative.to_csv('../../models/GAP-MINE/disease/binary/disease_closeness_80_lgr_conservative.csv', index=False)\n",
    "closeness_80_lgr_proba_conservative.to_csv('../../models/GAP-MINE/disease/probability/disease_closeness_80_lgr_conservative.csv', index=False)"
   ]
  },
  {
   "cell_type": "code",
   "execution_count": null,
   "id": "a1d647a3",
   "metadata": {},
   "outputs": [],
   "source": [
    "clf = LogisticRegression(random_state=22)\n",
    "parameters = [{'penalty':['l1','l2'], 'C':[100, 10, 1.0, 0.1, 0.01],\n",
    "             'solver': ['liblinear'], 'max_iter':[10, 50, 100]}, \n",
    "              {'penalty':['l2', 'none'], 'C':[100, 10, 1.0, 0.1, 0.01],\n",
    "             'solver': ['sag', 'saga', 'newton-cg'], 'max_iter':[10, 50, 100]}]\n",
    "rwr_80_lgr_conservative, rwr_80_lgr_proba_conservative, rwr_80_cv_conservative, rwr_80_n_fs_conservative = classifiers.reduced_classifier_multiple_fs(clf, parameters, ppi80_rwr_list_conservative, rwr_80_test_index_conservative, rwr_80_fs_ar_conservative, label_list_conservative)\n",
    "rwr_80_lgr_conservative.to_csv('../../models/GAP-MINE/disease/binary/disease_rwr_80_lgr_conservative.csv', index=False)\n",
    "rwr_80_lgr_proba_conservative.to_csv('../../models/GAP-MINE/disease/probability/disease_rwr_80_lgr_conservative.csv', index=False)"
   ]
  },
  {
   "cell_type": "code",
   "execution_count": null,
   "id": "56eb3b95",
   "metadata": {},
   "outputs": [],
   "source": [
    "importlib.reload(classifiers)\n",
    "clf = LogisticRegression(random_state=22)\n",
    "parameters = [{'penalty':['l1','l2'], 'C':[100, 10, 1.0, 0.1, 0.01],\n",
    "             'solver': ['liblinear'], 'max_iter':[10, 50, 100]}, \n",
    "              {'penalty':['l2', 'none'], 'C':[100, 10, 1.0, 0.1, 0.01],\n",
    "             'solver': ['sag', 'saga', 'newton-cg'], 'max_iter':[10, 50, 100]}]\n",
    "fraction_betweenness_80_lgr_conservative, fraction_betweenness_80_lgr_proba_conservative, fraction_betweenness_80_cv_conservative, fraction_betweenness_80_n_fs_conservative = classifiers.reduced_classifier_multiple_fs(clf, parameters, ppi80_fraction_betweenness_list_conservative, fraction_betweenness_80_test_index_conservative, fraction_betweenness_80_fs_ar_conservative, label_list_conservative)\n",
    "fraction_betweenness_80_lgr_conservative.to_csv('../../models/GAP-MINE/disease/binary/disease_fraction_betweenness_80_lgr_conservative.csv', index=False)\n",
    "fraction_betweenness_80_lgr_proba_conservative.to_csv('../../models/GAP-MINE/disease/probability/disease_fraction_betweenness_80_lgr_conservative.csv', index=False)"
   ]
  },
  {
   "cell_type": "code",
   "execution_count": null,
   "id": "58cd5514",
   "metadata": {},
   "outputs": [],
   "source": [
    "importlib.reload(classifiers)\n",
    "clf = LogisticRegression(random_state=22)\n",
    "parameters = [{'penalty':['l1','l2'], 'C':[100, 10, 1.0, 0.1, 0.01],\n",
    "             'solver': ['liblinear'], 'max_iter':[10, 50, 100]}, \n",
    "              {'penalty':['l2', 'none'], 'C':[100, 10, 1.0, 0.1, 0.01],\n",
    "             'solver': ['sag', 'saga', 'newton-cg'], 'max_iter':[10, 50, 100]}]\n",
    "betweenness_80_lgr_conservative, betweenness_80_lgr_proba_conservative, betweenness_80_cv_conservative, betweenness_80_n_fs_conservative = classifiers.reduced_classifier_multiple_fs(clf, parameters, ppi80_betweenness_list_conservative, betweenness_80_test_index_conservative, betweenness_80_fs_ar_conservative, label_list_conservative)\n",
    "betweenness_80_lgr_conservative.to_csv('../../models/GAP-MINE/disease/disease_betweenness_80_lgr_conservative.csv', index=False)\n",
    "betweenness_80_lgr_proba_conservative.to_csv('../../models/GAP-MINE/disease/probability/disease_betweenness_80_lgr_conservative.csv', index=False)"
   ]
  },
  {
   "cell_type": "markdown",
   "id": "81d0c211",
   "metadata": {},
   "source": [
    "### 2.2.2. Protein 80% Reduction"
   ]
  },
  {
   "cell_type": "markdown",
   "id": "30e08828",
   "metadata": {},
   "source": [
    "#### 2.2.2.1. Steiner Tree"
   ]
  },
  {
   "cell_type": "code",
   "execution_count": null,
   "id": "e41bae03",
   "metadata": {},
   "outputs": [],
   "source": [
    "importlib.reload(classifiers)\n",
    "clf = LogisticRegression(random_state=22)\n",
    "parameters = [{'penalty':['l1','l2'], 'C':[100, 10, 1.0, 0.1, 0.01],\n",
    "             'solver': ['liblinear'], 'max_iter':[10, 50, 100]}, \n",
    "              {'penalty':['l2', 'none'], 'C':[100, 10, 1.0, 0.1, 0.01],\n",
    "             'solver': ['sag', 'saga', 'newton-cg'], 'max_iter':[10, 50, 100]}]\n",
    "hyper_protein80_lgr, hyper_protein80_lgr_proba, hyper_protein80_cv, hyper_protein80_n_fs = classifiers.reduced_classifier_multiple_fs(clf, parameters, protein80_hyper_list, hypergeometric_protein80_test_index, hypergeometric_protein80_fs_ar, label_list_protein80)\n",
    "hyper_protein80_lgr.to_csv('../../models/GAP-MINE/disease/binary/disease_hypergeometric_protein80_lgr.csv', index=False)\n",
    "hyper_protein80_lgr_proba.to_csv('../../models/GAP-MINE/disease/probability/disease_hypergeometric_protein80_lgr.csv', index=False)"
   ]
  },
  {
   "cell_type": "code",
   "execution_count": null,
   "id": "410ca1f2",
   "metadata": {},
   "outputs": [],
   "source": [
    "clf = LogisticRegression(random_state=22)\n",
    "parameters = [{'penalty':['l1','l2'], 'C':[100, 10, 1.0, 0.1, 0.01],\n",
    "             'solver': ['liblinear'], 'max_iter':[10, 50, 100]}, \n",
    "              {'penalty':['l2', 'none'], 'C':[100, 10, 1.0, 0.1, 0.01],\n",
    "             'solver': ['sag', 'saga', 'newton-cg'], 'max_iter':[10, 50, 100]}]\n",
    "closeness_protein80_lgr, closeness_protein80_lgr_proba, closeness_protein80_cv, closeness_protein80_n_fs = classifiers.reduced_classifier_multiple_fs(clf, parameters, protein80_closeness_list, closeness_protein80_test_index, closeness_protein80_fs_ar, label_list_protein80)\n",
    "closeness_protein80_lgr.to_csv('../../models/GAP-MINE/disease/binary/disease_closeness_protein80_lgr.csv', index=False)\n",
    "closeness_protein80_lgr_proba.to_csv('../../models/GAP-MINE/disease/probability/disease_closeness_protein80_lgr.csv', index=False)"
   ]
  },
  {
   "cell_type": "code",
   "execution_count": null,
   "id": "754734a9",
   "metadata": {},
   "outputs": [],
   "source": [
    "importlib.reload(classifiers)\n",
    "clf = LogisticRegression(random_state=22)\n",
    "parameters = [{'penalty':['l1','l2'], 'C':[100, 10, 1.0, 0.1, 0.01],\n",
    "             'solver': ['liblinear'], 'max_iter':[10, 50, 100]}, \n",
    "              {'penalty':['l2', 'none'], 'C':[100, 10, 1.0, 0.1, 0.01],\n",
    "             'solver': ['sag', 'saga', 'newton-cg'], 'max_iter':[10, 50, 100]}]\n",
    "rwr_protein80_lgr, rwr_protein80_lgr_proba, rwr_protein80_cv, rwr_protein80_n_fs = classifiers.reduced_classifier_multiple_fs(clf, parameters, protein80_rwr_list, rwr_protein80_test_index, rwr_protein80_fs_ar, label_list_protein80)\n",
    "rwr_protein80_lgr.to_csv('../../models/GAP-MINE/disease/binary/disease_rwr_protein80_lgr.csv', index=False)\n",
    "rwr_protein80_lgr_proba.to_csv('../../models/GAP-MINE/disease/probability/disease_rwr_protein80_lgr.csv', index=False)"
   ]
  },
  {
   "cell_type": "code",
   "execution_count": null,
   "id": "39e78b73",
   "metadata": {},
   "outputs": [],
   "source": [
    "importlib.reload(classifiers)\n",
    "clf = LogisticRegression(random_state=22)\n",
    "parameters = [{'penalty':['l1','l2'], 'C':[100, 10, 1.0, 0.1, 0.01],\n",
    "             'solver': ['liblinear'], 'max_iter':[10, 50, 100]}, \n",
    "              {'penalty':['l2', 'none'], 'C':[100, 10, 1.0, 0.1, 0.01],\n",
    "             'solver': ['sag', 'saga', 'newton-cg'], 'max_iter':[10, 50, 100]}]\n",
    "fraction_betweenness_protein80_lgr, fraction_betweenness_protein80_lgr_proba, fraction_betweenness_protein80_cv, fraction_betweenness_protein80_n_fs = classifiers.reduced_classifier_multiple_fs(clf, parameters, protein80_fraction_betweenness_list, fraction_betweenness_protein80_test_index, fraction_betweenness_protein80_fs_ar, label_list_protein80)\n",
    "fraction_betweenness_protein80_lgr.to_csv('../../models/GAP-MINE/disease/binary/disease_fraction_betweenness_protein80_lgr.csv', index=False)\n",
    "fraction_betweenness_protein80_lgr_proba.to_csv('../../models/GAP-MINE/disease/probability/disease_fraction_betweenness_protein80_lgr.csv', index=False)"
   ]
  },
  {
   "cell_type": "code",
   "execution_count": null,
   "id": "0d90b2cb",
   "metadata": {},
   "outputs": [],
   "source": [
    "importlib.reload(classifiers)\n",
    "clf = LogisticRegression(random_state=22)\n",
    "parameters = [{'penalty':['l1','l2'], 'C':[100, 10, 1.0, 0.1, 0.01],\n",
    "             'solver': ['liblinear'], 'max_iter':[10, 50, 100]}, \n",
    "              {'penalty':['l2', 'none'], 'C':[100, 10, 1.0, 0.1, 0.01],\n",
    "             'solver': ['sag', 'saga', 'newton-cg'], 'max_iter':[10, 50, 100]}]\n",
    "betweenness_protein80_lgr, betweenness_protein80_lgr_proba, betweenness_protein80_cv, betweenness_protein80_n_fs = classifiers.reduced_classifier_multiple_fs(clf, parameters, protein80_betweenness_list, betweenness_protein80_test_index, betweenness_protein80_fs_ar, label_list_protein80)\n",
    "betweenness_protein80_lgr.to_csv('../../models/GAP-MINE/disease/binary/disease_betweenness_protein80_lgr.csv', index=False)\n",
    "betweenness_protein80_lgr_proba.to_csv('../../models/GAP-MINE/disease/probability/disease_betweenness_protein80_lgr.csv', index=False)"
   ]
  },
  {
   "cell_type": "markdown",
   "id": "b3e9c121",
   "metadata": {},
   "source": [
    "#### 2.2.2.2. Conservative Module"
   ]
  },
  {
   "cell_type": "code",
   "execution_count": null,
   "id": "cb9a679a",
   "metadata": {},
   "outputs": [],
   "source": [
    "importlib.reload(classifiers)\n",
    "clf = LogisticRegression(random_state=22)\n",
    "parameters = [{'penalty':['l1','l2'], 'C':[100, 10, 1.0, 0.1, 0.01],\n",
    "             'solver': ['liblinear'], 'max_iter':[10, 50, 100]}, \n",
    "              {'penalty':['l2', 'none'], 'C':[100, 10, 1.0, 0.1, 0.01],\n",
    "             'solver': ['sag', 'saga', 'newton-cg'], 'max_iter':[10, 50, 100]}]\n",
    "hyper_protein80_lgr_conservative, hyper_protein80_lgr_proba_conservative, hyper_protein80_cv_conservative, hyper_protein80_n_fs_conservative = classifiers.reduced_classifier_multiple_fs(clf, parameters, protein80_hyper_list_conservative, hypergeometric_protein80_test_index_conservative, hypergeometric_protein80_fs_ar_conservative, label_list_protein80_conservative)\n",
    "hyper_protein80_lgr_conservative.to_csv('../../models/GAP-MINE/disease/binary/disease_hypergeometric_protein80_lgr_conservative.csv', index=False)\n",
    "hyper_protein80_lgr_proba_conservative.to_csv('../../models/GAP-MINE/disease/probability/disease_hypergeometric_protein80_lgr_conservative.csv', index=False)"
   ]
  },
  {
   "cell_type": "code",
   "execution_count": null,
   "id": "3766513f",
   "metadata": {},
   "outputs": [],
   "source": [
    "clf = LogisticRegression(random_state=22)\n",
    "parameters = [{'penalty':['l1','l2'], 'C':[100, 10, 1.0, 0.1, 0.01],\n",
    "             'solver': ['liblinear'], 'max_iter':[10, 50, 100]}, \n",
    "              {'penalty':['l2', 'none'], 'C':[100, 10, 1.0, 0.1, 0.01],\n",
    "             'solver': ['sag', 'saga', 'newton-cg'], 'max_iter':[10, 50, 100]}]\n",
    "closeness_protein80_lgr_conservative, closeness_protein80_lgr_proba_conservative, closeness_protein80_cv_conservative, closeness_protein80_n_fs_conservative = classifiers.reduced_classifier_multiple_fs(clf, parameters, protein80_closeness_list_conservative, closeness_protein80_test_index_conservative, closeness_protein80_fs_ar_conservative, label_list_protein80_conservative)\n",
    "closeness_protein80_lgr_conservative.to_csv('../../models/GAP-MINE/disease/binary/disease_closeness_protein80_lgr_conservative.csv', index=False)\n",
    "closeness_protein80_lgr_proba_conservative.to_csv('../../models/GAP-MINE/disease/probability/disease_closeness_protein80_lgr_conservative.csv', index=False)"
   ]
  },
  {
   "cell_type": "code",
   "execution_count": null,
   "id": "f153e285",
   "metadata": {},
   "outputs": [],
   "source": [
    "clf = LogisticRegression(random_state=22)\n",
    "parameters = [{'penalty':['l1','l2'], 'C':[100, 10, 1.0, 0.1, 0.01],\n",
    "             'solver': ['liblinear'], 'max_iter':[10, 50, 100]}, \n",
    "              {'penalty':['l2', 'none'], 'C':[100, 10, 1.0, 0.1, 0.01],\n",
    "             'solver': ['sag', 'saga', 'newton-cg'], 'max_iter':[10, 50, 100]}]\n",
    "rwr_protein80_lgr_conservative, rwr_protein80_lgr_proba_conservative, rwr_protein80_cv_conservative, rwr_protein80_n_fs_conservative = classifiers.reduced_classifier_multiple_fs(clf, parameters, protein80_rwr_list_conservative, rwr_protein80_test_index_conservative, rwr_protein80_fs_ar_conservative, label_list_protein80_conservative)\n",
    "rwr_protein80_lgr_conservative.to_csv('../../models/GAP-MINE/disease/binary/disease_rwr_protein80_lgr_conservative.csv', index=False)\n",
    "rwr_protein80_lgr_proba_conservative.to_csv('../../models/GAP-MINE/disease/probability/disease_rwr_protein80_lgr_conservative.csv', index=False)"
   ]
  },
  {
   "cell_type": "code",
   "execution_count": null,
   "id": "50a372dd",
   "metadata": {},
   "outputs": [],
   "source": [
    "importlib.reload(classifiers)\n",
    "clf = LogisticRegression(random_state=22)\n",
    "parameters = [{'penalty':['l1','l2'], 'C':[100, 10, 1.0, 0.1, 0.01],\n",
    "             'solver': ['liblinear'], 'max_iter':[10, 50, 100]}, \n",
    "              {'penalty':['l2', 'none'], 'C':[100, 10, 1.0, 0.1, 0.01],\n",
    "             'solver': ['sag', 'saga', 'newton-cg'], 'max_iter':[10, 50, 100]}]\n",
    "fraction_betweenness_protein80_lgr_conservative, fraction_betweenness_protein80_lgr_proba_conservative, fraction_betweenness_protein80_cv_conservative, fraction_betweenness_protein80_n_fs_conservative = classifiers.reduced_classifier_multiple_fs(clf, parameters, protein80_fraction_betweenness_list_conservative, fraction_betweenness_protein80_test_index_conservative, fraction_betweenness_protein80_fs_ar_conservative, label_list_protein80_conservative)\n",
    "fraction_betweenness_protein80_lgr_conservative.to_csv('../../models/GAP-MINE/disease/binary/disease_fraction_betweenness_protein80_lgr_conservative.csv', index=False)\n",
    "fraction_betweenness_protein80_lgr_proba_conservative.to_csv('../../models/GAP-MINE/disease/probability/disease_fraction_betweenness_protein80_lgr_conservative.csv', index=False)"
   ]
  },
  {
   "cell_type": "code",
   "execution_count": null,
   "id": "c4fe6f2b",
   "metadata": {},
   "outputs": [],
   "source": [
    "importlib.reload(classifiers)\n",
    "clf = LogisticRegression(random_state=22)\n",
    "parameters = [{'penalty':['l1','l2'], 'C':[100, 10, 1.0, 0.1, 0.01],\n",
    "             'solver': ['liblinear'], 'max_iter':[10, 50, 100]}, \n",
    "              {'penalty':['l2', 'none'], 'C':[100, 10, 1.0, 0.1, 0.01],\n",
    "             'solver': ['sag', 'saga', 'newton-cg'], 'max_iter':[10, 50, 100]}]\n",
    "betweenness_protein80_lgr_conservative, betweenness_protein80_lgr_proba_conservative, betweenness_protein80_cv_conservative, betweenness_protein80_n_fs_conservative = classifiers.reduced_classifier_multiple_fs(clf, parameters, protein80_betweenness_list_conservative, betweenness_protein80_test_index_conservative, betweenness_protein80_fs_ar_conservative, label_list_protein80_conservative)\n",
    "betweenness_protein80_lgr_conservative.to_csv('../../models/GAP-MINE/disease/binary/disease_betweenness_protein80_lgr_conservative.csv', index=False)\n",
    "betweenness_protein80_lgr_proba_conservative.to_csv('../../models/GAP-MINE/disease/probability/disease_betweenness_protein80_lgr_conservative.csv', index=False)"
   ]
  }
 ],
 "metadata": {
  "kernelspec": {
   "display_name": "Python 3 (ipykernel)",
   "language": "python",
   "name": "python3"
  },
  "language_info": {
   "codemirror_mode": {
    "name": "ipython",
    "version": 3
   },
   "file_extension": ".py",
   "mimetype": "text/x-python",
   "name": "python",
   "nbconvert_exporter": "python",
   "pygments_lexer": "ipython3",
   "version": "3.8.8"
  },
  "vscode": {
   "interpreter": {
    "hash": "42555cd0c5f1594a81e40866f5733b2cbf65026c937bf0149d49f47f234897c3"
   }
  }
 },
 "nbformat": 4,
 "nbformat_minor": 5
}
