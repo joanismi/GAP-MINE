{
 "cells": [
  {
   "cell_type": "markdown",
   "id": "e16730ee",
   "metadata": {},
   "source": [
    "# 0. Imports"
   ]
  },
  {
   "cell_type": "code",
   "execution_count": null,
   "id": "ebce7fbd",
   "metadata": {},
   "outputs": [],
   "source": [
    "import pandas as pd\n",
    "import numpy as np\n",
    "from sklearn.linear_model import LogisticRegression\n",
    "from tqdm.notebook import tqdm\n",
    "from tqdm import tqdm_notebook\n",
    "import classifiers\n",
    "import importlib\n",
    "import json\n",
    "import warnings\n",
    "warnings.filterwarnings(\"ignore\")\n",
    "import pickle"
   ]
  },
  {
   "cell_type": "code",
   "execution_count": null,
   "id": "aedc38bb",
   "metadata": {},
   "outputs": [],
   "source": [
    "%%javascript\n",
    "(function(on) {\n",
    "const e=$( \"<a>Setup failed</a>\" );\n",
    "const ns=\"js_jupyter_suppress_warnings\";\n",
    "var cssrules=$(\"#\"+ns);\n",
    "if(!cssrules.length) cssrules = $(\"<style id='\"+ns+\"' type='text/css'>div.output_stderr { } </style>\").appendTo(\"head\");\n",
    "e.click(function() {\n",
    "    var s='Showing';  \n",
    "    cssrules.empty()\n",
    "    if(on) {\n",
    "        s='Hiding';\n",
    "        cssrules.append(\"div.output_stderr, div[data-mime-type*='.stderr'] { display:none; }\");\n",
    "    }\n",
    "    e.text(s+' warnings (click to toggle)');\n",
    "    on=!on;\n",
    "}).click();\n",
    "$(element).append(e);\n",
    "})(true);"
   ]
  },
  {
   "cell_type": "markdown",
   "id": "88438d25",
   "metadata": {},
   "source": [
    "# 1. Data Load"
   ]
  },
  {
   "cell_type": "code",
   "execution_count": null,
   "id": "b2d24ba9",
   "metadata": {},
   "outputs": [],
   "source": [
    "process_hypergeometric = np.array(pd.read_csv(\"../../data/processed/metrics/process_hypergeometric_fp.csv\", sep=',', header=0, index_col=0).transpose())\n",
    "process_closeness = np.array(pd.read_csv(\"../../data/processed/metrics/process_closeness_fp.csv\", sep=',', header=0, index_col=0).transpose())\n",
    "process_betweenness = np.array(pd.read_csv(\"../../data/processed/metrics/process_betweenness_fp.csv\", sep=',', header=0, index_col=0).transpose())\n",
    "process_fraction_betweenness = np.array(pd.read_csv(\"../../data/processed/metrics/process_fraction_betweenness_fp.csv\", sep=',', header=0, index_col=0).transpose())\n",
    "process_rwr = np.array(pd.read_csv(\"../../data/processed/metrics/process_rwr_fp.csv\", sep=',', header=0, index_col=0).transpose())"
   ]
  },
  {
   "cell_type": "code",
   "execution_count": null,
   "id": "b202b541",
   "metadata": {},
   "outputs": [],
   "source": [
    "disease_hypergeometric = np.array(pd.read_csv(\"../../data/processed/metrics/disease_hypergeometric_fp.csv\", sep=',', header=0, index_col=0).transpose())\n",
    "disease_closeness = np.array(pd.read_csv(\"../../data/processed/metrics/disease_closeness_fp.csv\", sep=',', header=0, index_col=0).transpose())\n",
    "disease_betweenness = np.array(pd.read_csv(\"../../data/processed/metrics/disease_betweenness_fp.csv\", sep=',', header=0, index_col=0).transpose())\n",
    "disease_fraction_betweenness = np.array(pd.read_csv(\"../../data/processed/metrics/disease_fraction_betweenness_fp.csv\", sep=',', header=0, index_col=0).transpose())\n",
    "disease_rwr = np.array(pd.read_csv(\"../../data/processed/metrics/disease_rwr_fp.csv\", sep=',', header=0, index_col=0).transpose())"
   ]
  },
  {
   "cell_type": "code",
   "execution_count": null,
   "id": "6aab1581",
   "metadata": {},
   "outputs": [],
   "source": [
    "disease_hypergeometric_conservative = np.array(pd.read_csv(\"../../data/processed/metrics/disease_hypergeometric_conservative_fp.csv\", sep=',', header=0, index_col=0).transpose())\n",
    "disease_closeness_conservative = np.array(pd.read_csv(\"../../data/processed/metrics/disease_closeness_conservative_fp.csv\", sep=',', header=0, index_col=0).transpose())\n",
    "disease_betweenness_conservative = np.array(pd.read_csv(\"../../data/processed/metrics/disease_betweenness_conservative_fp.csv\", sep=',', header=0, index_col=0).transpose())\n",
    "disease_fraction_betweenness_conservative = np.array(pd.read_csv(\"../../data/processed/metrics/disease_fraction_betweenness_conservative_fp.csv\", sep=',', header=0, index_col=0).transpose())\n",
    "disease_rwr_conservative = np.array(pd.read_csv(\"../../data/processed/metrics/disease_rwr_conservative_fp.csv\", sep=',', header=0, index_col=0).transpose())"
   ]
  },
  {
   "cell_type": "code",
   "execution_count": null,
   "id": "4be830ad",
   "metadata": {},
   "outputs": [],
   "source": [
    "process_closeness_df = pd.read_csv(\"../../data/processed/metrics/process_closeness_fp.csv\", sep=',', header=0, index_col=0)\n",
    "process_labels_df = pd.read_csv(\"../../data/processed/reactome_labels_fp.csv\", sep=',', names=process_closeness_df.columns)\n",
    "process_labels_df['protein_id'] = process_closeness_df.index\n",
    "process_labels_df.set_index('protein_id', inplace=True)"
   ]
  },
  {
   "cell_type": "code",
   "execution_count": null,
   "id": "b219c68f",
   "metadata": {},
   "outputs": [],
   "source": [
    "hypergeometric_df = pd.read_csv(\"../../data/processed/metrics/disease_hypergeometric_fp.csv\", sep=',', header=0, index_col=0)\n",
    "disgenet_labels_df = pd.read_csv(\"../../data/processed/disgenet_labels_fp.csv\", sep=',', names=hypergeometric_df.columns)\n",
    "disgenet_labels_df['protein_id'] = hypergeometric_df.index\n",
    "disgenet_labels_df.set_index('protein_id', inplace=True)"
   ]
  },
  {
   "cell_type": "code",
   "execution_count": null,
   "id": "34308ea2",
   "metadata": {},
   "outputs": [],
   "source": [
    "hypergeometric_conservative_df = pd.read_csv(\"../../data/processed/metrics/disease_hypergeometric_conservative_fp.csv\", sep=',', header=0, index_col=0)\n",
    "disgenet_labels_conservative_df = pd.read_csv('../../data/processed/disgenet_conservative_labels_fp.csv', names=hypergeometric_conservative_df.columns)\n",
    "disgenet_labels_conservative_df['protein_id'] = hypergeometric_conservative_df.index\n",
    "disgenet_labels_conservative_df.set_index('protein_id', inplace=True)"
   ]
  },
  {
   "cell_type": "code",
   "execution_count": null,
   "id": "4764f965",
   "metadata": {},
   "outputs": [],
   "source": [
    "process_hypergeometric_fs = pd.read_csv(\"../../data/processed/fs/reactome_hypergeometric_fs_fp.csv\", sep=',', header=0)\n",
    "process_closeness_fs = pd.read_csv(\"../../data/processed/fs/reactome_closeness_fs_fp.csv\", sep=',', header=0)\n",
    "process_betweenness_fs = pd.read_csv(\"../../data/processed/fs/reactome_betweenness_fs_fp.csv\", sep=',', header=0)\n",
    "process_fraction_betweenness_fs = pd.read_csv(\"../../data/processed/fs/reactome_fraction_betweenness_fs_fp.csv\", sep=',', header=0)\n",
    "process_rwr_fs = pd.read_csv(\"../../data/processed/fs/reactome_rwr_fs_fp.csv\", sep=',', header=0)\n",
    "\n",
    "disease_hypergeometric_fs = pd.read_csv(\"../../data/processed/fs/disease/disease_hypergeometric_fs_fp.csv\", sep=',', header=0)\n",
    "disease_closeness_fs = pd.read_csv(\"../../data/processed/fs/disease/disease_closeness_fs_fp.csv\", sep=',', header=0)\n",
    "disease_betweenness_fs = pd.read_csv(\"../../data/processed/fs/disease/disease_betweenness_fs_fp.csv\", sep=',', header=0)\n",
    "disease_fraction_betweenness_fs = pd.read_csv(\"../../data/processed/fs/disease/disease_fraction_betweenness_fs_fp.csv\", sep=',', header=0)\n",
    "disease_rwr_fs = pd.read_csv(\"../../data/processed/fs/disease/disease_rwr_fs_fp.csv\", sep=',', header=0)\n",
    "\n",
    "disease_conservative_hypergeometric_fs = pd.read_csv(\"../../data/processed/fs/disease/disease_hypergeometric_fs_conservative_fp.csv\", sep=',', header=0)\n",
    "disease_conservative_closeness_fs = pd.read_csv(\"../../data/processed/fs/disease/disease_closeness_fs_conservative_fp.csv\", sep=',', header=0)\n",
    "disease_conservative_betweenness_fs = pd.read_csv(\"../../data/processed/fs/disease/disease_betweenness_fs_conservative_fp.csv\", sep=',', header=0)\n",
    "disease_conservative_fraction_betweenness_fs = pd.read_csv(\"../../data/processed/fs/disease/disease_fraction_betweenness_fs_conservative_fp.csv\", sep=',', header=0)\n",
    "disease_conservative_rwr_fs = pd.read_csv(\"../../data/processed/fs/disease/disease_rwr_fs_conservative_fp.csv\", sep=',', header=0)"
   ]
  },
  {
   "cell_type": "code",
   "execution_count": null,
   "id": "a341d7c2",
   "metadata": {},
   "outputs": [],
   "source": [
    "process_hypergeometric_test = pd.read_csv(\"../../data/processed/fs/reactome_hypergeometric_test_fp.csv\", sep=',', header=0).transpose().to_numpy(dtype='int')-1\n",
    "process_closeness_test = pd.read_csv(\"../../data/processed/fs/reactome_closeness_test_fp.csv\", sep=',', header=0).transpose().to_numpy(dtype='int')-1\n",
    "process_betweenness_test = pd.read_csv(\"../../data/processed/fs/reactome_betweenness_test_fp.csv\", sep=',', header=0).transpose().to_numpy(dtype='int')-1\n",
    "process_fraction_betweenness_test = pd.read_csv(\"../../data/processed/fs/reactome_fraction_betweenness_test_fp.csv\", sep=',', header=0).transpose().to_numpy(dtype='int')-1\n",
    "process_rwr_test = pd.read_csv(\"../../data/processed/fs/reactome_rwr_test_fp.csv\", sep=',', header=0).transpose().to_numpy(dtype='int')-1\n",
    "\n",
    "disease_hypergeometric_test = pd.read_csv(\"../../data/processed/fs/disease/disease_hypergeometric_test_fp.csv\", sep=',', header=0).transpose().to_numpy(dtype='int')-1\n",
    "disease_closeness_test = pd.read_csv(\"../../data/processed/fs/disease/disease_closeness_test_fp.csv\", sep=',', header=0).transpose().to_numpy(dtype='int')-1\n",
    "disease_betweenness_test = pd.read_csv(\"../../data/processed/fs/disease/disease_betweenness_test_fp.csv\", sep=',', header=0).transpose().to_numpy(dtype='int')-1\n",
    "disease_fraction_betweenness_test = pd.read_csv(\"../../data/processed/fs/disease/disease_fraction_betweenness_test_fp.csv\", sep=',', header=0).transpose().to_numpy(dtype='int')-1\n",
    "disease_rwr_test = pd.read_csv(\"../../data/processed/fs/disease/disease_rwr_test_fp.csv\", sep=',', header=0).transpose().to_numpy(dtype='int')-1\n",
    "\n",
    "disease_conservative_hypergeometric_test = pd.read_csv(\"../../data/processed/fs/disease/disease_hypergeometric_test_conservative_fp.csv\", sep=',', header=0).transpose().to_numpy(dtype='int')-1\n",
    "disease_conservative_closeness_test = pd.read_csv(\"../../data/processed/fs/disease/disease_closeness_test_conservative_fp.csv\", sep=',', header=0).transpose().to_numpy(dtype='int')-1\n",
    "disease_conservative_betweenness_test = pd.read_csv(\"../../data/processed/fs/disease/disease_betweenness_test_conservative_fp.csv\", sep=',', header=0).transpose().to_numpy(dtype='int')-1\n",
    "disease_conservative_fraction_betweenness_test = pd.read_csv(\"../../data/processed/fs/disease/disease_fraction_betweenness_test_conservative_fp.csv\", sep=',', header=0).transpose().to_numpy(dtype='int')-1\n",
    "disease_conservative_rwr_test = pd.read_csv(\"../../data/processed/fs/disease/disease_rwr_test_conservative_fp.csv\", sep=',', header=0).transpose().to_numpy(dtype='int')-1"
   ]
  },
  {
   "cell_type": "markdown",
   "id": "a95499cb",
   "metadata": {},
   "source": [
    "# 2. Classification Tasks"
   ]
  },
  {
   "cell_type": "markdown",
   "id": "791e955f",
   "metadata": {},
   "source": [
    "## 2.1. Complete Network"
   ]
  },
  {
   "cell_type": "markdown",
   "id": "44d75262",
   "metadata": {},
   "source": [
    "### 2.1.1. Process"
   ]
  },
  {
   "cell_type": "code",
   "execution_count": null,
   "id": "38d6cb98",
   "metadata": {},
   "outputs": [],
   "source": [
    "importlib.reload(classifiers)\n",
    "clf = LogisticRegression(random_state=22)\n",
    "parameters = [{'penalty':['l1','l2'], 'C':[100, 10, 1.0, 0.1, 0.01],\n",
    "             'solver': ['liblinear'], 'max_iter':[10, 50, 100]}, \n",
    "              {'penalty':['l2', 'none'], 'C':[100, 10, 1.0, 0.1, 0.01],\n",
    "             'solver': ['sag', 'saga', 'newton-cg'], 'max_iter':[10, 50, 100]}]\n",
    "hypergeometric_lgr_proba_clf, hypergeometric_cv, hypergeometric_n_fs, hypergeometric_models = classifiers.multiple_fs_classifier_fp(clf, parameters, process_hypergeometric, process_hypergeometric_test, process_hypergeometric_fs, process_labels_df, jobs=20)\n",
    "hypergeometric_lgr_proba_clf.to_csv('../../models/false_positive/probability/process_hypergeometric_lgr_proba.csv', index=False)\n",
    "with open('../../models/false_positive/cv_results/process_hypergeometric.txt', 'w') as fp:\n",
    "    fp.write('\\n'.join('%s %s' % x for x in hypergeometric_cv))\n",
    "with open(\"../../models/false_positive/n_fs/process_hypergeometric.txt\", \"w\") as f:\n",
    "    for s in hypergeometric_n_fs:\n",
    "        f.write(str(s) +\"\\n\")\n",
    "with open(\"../../models/false_positive/models/process_hypergeometric.pckl\", \"wb\") as f:\n",
    "    for model in hypergeometric_models:\n",
    "         pickle.dump(model, f)"
   ]
  },
  {
   "cell_type": "code",
   "execution_count": null,
   "id": "375aad43",
   "metadata": {},
   "outputs": [],
   "source": [
    "importlib.reload(classifiers)\n",
    "clf = LogisticRegression(random_state=22)\n",
    "parameters = [{'penalty':['l1','l2'], 'C':[100, 10, 1.0, 0.1, 0.01],\n",
    "             'solver': ['liblinear'], 'max_iter':[10, 50, 100]}, \n",
    "              {'penalty':['l2', 'none'], 'C':[100, 10, 1.0, 0.1, 0.01],\n",
    "             'solver': ['sag', 'saga', 'newton-cg'], 'max_iter':[10, 50, 100]}]\n",
    "closeness_lgr_proba_clf, closeness_cv, closeness_n_fs, closeness_models = classifiers.multiple_fs_classifier_fp(clf, parameters, process_closeness, process_closeness_test, process_closeness_fs, process_labels_df, jobs=6)\n",
    "closeness_lgr_proba_clf.to_csv('../../models/false_positive/probability/process_closeness_lgr_proba.csv', index=False)\n",
    "with open('../../models/false_positive/cv_results/process_closeness.txt', 'w') as fp:\n",
    "    fp.write('\\n'.join('%s %s' % x for x in closeness_cv))\n",
    "with open(\"../../models/false_positive/n_fs/process_closeness.txt\", \"w\") as f:\n",
    "    for s in closeness_n_fs:\n",
    "        f.write(str(s) +\"\\n\")\n",
    "with open(\"../../models/false_positive/models/process_closeness.pckl\", \"wb\") as f:\n",
    "    for model in closeness_models:\n",
    "         pickle.dump(model, f)"
   ]
  },
  {
   "cell_type": "code",
   "execution_count": null,
   "id": "1e6974ae",
   "metadata": {},
   "outputs": [],
   "source": [
    "importlib.reload(classifiers)\n",
    "clf = LogisticRegression(random_state=22)\n",
    "parameters = [{'penalty':['l1','l2'], 'C':[100, 10, 1.0, 0.1, 0.01],\n",
    "             'solver': ['liblinear'], 'max_iter':[10, 50, 100]}, \n",
    "              {'penalty':['l2', 'none'], 'C':[100, 10, 1.0, 0.1, 0.01],\n",
    "             'solver': ['sag', 'saga', 'newton-cg'], 'max_iter':[10, 50, 100]}]\n",
    "betweenness_lgr_proba_clf, betweenness_cv, betweenness_n_fs, betweenness_models = classifiers.multiple_fs_classifier_fp(clf, parameters, process_betweenness, process_betweenness_test, process_betweenness_fs, process_labels_df, jobs=6)\n",
    "betweenness_lgr_proba_clf.to_csv('../../models/false_positive/probability/process_betweenness_lgr_proba.csv', index=False)\n",
    "with open('../../models/false_positive/cv_results/process_betweenness.txt', 'w') as fp:\n",
    "    fp.write('\\n'.join('%s %s' % x for x in betweenness_cv))\n",
    "with open(\"../../models/false_positive/n_fs/process_betweenness.txt\", \"w\") as f:\n",
    "    for s in betweenness_n_fs:\n",
    "        f.write(str(s) +\"\\n\")\n",
    "with open(\"../../models/false_positive/models/process_betweenness.pckl\", \"wb\") as f:\n",
    "    for model in betweenness_models:\n",
    "         pickle.dump(model, f)"
   ]
  },
  {
   "cell_type": "code",
   "execution_count": null,
   "id": "bfc26d08",
   "metadata": {},
   "outputs": [],
   "source": [
    "importlib.reload(classifiers)\n",
    "clf = LogisticRegression(random_state=22)\n",
    "parameters = [{'penalty':['l1','l2'], 'C':[100, 10, 1.0, 0.1, 0.01],\n",
    "             'solver': ['liblinear'], 'max_iter':[10, 50, 100]}, \n",
    "              {'penalty':['l2', 'none'], 'C':[100, 10, 1.0, 0.1, 0.01],\n",
    "             'solver': ['sag', 'saga', 'newton-cg'], 'max_iter':[10, 50, 100]}]\n",
    "fraction_betweenness_lgr_proba_clf, fraction_betweenness_cv, fraction_betweenness_n_fs, fraction_betweenness_models = classifiers.multiple_fs_classifier_fp(clf, parameters, process_fraction_betweenness, process_fraction_betweenness_test, process_fraction_betweenness_fs, process_labels_df, jobs=6)\n",
    "fraction_betweenness_lgr_proba_clf.to_csv('../../models/false_positive/probability/process_fraction_betweenness_lgr_proba.csv', index=False)\n",
    "with open('../../models/false_positive/cv_results/process_fraction_betweenness.txt', 'w') as fp:\n",
    "    fp.write('\\n'.join('%s %s' % x for x in fraction_betweenness_cv))\n",
    "with open(\"../../models/false_positive/n_fs/process_fraction_betweenness.txt\", \"w\") as f:\n",
    "    for s in fraction_betweenness_n_fs:\n",
    "        f.write(str(s) +\"\\n\")\n",
    "with open(\"../../models/false_positive/models/process_fraction_betweenness.pckl\", \"wb\") as f:\n",
    "    for model in fraction_betweenness_models:\n",
    "         pickle.dump(model, f)"
   ]
  },
  {
   "cell_type": "code",
   "execution_count": null,
   "id": "4173551e",
   "metadata": {},
   "outputs": [],
   "source": [
    "importlib.reload(classifiers)\n",
    "clf = LogisticRegression(random_state=22)\n",
    "parameters = [{'penalty':['l1','l2'], 'C':[100, 10, 1.0, 0.1, 0.01],\n",
    "             'solver': ['liblinear'], 'max_iter':[10, 50, 100]}, \n",
    "              {'penalty':['l2', 'none'], 'C':[100, 10, 1.0, 0.1, 0.01],\n",
    "             'solver': ['sag', 'saga', 'newton-cg'], 'max_iter':[10, 50, 100]}]\n",
    "rwr_lgr_proba_clf, rwr_cv, rwr_n_fs, rwr_models = classifiers.multiple_fs_classifier_fp(clf, parameters, process_rwr, process_rwr_test, process_rwr_fs, process_labels_df, jobs=6)\n",
    "rwr_lgr_proba_clf.to_csv('../../models/false_positive/probability/process_rwr_lgr_proba.csv', index=False)\n",
    "with open('../../models/false_positive/cv_results/process_rwr.txt', 'w') as fp:\n",
    "    fp.write('\\n'.join('%s %s' % x for x in rwr_cv))\n",
    "with open(\"../../models/false_positive/n_fs/process_rwr.txt\", \"w\") as f:\n",
    "    for s in rwr_n_fs:\n",
    "        f.write(str(s) +\"\\n\")\n",
    "with open(\"../../models/false_positive/models/process_rwr.pckl\", \"wb\") as f:\n",
    "    for model in rwr_models:\n",
    "         pickle.dump(model, f)"
   ]
  },
  {
   "cell_type": "markdown",
   "id": "5917b165",
   "metadata": {},
   "source": [
    "### 2.1.2. Disease Steiner Tree"
   ]
  },
  {
   "cell_type": "code",
   "execution_count": null,
   "id": "1d027842",
   "metadata": {},
   "outputs": [],
   "source": [
    "importlib.reload(classifiers)\n",
    "clf = LogisticRegression(random_state=22)\n",
    "parameters = [{'penalty':['l1','l2'], 'C':[100, 10, 1.0, 0.1, 0.01],\n",
    "             'solver': ['liblinear'], 'max_iter':[10, 50, 100]}, \n",
    "              {'penalty':['l2', 'none'], 'C':[100, 10, 1.0, 0.1, 0.01],\n",
    "             'solver': ['sag', 'saga', 'newton-cg'], 'max_iter':[10, 50, 100]}]\n",
    "disease_hypergeometric_lgr_proba_clf, disease_hypergeometric_cv, disease_hypergeometric_n_fs, disease_hypergeometric_models = classifiers.multiple_fs_classifier_fp(clf, parameters, disease_hypergeometric, disease_hypergeometric_test, disease_hypergeometric_fs, disgenet_labels_df, jobs=6)\n",
    "disease_hypergeometric_lgr_proba_clf.to_csv('../../models/false_positive/probability/disease_hypergeometric_lgr_proba.csv', index=False)\n",
    "with open('../../models/false_positive/cv_results/disease_hypergeometric.txt', 'w') as fp:\n",
    "    fp.write('\\n'.join('%s %s' % x for x in disease_hypergeometric_cv))\n",
    "with open(\"../../models/false_positive/n_fs/disease_hypergeometric.txt\", \"w\") as f:\n",
    "    for s in disease_hypergeometric_n_fs:\n",
    "        f.write(str(s) +\"\\n\")\n",
    "with open(\"../../models/false_positive/models/disease_hypergeometric.pckl\", \"wb\") as f:\n",
    "    for model in disease_hypergeometric_models:\n",
    "         pickle.dump(model, f)"
   ]
  },
  {
   "cell_type": "code",
   "execution_count": null,
   "id": "c66fbd26",
   "metadata": {},
   "outputs": [],
   "source": [
    "importlib.reload(classifiers)\n",
    "clf = LogisticRegression(random_state=22)\n",
    "parameters = [{'penalty':['l1','l2'], 'C':[100, 10, 1.0, 0.1, 0.01],\n",
    "             'solver': ['liblinear'], 'max_iter':[10, 50, 100]},  \n",
    "              {'penalty':['l2', 'none'], 'C':[100, 10, 1.0, 0.1, 0.01],\n",
    "             'solver': ['sag', 'saga', 'newton-cg'], 'max_iter':[10, 50, 100]}]\n",
    "disease_closeness_lgr_proba_clf, disease_closeness_cv, disease_closeness_n_fs, disease_closeness_models = classifiers.multiple_fs_classifier_fp(clf, parameters, disease_closeness, disease_closeness_test, disease_closeness_fs, disgenet_labels_df, jobs=6)\n",
    "disease_closeness_lgr_proba_clf.to_csv('../../models/false_positive/probability/disease_closeness_lgr_proba.csv', index=False)\n",
    "with open('../../models/false_positive/cv_results/disease_closeness.txt', 'w') as fp:\n",
    "    fp.write('\\n'.join('%s %s' % x for x in disease_closeness_cv))\n",
    "with open(\"../../models/false_positive/n_fs/disease_closeness.txt\", \"w\") as f:\n",
    "    for s in disease_closeness_n_fs:\n",
    "        f.write(str(s) +\"\\n\")\n",
    "with open(\"../../models/false_positive/models/disease_closeness.pckl\", \"wb\") as f:\n",
    "    for model in disease_closeness_models:\n",
    "         pickle.dump(model, f) "
   ]
  },
  {
   "cell_type": "code",
   "execution_count": null,
   "id": "fdd2c624",
   "metadata": {},
   "outputs": [],
   "source": [
    "importlib.reload(classifiers)\n",
    "clf = LogisticRegression(random_state=22)\n",
    "parameters = [{'penalty':['l1','l2'], 'C':[100, 10, 1.0, 0.1, 0.01],\n",
    "             'solver': ['liblinear'], 'max_iter':[10, 50, 100]}, \n",
    "              {'penalty':['l2', 'none'], 'C':[100, 10, 1.0, 0.1, 0.01],\n",
    "             'solver': ['sag', 'saga', 'newton-cg'], 'max_iter':[10, 50, 100]}]\n",
    "disease_betweenness_lgr_proba_clf, disease_betweenness_cv, disease_betweenness_n_fs, disease_betweenness_models = classifiers.multiple_fs_classifier_fp(clf, parameters, disease_betweenness, disease_betweenness_test, disease_betweenness_fs, disgenet_labels_df, jobs=6)\n",
    "disease_betweenness_lgr_proba_clf.to_csv('../../models/false_positive/probability/disease_betweenness_lgr_proba.csv', index=False)\n",
    "with open('../../models/false_positive/cv_results/disease_betweenness.txt', 'w') as fp:\n",
    "    fp.write('\\n'.join('%s %s' % x for x in disease_betweenness_cv))\n",
    "with open(\"../../models/false_positive/n_fs/disease_betweenness.txt\", \"w\") as f:\n",
    "    for s in disease_betweenness_n_fs:\n",
    "        f.write(str(s) +\"\\n\")\n",
    "with open(\"../../models/false_positive/models/disease_betweenness.pckl\", \"wb\") as f:\n",
    "    for model in disease_betweenness_models:\n",
    "         pickle.dump(model, f)"
   ]
  },
  {
   "cell_type": "code",
   "execution_count": null,
   "id": "738e75f8",
   "metadata": {},
   "outputs": [],
   "source": [
    "importlib.reload(classifiers)\n",
    "clf = LogisticRegression(random_state=22)\n",
    "parameters = [{'penalty':['l1','l2'], 'C':[100, 10, 1.0, 0.1, 0.01],\n",
    "             'solver': ['liblinear'], 'max_iter':[10, 50, 100]}, \n",
    "              {'penalty':['l2', 'none'], 'C':[100, 10, 1.0, 0.1, 0.01],\n",
    "             'solver': ['sag', 'saga', 'newton-cg'], 'max_iter':[10, 50, 100]}]\n",
    "disease_fraction_betweenness_lgr_proba_clf, disease_fraction_betweenness_cv, disease_fraction_betweenness_n_fs, disease_fraction_betweenness_models = classifiers.multiple_fs_classifier_fp(clf, parameters, disease_fraction_betweenness, disease_fraction_betweenness_test, disease_fraction_betweenness_fs, disgenet_labels_df, jobs=6)\n",
    "disease_fraction_betweenness_lgr_proba_clf.to_csv('../../models/false_positive/probability/disease_fraction_betweenness_lgr_proba.csv', index=False)\n",
    "with open('../../models/false_positive/cv_results/disease_fraction_betweenness.txt', 'w') as fp:\n",
    "    fp.write('\\n'.join('%s %s' % x for x in disease_fraction_betweenness_cv))\n",
    "with open(\"../../models/false_positive/n_fs/disease_fraction_betweenness.txt\", \"w\") as f:\n",
    "    for s in disease_fraction_betweenness_n_fs:\n",
    "        f.write(str(s) +\"\\n\")\n",
    "with open(\"../../models/false_positive/models/disease_fraction_betweenness.pckl\", \"wb\") as f:\n",
    "    for model in disease_fraction_betweenness_models:\n",
    "         pickle.dump(model, f)"
   ]
  },
  {
   "cell_type": "code",
   "execution_count": null,
   "id": "b6f242aa",
   "metadata": {},
   "outputs": [],
   "source": [
    "importlib.reload(classifiers)\n",
    "clf = LogisticRegression(random_state=22)\n",
    "parameters = [{'penalty':['l1','l2'], 'C':[100, 10, 1.0, 0.1, 0.01],\n",
    "             'solver': ['liblinear'], 'max_iter':[10, 50, 100]}, \n",
    "              {'penalty':['l2', 'none'], 'C':[100, 10, 1.0, 0.1, 0.01],\n",
    "             'solver': ['sag', 'saga', 'newton-cg'], 'max_iter':[10, 50, 100]}]\n",
    "rwr_lgr_proba_clf, rwr_cv, rwr_n_fs, rwr_models = classifiers.multiple_fs_classifier_fp(clf, parameters, disease_rwr, disease_rwr_test, disease_rwr_fs, disgenet_labels_df, jobs=6)\n",
    "rwr_lgr_proba_clf.to_csv('../../models/false_positive/probability/disease_rwr_lgr_proba.csv', index=False)\n",
    "with open('../../models/false_positive/cv_results/disease_rwr.txt', 'w') as fp:\n",
    "    fp.write('\\n'.join('%s %s' % x for x in rwr_cv))\n",
    "with open(\"../../models/false_positive/n_fs/disease_rwr.txt\", \"w\") as f:\n",
    "    for s in rwr_n_fs:\n",
    "        f.write(str(s) +\"\\n\")\n",
    "with open(\"../../models/false_positive/models/disease_rwr.pckl\", \"wb\") as f:\n",
    "    for model in rwr_models:\n",
    "         pickle.dump(model, f)"
   ]
  },
  {
   "cell_type": "markdown",
   "id": "6c757812",
   "metadata": {},
   "source": [
    "### 2.1.3. Disease Conservative Module"
   ]
  },
  {
   "cell_type": "code",
   "execution_count": null,
   "id": "174e30f0",
   "metadata": {},
   "outputs": [],
   "source": [
    "importlib.reload(classifiers)\n",
    "clf = LogisticRegression(random_state=22)\n",
    "parameters = [{'penalty':['l1','l2'], 'C':[100, 10, 1.0, 0.1, 0.01],\n",
    "             'solver': ['liblinear'], 'max_iter':[10, 50, 100]}, \n",
    "              {'penalty':['l2', 'none'], 'C':[100, 10, 1.0, 0.1, 0.01],\n",
    "             'solver': ['sag', 'saga', 'newton-cg'], 'max_iter':[10, 50, 100]}]\n",
    "hypergeometric_lgr_proba_clf_conservative, hypergeometric_cv_conservative, hypergeometric_n_fs_conservative, hypergeometric_conservative_models = classifiers.multiple_fs_classifier_fp(clf, parameters, disease_hypergeometric_conservative, disease_conservative_hypergeometric_test, disease_conservative_hypergeometric_fs, disgenet_labels_conservative_df, jobs=6)\n",
    "hypergeometric_lgr_proba_clf_conservative.to_csv('../../models/false_positive/probability/disease_hypergeometric_lgr_proba_conservative.csv', index=False)\n",
    "with open('../../models/false_positive/cv_results/disease_hypergeometric_conservative.txt', 'w') as fp:\n",
    "    fp.write('\\n'.join('%s %s' % x for x in hypergeometric_cv_conservative))\n",
    "with open(\"../../models/false_positive/n_fs/disease_hypergeometric_conservative.txt\", \"w\") as f:\n",
    "    for s in hypergeometric_n_fs_conservative:\n",
    "        f.write(str(s) +\"\\n\")\n",
    "with open(\"../../models/false_positive/models/disease_hypergeometric_conservative.pckl\", \"wb\") as f:\n",
    "    for model in hypergeometric_conservative_models:\n",
    "         pickle.dump(model, f)"
   ]
  },
  {
   "cell_type": "code",
   "execution_count": null,
   "id": "bba9553c",
   "metadata": {},
   "outputs": [],
   "source": [
    "importlib.reload(classifiers)\n",
    "clf = LogisticRegression(random_state=22)\n",
    "parameters = [{'penalty':['l1','l2'], 'C':[100, 10, 1.0, 0.1, 0.01],\n",
    "             'solver': ['liblinear'], 'max_iter':[10, 50, 100]}, \n",
    "              {'penalty':['l2', 'none'], 'C':[100, 10, 1.0, 0.1, 0.01],\n",
    "             'solver': ['sag', 'saga', 'newton-cg'], 'max_iter':[10, 50, 100]}]\n",
    "closeness_lgr_proba_clf_conservative, closeness_cv_conservative, closeness_n_fs_conservative, closeness_conservative_models = classifiers.multiple_fs_classifier_fp(clf, parameters, disease_closeness_conservative, disease_conservative_closeness_test, disease_conservative_closeness_fs, disgenet_labels_conservative_df, jobs=6)\n",
    "closeness_lgr_proba_clf_conservative.to_csv('../../models/false_positive/probability/disease_closeness_lgr_proba_conservative.csv', index=False)\n",
    "with open('../../models/false_positive/cv_results/disease_closeness_conservative.txt', 'w') as fp:\n",
    "    fp.write('\\n'.join('%s %s' % x for x in closeness_cv_conservative))\n",
    "with open(\"../../models/false_positive/n_fs/disease_closeness_conservative.txt\", \"w\") as f:\n",
    "    for s in closeness_n_fs_conservative:\n",
    "        f.write(str(s) +\"\\n\")\n",
    "with open(\"../../models/false_positive/models/disease_closeness_conservative.pckl\", \"wb\") as f:\n",
    "    for model in closeness_conservative_models:\n",
    "         pickle.dump(model, f)"
   ]
  },
  {
   "cell_type": "code",
   "execution_count": null,
   "id": "fa244631",
   "metadata": {},
   "outputs": [],
   "source": [
    "importlib.reload(classifiers)\n",
    "clf = LogisticRegression(random_state=22)\n",
    "parameters = [{'penalty':['l1','l2'], 'C':[100, 10, 1.0, 0.1, 0.01],\n",
    "             'solver': ['liblinear'], 'max_iter':[10, 50, 100]}, \n",
    "              {'penalty':['l2', 'none'], 'C':[100, 10, 1.0, 0.1, 0.01],\n",
    "             'solver': ['sag', 'saga', 'newton-cg'], 'max_iter':[10, 50, 100]}]\n",
    "betweenness_lgr_proba_clf_conservative, betweenness_cv_conservative, betweenness_n_fs_conservative, betweenness_conservative_models = classifiers.multiple_fs_classifier_fp(clf, parameters, disease_betweenness_conservative, disease_conservative_betweenness_test, disease_conservative_betweenness_fs, disgenet_labels_conservative_df, jobs=6)\n",
    "betweenness_lgr_proba_clf_conservative.to_csv('../../models/false_positive/probability/disease_betweenness_lgr_proba_conservative.csv', index=False)\n",
    "with open('../../models/false_positive/cv_results/disease_betweenness_conservative.txt', 'w') as fp:\n",
    "    fp.write('\\n'.join('%s %s' % x for x in betweenness_cv_conservative))\n",
    "with open(\"../../models/false_positive/n_fs/disease_betweenness_conservative.txt\", \"w\") as f:\n",
    "    for s in betweenness_n_fs_conservative:\n",
    "        f.write(str(s) +\"\\n\")\n",
    "with open(\"../../models/false_positive/models/disease_betweenness_conservative.pckl\", \"wb\") as f:\n",
    "    for model in betweenness_conservative_models:\n",
    "         pickle.dump(model, f)"
   ]
  },
  {
   "cell_type": "code",
   "execution_count": null,
   "id": "2768caf5",
   "metadata": {},
   "outputs": [],
   "source": [
    "importlib.reload(classifiers)\n",
    "clf = LogisticRegression(random_state=22)\n",
    "parameters = [{'penalty':['l1','l2'], 'C':[100, 10, 1.0, 0.1, 0.01],\n",
    "             'solver': ['liblinear'], 'max_iter':[10, 50, 100]}, \n",
    "              {'penalty':['l2', 'none'], 'C':[100, 10, 1.0, 0.1, 0.01],\n",
    "             'solver': ['sag', 'saga', 'newton-cg'], 'max_iter':[10, 50, 100]}]\n",
    "fraction_betweenness_lgr_proba_clf_conservative, fraction_betweenness_cv_conservative, fraction_betweenness_n_fs_conservative, fraction_betweenness_conservative_models = classifiers.multiple_fs_classifier_fp(clf, parameters, disease_fraction_betweenness_conservative, disease_conservative_fraction_betweenness_test, disease_conservative_fraction_betweenness_fs, disgenet_labels_conservative_df, jobs=6)\n",
    "fraction_betweenness_lgr_proba_clf_conservative.to_csv('../../models/false_positive/probability/disease_fraction_betweenness_lgr_proba_conservative.csv', index=False)\n",
    "with open('../../models/false_positive/cv_results/disease_fraction_betweenness_conservative.txt', 'w') as fp:\n",
    "    fp.write('\\n'.join('%s %s' % x for x in fraction_betweenness_cv_conservative))\n",
    "with open(\"../../models/false_positive/n_fs/disease_fraction_betweenness_conservative.txt\", \"w\") as f:\n",
    "    for s in fraction_betweenness_n_fs_conservative:\n",
    "        f.write(str(s) +\"\\n\")\n",
    "with open(\"../../models/false_positive/models/disease_fraction_betweenness_conservative.pckl\", \"wb\") as f:\n",
    "    for model in fraction_betweenness_conservative_models:\n",
    "         pickle.dump(model, f)"
   ]
  },
  {
   "cell_type": "code",
   "execution_count": null,
   "id": "7286941f",
   "metadata": {},
   "outputs": [],
   "source": [
    "importlib.reload(classifiers)\n",
    "clf = LogisticRegression(random_state=22)\n",
    "parameters = [{'penalty':['l1','l2'], 'C':[100, 10, 1.0, 0.1, 0.01],\n",
    "             'solver': ['liblinear'], 'max_iter':[10, 50, 100]}, \n",
    "              {'penalty':['l2', 'none'], 'C':[100, 10, 1.0, 0.1, 0.01],\n",
    "             'solver': ['sag', 'saga', 'newton-cg'], 'max_iter':[10, 50, 100]}]\n",
    "rwr_lgr_proba_clf_conservative, rwr_cv_conservative, rwr_n_fs_conservative, rwr_conservative_models = classifiers.multiple_fs_classifier_fp(clf, parameters, disease_rwr_conservative, disease_conservative_rwr_test, disease_conservative_rwr_fs, disgenet_labels_conservative_df, jobs=6)\n",
    "rwr_lgr_proba_clf_conservative.to_csv('../../models/false_positive/probability/disease_rwr_lgr_proba_conservative.csv', index=False)\n",
    "with open('../../models/false_positive/cv_results/disease_rwr_conservative.txt', 'w') as fp:\n",
    "    fp.write('\\n'.join('%s %s' % x for x in rwr_cv_conservative))\n",
    "with open(\"../../models/false_positive/n_fs/disease_rwr_conservative.txt\", \"w\") as f:\n",
    "    for s in rwr_n_fs_conservative:\n",
    "        f.write(str(s) +\"\\n\")\n",
    "with open(\"../../models/false_positive/models/disease_rwr_conservative.pckl\", \"wb\") as f:\n",
    "    for model in rwr_conservative_models:\n",
    "         pickle.dump(model, f)"
   ]
  }
 ],
 "metadata": {
  "kernelspec": {
   "display_name": "Python 3 (ipykernel)",
   "language": "python",
   "name": "python3"
  },
  "language_info": {
   "codemirror_mode": {
    "name": "ipython",
    "version": 3
   },
   "file_extension": ".py",
   "mimetype": "text/x-python",
   "name": "python",
   "nbconvert_exporter": "python",
   "pygments_lexer": "ipython3",
   "version": "3.8.8"
  },
  "vscode": {
   "interpreter": {
    "hash": "42555cd0c5f1594a81e40866f5733b2cbf65026c937bf0149d49f47f234897c3"
   }
  }
 },
 "nbformat": 4,
 "nbformat_minor": 5
}
