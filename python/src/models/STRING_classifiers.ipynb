{
 "cells": [
  {
   "cell_type": "markdown",
   "id": "e16730ee",
   "metadata": {},
   "source": [
    "# 0. Imports"
   ]
  },
  {
   "cell_type": "code",
   "execution_count": 1,
   "id": "ebce7fbd",
   "metadata": {},
   "outputs": [],
   "source": [
    "import pandas as pd\n",
    "import numpy as np\n",
    "from sklearn.linear_model import LogisticRegression\n",
    "from tqdm.notebook import tqdm\n",
    "from tqdm import tqdm_notebook\n",
    "import classifiers\n",
    "import importlib\n",
    "import json\n",
    "import pickle\n",
    "import warnings\n",
    "warnings.filterwarnings(\"ignore\")\n",
    "import joblib"
   ]
  },
  {
   "cell_type": "code",
   "execution_count": 2,
   "id": "bc5838ad",
   "metadata": {},
   "outputs": [
    {
     "data": {
      "application/javascript": [
       "(function(on) {\n",
       "const e=$( \"<a>Setup failed</a>\" );\n",
       "const ns=\"js_jupyter_suppress_warnings\";\n",
       "var cssrules=$(\"#\"+ns);\n",
       "if(!cssrules.length) cssrules = $(\"<style id='\"+ns+\"' type='text/css'>div.output_stderr { } </style>\").appendTo(\"head\");\n",
       "e.click(function() {\n",
       "    var s='Showing';  \n",
       "    cssrules.empty()\n",
       "    if(on) {\n",
       "        s='Hiding';\n",
       "        cssrules.append(\"div.output_stderr, div[data-mime-type*='.stderr'] { display:none; }\");\n",
       "    }\n",
       "    e.text(s+' warnings (click to toggle)');\n",
       "    on=!on;\n",
       "}).click();\n",
       "$(element).append(e);\n",
       "})(true);\n"
      ],
      "text/plain": [
       "<IPython.core.display.Javascript object>"
      ]
     },
     "metadata": {},
     "output_type": "display_data"
    }
   ],
   "source": [
    "%%javascript\n",
    "(function(on) {\n",
    "const e=$( \"<a>Setup failed</a>\" );\n",
    "const ns=\"js_jupyter_suppress_warnings\";\n",
    "var cssrules=$(\"#\"+ns);\n",
    "if(!cssrules.length) cssrules = $(\"<style id='\"+ns+\"' type='text/css'>div.output_stderr { } </style>\").appendTo(\"head\");\n",
    "e.click(function() {\n",
    "    var s='Showing';  \n",
    "    cssrules.empty()\n",
    "    if(on) {\n",
    "        s='Hiding';\n",
    "        cssrules.append(\"div.output_stderr, div[data-mime-type*='.stderr'] { display:none; }\");\n",
    "    }\n",
    "    e.text(s+' warnings (click to toggle)');\n",
    "    on=!on;\n",
    "}).click();\n",
    "$(element).append(e);\n",
    "})(true);"
   ]
  },
  {
   "cell_type": "markdown",
   "id": "88438d25",
   "metadata": {},
   "source": [
    "# 1. Data Load"
   ]
  },
  {
   "cell_type": "code",
   "execution_count": 2,
   "id": "78218168",
   "metadata": {},
   "outputs": [],
   "source": [
    "reactome_rwr_df = pd.read_csv(\"../../data/processed/metrics/process_rwr_string.csv\", sep=',', header=0, index_col=0)\n",
    "reactome_rwr = np.array(reactome_rwr_df.transpose())"
   ]
  },
  {
   "cell_type": "code",
   "execution_count": 3,
   "id": "f4f131f4",
   "metadata": {},
   "outputs": [],
   "source": [
    "disgenet_rwr_df = pd.read_csv(\"../../data/processed/metrics/disease_rwr_string.csv\", sep=',', header=0, index_col=0)\n",
    "disgenet_rwr = np.array(disgenet_rwr_df.transpose())\n",
    "disgenet_conservative_rwr_df = pd.read_csv(\"../../data/processed/metrics/disease_rwr_conservative_string.csv\", sep=',', header=0, index_col=0)\n",
    "disgenet_conservative_rwr = np.array(disgenet_conservative_rwr_df.transpose())"
   ]
  },
  {
   "cell_type": "code",
   "execution_count": 4,
   "id": "b219c68f",
   "metadata": {},
   "outputs": [],
   "source": [
    "reactome_labels_df = pd.read_csv('../../data/processed/reactome_labels_string.csv', header = None)\n",
    "reactome_labels = reactome_labels_df.transpose().to_numpy(dtype='int')\n",
    "reactome_labels_df.index = reactome_rwr_df.index\n",
    "reactome_labels_df.columns = reactome_rwr_df.columns"
   ]
  },
  {
   "cell_type": "code",
   "execution_count": 5,
   "id": "476e11fe",
   "metadata": {},
   "outputs": [],
   "source": [
    "disgenet_labels_df = pd.read_csv('../../data/processed/disgenet_sca_labels_string.csv', header = None)\n",
    "disgenet_labels = disgenet_labels_df.transpose().to_numpy(dtype='int')\n",
    "disgenet_labels_df.index = disgenet_rwr_df.index\n",
    "disgenet_labels_df.columns = disgenet_rwr_df.columns\n",
    "\n",
    "disgenet_labels_conservative_df = pd.read_csv('../../data/processed/disgenet_conservative_labels_string.csv', header = None)\n",
    "disgenet_labels_conservative = disgenet_labels_conservative_df.transpose().to_numpy(dtype='int')\n",
    "disgenet_labels_conservative_df.index = disgenet_conservative_rwr_df.index\n",
    "disgenet_labels_conservative_df.columns = disgenet_conservative_rwr_df.columns"
   ]
  },
  {
   "cell_type": "code",
   "execution_count": 6,
   "id": "fb4c7658",
   "metadata": {},
   "outputs": [],
   "source": [
    "reactome_rwr_fs_ar = pd.read_csv(\"../../data/processed/fs/reactome_rwr_fs_string.csv\", sep=',', header=0)\n",
    "reactome_rwr_test_index = pd.read_csv(\"../../data/processed/fs/reactome_rwr_test_string.csv\", sep=',', header=0).transpose().to_numpy(dtype='int')-1"
   ]
  },
  {
   "cell_type": "code",
   "execution_count": 7,
   "id": "0688df57",
   "metadata": {},
   "outputs": [],
   "source": [
    "disgenet_rwr_fs_ar = pd.read_csv(\"../../data/processed/fs/disease/disease_rwr_fs_string.csv\", sep=',', header=0)\n",
    "disgenet_rwr_test_index = pd.read_csv(\"../../data/processed/fs/disease/disease_rwr_test_string.csv\", sep=',', header=0).transpose().to_numpy(dtype='int')-1\n",
    "\n",
    "disgenet_conservative_rwr_fs_ar = pd.read_csv(\"../../data/processed/fs/disease/disease_rwr_fs_conservative_string.csv\", sep=',', header=0)\n",
    "disgenet_conservative_rwr_test_index = pd.read_csv(\"../../data/processed/fs/disease/disease_rwr_test_conservative_string.csv\", sep=',', header=0).transpose().to_numpy(dtype='int')-1"
   ]
  },
  {
   "cell_type": "markdown",
   "id": "a95499cb",
   "metadata": {},
   "source": [
    "# 2. Classification Tasks"
   ]
  },
  {
   "cell_type": "markdown",
   "id": "5917b165",
   "metadata": {},
   "source": [
    "## 2.1. Complete Network"
   ]
  },
  {
   "cell_type": "code",
   "execution_count": null,
   "id": "f91671af",
   "metadata": {},
   "outputs": [],
   "source": [
    "importlib.reload(classifiers)\n",
    "clf = LogisticRegression(random_state=22)\n",
    "parameters = [{'penalty':['l1','l2'], 'C':[100, 10, 1.0, 0.1, 0.01],\n",
    "             'solver': ['liblinear'], 'max_iter':[50, 100, 200, 500]}, \n",
    "              {'penalty':['l2', 'none'], 'C':[100, 10, 1.0, 0.1, 0.01],\n",
    "             'solver': ['sag', 'saga', 'newton-cg'], 'max_iter':[100, 250, 500]}]\n",
    "rwr_lgr_clf, rwr_lgr_proba_clf, rwr_cv, rwr_n_fs, rwr_models = classifiers.multiple_fs_classifier(clf, parameters, reactome_rwr, reactome_rwr_test_index, reactome_rwr_fs_ar, reactome_labels_df, jobs=6)\n",
    "rwr_lgr_clf.to_csv('../../models/GAP-MINE/STRING/binary/process_rwr_lgr.csv', index=False)\n",
    "rwr_lgr_proba_clf.to_csv('../../models/GAP-MINE/STRING/probability/process_rwr_lgr_proba.csv', index=False)\n",
    "with open('../../models/GAP-MINE/STRING/cv_results/process_rwr.txt', 'w') as fp:\n",
    "    fp.write('\\n'.join('%s %s' % x for x in rwr_cv))\n",
    "with open(\"../../models/GAP-MINE/STRING/n_fs/process_rwr.txt\", \"w\") as f:\n",
    "    for s in rwr_n_fs:\n",
    "        f.write(str(s) +\"\\n\")\n",
    "with open(\"../../models/GAP-MINE/STRING/models/process_rwr.pckl\", \"wb\") as f:\n",
    "    for model in rwr_models:\n",
    "         joblib.dump(model, f)"
   ]
  },
  {
   "cell_type": "code",
   "execution_count": null,
   "id": "ea125a18",
   "metadata": {},
   "outputs": [],
   "source": [
    "clf = LogisticRegression(random_state=22)\n",
    "parameters = [{'penalty':['l1','l2'], 'C':[100, 10, 1.0, 0.1, 0.01],\n",
    "             'solver': ['liblinear'], 'max_iter':[10, 50, 100, 500]}, \n",
    "              {'penalty':['l2', 'none'], 'C':[100, 10, 1.0, 0.1, 0.01],\n",
    "             'solver': ['sag', 'saga', 'newton-cg'], 'max_iter':[10, 50, 100, 500]}]\n",
    "disease_rwr_lgr_clf, disease_rwr_lgr_proba_clf, disease_rwr_cv, disease_rwr_n_fs, disease_rwr_models = classifiers.multiple_fs_classifier(clf, parameters, disgenet_rwr, disgenet_rwr_test_index, disgenet_rwr_fs_ar, disgenet_labels_df, jobs=6)\n",
    "disease_rwr_lgr_clf.to_csv('../../models/GAP-MINE/STRING/binary/disease_rwr_lgr.csv', index=False)\n",
    "disease_rwr_lgr_proba_clf.to_csv('../../models/GAP-MINE/STRING/probability/disease_rwr_lgr_proba.csv', index=False)\n",
    "with open('../../models/GAP-MINE/STRING/cv_results/disease_rwr.txt', 'w') as fp:\n",
    "    fp.write('\\n'.join('%s %s' % x for x in disease_rwr_cv))\n",
    "with open(\"../../models/GAP-MINE/STRING/n_fs/disease_rwr.txt\", \"w\") as f:\n",
    "    for s in disease_rwr_n_fs:\n",
    "        f.write(str(s) +\"\\n\")\n",
    "with open(\"../../models/GAP-MINE/STRING/models/disease_rwr.pckl\", \"wb\") as f:\n",
    "    for model in disease_rwr_models:\n",
    "         pickle.dump(model, f)"
   ]
  },
  {
   "cell_type": "code",
   "execution_count": null,
   "id": "9c84f60d",
   "metadata": {},
   "outputs": [],
   "source": [
    "clf = LogisticRegression(random_state=22)\n",
    "parameters = [{'penalty':['l1','l2'], 'C':[100, 10, 1.0, 0.1, 0.01],\n",
    "             'solver': ['liblinear'], 'max_iter':[10, 50, 100, 500]}, \n",
    "              {'penalty':['l2', 'none'], 'C':[100, 10, 1.0, 0.1, 0.01],\n",
    "             'solver': ['sag', 'saga', 'newton-cg'], 'max_iter':[10, 50, 100, 500]}]\n",
    "disease_conservative_rwr_lgr_clf, disease_conservative_rwr_lgr_proba_clf, disease_conservative_rwr_cv, disease_conservative_rwr_n_fs, disease_conservative_rwr_models = classifiers.multiple_fs_classifier(clf, parameters, disgenet_conservative_rwr, disgenet_conservative_rwr_test_index, disgenet_conservative_rwr_fs_ar, disgenet_labels_conservative_df, jobs=6)\n",
    "disease_conservative_rwr_lgr_clf.to_csv('../../models/GAP-MINE/STRING/binary/disease_conservative_rwr_lgr.csv', index=False)\n",
    "disease_conservative_rwr_lgr_proba_clf.to_csv('../../models/GAP-MINE/STRING/probability/disease_conservative_rwr_lgr_proba.csv', index=False)\n",
    "with open('../../models/GAP-MINE/STRING/cv_results/disease_conservative_rwr.txt', 'w') as fp:\n",
    "    fp.write('\\n'.join('%s %s' % x for x in disease_conservative_rwr_cv))\n",
    "with open(\"../../models/GAP-MINE/STRING/n_fs/disease_conservative_rwr.txt\", \"w\") as f:\n",
    "    for s in disease_conservative_rwr_n_fs:\n",
    "        f.write(str(s) +\"\\n\")\n",
    "with open(\"../../models/GAP-MINE/STRING/models/disease_conservative_rwr.pckl\", \"wb\") as f:\n",
    "    for model in disease_conservative_rwr_models:\n",
    "         pickle.dump(model, f)"
   ]
  }
 ],
 "metadata": {
  "kernelspec": {
   "display_name": "Python 3 (ipykernel)",
   "language": "python",
   "name": "python3"
  },
  "language_info": {
   "codemirror_mode": {
    "name": "ipython",
    "version": 3
   },
   "file_extension": ".py",
   "mimetype": "text/x-python",
   "name": "python",
   "nbconvert_exporter": "python",
   "pygments_lexer": "ipython3",
   "version": "3.10.6"
  },
  "vscode": {
   "interpreter": {
    "hash": "42555cd0c5f1594a81e40866f5733b2cbf65026c937bf0149d49f47f234897c3"
   }
  }
 },
 "nbformat": 4,
 "nbformat_minor": 5
}
