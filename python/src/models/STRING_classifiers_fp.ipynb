{
 "cells": [
  {
   "attachments": {},
   "cell_type": "markdown",
   "id": "e16730ee",
   "metadata": {},
   "source": [
    "# 0. Imports"
   ]
  },
  {
   "cell_type": "code",
   "execution_count": 48,
   "id": "ebce7fbd",
   "metadata": {},
   "outputs": [],
   "source": [
    "import pandas as pd\n",
    "import numpy as np\n",
    "from sklearn.linear_model import LogisticRegression\n",
    "from tqdm.notebook import tqdm\n",
    "from tqdm import tqdm_notebook\n",
    "import classifiers\n",
    "import importlib\n",
    "import json\n",
    "import warnings\n",
    "warnings.filterwarnings(\"ignore\")\n",
    "import pickle\n",
    "from ast import literal_eval"
   ]
  },
  {
   "attachments": {},
   "cell_type": "markdown",
   "id": "88438d25",
   "metadata": {},
   "source": [
    "# 1. Data Load"
   ]
  },
  {
   "cell_type": "code",
   "execution_count": 50,
   "id": "e2c46fb5",
   "metadata": {},
   "outputs": [],
   "source": [
    "process_rwr = np.array(pd.read_csv(\"../../data/processed/metrics/string_process_rwr_fp.csv\", sep=',', header=0, index_col=0).transpose())\n",
    "disease_rwr = np.array(pd.read_csv(\"../../data/processed/metrics/string_disease_rwr_fp.csv\", sep=',', header=0, index_col=0).transpose())\n",
    "disease_rwr_conservative = np.array(pd.read_csv(\"../../data/processed/metrics/string_disease_rwr_conservative_fp.csv\", sep=',', header=0, index_col=0).transpose())"
   ]
  },
  {
   "cell_type": "code",
   "execution_count": 51,
   "id": "280999ac",
   "metadata": {},
   "outputs": [],
   "source": [
    "process_raw = pd.read_csv(\"../../data/processed/metrics/process_raw_fp_string.csv\", index_col=0)\n",
    "disease_raw = pd.read_csv(\"../../data/processed/metrics/disease_raw_fp_string.csv\", index_col=0)\n",
    "disease_raw_conservative = pd.read_csv(\"../../data/processed/metrics/disease_conservative_raw_fp_string.csv\", index_col=0)"
   ]
  },
  {
   "cell_type": "code",
   "execution_count": 52,
   "id": "4be830ad",
   "metadata": {},
   "outputs": [],
   "source": [
    "process_rwr_df = pd.read_csv(\"../../data/processed/metrics/string_process_rwr_fp.csv\", sep=',', header=0, index_col=0)\n",
    "process_labels_df = pd.read_csv(\"../../data/processed/string_reactome_labels_fp.csv\", sep=',', names=process_rwr_df.columns)\n",
    "process_labels_df['protein_id'] = process_rwr_df.index\n",
    "process_labels_df.set_index('protein_id', inplace=True)"
   ]
  },
  {
   "cell_type": "code",
   "execution_count": 53,
   "id": "b219c68f",
   "metadata": {},
   "outputs": [],
   "source": [
    "disease_rwr_df = pd.read_csv(\"../../data/processed/metrics/string_disease_rwr_fp.csv\", sep=',', header=0, index_col=0)\n",
    "disgenet_labels_df = pd.read_csv(\"../../data/processed/string_disgenet_labels_fp.csv\", sep=',', names=disease_rwr_df.columns)\n",
    "disgenet_labels_df['protein_id'] = disease_rwr_df.index\n",
    "disgenet_labels_df.set_index('protein_id', inplace=True)"
   ]
  },
  {
   "cell_type": "code",
   "execution_count": 54,
   "id": "34308ea2",
   "metadata": {},
   "outputs": [],
   "source": [
    "rwr_conservative_df = pd.read_csv(\"../../data/processed/metrics/string_disease_rwr_conservative_fp.csv\", sep=',', header=0, index_col=0)\n",
    "disgenet_labels_conservative_df = pd.read_csv('../../data/processed/string_disgenet_conservative_labels_fp.csv', names=rwr_conservative_df.columns)\n",
    "disgenet_labels_conservative_df['protein_id'] = rwr_conservative_df.index\n",
    "disgenet_labels_conservative_df.set_index('protein_id', inplace=True)"
   ]
  },
  {
   "cell_type": "code",
   "execution_count": 55,
   "id": "3a67b9cb",
   "metadata": {},
   "outputs": [],
   "source": [
    "process_rwr_fs = pd.read_csv(\"../../data/processed/fs/reactome_rwr_fp_fs_string.csv\", sep=',', header=0)\n",
    "disease_rwr_fs = pd.read_csv(\"../../data/processed/fs/disease/disease_rwr_fp_fs_string.csv\", sep=',', header=0)\n",
    "disease_conservative_rwr_fs = pd.read_csv(\"../../data/processed/fs/disease/disease_rwr_fp_fs_conservative_string.csv\", sep=',', header=0)\n",
    "\n",
    "process_rwr_test = pd.read_csv(\"../../data/processed/fs/reactome_rwr_fp_test_string.csv\", sep=',', header=0).transpose().to_numpy(dtype='int')-1\n",
    "disease_rwr_test = pd.read_csv(\"../../data/processed/fs/disease/disease_rwr_fp_test_string.csv\", sep=',', header=0).transpose().to_numpy(dtype='int')-1\n",
    "disease_conservative_rwr_test = pd.read_csv(\"../../data/processed/fs/disease/disease_rwr_fp_test_conservative_string.csv\", sep=',', header=0).transpose().to_numpy(dtype='int')-1"
   ]
  },
  {
   "cell_type": "code",
   "execution_count": 56,
   "id": "e5a8e963",
   "metadata": {},
   "outputs": [],
   "source": [
    "process_raw_test = pd.read_csv(\"../../data/processed/fs/reactome_raw_fp_test_string.csv\", sep=',', header=0).transpose().to_numpy(dtype='int')-1\n",
    "disease_raw_test = pd.read_csv(\"../../data/processed/fs/disease/disease_rwr_fp_test_conservative_string.csv\", sep=',', header=0).transpose().to_numpy(dtype='int')-1\n",
    "disease_conservative_raw_test = pd.read_csv(\"../../data/processed/fs/disease/disease_rwr_fp_test_conservative_string.csv\", sep=',', header=0).transpose().to_numpy(dtype='int')-1"
   ]
  },
  {
   "cell_type": "code",
   "execution_count": 57,
   "id": "28ef915d",
   "metadata": {},
   "outputs": [],
   "source": [
    "process_modules = pd.read_csv(\"../../data/processed/string_reactome_modules_fp.csv\")\n",
    "disease_modules = pd.read_csv(\"../../data/processed/string_disgenet_sca_modules_fp.csv\")\n",
    "disease_conservative_modules = pd.read_csv(\"../../data/processed/string_disgenet_conservative_modules_fp.csv\")\n",
    "\n",
    "for column in ['proteins_ids', 'protein_index', 'fp_proteins', 'fp_proteins_index']:\n",
    "    for df in [process_modules, disease_modules, disease_conservative_modules]:\n",
    "        df[column] = df[column].apply(literal_eval)"
   ]
  },
  {
   "cell_type": "code",
   "execution_count": 58,
   "id": "b568135b",
   "metadata": {},
   "outputs": [],
   "source": [
    "process_modules['added_proteins'] = process_modules.apply(lambda row: list(set(row['fp_proteins'])-set(row['proteins_ids'])), axis=1)\n",
    "disease_modules['added_proteins'] = disease_modules.apply(lambda row: list(set(row['fp_proteins'])-set(row['proteins_ids'])), axis=1)\n",
    "disease_conservative_modules['added_proteins'] = disease_conservative_modules.apply(lambda row: list(set(row['fp_proteins'])-set(row['proteins_ids'])), axis=1)\n"
   ]
  },
  {
   "attachments": {},
   "cell_type": "markdown",
   "id": "a95499cb",
   "metadata": {},
   "source": [
    "# 2. Classification Tasks"
   ]
  },
  {
   "attachments": {},
   "cell_type": "markdown",
   "id": "791e955f",
   "metadata": {},
   "source": [
    "## 2.1. Complete Network"
   ]
  },
  {
   "attachments": {},
   "cell_type": "markdown",
   "id": "44d75262",
   "metadata": {},
   "source": [
    "### 2.1.1. Process"
   ]
  },
  {
   "cell_type": "code",
   "execution_count": 44,
   "id": "4173551e",
   "metadata": {},
   "outputs": [
    {
     "data": {
      "application/vnd.jupyter.widget-view+json": {
       "model_id": "ee0a72789f9446f49402ce97ef428655",
       "version_major": 2,
       "version_minor": 0
      },
      "text/plain": [
       "  0%|          | 0/244 [00:00<?, ?it/s]"
      ]
     },
     "metadata": {},
     "output_type": "display_data"
    }
   ],
   "source": [
    "importlib.reload(classifiers)\n",
    "clf = LogisticRegression(random_state=22)\n",
    "\"\"\"parameters = [{'penalty':['l1','l2'], 'C':[100, 10, 1.0, 0.1, 0.01],\n",
    "             'solver': ['liblinear'], 'max_iter':[10, 50, 100]}, \n",
    "              {'penalty':['l2', 'none'], 'C':[100, 10, 1.0, 0.1, 0.01],\n",
    "             'solver': ['sag', 'saga', 'newton-cg'], 'max_iter':[10, 50, 100]}]\"\"\"\n",
    "parameters = [{'penalty':['none'], 'C':[10, 1.0, 0.1],\n",
    "             'solver': ['newton-cg'], 'max_iter':[10, 50, 100]}]\n",
    "rwr_lgr_proba_clf, rwr_cv, rwr_n_fs, rwr_models = classifiers.multiple_fs_classifier_fp(clf, parameters, process_rwr, process_rwr_test, process_rwr_fs, process_labels_df,process_modules['added_proteins'].values, jobs=6)\n",
    "rwr_lgr_proba_clf.to_csv('../../models/false_positive/STRING/probability/process_rwr_lgr_proba.csv', index=False)\n",
    "with open('../../models/false_positive/STRING/cv_results/process_rwr.txt', 'w') as fp:\n",
    "    fp.write('\\n'.join('%s %s' % x for x in rwr_cv))\n",
    "with open(\"../../models/false_positive/STRING/n_fs/process_rwr.txt\", \"w\") as f:\n",
    "    for s in rwr_n_fs:\n",
    "        f.write(str(s) +\"\\n\")\n",
    "with open(\"../../models/false_positive/STRING/models/process_rwr.pckl\", \"wb\") as f:\n",
    "    for model in rwr_models:\n",
    "         pickle.dump(model, f)"
   ]
  },
  {
   "cell_type": "code",
   "execution_count": 64,
   "id": "8bbb06aa",
   "metadata": {},
   "outputs": [
    {
     "data": {
      "application/vnd.jupyter.widget-view+json": {
       "model_id": "7ab75f901be548cab775299db4997e7d",
       "version_major": 2,
       "version_minor": 0
      },
      "text/plain": [
       "  0%|          | 0/244 [00:00<?, ?it/s]"
      ]
     },
     "metadata": {},
     "output_type": "display_data"
    }
   ],
   "source": [
    "importlib.reload(classifiers)\n",
    "process_raw_clf = classifiers.threshold_classifier_fp(process_raw, process_labels_df, process_raw_test, process_modules['added_proteins'].values, op_metric='fmeasure')\n",
    "process_raw_clf.to_csv('../../models/false_positive/STRING/threshold/process_raw.csv', index=False)"
   ]
  },
  {
   "attachments": {},
   "cell_type": "markdown",
   "id": "5917b165",
   "metadata": {},
   "source": [
    "### 2.1.2. Disease Steiner Tree"
   ]
  },
  {
   "cell_type": "code",
   "execution_count": 46,
   "id": "b6f242aa",
   "metadata": {},
   "outputs": [
    {
     "data": {
      "application/vnd.jupyter.widget-view+json": {
       "model_id": "b7854d9fcfdf455abca3aade1e87be3f",
       "version_major": 2,
       "version_minor": 0
      },
      "text/plain": [
       "  0%|          | 0/301 [00:00<?, ?it/s]"
      ]
     },
     "metadata": {},
     "output_type": "display_data"
    }
   ],
   "source": [
    "importlib.reload(classifiers)\n",
    "clf = LogisticRegression(random_state=22)\n",
    "\"\"\"parameters = [{'penalty':['l1','l2'], 'C':[100, 10, 1.0, 0.1, 0.01],\n",
    "             'solver': ['liblinear'], 'max_iter':[10, 50, 100]}, \n",
    "              {'penalty':['l2', 'none'], 'C':[100, 10, 1.0, 0.1, 0.01],\n",
    "             'solver': ['sag', 'saga', 'newton-cg'], 'max_iter':[10, 50, 100]}]\"\"\"\n",
    "parameters = [{'penalty':['none'], 'C':[10, 1.0, 0.1],\n",
    "             'solver': ['newton-cg'], 'max_iter':[10, 50, 100]}]\n",
    "rwr_lgr_proba_clf, rwr_cv, rwr_n_fs, rwr_models = classifiers.multiple_fs_classifier_fp(clf, parameters, disease_rwr, disease_rwr_test, disease_rwr_fs, disgenet_labels_df, disease_modules['added_proteins'].values, jobs=6)\n",
    "rwr_lgr_proba_clf.to_csv('../../models/false_positive/STRING/probability/disease_rwr_lgr_proba.csv', index=False)\n",
    "with open('../../models/false_positive/STRING/cv_results/disease_rwr.txt', 'w') as fp:\n",
    "    fp.write('\\n'.join('%s %s' % x for x in rwr_cv))\n",
    "with open(\"../../models/false_positive/STRING/n_fs/disease_rwr.txt\", \"w\") as f:\n",
    "    for s in rwr_n_fs:\n",
    "        f.write(str(s) +\"\\n\")\n",
    "with open(\"../../models/false_positive/STRING/models/disease_rwr.pckl\", \"wb\") as f:\n",
    "    for model in rwr_models:\n",
    "         pickle.dump(model, f)"
   ]
  },
  {
   "cell_type": "code",
   "execution_count": 65,
   "id": "1b888021",
   "metadata": {},
   "outputs": [
    {
     "data": {
      "application/vnd.jupyter.widget-view+json": {
       "model_id": "2ef6bb9e403947768699ac610bd600c2",
       "version_major": 2,
       "version_minor": 0
      },
      "text/plain": [
       "  0%|          | 0/301 [00:00<?, ?it/s]"
      ]
     },
     "metadata": {},
     "output_type": "display_data"
    }
   ],
   "source": [
    "importlib.reload(classifiers)\n",
    "disease_raw_clf = classifiers.threshold_classifier_fp(disease_raw, disgenet_labels_df, disease_raw_test, disease_modules['added_proteins'].values, op_metric='fmeasure')\n",
    "disease_raw_clf.to_csv('../../models/false_positive/STRING/threshold/disease_raw.csv', index=False)"
   ]
  },
  {
   "attachments": {},
   "cell_type": "markdown",
   "id": "6c757812",
   "metadata": {},
   "source": [
    "### 2.1.3. Disease Conservative Module"
   ]
  },
  {
   "cell_type": "code",
   "execution_count": 47,
   "id": "7286941f",
   "metadata": {},
   "outputs": [
    {
     "data": {
      "application/vnd.jupyter.widget-view+json": {
       "model_id": "8cf5390a68e34316ad527c2ce0541684",
       "version_major": 2,
       "version_minor": 0
      },
      "text/plain": [
       "  0%|          | 0/301 [00:00<?, ?it/s]"
      ]
     },
     "metadata": {},
     "output_type": "display_data"
    }
   ],
   "source": [
    "importlib.reload(classifiers)\n",
    "clf = LogisticRegression(random_state=22)\n",
    "\"\"\"parameters = [{'penalty':['l1','l2'], 'C':[100, 10, 1.0, 0.1, 0.01],\n",
    "             'solver': ['liblinear'], 'max_iter':[10, 50, 100]}, \n",
    "              {'penalty':['l2', 'none'], 'C':[100, 10, 1.0, 0.1, 0.01],\n",
    "             'solver': ['sag', 'saga', 'newton-cg'], 'max_iter':[10, 50, 100]}]\"\"\"\n",
    "parameters = [{'penalty':['none'], 'C':[10, 1.0, 0.1],\n",
    "             'solver': ['newton-cg'], 'max_iter':[10, 50, 100]}]\n",
    "rwr_lgr_proba_clf_conservative, rwr_cv_conservative, rwr_n_fs_conservative, rwr_conservative_models = classifiers.multiple_fs_classifier_fp(clf, parameters, disease_rwr_conservative, disease_conservative_rwr_test, disease_conservative_rwr_fs, disgenet_labels_conservative_df, disease_conservative_modules['added_proteins'].values, jobs=6)\n",
    "rwr_lgr_proba_clf_conservative.to_csv('../../models/false_positive/STRING/probability/disease_rwr_lgr_proba_conservative.csv', index=False)\n",
    "with open('../../models/false_positive/STRING/cv_results/disease_rwr_conservative.txt', 'w') as fp:\n",
    "    fp.write('\\n'.join('%s %s' % x for x in rwr_cv_conservative))\n",
    "with open(\"../../models/false_positive/STRING/n_fs/disease_rwr_conservative.txt\", \"w\") as f:\n",
    "    for s in rwr_n_fs_conservative:\n",
    "        f.write(str(s) +\"\\n\")\n",
    "with open(\"../../models/false_positive/STRING/models/disease_rwr_conservative.pckl\", \"wb\") as f:\n",
    "    for model in rwr_conservative_models:\n",
    "         pickle.dump(model, f)"
   ]
  },
  {
   "cell_type": "code",
   "execution_count": 66,
   "id": "92cc5135",
   "metadata": {},
   "outputs": [
    {
     "data": {
      "application/vnd.jupyter.widget-view+json": {
       "model_id": "aae2b7d21dc5430e96e439d62e4cdce5",
       "version_major": 2,
       "version_minor": 0
      },
      "text/plain": [
       "  0%|          | 0/301 [00:00<?, ?it/s]"
      ]
     },
     "metadata": {},
     "output_type": "display_data"
    }
   ],
   "source": [
    "importlib.reload(classifiers)\n",
    "disease_conservative_raw_clf = classifiers.threshold_classifier_fp(disease_raw_conservative, disgenet_labels_conservative_df, disease_conservative_raw_test, disease_conservative_modules['added_proteins'].values, op_metric='fmeasure')\n",
    "disease_conservative_raw_clf.to_csv('../../models/false_positive/STRING/threshold/disease_conservative_raw.csv', index=False)"
   ]
  }
 ],
 "metadata": {
  "kernelspec": {
   "display_name": "Python 3 (ipykernel)",
   "language": "python",
   "name": "python3"
  },
  "language_info": {
   "codemirror_mode": {
    "name": "ipython",
    "version": 3
   },
   "file_extension": ".py",
   "mimetype": "text/x-python",
   "name": "python",
   "nbconvert_exporter": "python",
   "pygments_lexer": "ipython3",
   "version": "3.10.6"
  },
  "vscode": {
   "interpreter": {
    "hash": "a91554a5e44b4cc609917fc90fb7ad510cda6c3a7bcec5be1f9eaac843308f8a"
   }
  }
 },
 "nbformat": 4,
 "nbformat_minor": 5
}
