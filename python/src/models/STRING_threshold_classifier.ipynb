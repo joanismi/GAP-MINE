{
 "cells": [
  {
   "cell_type": "markdown",
   "id": "270e6912",
   "metadata": {},
   "source": [
    "# 0. Imports and Data Load"
   ]
  },
  {
   "cell_type": "code",
   "execution_count": 1,
   "id": "46406049",
   "metadata": {},
   "outputs": [
    {
     "data": {
      "text/plain": [
       "{'divide': 'warn', 'over': 'warn', 'under': 'ignore', 'invalid': 'warn'}"
      ]
     },
     "execution_count": 1,
     "metadata": {},
     "output_type": "execute_result"
    }
   ],
   "source": [
    "import pandas as pd\n",
    "import classifiers\n",
    "import importlib\n",
    "from igraph import Graph\n",
    "import igraph as ig\n",
    "import numpy as np\n",
    "from ast import literal_eval\n",
    "import concurrent.futures\n",
    "import matplotlib.pyplot as plt\n",
    "np.seterr(divide='ignore', invalid='ignore')"
   ]
  },
  {
   "cell_type": "code",
   "execution_count": 2,
   "id": "7f346197",
   "metadata": {},
   "outputs": [],
   "source": [
    "graph = Graph.Read_GML(\"../../data/processed/graph_string\")\n",
    "reactome_modules_df = pd.read_csv(\"../../data/processed/string_reactome_modules.csv\", sep=',', header=0)\n",
    "disgenet_modules_df = pd.read_csv(\"../../data/processed/string_disgenet_modules.csv\")"
   ]
  },
  {
   "cell_type": "code",
   "execution_count": 3,
   "id": "9a93effc",
   "metadata": {},
   "outputs": [],
   "source": [
    "reactome_raw = pd.read_csv(\"../../data/processed/metrics/process_raw_string.csv\", sep=',', header=0, index_col=0)\n",
    "reactome_genepanda = pd.read_csv(\"../../data/processed/metrics/process_genepanda_string.csv\", sep=',', header=0, index_col=0)\n",
    "reactome_maxlink = pd.read_csv(\"../../data/processed/metrics/process_maxlink_string.csv\", sep=',', header=0, index_col=0)\n",
    "reactome_maxlink['protein_id'] = graph.vs['name']\n",
    "reactome_maxlink.set_index('protein_id', inplace=True)"
   ]
  },
  {
   "cell_type": "code",
   "execution_count": 4,
   "id": "ed134e71",
   "metadata": {},
   "outputs": [],
   "source": [
    "disease_raw = pd.read_csv(\"../../data/processed/metrics/disease_raw_string.csv\", sep=',', header=0, index_col=0)\n",
    "disease_genepanda = pd.read_csv(\"../../data/processed/metrics/disease_genepanda_string.csv\", sep=',', header=0, index_col=0, names=disgenet_modules_df['process'])\n",
    "disease_maxlink = pd.read_csv(\"../../data/processed/metrics/disease_maxlink_string.csv\", sep=',', header=0, names=disgenet_modules_df['process'], index_col=0)\n",
    "disease_maxlink['protein_id'] = graph.vs['name']\n",
    "disease_maxlink.set_index('protein_id', inplace=True)\n",
    "\n",
    "disease_conservative_raw = pd.read_csv(\"../../data/processed/metrics/disease_conservative_raw_string.csv\", sep=',', header=0, index_col=0)\n",
    "disease_conservative_genepanda = pd.read_csv(\"../../data/processed/metrics/disease_conservative_genepanda_string.csv\", sep=',', header=0, index_col=0, names=disgenet_modules_df['process'])\n",
    "disease_conservative_maxlink = pd.read_csv(\"../../data/processed/metrics/disease_conservative_maxlink_string.csv\", sep=',', names=disgenet_modules_df['process'], header=0, index_col=0)\n",
    "disease_conservative_maxlink['protein_id'] = graph.vs['name']\n",
    "disease_conservative_maxlink.set_index('protein_id', inplace=True)"
   ]
  },
  {
   "cell_type": "code",
   "execution_count": 5,
   "id": "a05a8ddb",
   "metadata": {},
   "outputs": [],
   "source": [
    "reactome_labels_df = pd.read_csv(\"../../data/processed/reactome_labels_string.csv\", sep=',', names=reactome_modules_df['process'].values)\n",
    "reactome_labels_df['protein_id'] = graph.vs['name']\n",
    "reactome_labels_df.set_index('protein_id', inplace=True)"
   ]
  },
  {
   "cell_type": "code",
   "execution_count": 6,
   "id": "4e1a6922",
   "metadata": {},
   "outputs": [],
   "source": [
    "disgenet_labels_df = pd.read_csv(\"../../data/processed/disgenet_sca_labels_string.csv\", sep=',', names=disgenet_modules_df['process'].values)\n",
    "disgenet_labels_df['protein_id'] = graph.vs['name']\n",
    "disgenet_labels_df.set_index('protein_id', inplace=True)\n",
    "\n",
    "disgenet_conservative_labels_df = pd.read_csv(\"../../data/processed/disgenet_conservative_labels_string.csv\", sep=',', names=disgenet_modules_df['process'].values)\n",
    "disgenet_conservative_labels_df['protein_id'] = graph.vs['name']\n",
    "disgenet_conservative_labels_df.set_index('protein_id', inplace=True)"
   ]
  },
  {
   "cell_type": "code",
   "execution_count": 7,
   "id": "dba0c84d",
   "metadata": {},
   "outputs": [],
   "source": [
    "reactome_raw_test_indices = pd.read_csv(\"../../data/processed/fs/process_raw_test.csv\", sep=',', header=0).transpose().to_numpy(dtype='int')-1\n",
    "reactome_genepanda_test_indices = pd.read_csv(\"../../data/processed/fs/reactome_genepanda_test_string.csv\", sep=',', header=0).transpose().to_numpy(dtype='int')-1\n",
    "reactome_maxlink_test_indices = pd.read_csv(\"../../data/processed/fs/reactome_maxlink_test_string.csv\", sep=',', header=0).transpose().to_numpy(dtype='int')-1"
   ]
  },
  {
   "cell_type": "code",
   "execution_count": 14,
   "id": "629e0736",
   "metadata": {},
   "outputs": [],
   "source": [
    "disease_raw_test_indices = pd.read_csv(\"../../data/processed/fs/disease/disease_raw_test_string.csv\", sep=',', header=0).transpose().to_numpy(dtype='int')-1\n",
    "disease_genepanda_test_indices = pd.read_csv(\"../../data/processed/fs/disease/disease_genepanda_test_string.csv\", sep=',', header=0).transpose().to_numpy(dtype='int')-1\n",
    "disease_maxlink_test_indices = pd.read_csv(\"../../data/processed/fs/disease/disease_maxlink_test_string.csv\", sep=',', header=0).transpose().to_numpy(dtype='int')-1\n",
    "\n",
    "disease_conservative_raw_test_indices = pd.read_csv(\"../../data/processed/fs/disease/disease_raw_test_conservative_string.csv\", sep=',', header=0).transpose().to_numpy(dtype='int')-1\n",
    "disease_conservative_genepanda_test_indices = pd.read_csv(\"../../data/processed/fs/disease/disease_genePANDA_test_conservative_string.csv\", sep=',', header=0).transpose().to_numpy(dtype='int')-1\n",
    "disease_conservative_maxlink_test_indices = pd.read_csv(\"../../data/processed/fs/disease/disease_genePANDA_test_conservative_string.csv\", sep=',', header=0).transpose().to_numpy(dtype='int')-1"
   ]
  },
  {
   "attachments": {},
   "cell_type": "markdown",
   "id": "816f8003",
   "metadata": {},
   "source": [
    "# 1. Threshold Classifier - Cell Processes"
   ]
  },
  {
   "cell_type": "code",
   "execution_count": 11,
   "id": "dcccc859",
   "metadata": {},
   "outputs": [
    {
     "data": {
      "application/vnd.jupyter.widget-view+json": {
       "model_id": "3ed517eedc6b41ef88ed6815b108e85b",
       "version_major": 2,
       "version_minor": 0
      },
      "text/plain": [
       "  0%|          | 0/244 [00:00<?, ?it/s]"
      ]
     },
     "metadata": {},
     "output_type": "display_data"
    }
   ],
   "source": [
    "importlib.reload(classifiers)\n",
    "raw_simple_clf = classifiers.threshold_classifier(reactome_raw, reactome_labels_df, reactome_raw_test_indices, op_metric='fmeasure')\n",
    "raw_simple_clf.to_csv('../../models/threshold_classifier/STRING/process_raw_simple.csv', index=False)"
   ]
  },
  {
   "cell_type": "code",
   "execution_count": 7,
   "id": "95b22e74",
   "metadata": {},
   "outputs": [
    {
     "data": {
      "application/vnd.jupyter.widget-view+json": {
       "model_id": "b631d0a9e39f420eb05e52cde11e9b82",
       "version_major": 2,
       "version_minor": 0
      },
      "text/plain": [
       "  0%|          | 0/244 [00:00<?, ?it/s]"
      ]
     },
     "metadata": {},
     "output_type": "display_data"
    }
   ],
   "source": [
    "importlib.reload(classifiers)\n",
    "genepanda_simple_clf = classifiers.threshold_classifier(reactome_genepanda, reactome_labels_df, reactome_genepanda_test_indices, op_metric='fmeasure')\n",
    "genepanda_simple_clf.to_csv('../../models/threshold_classifier/STRING/process_genepanda_simple.csv', index=False)"
   ]
  },
  {
   "cell_type": "code",
   "execution_count": 17,
   "id": "aa6ae240",
   "metadata": {},
   "outputs": [
    {
     "data": {
      "application/vnd.jupyter.widget-view+json": {
       "model_id": "615a9848ea4d4a598b83cfdaf4f76646",
       "version_major": 2,
       "version_minor": 0
      },
      "text/plain": [
       "  0%|          | 0/244 [00:00<?, ?it/s]"
      ]
     },
     "metadata": {},
     "output_type": "display_data"
    }
   ],
   "source": [
    "importlib.reload(classifiers)\n",
    "maxlink_simple_clf = classifiers.threshold_classifier(reactome_maxlink, reactome_labels_df, reactome_maxlink_test_indices, op_metric='fmeasure')\n",
    "maxlink_simple_clf.to_csv('../../models/threshold_classifier/STRING/process_maxlink_simple.csv', index=False)"
   ]
  },
  {
   "attachments": {},
   "cell_type": "markdown",
   "id": "c785a714",
   "metadata": {},
   "source": [
    "# 2. Threshold Classifier - Diseases"
   ]
  },
  {
   "cell_type": "code",
   "execution_count": 13,
   "id": "f40bd5d6",
   "metadata": {},
   "outputs": [
    {
     "data": {
      "application/vnd.jupyter.widget-view+json": {
       "model_id": "70d2c0c091734de5be9bd311049270ca",
       "version_major": 2,
       "version_minor": 0
      },
      "text/plain": [
       "  0%|          | 0/301 [00:00<?, ?it/s]"
      ]
     },
     "metadata": {},
     "output_type": "display_data"
    }
   ],
   "source": [
    "importlib.reload(classifiers)\n",
    "disease_raw_simple_clf = classifiers.threshold_classifier(disease_raw, disgenet_labels_df, disease_raw_test_indices, op_metric='fmeasure')\n",
    "disease_raw_simple_clf.to_csv('../../models/threshold_classifier/STRING/disease_raw_simple.csv', index=False)"
   ]
  },
  {
   "cell_type": "code",
   "execution_count": 39,
   "id": "8c387251",
   "metadata": {},
   "outputs": [
    {
     "data": {
      "application/vnd.jupyter.widget-view+json": {
       "model_id": "6dcf89c0e31b4322809df9426e2e44a4",
       "version_major": 2,
       "version_minor": 0
      },
      "text/plain": [
       "  0%|          | 0/301 [00:00<?, ?it/s]"
      ]
     },
     "metadata": {},
     "output_type": "display_data"
    }
   ],
   "source": [
    "importlib.reload(classifiers)\n",
    "disease_genepanda_simple_clf = classifiers.threshold_classifier(disease_genepanda, disgenet_labels_df, disease_genepanda_test_indices, op_metric='fmeasure')\n",
    "disease_genepanda_simple_clf.to_csv('../../models/threshold_classifier/STRING/disease_genepanda_simple.csv', index=False)"
   ]
  },
  {
   "cell_type": "code",
   "execution_count": 40,
   "id": "a5ec022c",
   "metadata": {},
   "outputs": [
    {
     "data": {
      "application/vnd.jupyter.widget-view+json": {
       "model_id": "fd1e02c4a7e3470e9ea710023d64e90a",
       "version_major": 2,
       "version_minor": 0
      },
      "text/plain": [
       "  0%|          | 0/301 [00:00<?, ?it/s]"
      ]
     },
     "metadata": {},
     "output_type": "display_data"
    }
   ],
   "source": [
    "importlib.reload(classifiers)\n",
    "disease_maxlink_simple_clf = classifiers.threshold_classifier(disease_maxlink, disgenet_labels_df, disease_maxlink_test_indices, op_metric='fmeasure')\n",
    "disease_maxlink_simple_clf.to_csv('../../models/threshold_classifier/STRING/disease_maxlink_simple.csv', index=False)"
   ]
  },
  {
   "cell_type": "code",
   "execution_count": 15,
   "id": "b2eb3f47",
   "metadata": {},
   "outputs": [
    {
     "data": {
      "application/vnd.jupyter.widget-view+json": {
       "model_id": "c5998c7add134425afbc551e3bf75b93",
       "version_major": 2,
       "version_minor": 0
      },
      "text/plain": [
       "  0%|          | 0/301 [00:00<?, ?it/s]"
      ]
     },
     "metadata": {},
     "output_type": "display_data"
    }
   ],
   "source": [
    "importlib.reload(classifiers)\n",
    "disease_conservative_raw_simple_clf = classifiers.threshold_classifier(disease_conservative_raw, disgenet_conservative_labels_df, disease_conservative_raw_test_indices, op_metric='fmeasure')\n",
    "disease_conservative_raw_simple_clf.to_csv('../../models/threshold_classifier/STRING/disease_conservative_raw_simple.csv', index=False)"
   ]
  },
  {
   "cell_type": "code",
   "execution_count": 41,
   "id": "f3cbf6a6",
   "metadata": {},
   "outputs": [
    {
     "data": {
      "application/vnd.jupyter.widget-view+json": {
       "model_id": "09484496d4ce4e5c99d523d7f8e315d3",
       "version_major": 2,
       "version_minor": 0
      },
      "text/plain": [
       "  0%|          | 0/301 [00:00<?, ?it/s]"
      ]
     },
     "metadata": {},
     "output_type": "display_data"
    }
   ],
   "source": [
    "importlib.reload(classifiers)\n",
    "disease_conservative_genepanda_simple_clf = classifiers.threshold_classifier(disease_conservative_genepanda, disgenet_conservative_labels_df, disease_conservative_genepanda_test_indices, op_metric='fmeasure')\n",
    "disease_conservative_genepanda_simple_clf.to_csv('../../models/threshold_classifier/STRING/disease_conservative_genepanda_simple.csv', index=False)"
   ]
  },
  {
   "cell_type": "code",
   "execution_count": 58,
   "id": "ab1d76c9",
   "metadata": {},
   "outputs": [
    {
     "data": {
      "application/vnd.jupyter.widget-view+json": {
       "model_id": "552d3b6f247d49a5aab3f133219a26ee",
       "version_major": 2,
       "version_minor": 0
      },
      "text/plain": [
       "  0%|          | 0/301 [00:00<?, ?it/s]"
      ]
     },
     "metadata": {},
     "output_type": "display_data"
    }
   ],
   "source": [
    "importlib.reload(classifiers)\n",
    "disease_conservative_maxlink_simple_clf = classifiers.threshold_classifier(disease_conservative_maxlink, disgenet_conservative_labels_df, disease_conservative_maxlink_test_indices, op_metric='fmeasure')\n",
    "disease_conservative_maxlink_simple_clf.to_csv('../../models/threshold_classifier/STRING/disease_conservative_maxlink_simple.csv', index=False)"
   ]
  }
 ],
 "metadata": {
  "kernelspec": {
   "display_name": "Python 3 (ipykernel)",
   "language": "python",
   "name": "python3"
  },
  "language_info": {
   "codemirror_mode": {
    "name": "ipython",
    "version": 3
   },
   "file_extension": ".py",
   "mimetype": "text/x-python",
   "name": "python",
   "nbconvert_exporter": "python",
   "pygments_lexer": "ipython3",
   "version": "3.10.6"
  },
  "vscode": {
   "interpreter": {
    "hash": "a91554a5e44b4cc609917fc90fb7ad510cda6c3a7bcec5be1f9eaac843308f8a"
   }
  }
 },
 "nbformat": 4,
 "nbformat_minor": 5
}
