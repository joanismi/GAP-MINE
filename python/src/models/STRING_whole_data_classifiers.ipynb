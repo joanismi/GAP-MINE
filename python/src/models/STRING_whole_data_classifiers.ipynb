{
 "cells": [
  {
   "cell_type": "markdown",
   "metadata": {},
   "source": [
    "# 0. Imports"
   ]
  },
  {
   "cell_type": "markdown",
   "metadata": {},
   "source": [
    "# 0. Imports"
   ]
  },
  {
   "cell_type": "code",
   "execution_count": 15,
   "metadata": {},
   "outputs": [],
   "source": [
    "import pandas as pd\n",
    "import numpy as np\n",
    "from sklearn.linear_model import LogisticRegression\n",
    "import classifiers\n",
    "import importlib\n",
    "import json\n",
    "import warnings\n",
    "import pickle\n",
    "warnings.filterwarnings(\"ignore\")\n",
    "from sklearn.experimental import enable_halving_search_cv\n",
    "from sklearn.model_selection import HalvingGridSearchCV\n",
    "from sklearn.model_selection import _search_successive_halving"
   ]
  },
  {
   "cell_type": "markdown",
   "metadata": {},
   "source": [
    "# 1. Data Load"
   ]
  },
  {
   "cell_type": "markdown",
   "metadata": {},
   "source": [
    "#### 1.1. Process Load"
   ]
  },
  {
   "cell_type": "code",
   "execution_count": 6,
   "metadata": {},
   "outputs": [],
   "source": [
    "reactome_labels_df = pd.read_csv('../../data/processed/reactome_labels_string.csv', header=None)\n",
    "reactome_labels = reactome_labels_df.transpose().to_numpy(dtype='int')"
   ]
  },
  {
   "cell_type": "code",
   "execution_count": 7,
   "metadata": {},
   "outputs": [],
   "source": [
    "reactome_rwr = np.array(pd.read_csv(\"../../data/processed/metrics/process_rwr_string.csv\", sep=',', header=0, index_col=0).transpose())"
   ]
  },
  {
   "cell_type": "code",
   "execution_count": 10,
   "metadata": {},
   "outputs": [
    {
     "ename": "AttributeError",
     "evalue": "Can't get attribute '_refit_callable' on <module 'sklearn.model_selection._search_successive_halving' from 'c:\\\\Users\\\\alexf\\\\anaconda3\\\\lib\\\\site-packages\\\\sklearn\\\\model_selection\\\\_search_successive_halving.py'>",
     "output_type": "error",
     "traceback": [
      "\u001b[1;31m---------------------------------------------------------------------------\u001b[0m",
      "\u001b[1;31mAttributeError\u001b[0m                            Traceback (most recent call last)",
      "\u001b[1;32m<ipython-input-10-bd74086019bf>\u001b[0m in \u001b[0;36m<module>\u001b[1;34m\u001b[0m\n\u001b[1;32m----> 1\u001b[1;33m \u001b[0mloaded_model\u001b[0m \u001b[1;33m=\u001b[0m \u001b[0mpickle\u001b[0m\u001b[1;33m.\u001b[0m\u001b[0mload\u001b[0m\u001b[1;33m(\u001b[0m\u001b[0mopen\u001b[0m\u001b[1;33m(\u001b[0m\u001b[1;34m\"../../models/GAP-MINE/STRING/models/process_rwr.pckl\"\u001b[0m\u001b[1;33m,\u001b[0m \u001b[1;34m\"rb\"\u001b[0m\u001b[1;33m)\u001b[0m\u001b[1;33m)\u001b[0m\u001b[1;33m\u001b[0m\u001b[1;33m\u001b[0m\u001b[0m\n\u001b[0m",
      "\u001b[1;31mAttributeError\u001b[0m: Can't get attribute '_refit_callable' on <module 'sklearn.model_selection._search_successive_halving' from 'c:\\\\Users\\\\alexf\\\\anaconda3\\\\lib\\\\site-packages\\\\sklearn\\\\model_selection\\\\_search_successive_halving.py'>"
     ]
    }
   ],
   "source": [
    "loaded_model = pickle.load(open(\"../../models/GAP-MINE/STRING/models/process_rwr.pckl\", \"rb\"))"
   ]
  },
  {
   "cell_type": "code",
   "execution_count": 18,
   "metadata": {},
   "outputs": [
    {
     "ename": "AttributeError",
     "evalue": "Can't get attribute '_refit_callable' on <module 'sklearn.model_selection._search_successive_halving' from 'c:\\\\Users\\\\alexf\\\\anaconda3\\\\lib\\\\site-packages\\\\sklearn\\\\model_selection\\\\_search_successive_halving.py'>",
     "output_type": "error",
     "traceback": [
      "\u001b[1;31m---------------------------------------------------------------------------\u001b[0m",
      "\u001b[1;31mAttributeError\u001b[0m                            Traceback (most recent call last)",
      "\u001b[1;32m<ipython-input-18-a6e4208b2980>\u001b[0m in \u001b[0;36m<module>\u001b[1;34m\u001b[0m\n\u001b[0;32m      3\u001b[0m     \u001b[1;32mwhile\u001b[0m \u001b[1;32mTrue\u001b[0m\u001b[1;33m:\u001b[0m\u001b[1;33m\u001b[0m\u001b[1;33m\u001b[0m\u001b[0m\n\u001b[0;32m      4\u001b[0m         \u001b[1;32mtry\u001b[0m\u001b[1;33m:\u001b[0m\u001b[1;33m\u001b[0m\u001b[1;33m\u001b[0m\u001b[0m\n\u001b[1;32m----> 5\u001b[1;33m             \u001b[0mreactome_rwr_models\u001b[0m\u001b[1;33m.\u001b[0m\u001b[0mappend\u001b[0m\u001b[1;33m(\u001b[0m\u001b[0mpickle\u001b[0m\u001b[1;33m.\u001b[0m\u001b[0mload\u001b[0m\u001b[1;33m(\u001b[0m\u001b[0mf\u001b[0m\u001b[1;33m)\u001b[0m\u001b[1;33m)\u001b[0m\u001b[1;33m\u001b[0m\u001b[1;33m\u001b[0m\u001b[0m\n\u001b[0m\u001b[0;32m      6\u001b[0m         \u001b[1;32mexcept\u001b[0m \u001b[0mEOFError\u001b[0m\u001b[1;33m:\u001b[0m\u001b[1;33m\u001b[0m\u001b[1;33m\u001b[0m\u001b[0m\n\u001b[0;32m      7\u001b[0m             \u001b[1;32mbreak\u001b[0m\u001b[1;33m\u001b[0m\u001b[1;33m\u001b[0m\u001b[0m\n",
      "\u001b[1;31mAttributeError\u001b[0m: Can't get attribute '_refit_callable' on <module 'sklearn.model_selection._search_successive_halving' from 'c:\\\\Users\\\\alexf\\\\anaconda3\\\\lib\\\\site-packages\\\\sklearn\\\\model_selection\\\\_search_successive_halving.py'>"
     ]
    }
   ],
   "source": [
    "reactome_rwr_models = []\n",
    "with open(\"../../models/GAP-MINE/STRING/models/process_rwr.pckl\", \"rb\") as f:\n",
    "    while True:\n",
    "        try:\n",
    "            reactome_rwr_models.append(pickle.load(f))\n",
    "        except EOFError:\n",
    "            break"
   ]
  },
  {
   "cell_type": "code",
   "execution_count": 6,
   "metadata": {},
   "outputs": [],
   "source": [
    "reactome_rwr_fs = pd.read_csv(\"../../data/processed/fs/reactome_rwr_fs_apid_huri.csv\", sep=',', header=0)"
   ]
  },
  {
   "cell_type": "code",
   "execution_count": 7,
   "metadata": {},
   "outputs": [],
   "source": [
    "reactome_n_rwr = list(pd.read_csv('../../models/apid_huri_multiple_fs/process/n_fs/rwr.txt', header=None)[0].values)"
   ]
  },
  {
   "cell_type": "code",
   "execution_count": 8,
   "metadata": {},
   "outputs": [],
   "source": [
    "reactome_rwr_threshold = pd.read_csv('../../models/apid_huri_multiple_fs/process/probability/rwr_lgr_proba.csv')['threshold'].values"
   ]
  },
  {
   "cell_type": "markdown",
   "metadata": {},
   "source": [
    "#### 1.2. Disease SCA"
   ]
  },
  {
   "cell_type": "code",
   "execution_count": null,
   "metadata": {},
   "outputs": [],
   "source": [
    "hypergeometric_df = pd.read_csv(\"../../data/processed/metrics/disease_hypergeometric_apid_huri.csv\", sep=',', header=0, index_col=0)\n",
    "disgenet_labels_df = pd.read_csv(\"../../data/processed/disgenet_filtered_labels_apid_huri.csv\", sep=',', names=hypergeometric_df.columns)\n",
    "disgenet_labels_df['protein_id'] = hypergeometric_df.index\n",
    "disgenet_labels_df.set_index('protein_id', inplace=True)"
   ]
  },
  {
   "cell_type": "code",
   "execution_count": null,
   "metadata": {},
   "outputs": [],
   "source": [
    "disease_rwr = np.array(pd.read_csv(\"../../data/processed/metrics/disease_rwr_apid_huri.csv\", sep=',', header=0, index_col=0).transpose())"
   ]
  },
  {
   "cell_type": "code",
   "execution_count": 10,
   "metadata": {},
   "outputs": [],
   "source": [
    "disease_rwr_models = []\n",
    "with open(\"../../models/GAP-MINE/disease/models/rwr.pckl\", \"rb\") as f:\n",
    "    while True:\n",
    "        try:\n",
    "            disease_rwr_models.append(pickle.load(f))\n",
    "        except EOFError:\n",
    "            break"
   ]
  },
  {
   "cell_type": "code",
   "execution_count": null,
   "metadata": {},
   "outputs": [],
   "source": [
    "disease_rwr_fs = pd.read_csv(\"../../data/processed/fs/disease/disease_rwr_fs_apid_huri.csv\", sep=',', header=0)"
   ]
  },
  {
   "cell_type": "code",
   "execution_count": null,
   "metadata": {},
   "outputs": [],
   "source": [
    "disease_n_rwr = list(pd.read_csv('../../models/apid_huri_multiple_fs/disease/n_fs/disease_rwr.txt', header=None)[0].values)"
   ]
  },
  {
   "cell_type": "code",
   "execution_count": null,
   "metadata": {},
   "outputs": [],
   "source": [
    "disease_rwr_threshold = pd.read_csv('../../models/apid_huri_multiple_fs/disease/probability/disease_rwr_lgr_proba.csv')['threshold'].values"
   ]
  },
  {
   "cell_type": "markdown",
   "metadata": {},
   "source": [
    "#### 1.3. Disease Conservative"
   ]
  },
  {
   "cell_type": "code",
   "execution_count": null,
   "metadata": {},
   "outputs": [],
   "source": [
    "hypergeometric_conservative_df = pd.read_csv(\"../../data/processed/metrics/disease_hypergeometric_conservative_apid_huri.csv\", sep=',', header=0, index_col=0)\n",
    "disgenet_labels_conservative_df = pd.read_csv('../../data/processed/disgenet_conservative_labels_apid_huri.csv', names=hypergeometric_conservative_df.columns)\n",
    "disgenet_labels_conservative_df['protein_id'] = hypergeometric_conservative_df.index\n",
    "disgenet_labels_conservative_df.set_index('protein_id', inplace=True)"
   ]
  },
  {
   "cell_type": "code",
   "execution_count": null,
   "metadata": {},
   "outputs": [],
   "source": [
    "disease_hypergeometric_conservative = np.array(pd.read_csv(\"../../data/processed/metrics/disease_hypergeometric_conservative_apid_huri.csv\", sep=',', header=0, index_col=0).transpose())\n",
    "disease_closeness_conservative = np.array(pd.read_csv(\"../../data/processed/metrics/disease_closeness_conservative_apid_huri.csv\", sep=',', header=0, index_col=0).transpose())\n",
    "disease_betweenness_conservative = np.array(pd.read_csv(\"../../data/processed/metrics/disease_betweenness_conservative_apid_huri.csv\", sep=',', header=0, index_col=0).transpose())\n",
    "disease_rwr_conservative = np.array(pd.read_csv(\"../../data/processed/metrics/disease_rwr_conservative_apid_huri.csv\", sep=',', header=0, index_col=0).transpose())\n",
    "disease_fraction_betweenness_conservative = np.array(pd.read_csv(\"../../data/processed/metrics/disease_fraction_betweenness_conservative_apid_huri.csv\", sep=',', header=0, index_col=0).transpose())"
   ]
  },
  {
   "cell_type": "code",
   "execution_count": 11,
   "metadata": {},
   "outputs": [],
   "source": [
    "disease_conservative_rwr_models = []\n",
    "with open(\"../../models/GAP-MINE/disease/models/rwr_conservative.pckl\", \"rb\") as f:\n",
    "    while True:\n",
    "        try:\n",
    "            disease_conservative_rwr_models.append(pickle.load(f))\n",
    "        except EOFError:\n",
    "            break"
   ]
  },
  {
   "cell_type": "code",
   "execution_count": null,
   "metadata": {},
   "outputs": [],
   "source": [
    "disease_conservative_rwr_fs = pd.read_csv(\"../../data/processed/fs/disease/disease_rwr_fs_conservative_apid_huri.csv\", sep=',', header=0)"
   ]
  },
  {
   "cell_type": "code",
   "execution_count": null,
   "metadata": {},
   "outputs": [],
   "source": [
    "disease_conservative_n_rwr = list(pd.read_csv('../../models/apid_huri_multiple_fs/disease/n_fs/disease_rwr_conservative.txt', header=None)[0].values)"
   ]
  },
  {
   "cell_type": "code",
   "execution_count": null,
   "metadata": {},
   "outputs": [],
   "source": [
    "disease_conservative_rwr_threshold = pd.read_csv('../../models/apid_huri_multiple_fs/disease/probability/disease_rwr_lgr_proba_conservative.csv')['threshold'].values"
   ]
  },
  {
   "cell_type": "markdown",
   "metadata": {},
   "source": [
    "# 2. Classification Models"
   ]
  },
  {
   "cell_type": "code",
   "execution_count": 9,
   "metadata": {},
   "outputs": [
    {
     "data": {
      "application/vnd.jupyter.widget-view+json": {
       "model_id": "60f571f73af84803a9c0a5699cdaa51c",
       "version_major": 2,
       "version_minor": 0
      },
      "text/plain": [
       "  0%|          | 0/429 [00:00<?, ?it/s]"
      ]
     },
     "metadata": {},
     "output_type": "display_data"
    }
   ],
   "source": [
    "importlib.reload(classifiers)\n",
    "rwr_whole_clf = classifiers.whole_clf(reactome_rwr, reactome_labels_df, reactome_rwr_models, reactome_rwr_fs, reactome_n_rwr, reactome_rwr_threshold)\n",
    "rwr_whole_clf.to_csv('../../models/GAP-MINE/process/probability/rwr_whole.csv', index=False)"
   ]
  },
  {
   "cell_type": "code",
   "execution_count": null,
   "metadata": {},
   "outputs": [],
   "source": [
    "importlib.reload(classifiers)\n",
    "disease_rwr_whole_clf = classifiers.whole_clf(disease_rwr, disgenet_labels_df, disease_rwr_models, disease_rwr_fs, disease_n_rwr, disease_rwr_threshold)\n",
    "disease_rwr_whole_clf.to_csv('../../models/GAP-MINE/disease/probability/rwr_whole.csv', index=False)"
   ]
  },
  {
   "cell_type": "code",
   "execution_count": null,
   "metadata": {},
   "outputs": [],
   "source": [
    "importlib.reload(classifiers)\n",
    "disease_conservative_rwr_whole_clf = classifiers.whole_clf(disease_rwr_conservative, disgenet_labels_conservative_df, disease_conservative_rwr_models, disease_conservative_rwr_fs, disease_conservative_n_rwr, disease_conservative_rwr_threshold)\n",
    "disease_conservative_rwr_whole_clf.to_csv('../../models/GAP-MINE/disease/probability/rwr_conservative_whole.csv', index=False)"
   ]
  }
 ],
 "metadata": {
  "interpreter": {
   "hash": "42555cd0c5f1594a81e40866f5733b2cbf65026c937bf0149d49f47f234897c3"
  },
  "kernelspec": {
   "display_name": "Python 3 (ipykernel)",
   "language": "python",
   "name": "python3"
  },
  "language_info": {
   "codemirror_mode": {
    "name": "ipython",
    "version": 3
   },
   "file_extension": ".py",
   "mimetype": "text/x-python",
   "name": "python",
   "nbconvert_exporter": "python",
   "pygments_lexer": "ipython3",
   "version": "3.8.8"
  }
 },
 "nbformat": 4,
 "nbformat_minor": 2
}
