{
 "cells": [
  {
   "cell_type": "markdown",
   "id": "c85b7252",
   "metadata": {},
   "source": [
    "# 0. Imports and Data Load"
   ]
  },
  {
   "cell_type": "code",
   "execution_count": 1,
   "id": "46406049",
   "metadata": {},
   "outputs": [
    {
     "data": {
      "text/plain": [
       "{'divide': 'warn', 'over': 'warn', 'under': 'ignore', 'invalid': 'warn'}"
      ]
     },
     "execution_count": 1,
     "metadata": {},
     "output_type": "execute_result"
    }
   ],
   "source": [
    "import pandas as pd\n",
    "import classifiers\n",
    "import importlib\n",
    "from igraph import Graph\n",
    "import numpy as np\n",
    "from ast import literal_eval\n",
    "np.seterr(divide='ignore', invalid='ignore')"
   ]
  },
  {
   "cell_type": "code",
   "execution_count": 2,
   "id": "921ae3c1",
   "metadata": {},
   "outputs": [],
   "source": [
    "hypergeometric = pd.read_csv(\"../../data/processed/metrics/disease_hypergeometric_apid_huri.csv\", sep=',', header=0, index_col=0)\n",
    "hypergeometric_conservative = pd.read_csv(\"../../data/processed/metrics/disease_hypergeometric_conservative_apid_huri.csv\", sep=',', header=0, index_col=0)"
   ]
  },
  {
   "cell_type": "code",
   "execution_count": 2,
   "id": "93baca0e",
   "metadata": {},
   "outputs": [],
   "source": [
    "hypergeometric = pd.read_csv(\"../../data/processed/metrics/disease_hypergeometric_apid_huri.csv\", sep=',', header=0, index_col=0)\n",
    "closeness = pd.read_csv(\"../../data/processed/metrics/disease_closeness_apid_huri.csv\", sep=',', header=0, index_col=0)\n",
    "betweenness = pd.read_csv(\"../../data/processed/metrics/disease_betweenness_apid_huri.csv\", sep=',', header=0, index_col=0)\n",
    "rwr = pd.read_csv(\"../../data/processed/metrics/disease_rwr_apid_huri.csv\", sep=',', header=0, index_col=0)\n",
    "fraction_betweenness = pd.read_csv(\"../../data/processed/metrics/disease_fraction_betweenness_apid_huri.csv\", sep=',', header=0, index_col=0)\n",
    "\n",
    "hypergeometric_80 = pd.read_csv(\"../../data/processed/metrics/disease_ppi80_hyper_apid_huri.csv\", sep=',', header=0, index_col=0)\n",
    "closeness_80 = pd.read_csv(\"../../data/processed/metrics/disease_ppi80_closeness_apid_huri.csv\", sep=',', header=0, index_col=0)\n",
    "betweenness_80 = pd.read_csv(\"../../data/processed/metrics/disease_ppi80_betweenness_apid_huri.csv\", sep=',', header=0, index_col=0)\n",
    "fraction_betweenness_80 = pd.read_csv(\"../../data/processed/metrics/disease_ppi80_fraction_betweenness_apid_huri.csv\", sep=',', header=0, index_col=0)\n",
    "rwr_80 = pd.read_csv(\"../../data/processed/metrics/disease_ppi80_rwr_apid_huri.csv\", sep=',', header=0, index_col=0)\n",
    "\n",
    "hypergeometric_protein80 = pd.read_csv(\"../../data/processed/metrics/disease_protein80_hyper_apid_huri.csv\", sep=',', header=0, index_col=0)\n",
    "closeness_protein80 = pd.read_csv(\"../../data/processed/metrics/disease_protein80_closeness_apid_huri.csv\", sep=',', header=0, index_col=0)\n",
    "betweenness_protein80 = pd.read_csv(\"../../data/processed/metrics/disease_protein80_betweenness_apid_huri.csv\", sep=',', header=0, index_col=0)\n",
    "fraction_betweenness_protein80 = pd.read_csv(\"../../data/processed/metrics/disease_protein80_fraction_betweenness_apid_huri.csv\", sep=',', header=0, index_col=0)\n",
    "rwr_protein80 = pd.read_csv(\"../../data/processed/metrics/disease_protein80_rwr_apid_huri.csv\", sep=',', header=0, index_col=0)"
   ]
  },
  {
   "cell_type": "code",
   "execution_count": 3,
   "id": "0b9b193e",
   "metadata": {},
   "outputs": [],
   "source": [
    "raw = pd.read_csv(\"../../data/processed/metrics/disease_raw.csv\", sep=',', header=0)\n",
    "raw_conservative = pd.read_csv(\"../../data/processed/metrics/disease_conservative_raw.csv\", sep=',', header=0)\n",
    "raw.index = hypergeometric.index\n",
    "raw.columns = hypergeometric.columns\n",
    "raw_conservative.index = hypergeometric_conservative.index\n",
    "raw_conservative.columns = hypergeometric_conservative.columns"
   ]
  },
  {
   "cell_type": "code",
   "execution_count": 2,
   "id": "c8c3fabc",
   "metadata": {},
   "outputs": [],
   "source": [
    "genepanda = pd.read_csv(\"../../data/processed/metrics/disease_genepanda.csv\", sep=',', header=0, index_col=0)\n",
    "genepanda_conservative = pd.read_csv(\"../../data/processed/metrics/disease_genepanda_conservative.csv\", sep=',', header=0, index_col=0)\n",
    "maxlink = pd.read_csv(\"../../data/processed/metrics/disease_maxlink.csv\", sep=',', header=0, index_col=0)\n",
    "maxlink_conservative = pd.read_csv(\"../../data/processed/metrics/disease_conservative_maxlink.csv\", sep=',', header=0, index_col=0)"
   ]
  },
  {
   "cell_type": "code",
   "execution_count": 3,
   "id": "2a395449",
   "metadata": {},
   "outputs": [],
   "source": [
    "hypergeometric_conservative = pd.read_csv(\"../../data/processed/metrics/disease_hypergeometric_conservative_apid_huri.csv\", sep=',', header=0, index_col=0)\n",
    "closeness_conservative = pd.read_csv(\"../../data/processed/metrics/disease_closeness_conservative_apid_huri.csv\", sep=',', header=0, index_col=0)\n",
    "betweenness_conservative = pd.read_csv(\"../../data/processed/metrics/disease_betweenness_conservative_apid_huri.csv\", sep=',', header=0, index_col=0)\n",
    "rwr_conservative = pd.read_csv(\"../../data/processed/metrics/disease_rwr_conservative_apid_huri.csv\", sep=',', header=0, index_col=0)\n",
    "fraction_betweenness_conservative = pd.read_csv(\"../../data/processed/metrics/disease_fraction_betweenness_conservative_apid_huri.csv\", sep=',', header=0, index_col=0)\n",
    "\n",
    "hypergeometric_conservative_80 = pd.read_csv(\"../../data/processed/metrics/disease_ppi80_hyper_conservative_apid_huri.csv\", sep=',', header=0, index_col=0)\n",
    "closeness_conservative_80 = pd.read_csv(\"../../data/processed/metrics/disease_ppi80_closeness_conservative_apid_huri.csv\", sep=',', header=0, index_col=0)\n",
    "betweenness_conservative_80 = pd.read_csv(\"../../data/processed/metrics/disease_ppi80_betweenness_conservative_apid_huri.csv\", sep=',', header=0, index_col=0)\n",
    "fraction_betweenness_conservative_80 = pd.read_csv(\"../../data/processed/metrics/disease_ppi80_fraction_betweenness_conservative_apid_huri.csv\", sep=',', header=0, index_col=0)\n",
    "rwr_conservative_80 = pd.read_csv(\"../../data/processed/metrics/disease_ppi80_rwr_conservative_apid_huri.csv\", sep=',', header=0, index_col=0)\n",
    "\n",
    "hypergeometric_conservative_protein80 = pd.read_csv(\"../../data/processed/metrics/disease_protein80_hyper_conservative_apid_huri.csv\", sep=',', header=0, index_col=0)\n",
    "closeness_conservative_protein80 = pd.read_csv(\"../../data/processed/metrics/disease_protein80_closeness_conservative_apid_huri.csv\", sep=',', header=0, index_col=0)\n",
    "betweenness_conservative_protein80 = pd.read_csv(\"../../data/processed/metrics/disease_protein80_betweenness_conservative_apid_huri.csv\", sep=',', header=0, index_col=0)\n",
    "fraction_betweenness_conservative_protein80 = pd.read_csv(\"../../data/processed/metrics/disease_protein80_fraction_betweenness_conservative_apid_huri.csv\", sep=',', header=0, index_col=0)\n",
    "rwr_conservative_protein80 = pd.read_csv(\"../../data/processed/metrics/disease_protein80_rwr_conservative_apid_huri.csv\", sep=',', header=0, index_col=0)"
   ]
  },
  {
   "cell_type": "code",
   "execution_count": 3,
   "id": "7f346197",
   "metadata": {},
   "outputs": [],
   "source": [
    "graph = Graph.Read_GML(\"../../data/processed/graph_apid_huri\")\n",
    "disgenet_proteins_indexes_df = pd.read_csv(\"../../data/processed/disgenet_prot_index_main_comp.csv\", sep=',', header=0)\n",
    "\n",
    "disgenet_proteins_indexes_df['protein_index'] = disgenet_proteins_indexes_df['protein_index'].apply(literal_eval)\n",
    "disgenet_proteins_indexes_df['main_component'] = disgenet_proteins_indexes_df['main_component'].apply(literal_eval)\n",
    "disgenet_proteins_indexes_df['conservative_module'] = disgenet_proteins_indexes_df['conservative_module'].apply(literal_eval)\n",
    "disgenet_proteins_indexes_df['added_nodes'] = disgenet_proteins_indexes_df['added_nodes'].apply(literal_eval)\n",
    "\n",
    "disgenet_prot_index_main_comp = disgenet_proteins_indexes_df[disgenet_proteins_indexes_df['increase']<0.4]"
   ]
  },
  {
   "cell_type": "code",
   "execution_count": 4,
   "id": "a05a8ddb",
   "metadata": {},
   "outputs": [],
   "source": [
    "disgenet_labels_df = pd.read_csv(\"../../data/processed/disgenet_filtered_labels_apid_huri.csv\", sep=',', names=disgenet_prot_index_main_comp['process'].values)\n",
    "disgenet_labels_df['protein_id'] = graph.vs['name']\n",
    "disgenet_labels_df.set_index('protein_id', inplace=True)"
   ]
  },
  {
   "cell_type": "code",
   "execution_count": 5,
   "id": "77a69443",
   "metadata": {},
   "outputs": [],
   "source": [
    "disgenet_labels_conservative_df = pd.read_csv('../../data/processed/disgenet_conservative_labels_apid_huri.csv', names=disgenet_proteins_indexes_df['process'].values)\n",
    "disgenet_labels_conservative_df['protein_id'] = graph.vs['name']\n",
    "disgenet_labels_conservative_df.set_index('protein_id', inplace=True)"
   ]
  },
  {
   "cell_type": "code",
   "execution_count": 7,
   "id": "51608585",
   "metadata": {},
   "outputs": [],
   "source": [
    "protein80_ppis = np.load(\"../../data/processed/ppis/ppis_red_protein80_apid_huri.npy\", allow_pickle=True)\n",
    "protein80_raw_list = []\n",
    "protein_label_list = []\n",
    "for i in range(1,11):\n",
    "    protein80_ppis_df = pd.DataFrame(protein80_ppis[i-1,:,0:2]).replace(0, np.nan).dropna()\n",
    "    proteins_protein80 = set(list(set(protein80_ppis_df[0].values))+list(set(protein80_ppis_df[1].values)))\n",
    "    disgenet_raw_protein80 = pd.read_csv(\"../../data/processed/metrics/disease_protein80_\"+str(i)+\".csv\")\n",
    "    disgenet_raw_protein80.columns = disgenet_labels_df.columns\n",
    "    disgenet_raw_protein80.index = disgenet_labels_df[disgenet_labels_df.index.isin(proteins_protein80)].index\n",
    "    protein80_raw_list.append(disgenet_raw_protein80)\n",
    "    protein_label_list.append(disgenet_labels_df[disgenet_labels_df.index.isin(proteins_protein80)])\n",
    "    \n",
    "protein80_raw_list_conservative = []\n",
    "protein_label_list_conservative = []\n",
    "for i in range(1,11):\n",
    "    protein80_ppis_df = pd.DataFrame(protein80_ppis[i-1,:,0:2]).replace(0, np.nan).dropna()\n",
    "    proteins_protein80 = set(list(set(protein80_ppis_df[0].values))+list(set(protein80_ppis_df[1].values)))\n",
    "    disgenet_conservative_raw_protein80 = pd.read_csv(\"../../data/processed/metrics/disease_conservative_protein80_\"+str(i)+\".csv\")\n",
    "    disgenet_conservative_raw_protein80.columns = disgenet_labels_conservative_df.columns\n",
    "    disgenet_conservative_raw_protein80.index = disgenet_labels_conservative_df[disgenet_labels_conservative_df.index.isin(proteins_protein80)].index\n",
    "    protein80_raw_list_conservative.append(disgenet_conservative_raw_protein80)\n",
    "    protein_label_list_conservative.append(disgenet_labels_conservative_df[disgenet_labels_conservative_df.index.isin(proteins_protein80)])"
   ]
  },
  {
   "cell_type": "code",
   "execution_count": 6,
   "id": "4ed4e7c2",
   "metadata": {},
   "outputs": [],
   "source": [
    "ppi80_hyper_list = []\n",
    "ppi80_closeness_list = []\n",
    "ppi80_betweenness_list = []\n",
    "ppi80_fraction_betweenness_list = []\n",
    "ppi80_rwr_list = []\n",
    "label_list = []\n",
    "\n",
    "for i, df in hypergeometric_80.groupby(level=0):\n",
    "    df.set_index('level_1', inplace=True)\n",
    "    ppi80_hyper_list.append(df)\n",
    "    label_list.append(disgenet_labels_df[disgenet_labels_df.index.isin(df.index)])\n",
    "    \n",
    "for i, df in closeness_80.groupby(level=0):\n",
    "    df.set_index('level_1', inplace=True)\n",
    "    ppi80_closeness_list.append(df)\n",
    "    \n",
    "for i, df in betweenness_80.groupby(level=0):\n",
    "    df.set_index('level_1', inplace=True)\n",
    "    ppi80_betweenness_list.append(df)\n",
    "    \n",
    "for i, df in fraction_betweenness_80.groupby(level=0):\n",
    "    df.set_index('index', inplace=True)\n",
    "    ppi80_fraction_betweenness_list.append(df)\n",
    "    \n",
    "for i, df in rwr_80.groupby(level=0):\n",
    "    df.set_index('level_1', inplace=True)\n",
    "    ppi80_rwr_list.append(df)"
   ]
  },
  {
   "cell_type": "code",
   "execution_count": 8,
   "id": "d11cc908",
   "metadata": {},
   "outputs": [],
   "source": [
    "protein80_hyper_list = []\n",
    "protein80_closeness_list = []\n",
    "protein80_betweenness_list = []\n",
    "protein80_fraction_betweenness_list = []\n",
    "protein80_rwr_list = []\n",
    "label_list_protein80 = []\n",
    "\n",
    "for i, df in hypergeometric_protein80.groupby(level=0):\n",
    "    df.set_index('level_1', inplace=True)\n",
    "    protein80_hyper_list.append(df)\n",
    "    label_list_protein80.append(disgenet_labels_df)\n",
    "\n",
    "for i, df in closeness_protein80.groupby(level=0):\n",
    "    df.set_index('level_1', inplace=True)\n",
    "    protein80_closeness_list.append(df)\n",
    "    \n",
    "for i, df in betweenness_protein80.groupby(level=0):\n",
    "    df.set_index('level_1', inplace=True)\n",
    "    protein80_betweenness_list.append(df)\n",
    "    \n",
    "for i, df in fraction_betweenness_protein80.groupby(level=0):\n",
    "    df.set_index('index', inplace=True)\n",
    "    protein80_fraction_betweenness_list.append(df)\n",
    "    \n",
    "for i, df in rwr_protein80.groupby(level=0):\n",
    "    df.set_index('level_1', inplace=True)\n",
    "    protein80_rwr_list.append(df)"
   ]
  },
  {
   "cell_type": "code",
   "execution_count": 9,
   "id": "de423991",
   "metadata": {},
   "outputs": [],
   "source": [
    "ppi80_hyper_list_conservative = []\n",
    "ppi80_closeness_list_conservative = []\n",
    "ppi80_betweenness_list_conservative = []\n",
    "ppi80_fraction_betweenness_list_conservative = []\n",
    "ppi80_rwr_list_conservative = []\n",
    "label_list_conservative = []\n",
    "\n",
    "for i, df in hypergeometric_conservative_80.groupby(level=0):\n",
    "    df.set_index('level_1', inplace=True)\n",
    "    ppi80_hyper_list_conservative.append(df)\n",
    "    label_list_conservative.append(disgenet_labels_conservative_df)\n",
    "\n",
    "for i, df in closeness_conservative_80.groupby(level=0):\n",
    "    df.set_index('level_1', inplace=True)\n",
    "    ppi80_closeness_list_conservative.append(df)\n",
    "    \n",
    "for i, df in betweenness_conservative_80.groupby(level=0):\n",
    "    df.set_index('level_1', inplace=True)\n",
    "    ppi80_betweenness_list_conservative.append(df)\n",
    "    \n",
    "for i, df in fraction_betweenness_conservative_80.groupby(level=0):\n",
    "    df.set_index('index', inplace=True)\n",
    "    ppi80_fraction_betweenness_list_conservative.append(df)\n",
    "    \n",
    "for i, df in rwr_conservative_80.groupby(level=0):\n",
    "    df.set_index('level_1', inplace=True)\n",
    "    ppi80_rwr_list_conservative.append(df)"
   ]
  },
  {
   "cell_type": "code",
   "execution_count": 10,
   "id": "732a81e8",
   "metadata": {},
   "outputs": [],
   "source": [
    "protein80_hyper_list_conservative = []\n",
    "protein80_closeness_list_conservative = []\n",
    "protein80_betweenness_list_conservative = []\n",
    "protein80_fraction_betweenness_list_conservative = []\n",
    "protein80_rwr_list_conservative = []\n",
    "label_list_protein80_conservative = []\n",
    "\n",
    "for i, df in hypergeometric_conservative_protein80.groupby(level=0):\n",
    "    df.set_index('level_1', inplace=True)\n",
    "    protein80_hyper_list_conservative.append(df)\n",
    "    label_list_protein80_conservative.append(disgenet_labels_conservative_df[disgenet_labels_conservative_df.index.isin(df.index)])\n",
    "\n",
    "for i, df in closeness_conservative_protein80.groupby(level=0):\n",
    "    df.set_index('level_1', inplace=True)\n",
    "    protein80_closeness_list_conservative.append(df)\n",
    "    \n",
    "for i, df in betweenness_conservative_protein80.groupby(level=0):\n",
    "    df.set_index('level_1', inplace=True)\n",
    "    protein80_betweenness_list_conservative.append(df)\n",
    "    \n",
    "for i, df in fraction_betweenness_conservative_protein80.groupby(level=0):\n",
    "    df.set_index('index', inplace=True)\n",
    "    protein80_fraction_betweenness_list_conservative.append(df)\n",
    "    \n",
    "for i, df in rwr_conservative_protein80.groupby(level=0):\n",
    "    df.set_index('level_1', inplace=True)\n",
    "    protein80_rwr_list_conservative.append(df)"
   ]
  },
  {
   "cell_type": "code",
   "execution_count": 22,
   "id": "ab335559",
   "metadata": {},
   "outputs": [],
   "source": [
    "raw_test_indices = pd.read_csv(\"../../data/processed/fs/disease_raw_test.csv\", sep=',', header=0).transpose().to_numpy(dtype='int')-1\n",
    "raw_test_indices_conservative = pd.read_csv(\"../../data/processed/fs/disease_conservative_raw_test.csv\", sep=',', header=0).transpose().to_numpy(dtype='int')-1\n",
    "\n",
    "raw_protein80_test_index = np.moveaxis((np.array(np.array_split(pd.read_csv(\"../../data/processed/fs/disease/disgenet_raw_protein80_test_apid_huri.csv\", sep=',', header=0).transpose(), 203, axis = 1)).astype(int) -1), 0, 1)\n",
    "raw_protein80_test_index_conservative = np.moveaxis((np.array(np.array_split(pd.read_csv(\"../../data/processed/fs/disease/disgenet_conservative_raw_protein80_test_apid_huri.csv\", sep=',', header=0).transpose(), 301, axis = 1)).astype(int) -1), 0, 1)"
   ]
  },
  {
   "cell_type": "code",
   "execution_count": 6,
   "id": "e5bc3ba5",
   "metadata": {},
   "outputs": [],
   "source": [
    "genepanda_test_indices = pd.read_csv(\"../../data/processed/fs/disease/disease_genepanda_test_apid_huri.csv\", sep=',', header=0).transpose().to_numpy(dtype='int')-1\n",
    "genepanda_test_indices_conservative = pd.read_csv(\"../../data/processed/fs/disease/disease_genepanda_test_conservative_apid_huri.csv\", sep=',', header=0).transpose().to_numpy(dtype='int')-1\n",
    "\n",
    "maxlink_test_indices = pd.read_csv(\"../../data/processed/fs/disease/disease_maxlink_test_apid_huri.csv\", sep=',', header=0).transpose().to_numpy(dtype='int')-1\n",
    "maxlink_test_indices_conservative = pd.read_csv(\"../../data/processed/fs/disease/disease_maxlink_test_conservative_apid_huri.csv\", sep=',', header=0).transpose().to_numpy(dtype='int')-1"
   ]
  },
  {
   "cell_type": "code",
   "execution_count": 7,
   "id": "9110ca0c",
   "metadata": {},
   "outputs": [],
   "source": [
    "hypergeometric_test_indices = pd.read_csv(\"../../data/processed/fs/disease/disease_hyper_test_apid_huri.csv\", sep=',', header=0).transpose().to_numpy(dtype='int')-1\n",
    "closeness_test_indices = pd.read_csv(\"../../data/processed/fs/disease/disease_closeness_test_apid_huri.csv\", sep=',', header=0).transpose().to_numpy(dtype='int')-1\n",
    "betweenness_test_indices = pd.read_csv(\"../../data/processed/fs/disease/disease_betweenness_test_apid_huri.csv\", sep=',', header=0).transpose().to_numpy(dtype='int')-1\n",
    "fraction_betweenness_test_indices = pd.read_csv(\"../../data/processed/fs/disease/disease_fraction_betweenness_test_apid_huri.csv\", sep=',', header=0).transpose().to_numpy(dtype='int')-1\n",
    "rwr_test_indices = pd.read_csv(\"../../data/processed/fs/disease/disease_rwr_test_apid_huri.csv\", sep=',', header=0).transpose().to_numpy(dtype='int')-1\n",
    "\n",
    "hypergeometric_80_test_index = np.moveaxis((np.array(np.array_split(pd.read_csv(\"../../data/processed/fs/disease/disgenet_hyper_ppi80_test_apid_huri.csv\", sep=',', header=0).transpose(), 203, axis = 1)).astype(int) -1), 0, 1)\n",
    "closeness_80_test_index = np.moveaxis((np.array(np.array_split(pd.read_csv(\"../../data/processed/fs/disease/disgenet_closeness_ppi80_test_apid_huri.csv\", sep=',', header=0).transpose(), 203, axis = 1)).astype(int) -1), 0, 1)\n",
    "betweenness_80_test_index = np.moveaxis((np.array(np.array_split(pd.read_csv(\"../../data/processed/fs/disease/disgenet_betweenness_ppi80_test_apid_huri.csv\", sep=',', header=0).transpose(), 203, axis = 1)).astype(int) -1), 0, 1)\n",
    "fraction_betweenness_80_test_index = np.moveaxis((np.array(np.array_split(pd.read_csv(\"../../data/processed/fs/disease/disgenet_fraction_betweenness_ppi80_test_apid_huri.csv\", sep=',', header=0).transpose(), 203, axis = 1)).astype(int) -1), 0, 1)\n",
    "rwr_80_test_index = np.moveaxis((np.array(np.array_split(pd.read_csv(\"../../data/processed/fs/disease/disgenet_rwr_ppi80_test_apid_huri.csv\", sep=',', header=0).transpose(), 203, axis = 1)).astype(int) -1), 0, 1)\n",
    "\n",
    "hypergeometric_protein80_test_index = np.moveaxis((np.array(np.array_split(pd.read_csv(\"../../data/processed/fs/disease/disgenet_hyper_protein80_test_apid_huri.csv\", sep=',', header=0).transpose(), 203, axis = 1)).astype(int) -1), 0, 1)\n",
    "closeness_protein80_test_index = np.moveaxis((np.array(np.array_split(pd.read_csv(\"../../data/processed/fs/disease/disgenet_closeness_protein80_test_apid_huri.csv\", sep=',', header=0).transpose(), 203, axis = 1)).astype(int) -1), 0, 1)\n",
    "betweenness_protein80_test_index = np.moveaxis((np.array(np.array_split(pd.read_csv(\"../../data/processed/fs/disease/disgenet_betweenness_protein80_test_apid_huri.csv\", sep=',', header=0).transpose(), 203, axis = 1)).astype(int) -1), 0, 1)\n",
    "fraction_betweenness_protein80_test_index = np.moveaxis((np.array(np.array_split(pd.read_csv(\"../../data/processed/fs/disease/disgenet_fraction_betweenness_protein80_test_apid_huri.csv\", sep=',', header=0).transpose(), 203, axis = 1)).astype(int) -1), 0, 1)\n",
    "rwr_protein80_test_index = np.moveaxis((np.array(np.array_split(pd.read_csv(\"../../data/processed/fs/disease/disgenet_rwr_protein80_test_apid_huri.csv\", sep=',', header=0).transpose(), 203, axis = 1)).astype(int) -1), 0, 1)"
   ]
  },
  {
   "cell_type": "code",
   "execution_count": 12,
   "id": "86cf045c",
   "metadata": {},
   "outputs": [],
   "source": [
    "hypergeometric_test_indices_conservative = pd.read_csv(\"../../data/processed/fs/disease/disease_hyper_test_conservative_apid_huri.csv\", sep=',', header=0).transpose().to_numpy(dtype='int')-1\n",
    "closeness_test_indices_conservative = pd.read_csv(\"../../data/processed/fs/disease/disease_closeness_test_conservative_apid_huri.csv\", sep=',', header=0).transpose().to_numpy(dtype='int')-1\n",
    "betweenness_test_indices_conservative = pd.read_csv(\"../../data/processed/fs/disease/disease_betweenness_test_conservative_apid_huri.csv\", sep=',', header=0).transpose().to_numpy(dtype='int')-1\n",
    "fraction_betweenness_test_indices_conservative = pd.read_csv(\"../../data/processed/fs/disease/disease_fraction_betweenness_test_conservative_apid_huri.csv\", sep=',', header=0).transpose().to_numpy(dtype='int')-1\n",
    "rwr_test_indices_conservative = pd.read_csv(\"../../data/processed/fs/disease/disease_rwr_test_conservative_apid_huri.csv\", sep=',', header=0).transpose().to_numpy(dtype='int')-1\n",
    "\n",
    "hypergeometric_80_test_index_conservative = np.moveaxis((np.array(np.array_split(pd.read_csv(\"../../data/processed/fs/disease/disgenet_hyper_ppi80_test_conservative_apid_huri.csv\", sep=',', header=0).transpose(), 301, axis = 1)).astype(int) -1), 0, 1)\n",
    "closeness_80_test_index_conservative = np.moveaxis((np.array(np.array_split(pd.read_csv(\"../../data/processed/fs/disease/disgenet_closeness_ppi80_test_conservative_apid_huri.csv\", sep=',', header=0).transpose(), 301, axis = 1)).astype(int) -1), 0, 1)\n",
    "betweenness_80_test_index_conservative = np.moveaxis((np.array(np.array_split(pd.read_csv(\"../../data/processed/fs/disease/disgenet_betweenness_ppi80_test_conservative_apid_huri.csv\", sep=',', header=0).transpose(), 301, axis = 1)).astype(int) -1), 0, 1)\n",
    "fraction_betweenness_80_test_index_conservative = np.moveaxis((np.array(np.array_split(pd.read_csv(\"../../data/processed/fs/disease/disgenet_fraction_betweenness_ppi80_test_conservative_apid_huri.csv\", sep=',', header=0).transpose(), 301, axis = 1)).astype(int) -1), 0, 1)\n",
    "rwr_80_test_index_conservative = np.moveaxis((np.array(np.array_split(pd.read_csv(\"../../data/processed/fs/disease/disgenet_rwr_ppi80_test_conservative_apid_huri.csv\", sep=',', header=0).transpose(), 301, axis = 1)).astype(int) -1), 0, 1)\n",
    "\n",
    "hypergeometric_protein80_test_index_conservative = np.moveaxis((np.array(np.array_split(pd.read_csv(\"../../data/processed/fs/disease/disgenet_hyper_protein80_test_conservative_apid_huri.csv\", sep=',', header=0).transpose(), 301, axis = 1)).astype(int) -1), 0, 1)\n",
    "closeness_protein80_test_index_conservative = np.moveaxis((np.array(np.array_split(pd.read_csv(\"../../data/processed/fs/disease/disgenet_closeness_protein80_test_conservative_apid_huri.csv\", sep=',', header=0).transpose(), 301, axis = 1)).astype(int) -1), 0, 1)\n",
    "betweenness_protein80_test_index_conservative = np.moveaxis((np.array(np.array_split(pd.read_csv(\"../../data/processed/fs/disease/disgenet_betweenness_protein80_test_conservative_apid_huri.csv\", sep=',', header=0).transpose(), 301, axis = 1)).astype(int) -1), 0, 1)\n",
    "fraction_betweenness_protein80_test_index_conservative = np.moveaxis((np.array(np.array_split(pd.read_csv(\"../../data/processed/fs/disease/disgenet_fraction_betweenness_protein80_test_conservative_apid_huri.csv\", sep=',', header=0).transpose(), 301, axis = 1)).astype(int) -1), 0, 1)\n",
    "rwr_protein80_test_index_conservative = np.moveaxis((np.array(np.array_split(pd.read_csv(\"../../data/processed/fs/disease/disgenet_rwr_protein80_test_conservative_apid_huri.csv\", sep=',', header=0).transpose(), 301, axis = 1)).astype(int) -1), 0, 1)"
   ]
  },
  {
   "cell_type": "markdown",
   "id": "63b7c570",
   "metadata": {},
   "source": [
    "# 1. Threshold Classifier - Complete Network"
   ]
  },
  {
   "cell_type": "markdown",
   "id": "1ebaaa69",
   "metadata": {},
   "source": [
    "## 1.1. Classification with Steiner Tree"
   ]
  },
  {
   "cell_type": "code",
   "execution_count": 14,
   "id": "09d18c6c",
   "metadata": {},
   "outputs": [
    {
     "data": {
      "application/vnd.jupyter.widget-view+json": {
       "model_id": "b6945a9067dc40688f99af671b3b6812",
       "version_major": 2,
       "version_minor": 0
      },
      "text/plain": [
       "  0%|          | 0/203 [00:00<?, ?it/s]"
      ]
     },
     "metadata": {},
     "output_type": "display_data"
    }
   ],
   "source": [
    "importlib.reload(classifiers)\n",
    "genepanda_simple_clf = classifiers.threshold_classifier(genepanda, disgenet_labels_df, genepanda_test_indices, op_metric='fmeasure')\n",
    "genepanda_simple_clf.to_csv('../../models/threshold_classifier/disease/disease_genepanda_simple.csv', index=False)"
   ]
  },
  {
   "cell_type": "code",
   "execution_count": 7,
   "id": "f267596c",
   "metadata": {},
   "outputs": [
    {
     "data": {
      "application/vnd.jupyter.widget-view+json": {
       "model_id": "c0eab383ce524b169915565e9933d8d6",
       "version_major": 2,
       "version_minor": 0
      },
      "text/plain": [
       "  0%|          | 0/203 [00:00<?, ?it/s]"
      ]
     },
     "metadata": {},
     "output_type": "display_data"
    }
   ],
   "source": [
    "importlib.reload(classifiers)\n",
    "maxlink_simple_clf = classifiers.threshold_classifier(maxlink, disgenet_labels_df, maxlink_test_indices, op_metric='fmeasure')\n",
    "maxlink_simple_clf.to_csv('../../models/threshold_classifier/disease/disease_maxlink_simple.csv', index=False)"
   ]
  },
  {
   "cell_type": "code",
   "execution_count": 15,
   "id": "d1d1d218",
   "metadata": {},
   "outputs": [
    {
     "data": {
      "application/vnd.jupyter.widget-view+json": {
       "model_id": "f2b53dab633748f7b9c7ae4128e16e83",
       "version_major": 2,
       "version_minor": 0
      },
      "text/plain": [
       "  0%|          | 0/203 [00:00<?, ?it/s]"
      ]
     },
     "metadata": {},
     "output_type": "display_data"
    }
   ],
   "source": [
    "importlib.reload(classifiers)\n",
    "raw_simple_clf = classifiers.threshold_classifier(raw, disgenet_labels_df, raw_test_indices, op_metric='fmeasure')\n",
    "raw_simple_clf.to_csv('../../models/threshold_classifier/disease/disease_raw_simple.csv', index=False)"
   ]
  },
  {
   "cell_type": "code",
   "execution_count": 19,
   "id": "e16145b9",
   "metadata": {
    "scrolled": true
   },
   "outputs": [
    {
     "data": {
      "application/vnd.jupyter.widget-view+json": {
       "model_id": "fe79df9e72514591aa772c5ee4bb8086",
       "version_major": 2,
       "version_minor": 0
      },
      "text/plain": [
       "  0%|          | 0/203 [00:00<?, ?it/s]"
      ]
     },
     "metadata": {},
     "output_type": "display_data"
    }
   ],
   "source": [
    "importlib.reload(classifiers)\n",
    "hypergeometric_simple_clf = classifiers.threshold_classifier(hypergeometric, disgenet_labels_df, hypergeometric_test_indices, op_metric='fmeasure')\n",
    "hypergeometric_simple_clf.to_csv('../../models/threshold_classifier/disease/disease_hypergeometric_simple.csv', index=False)"
   ]
  },
  {
   "cell_type": "code",
   "execution_count": 20,
   "id": "e7a5343c",
   "metadata": {},
   "outputs": [
    {
     "data": {
      "application/vnd.jupyter.widget-view+json": {
       "model_id": "6720ed62125d4dfc88962ac2d408127c",
       "version_major": 2,
       "version_minor": 0
      },
      "text/plain": [
       "  0%|          | 0/203 [00:00<?, ?it/s]"
      ]
     },
     "metadata": {},
     "output_type": "display_data"
    }
   ],
   "source": [
    "importlib.reload(classifiers)\n",
    "closeness_simple_clf = classifiers.threshold_classifier(closeness, disgenet_labels_df, closeness_test_indices, op_metric='fmeasure')\n",
    "closeness_simple_clf.to_csv('../../models/threshold_classifier/disease/disease_closeness_simple.csv', index=False)"
   ]
  },
  {
   "cell_type": "code",
   "execution_count": 21,
   "id": "aba90a22",
   "metadata": {},
   "outputs": [
    {
     "data": {
      "application/vnd.jupyter.widget-view+json": {
       "model_id": "b8e49ce56aab474c833743cdc4a5032c",
       "version_major": 2,
       "version_minor": 0
      },
      "text/plain": [
       "  0%|          | 0/203 [00:00<?, ?it/s]"
      ]
     },
     "metadata": {},
     "output_type": "display_data"
    }
   ],
   "source": [
    "importlib.reload(classifiers)\n",
    "betweenness_simple_clf = classifiers.threshold_classifier(betweenness, disgenet_labels_df, betweenness_test_indices, op_metric='fmeasure')\n",
    "betweenness_simple_clf.to_csv('../../models/threshold_classifier/disease/disease_betweenness_simple.csv', index=False)"
   ]
  },
  {
   "cell_type": "code",
   "execution_count": 22,
   "id": "275101f4",
   "metadata": {},
   "outputs": [
    {
     "data": {
      "application/vnd.jupyter.widget-view+json": {
       "model_id": "2a2da9ca5fd64563bc2d24d6bd7ef2b3",
       "version_major": 2,
       "version_minor": 0
      },
      "text/plain": [
       "  0%|          | 0/203 [00:00<?, ?it/s]"
      ]
     },
     "metadata": {},
     "output_type": "display_data"
    }
   ],
   "source": [
    "importlib.reload(classifiers)\n",
    "fraction_betweenness_simple_clf = classifiers.threshold_classifier(fraction_betweenness, disgenet_labels_df, fraction_betweenness_test_indices, op_metric='fmeasure')\n",
    "fraction_betweenness_simple_clf.to_csv('../../models/threshold_classifier/disease/disease_fraction_betweenness_simple.csv', index=False)"
   ]
  },
  {
   "cell_type": "code",
   "execution_count": 23,
   "id": "ec60a58b",
   "metadata": {
    "scrolled": true
   },
   "outputs": [
    {
     "data": {
      "application/vnd.jupyter.widget-view+json": {
       "model_id": "518fb355485d45288ca23bd895e22930",
       "version_major": 2,
       "version_minor": 0
      },
      "text/plain": [
       "  0%|          | 0/203 [00:00<?, ?it/s]"
      ]
     },
     "metadata": {},
     "output_type": "display_data"
    }
   ],
   "source": [
    "importlib.reload(classifiers)\n",
    "rwr_simple_clf = classifiers.threshold_classifier(rwr, disgenet_labels_df, rwr_test_indices, op_metric='fmeasure')\n",
    "rwr_simple_clf.to_csv('../../models/threshold_classifier/disease/disease_rwr_simple.csv', index=False)"
   ]
  },
  {
   "cell_type": "markdown",
   "id": "2d0d8e3b",
   "metadata": {},
   "source": [
    "## 1.2 Classification with Conservative Module"
   ]
  },
  {
   "cell_type": "code",
   "execution_count": 15,
   "id": "0c0ee4dd",
   "metadata": {},
   "outputs": [
    {
     "data": {
      "application/vnd.jupyter.widget-view+json": {
       "model_id": "4253548ec7c84661a7781662fad14753",
       "version_major": 2,
       "version_minor": 0
      },
      "text/plain": [
       "  0%|          | 0/301 [00:00<?, ?it/s]"
      ]
     },
     "metadata": {},
     "output_type": "display_data"
    }
   ],
   "source": [
    "importlib.reload(classifiers)\n",
    "genepanda_simple_clf_conservative = classifiers.threshold_classifier(genepanda_conservative, disgenet_labels_conservative_df, genepanda_test_indices_conservative, op_metric='fmeasure')\n",
    "genepanda_simple_clf_conservative.to_csv('../../models/threshold_classifier/disease/disease_genepanda_simple_conservative.csv', index=False)"
   ]
  },
  {
   "cell_type": "code",
   "execution_count": 8,
   "id": "1526c5b5",
   "metadata": {},
   "outputs": [
    {
     "data": {
      "application/vnd.jupyter.widget-view+json": {
       "model_id": "831d0a5e57694c1caeb9f843b2723696",
       "version_major": 2,
       "version_minor": 0
      },
      "text/plain": [
       "  0%|          | 0/301 [00:00<?, ?it/s]"
      ]
     },
     "metadata": {},
     "output_type": "display_data"
    }
   ],
   "source": [
    "importlib.reload(classifiers)\n",
    "maxlink_simple_clf_conservative = classifiers.threshold_classifier(maxlink_conservative, disgenet_labels_conservative_df, maxlink_test_indices_conservative, op_metric='fmeasure')\n",
    "maxlink_simple_clf_conservative.to_csv('../../models/threshold_classifier/disease/disease_maxlink_simple_conservative.csv', index=False)"
   ]
  },
  {
   "cell_type": "code",
   "execution_count": 16,
   "id": "64e64bc7",
   "metadata": {},
   "outputs": [
    {
     "data": {
      "application/vnd.jupyter.widget-view+json": {
       "model_id": "cf4349f8afb94ccabad3d429f768523d",
       "version_major": 2,
       "version_minor": 0
      },
      "text/plain": [
       "  0%|          | 0/301 [00:00<?, ?it/s]"
      ]
     },
     "metadata": {},
     "output_type": "display_data"
    }
   ],
   "source": [
    "importlib.reload(classifiers)\n",
    "raw_simple_clf_conservative = classifiers.threshold_classifier(raw_conservative, disgenet_labels_conservative_df, raw_test_indices_conservative, op_metric='fmeasure')\n",
    "raw_simple_clf_conservative.to_csv('../../models/threshold_classifier/disease/disease_raw_simple_conservative.csv', index=False)"
   ]
  },
  {
   "cell_type": "code",
   "execution_count": 24,
   "id": "87f618e2",
   "metadata": {},
   "outputs": [
    {
     "data": {
      "application/vnd.jupyter.widget-view+json": {
       "model_id": "c7a1d3b3359449cea18267bee9cf8083",
       "version_major": 2,
       "version_minor": 0
      },
      "text/plain": [
       "  0%|          | 0/301 [00:00<?, ?it/s]"
      ]
     },
     "metadata": {},
     "output_type": "display_data"
    }
   ],
   "source": [
    "importlib.reload(classifiers)\n",
    "hypergeometric_simple_clf_conservative = classifiers.threshold_classifier(hypergeometric_conservative, disgenet_labels_conservative_df, hypergeometric_test_indices_conservative, op_metric='fmeasure')\n",
    "hypergeometric_simple_clf_conservative.to_csv('../../models/threshold_classifier/disease/disease_hypergeometric_simple_conservative.csv', index=False)"
   ]
  },
  {
   "cell_type": "code",
   "execution_count": 25,
   "id": "60cf2e89",
   "metadata": {},
   "outputs": [
    {
     "data": {
      "application/vnd.jupyter.widget-view+json": {
       "model_id": "5796e7d515f24746a7aebe09b4818485",
       "version_major": 2,
       "version_minor": 0
      },
      "text/plain": [
       "  0%|          | 0/301 [00:00<?, ?it/s]"
      ]
     },
     "metadata": {},
     "output_type": "display_data"
    }
   ],
   "source": [
    "importlib.reload(classifiers)\n",
    "closeness_simple_clf_conservative = classifiers.threshold_classifier(closeness_conservative, disgenet_labels_conservative_df, closeness_test_indices_conservative, op_metric='fmeasure')\n",
    "closeness_simple_clf_conservative.to_csv('../../models/threshold_classifier/disease/disease_closeness_simple_conservative.csv', index=False)"
   ]
  },
  {
   "cell_type": "code",
   "execution_count": 26,
   "id": "811d00f0",
   "metadata": {},
   "outputs": [
    {
     "data": {
      "application/vnd.jupyter.widget-view+json": {
       "model_id": "f96780f3f9914a6c9cc8cf24c7c8b5e6",
       "version_major": 2,
       "version_minor": 0
      },
      "text/plain": [
       "  0%|          | 0/301 [00:00<?, ?it/s]"
      ]
     },
     "metadata": {},
     "output_type": "display_data"
    }
   ],
   "source": [
    "importlib.reload(classifiers)\n",
    "betweenness_simple_clf_conservative = classifiers.threshold_classifier(betweenness_conservative, disgenet_labels_conservative_df, betweenness_test_indices_conservative, op_metric='fmeasure')\n",
    "betweenness_simple_clf_conservative.to_csv('../../models/threshold_classifier/disease/disease_betweenness_simple_conservative.csv', index=False)"
   ]
  },
  {
   "cell_type": "code",
   "execution_count": 27,
   "id": "8f39b3df",
   "metadata": {},
   "outputs": [
    {
     "data": {
      "application/vnd.jupyter.widget-view+json": {
       "model_id": "d13f29aaea184e4a816cdcd8af2efd92",
       "version_major": 2,
       "version_minor": 0
      },
      "text/plain": [
       "  0%|          | 0/301 [00:00<?, ?it/s]"
      ]
     },
     "metadata": {},
     "output_type": "display_data"
    }
   ],
   "source": [
    "importlib.reload(classifiers)\n",
    "fraction_betweenness_simple_clf_conservative = classifiers.threshold_classifier(fraction_betweenness_conservative, disgenet_labels_conservative_df, fraction_betweenness_test_indices_conservative, op_metric='fmeasure')\n",
    "fraction_betweenness_simple_clf_conservative.to_csv('../../models/threshold_classifier/disease/disease_fraction_betweenness_simple_conservative.csv', index=False)"
   ]
  },
  {
   "cell_type": "code",
   "execution_count": 28,
   "id": "1ec7d392",
   "metadata": {},
   "outputs": [
    {
     "data": {
      "application/vnd.jupyter.widget-view+json": {
       "model_id": "bcc47e578d0e417cb2e50a0410fd06b1",
       "version_major": 2,
       "version_minor": 0
      },
      "text/plain": [
       "  0%|          | 0/301 [00:00<?, ?it/s]"
      ]
     },
     "metadata": {},
     "output_type": "display_data"
    }
   ],
   "source": [
    "importlib.reload(classifiers)\n",
    "rwr_simple_clf_conservative = classifiers.threshold_classifier(rwr_conservative, disgenet_labels_conservative_df, rwr_test_indices_conservative, op_metric='fmeasure')\n",
    "rwr_simple_clf_conservative.to_csv('../../models/threshold_classifier/disease/disease_rwr_simple_conservative.csv', index=False)"
   ]
  },
  {
   "cell_type": "markdown",
   "id": "2a639543",
   "metadata": {},
   "source": [
    "# 2. Threshold Classifier - Reduced Networks"
   ]
  },
  {
   "cell_type": "markdown",
   "id": "01d1a156",
   "metadata": {},
   "source": [
    "## 2.1. PPI 80% Reduction"
   ]
  },
  {
   "cell_type": "markdown",
   "id": "4a7e845d",
   "metadata": {},
   "source": [
    "### 2.1.1. SCA Modules"
   ]
  },
  {
   "cell_type": "code",
   "execution_count": null,
   "id": "2f902934",
   "metadata": {},
   "outputs": [],
   "source": [
    "importlib.reload(classifiers)\n",
    "hyper80_simple_clf = classifiers.reduced_classifier_threshold(hypergeometric_80_test_index, label_list)\n",
    "hyper80_simple_clf.to_csv('../../models/threshold_classifier/disease/disease_hyper80_simple.csv', index=False)"
   ]
  },
  {
   "cell_type": "code",
   "execution_count": null,
   "id": "ca56cd17",
   "metadata": {
    "scrolled": true
   },
   "outputs": [],
   "source": [
    "importlib.reload(classifiers)\n",
    "rwr80_simple_clf = classifiers.reduced_classifier_threshold(ppi80_rwr_list, rwr_80_test_index, label_list)\n",
    "rwr80_simple_clf.to_csv('../../models/threshold_classifier/disease/disease_rwr80_simple.csv', index=False)"
   ]
  },
  {
   "cell_type": "code",
   "execution_count": null,
   "id": "a63fb31e",
   "metadata": {
    "scrolled": true
   },
   "outputs": [],
   "source": [
    "importlib.reload(classifiers)\n",
    "closeness80_simple_clf = classifiers.reduced_classifier_threshold(ppi80_closeness_list, closeness_80_test_index, label_list)\n",
    "closeness80_simple_clf.to_csv('../../models/threshold_classifier/disease/disease_closeness80_simple.csv', index=False)"
   ]
  },
  {
   "cell_type": "code",
   "execution_count": null,
   "id": "d66c31fb",
   "metadata": {
    "collapsed": true
   },
   "outputs": [],
   "source": [
    "importlib.reload(classifiers)\n",
    "betweenness80_simple_clf = classifiers.reduced_classifier_threshold(ppi80_betweenness_list, betweenness_80_test_index, label_list)\n",
    "betweenness80_simple_clf.to_csv('../../models/threshold_classifier/disease/disease_betweenness80_simple.csv', index=False)"
   ]
  },
  {
   "cell_type": "code",
   "execution_count": null,
   "id": "9ecef92d",
   "metadata": {
    "collapsed": true
   },
   "outputs": [],
   "source": [
    "importlib.reload(classifiers)\n",
    "fraction_betweenness80_simple_clf = classifiers.reduced_classifier_threshold(ppi80_fraction_betweenness_list, fraction_betweenness_80_test_index, label_list)\n",
    "fraction_betweenness80_simple_clf.to_csv('../../models/threshold_classifier/disease/disease_fraction_betweenness80_simple.csv', index=False)"
   ]
  },
  {
   "cell_type": "markdown",
   "id": "4819e01d",
   "metadata": {},
   "source": [
    "### 2.1.2. Conservative Modules"
   ]
  },
  {
   "cell_type": "code",
   "execution_count": null,
   "id": "2ef775dc",
   "metadata": {},
   "outputs": [],
   "source": [
    "importlib.reload(classifiers)\n",
    "hyper80_simple_clf_conservative = classifiers.reduced_classifier_threshold(ppi80_hyper_list_conservative, hypergeometric_80_test_index_conservative, label_list_conservative)\n",
    "hyper80_simple_clf_conservative.to_csv('../../models/threshold_classifier/disease/disease_hyper80_simple_conservative.csv', index=False)"
   ]
  },
  {
   "cell_type": "code",
   "execution_count": null,
   "id": "79076e6d",
   "metadata": {},
   "outputs": [],
   "source": [
    "importlib.reload(classifiers)\n",
    "rwr80_simple_clf_conservative = classifiers.reduced_classifier_threshold(ppi80_rwr_list_conservative, rwr_80_test_index_conservative, label_list_conservative)\n",
    "rwr80_simple_clf_conservative.to_csv('../../models/threshold_classifier/disease/disease_rwr80_simple_conservative.csv', index=False)"
   ]
  },
  {
   "cell_type": "code",
   "execution_count": null,
   "id": "8d6c4e47",
   "metadata": {},
   "outputs": [],
   "source": [
    "importlib.reload(classifiers)\n",
    "closeness80_simple_clf_conservative = classifiers.reduced_classifier_threshold(ppi80_closeness_list_conservative, closeness_80_test_index_conservative, label_list_conservative)\n",
    "closeness80_simple_clf_conservative.to_csv('../../models/threshold_classifier/disease/disease_closeness80_simple_conservative.csv', index=False)"
   ]
  },
  {
   "cell_type": "code",
   "execution_count": null,
   "id": "711cce07",
   "metadata": {},
   "outputs": [],
   "source": [
    "importlib.reload(classifiers)\n",
    "betweenness80_simple_clf_conservative = classifiers.reduced_classifier_threshold(ppi80_betweenness_list_conservative, betweenness_80_test_index_conservative, label_list_conservative)\n",
    "betweenness80_simple_clf_conservative.to_csv('../../models/threshold_classifier/disease/disease_betweenness80_simple_conservative.csv', index=False)"
   ]
  },
  {
   "cell_type": "code",
   "execution_count": null,
   "id": "affffc95",
   "metadata": {},
   "outputs": [],
   "source": [
    "importlib.reload(classifiers)\n",
    "fraction_betweenness80_simple_clf_conservative = classifiers.reduced_classifier_threshold(ppi80_fraction_betweenness_list_conservative, fraction_betweenness_80_test_index_conservative, label_list_conservative)\n",
    "fraction_betweenness80_simple_clf_conservative.to_csv('../../models/threshold_classifier/disease/disease_fraction_betweenness80_simple_conservative.csv', index=False)"
   ]
  },
  {
   "cell_type": "markdown",
   "id": "583526b0",
   "metadata": {},
   "source": [
    "## 2.2. Protein 80% Reduction"
   ]
  },
  {
   "cell_type": "markdown",
   "id": "dccecc14",
   "metadata": {},
   "source": [
    "### 2.2.1. SCA Modules"
   ]
  },
  {
   "cell_type": "code",
   "execution_count": 25,
   "id": "a7144d09",
   "metadata": {},
   "outputs": [
    {
     "data": {
      "application/vnd.jupyter.widget-view+json": {
       "model_id": "78b8bd6b73d64a089ff5b583b84422bf",
       "version_major": 2,
       "version_minor": 0
      },
      "text/plain": [
       "  0%|          | 0/10 [00:00<?, ?it/s]"
      ]
     },
     "metadata": {},
     "output_type": "display_data"
    },
    {
     "data": {
      "application/vnd.jupyter.widget-view+json": {
       "model_id": "0999ce8545374d89ad8967a6014cd32f",
       "version_major": 2,
       "version_minor": 0
      },
      "text/plain": [
       "  0%|          | 0/203 [00:00<?, ?it/s]"
      ]
     },
     "metadata": {},
     "output_type": "display_data"
    },
    {
     "data": {
      "application/vnd.jupyter.widget-view+json": {
       "model_id": "81a4efdbd0ea44b1af98235c47acf0dc",
       "version_major": 2,
       "version_minor": 0
      },
      "text/plain": [
       "  0%|          | 0/203 [00:00<?, ?it/s]"
      ]
     },
     "metadata": {},
     "output_type": "display_data"
    },
    {
     "data": {
      "application/vnd.jupyter.widget-view+json": {
       "model_id": "75b5414f788a48f5b5bd50979b6d7de3",
       "version_major": 2,
       "version_minor": 0
      },
      "text/plain": [
       "  0%|          | 0/203 [00:00<?, ?it/s]"
      ]
     },
     "metadata": {},
     "output_type": "display_data"
    },
    {
     "data": {
      "application/vnd.jupyter.widget-view+json": {
       "model_id": "59f4a4455d3445918b69e12f48b57e8e",
       "version_major": 2,
       "version_minor": 0
      },
      "text/plain": [
       "  0%|          | 0/203 [00:00<?, ?it/s]"
      ]
     },
     "metadata": {},
     "output_type": "display_data"
    },
    {
     "data": {
      "application/vnd.jupyter.widget-view+json": {
       "model_id": "6692e45020d84d2fa580873a15b7c0ce",
       "version_major": 2,
       "version_minor": 0
      },
      "text/plain": [
       "  0%|          | 0/203 [00:00<?, ?it/s]"
      ]
     },
     "metadata": {},
     "output_type": "display_data"
    },
    {
     "data": {
      "application/vnd.jupyter.widget-view+json": {
       "model_id": "e8e6e354e8184cbda6d7b7d9f975c4a4",
       "version_major": 2,
       "version_minor": 0
      },
      "text/plain": [
       "  0%|          | 0/203 [00:00<?, ?it/s]"
      ]
     },
     "metadata": {},
     "output_type": "display_data"
    },
    {
     "data": {
      "application/vnd.jupyter.widget-view+json": {
       "model_id": "936836c1e8cc44b4b2dc5ef6a897ea4d",
       "version_major": 2,
       "version_minor": 0
      },
      "text/plain": [
       "  0%|          | 0/203 [00:00<?, ?it/s]"
      ]
     },
     "metadata": {},
     "output_type": "display_data"
    },
    {
     "data": {
      "application/vnd.jupyter.widget-view+json": {
       "model_id": "85827b65de88450e88f21341edb6036d",
       "version_major": 2,
       "version_minor": 0
      },
      "text/plain": [
       "  0%|          | 0/203 [00:00<?, ?it/s]"
      ]
     },
     "metadata": {},
     "output_type": "display_data"
    },
    {
     "data": {
      "application/vnd.jupyter.widget-view+json": {
       "model_id": "7184736d95e8472db9e7373f984e9c17",
       "version_major": 2,
       "version_minor": 0
      },
      "text/plain": [
       "  0%|          | 0/203 [00:00<?, ?it/s]"
      ]
     },
     "metadata": {},
     "output_type": "display_data"
    },
    {
     "data": {
      "application/vnd.jupyter.widget-view+json": {
       "model_id": "fdb74c5c86884d59a7033849368b303b",
       "version_major": 2,
       "version_minor": 0
      },
      "text/plain": [
       "  0%|          | 0/203 [00:00<?, ?it/s]"
      ]
     },
     "metadata": {},
     "output_type": "display_data"
    }
   ],
   "source": [
    "importlib.reload(classifiers)\n",
    "raw_protein80_simple_clf = classifiers.reduced_classifier_threshold(protein80_raw_list, raw_protein80_test_index, protein_label_list)\n",
    "raw_protein80_simple_clf.to_csv('../../models/threshold_classifier/disease/disease_raw_protein80_simple.csv', index=False)"
   ]
  },
  {
   "cell_type": "code",
   "execution_count": null,
   "id": "d64bf79c",
   "metadata": {},
   "outputs": [],
   "source": [
    "importlib.reload(classifiers)\n",
    "hyper_protein80_simple_clf = classifiers.reduced_classifier_threshold(protein80_hyper_list, hypergeometric_protein80_test_index, label_list_protein80)\n",
    "hyper_protein80_simple_clf.to_csv('../../models/threshold_classifier/disease/disease_hyper_protein80_simple.csv', index=False)"
   ]
  },
  {
   "cell_type": "code",
   "execution_count": null,
   "id": "2b546b9d",
   "metadata": {
    "scrolled": true
   },
   "outputs": [],
   "source": [
    "importlib.reload(classifiers)\n",
    "rwr_protein80_simple_clf = classifiers.reduced_classifier_threshold(protein80_rwr_list, rwr_protein80_test_index, label_list_protein80)\n",
    "rwr_protein80_simple_clf.to_csv('../../models/threshold_classifier/disease/disease_rwr_protein80_simple.csv', index=False)"
   ]
  },
  {
   "cell_type": "code",
   "execution_count": null,
   "id": "260298ef",
   "metadata": {
    "scrolled": true
   },
   "outputs": [],
   "source": [
    "importlib.reload(classifiers)\n",
    "closeness_protein80_simple_clf = classifiers.reduced_classifier_threshold(protein80_closeness_list, closeness_protein80_test_index, label_list_protein80)\n",
    "closeness_protein80_simple_clf.to_csv('../../models/threshold_classifier/disease/disease_closeness_protein80_simple.csv', index=False)"
   ]
  },
  {
   "cell_type": "code",
   "execution_count": null,
   "id": "16dbab7c",
   "metadata": {},
   "outputs": [],
   "source": [
    "importlib.reload(classifiers)\n",
    "betweenness_protein80_simple_clf = classifiers.reduced_classifier_threshold(protein80_betweenness_list, betweenness_protein80_test_index, label_list_protein80)\n",
    "betweenness_protein80_simple_clf.to_csv('../../models/threshold_classifier/disease/disease_betweenness_protein80_simple.csv', index=False)"
   ]
  },
  {
   "cell_type": "code",
   "execution_count": null,
   "id": "db7ceb23",
   "metadata": {},
   "outputs": [],
   "source": [
    "importlib.reload(classifiers)\n",
    "fraction_betweenness_protein80_simple_clf = classifiers.reduced_classifier_threshold(protein80_fraction_betweenness_list, fraction_betweenness_protein80_test_index, label_list_protein80)\n",
    "fraction_betweenness_protein80_simple_clf.to_csv('../../models/threshold_classifier/disease/disease_fraction_betweenness_protein80_simple.csv', index=False)"
   ]
  },
  {
   "cell_type": "markdown",
   "id": "57d08061",
   "metadata": {},
   "source": [
    "### 2.2.2. Conservative Modules"
   ]
  },
  {
   "cell_type": "code",
   "execution_count": 26,
   "id": "047a887f",
   "metadata": {},
   "outputs": [
    {
     "data": {
      "application/vnd.jupyter.widget-view+json": {
       "model_id": "9de945b5abc841e59d95e560ef291cd9",
       "version_major": 2,
       "version_minor": 0
      },
      "text/plain": [
       "  0%|          | 0/10 [00:00<?, ?it/s]"
      ]
     },
     "metadata": {},
     "output_type": "display_data"
    },
    {
     "data": {
      "application/vnd.jupyter.widget-view+json": {
       "model_id": "876dd07e193044b18c6222516c9c18cd",
       "version_major": 2,
       "version_minor": 0
      },
      "text/plain": [
       "  0%|          | 0/301 [00:00<?, ?it/s]"
      ]
     },
     "metadata": {},
     "output_type": "display_data"
    },
    {
     "data": {
      "application/vnd.jupyter.widget-view+json": {
       "model_id": "a95c0bb7aa084e05a45c02b844f3ce04",
       "version_major": 2,
       "version_minor": 0
      },
      "text/plain": [
       "  0%|          | 0/301 [00:00<?, ?it/s]"
      ]
     },
     "metadata": {},
     "output_type": "display_data"
    },
    {
     "data": {
      "application/vnd.jupyter.widget-view+json": {
       "model_id": "4e4888579424443c9ff0f74af95ed7c3",
       "version_major": 2,
       "version_minor": 0
      },
      "text/plain": [
       "  0%|          | 0/301 [00:00<?, ?it/s]"
      ]
     },
     "metadata": {},
     "output_type": "display_data"
    },
    {
     "data": {
      "application/vnd.jupyter.widget-view+json": {
       "model_id": "81abc2b5d91a410abf39bc574f908729",
       "version_major": 2,
       "version_minor": 0
      },
      "text/plain": [
       "  0%|          | 0/301 [00:00<?, ?it/s]"
      ]
     },
     "metadata": {},
     "output_type": "display_data"
    },
    {
     "data": {
      "application/vnd.jupyter.widget-view+json": {
       "model_id": "135995092ac64b2cae8b57fdde6c8d3e",
       "version_major": 2,
       "version_minor": 0
      },
      "text/plain": [
       "  0%|          | 0/301 [00:00<?, ?it/s]"
      ]
     },
     "metadata": {},
     "output_type": "display_data"
    },
    {
     "data": {
      "application/vnd.jupyter.widget-view+json": {
       "model_id": "18056b8f99c14ec3b2bf4e62c141c77c",
       "version_major": 2,
       "version_minor": 0
      },
      "text/plain": [
       "  0%|          | 0/301 [00:00<?, ?it/s]"
      ]
     },
     "metadata": {},
     "output_type": "display_data"
    },
    {
     "data": {
      "application/vnd.jupyter.widget-view+json": {
       "model_id": "24fb832e68f7437fb460a8e6472289ba",
       "version_major": 2,
       "version_minor": 0
      },
      "text/plain": [
       "  0%|          | 0/301 [00:00<?, ?it/s]"
      ]
     },
     "metadata": {},
     "output_type": "display_data"
    },
    {
     "data": {
      "application/vnd.jupyter.widget-view+json": {
       "model_id": "ce0f36b9c5ed418c998bbb4575797a30",
       "version_major": 2,
       "version_minor": 0
      },
      "text/plain": [
       "  0%|          | 0/301 [00:00<?, ?it/s]"
      ]
     },
     "metadata": {},
     "output_type": "display_data"
    },
    {
     "data": {
      "application/vnd.jupyter.widget-view+json": {
       "model_id": "1ab9e288a57645b29da1a78bf8fd026f",
       "version_major": 2,
       "version_minor": 0
      },
      "text/plain": [
       "  0%|          | 0/301 [00:00<?, ?it/s]"
      ]
     },
     "metadata": {},
     "output_type": "display_data"
    },
    {
     "data": {
      "application/vnd.jupyter.widget-view+json": {
       "model_id": "2d320b16b9204eda84be18cf81ac5aac",
       "version_major": 2,
       "version_minor": 0
      },
      "text/plain": [
       "  0%|          | 0/301 [00:00<?, ?it/s]"
      ]
     },
     "metadata": {},
     "output_type": "display_data"
    }
   ],
   "source": [
    "importlib.reload(classifiers)\n",
    "raw_protein80_simple_clf_conservative = classifiers.reduced_classifier_threshold(protein80_raw_list_conservative, raw_protein80_test_index_conservative, protein_label_list_conservative)\n",
    "raw_protein80_simple_clf_conservative.to_csv('../../models/threshold_classifier/disease/disease_raw_protein80_simple_conservative.csv', index=False)"
   ]
  },
  {
   "cell_type": "code",
   "execution_count": null,
   "id": "9941ec71",
   "metadata": {},
   "outputs": [],
   "source": [
    "importlib.reload(classifiers)\n",
    "hyper_protein80_simple_clf_conservative = classifiers.reduced_classifier_threshold(protein80_hyper_list_conservative, hypergeometric_protein80_test_index_conservative, label_list_protein80_conservative)\n",
    "hyper_protein80_simple_clf_conservative.to_csv('../../models/threshold_classifier/disease/disease_hyper_protein80_simple_conservative.csv', index=False)"
   ]
  },
  {
   "cell_type": "code",
   "execution_count": null,
   "id": "201f902b",
   "metadata": {},
   "outputs": [],
   "source": [
    "importlib.reload(classifiers)\n",
    "rwr_protein80_simple_clf_conservative = classifiers.reduced_classifier_threshold(protein80_rwr_list_conservative, rwr_protein80_test_index_conservative, label_list_protein80_conservative)\n",
    "rwr_protein80_simple_clf_conservative.to_csv('../../models/threshold_classifier/disease/disease_rwr_protein80_simple_conservative.csv', index=False)"
   ]
  },
  {
   "cell_type": "code",
   "execution_count": null,
   "id": "cdae5494",
   "metadata": {},
   "outputs": [],
   "source": [
    "importlib.reload(classifiers)\n",
    "closeness_protein80_simple_clf_conservative = classifiers.reduced_classifier_threshold(protein80_closeness_list_conservative, closeness_protein80_test_index_conservative, label_list_protein80_conservative)\n",
    "closeness_protein80_simple_clf_conservative.to_csv('../../models/threshold_classifier/disease/disease_closeness_protein80_simple_conservative.csv', index=False)"
   ]
  },
  {
   "cell_type": "code",
   "execution_count": null,
   "id": "83cfd9e5",
   "metadata": {},
   "outputs": [],
   "source": [
    "importlib.reload(classifiers)\n",
    "betweenness_protein80_simple_clf_conservative = classifiers.reduced_classifier_threshold(protein80_betweenness_list_conservative, betweenness_protein80_test_index_conservative, label_list_protein80_conservative)\n",
    "betweenness_protein80_simple_clf_conservative.to_csv('../../models/threshold_classifier/disease/disease_betweenness_protein80_simple_conservative.csv', index=False)"
   ]
  },
  {
   "cell_type": "code",
   "execution_count": null,
   "id": "8f43b098",
   "metadata": {},
   "outputs": [],
   "source": [
    "importlib.reload(classifiers)\n",
    "fraction_betweenness_protein80_simple_clf_conservative = classifiers.reduced_classifier_threshold(protein80_fraction_betweenness_list_conservative, fraction_betweenness_protein80_test_index_conservative, label_list_protein80_conservative)\n",
    "fraction_betweenness_protein80_simple_clf_conservative.to_csv('../../models/threshold_classifier/disease/disease_fraction_betweenness_protein80_simple_conservative.csv', index=False)"
   ]
  }
 ],
 "metadata": {
  "interpreter": {
   "hash": "42555cd0c5f1594a81e40866f5733b2cbf65026c937bf0149d49f47f234897c3"
  },
  "kernelspec": {
   "display_name": "Python 3.8.8 ('base')",
   "language": "python",
   "name": "python3"
  },
  "language_info": {
   "codemirror_mode": {
    "name": "ipython",
    "version": 3
   },
   "file_extension": ".py",
   "mimetype": "text/x-python",
   "name": "python",
   "nbconvert_exporter": "python",
   "pygments_lexer": "ipython3",
   "version": "3.8.8"
  }
 },
 "nbformat": 4,
 "nbformat_minor": 5
}
