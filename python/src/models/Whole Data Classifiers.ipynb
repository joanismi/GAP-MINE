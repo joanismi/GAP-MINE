{
 "cells": [
  {
   "attachments": {},
   "cell_type": "markdown",
   "metadata": {},
   "source": [
    "# 0. Imports"
   ]
  },
  {
   "cell_type": "code",
   "execution_count": 1,
   "metadata": {},
   "outputs": [],
   "source": [
    "import pandas as pd\n",
    "import numpy as np\n",
    "from sklearn.linear_model import LogisticRegression\n",
    "import classifiers\n",
    "import importlib\n",
    "import json\n",
    "import warnings\n",
    "import pickle\n",
    "warnings.filterwarnings(\"ignore\")"
   ]
  },
  {
   "attachments": {},
   "cell_type": "markdown",
   "metadata": {},
   "source": [
    "# 1. Data Load"
   ]
  },
  {
   "attachments": {},
   "cell_type": "markdown",
   "metadata": {},
   "source": [
    "#### 1.1. Process Load"
   ]
  },
  {
   "cell_type": "code",
   "execution_count": 3,
   "metadata": {},
   "outputs": [],
   "source": [
    "reactome_labels_df = pd.read_csv('../../data/processed/reactome_labels_apid_huri.csv', header=None)\n",
    "reactome_labels = reactome_labels_df.transpose().to_numpy(dtype='int')\n",
    "reactome_labels_df.columns=pd.read_csv(\"../../data/processed/metrics/process_hypergeometric_apid_huri.csv\", sep=',', header=0, index_col=0).columns\n",
    "reactome_labels_df.index=pd.read_csv(\"../../data/processed/metrics/process_hypergeometric_apid_huri.csv\", sep=',', header=0, index_col=0).index"
   ]
  },
  {
   "cell_type": "code",
   "execution_count": 4,
   "metadata": {},
   "outputs": [],
   "source": [
    "reactome_rwr = np.array(pd.read_csv(\"../../data/processed/metrics/process_rwr_apid_huri.csv\", sep=',', header=0, index_col=0).transpose())"
   ]
  },
  {
   "cell_type": "code",
   "execution_count": 5,
   "metadata": {},
   "outputs": [],
   "source": [
    "reactome_rwr_models = []\n",
    "with open(\"../../models/apid_huri_multiple_fs/process/models/rwr_models.pckl\", \"rb\") as f:\n",
    "    while True:\n",
    "        try:\n",
    "            reactome_rwr_models.append(pickle.load(f))\n",
    "        except EOFError:\n",
    "            break"
   ]
  },
  {
   "cell_type": "code",
   "execution_count": 6,
   "metadata": {},
   "outputs": [],
   "source": [
    "reactome_rwr_fs = pd.read_csv(\"../../data/processed/fs/reactome_rwr_fs_apid_huri.csv\", sep=',', header=0)"
   ]
  },
  {
   "cell_type": "code",
   "execution_count": 7,
   "metadata": {},
   "outputs": [],
   "source": [
    "reactome_n_rwr = list(pd.read_csv('../../models/apid_huri_multiple_fs/process/n_fs/rwr.txt', header=None)[0].values)"
   ]
  },
  {
   "cell_type": "code",
   "execution_count": 8,
   "metadata": {},
   "outputs": [],
   "source": [
    "reactome_rwr_threshold = pd.read_csv('../../models/apid_huri_multiple_fs/process/probability/rwr_lgr_proba.csv')['threshold'].values"
   ]
  },
  {
   "attachments": {},
   "cell_type": "markdown",
   "metadata": {},
   "source": [
    "#### 1.2. Disease SCA"
   ]
  },
  {
   "cell_type": "code",
   "execution_count": null,
   "metadata": {},
   "outputs": [],
   "source": [
    "disgenet_labels_df = pd.read_csv(\"../../data/processed/disgenet_filtered_labels_apid_huri.csv\", sep=',', names=hypergeometric_df.columns)\n",
    "disgenet_labels_df['protein_id'] = hypergeometric_df.index\n",
    "disgenet_labels_df.set_index('protein_id', inplace=True)"
   ]
  },
  {
   "cell_type": "code",
   "execution_count": null,
   "metadata": {},
   "outputs": [],
   "source": [
    "disease_rwr = np.array(pd.read_csv(\"../../data/processed/metrics/disease_rwr_apid_huri.csv\", sep=',', header=0, index_col=0).transpose())"
   ]
  },
  {
   "cell_type": "code",
   "execution_count": null,
   "metadata": {},
   "outputs": [],
   "source": [
    "disease_rwr_models = []\n",
    "with open(\"../../models/apid_huri_multiple_fs/disease/models/rwr.pckl\", \"rb\") as f:\n",
    "    while True:\n",
    "        try:\n",
    "            disease_rwr_models.append(pickle.load(f))\n",
    "        except EOFError:\n",
    "            break"
   ]
  },
  {
   "cell_type": "code",
   "execution_count": null,
   "metadata": {},
   "outputs": [],
   "source": [
    "disease_rwr_fs = pd.read_csv(\"../../data/processed/fs/disease/disease_rwr_fs_apid_huri.csv\", sep=',', header=0)"
   ]
  },
  {
   "cell_type": "code",
   "execution_count": null,
   "metadata": {},
   "outputs": [],
   "source": [
    "disease_n_rwr = list(pd.read_csv('../../models/apid_huri_multiple_fs/disease/n_fs/disease_rwr.txt', header=None)[0].values)"
   ]
  },
  {
   "cell_type": "code",
   "execution_count": null,
   "metadata": {},
   "outputs": [],
   "source": [
    "disease_rwr_threshold = pd.read_csv('../../models/apid_huri_multiple_fs/disease/probability/disease_rwr_lgr_proba.csv')['threshold'].values"
   ]
  },
  {
   "attachments": {},
   "cell_type": "markdown",
   "metadata": {},
   "source": [
    "#### 1.3. Disease Conservative"
   ]
  },
  {
   "cell_type": "code",
   "execution_count": null,
   "metadata": {},
   "outputs": [],
   "source": [
    "disgenet_labels_conservative_df = pd.read_csv('../../data/processed/disgenet_conservative_labels_apid_huri.csv', names=hypergeometric_conservative_df.columns)\n",
    "disgenet_labels_conservative_df['protein_id'] = hypergeometric_conservative_df.index\n",
    "disgenet_labels_conservative_df.set_index('protein_id', inplace=True)"
   ]
  },
  {
   "cell_type": "code",
   "execution_count": null,
   "metadata": {},
   "outputs": [],
   "source": [
    "disease_rwr_conservative = np.array(pd.read_csv(\"../../data/processed/metrics/disease_rwr_conservative_apid_huri.csv\", sep=',', header=0, index_col=0).transpose())"
   ]
  },
  {
   "cell_type": "code",
   "execution_count": null,
   "metadata": {},
   "outputs": [],
   "source": [
    "disease_conservative_rwr_models = []\n",
    "with open(\"../../models/apid_huri_multiple_fs/disease/models/rwr_conservative.pckl\", \"rb\") as f:\n",
    "    while True:\n",
    "        try:\n",
    "            disease_conservative_rwr_models.append(pickle.load(f))\n",
    "        except EOFError:\n",
    "            break"
   ]
  },
  {
   "cell_type": "code",
   "execution_count": null,
   "metadata": {},
   "outputs": [],
   "source": [
    "disease_conservative_rwr_fs = pd.read_csv(\"../../data/processed/fs/disease/disease_rwr_fs_conservative_apid_huri.csv\", sep=',', header=0)"
   ]
  },
  {
   "cell_type": "code",
   "execution_count": null,
   "metadata": {},
   "outputs": [],
   "source": [
    "disease_conservative_n_rwr = list(pd.read_csv('../../models/apid_huri_multiple_fs/disease/n_fs/disease_rwr_conservative.txt', header=None)[0].values)"
   ]
  },
  {
   "cell_type": "code",
   "execution_count": null,
   "metadata": {},
   "outputs": [],
   "source": [
    "disease_conservative_rwr_threshold = pd.read_csv('../../models/apid_huri_multiple_fs/disease/probability/disease_rwr_lgr_proba_conservative.csv')['threshold'].values"
   ]
  },
  {
   "attachments": {},
   "cell_type": "markdown",
   "metadata": {},
   "source": [
    "# 2. Classification Models"
   ]
  },
  {
   "cell_type": "code",
   "execution_count": 9,
   "metadata": {},
   "outputs": [
    {
     "data": {
      "application/vnd.jupyter.widget-view+json": {
       "model_id": "60f571f73af84803a9c0a5699cdaa51c",
       "version_major": 2,
       "version_minor": 0
      },
      "text/plain": [
       "  0%|          | 0/429 [00:00<?, ?it/s]"
      ]
     },
     "metadata": {},
     "output_type": "display_data"
    }
   ],
   "source": [
    "importlib.reload(classifiers)\n",
    "rwr_whole_clf = classifiers.whole_clf(reactome_rwr, reactome_labels_df, reactome_rwr_models, reactome_rwr_fs, reactome_n_rwr, reactome_rwr_threshold)\n",
    "rwr_whole_clf.to_csv('../../models/GAP-MINE/process/probability/rwr_whole.csv', index=False)"
   ]
  },
  {
   "cell_type": "code",
   "execution_count": null,
   "metadata": {},
   "outputs": [],
   "source": [
    "importlib.reload(classifiers)\n",
    "disease_rwr_whole_clf = classifiers.whole_clf(disease_rwr, disgenet_labels_df, disease_rwr_models, disease_rwr_fs, disease_n_rwr, disease_rwr_threshold)\n",
    "disease_rwr_whole_clf.to_csv('../../models/GAP-MINE/disease/probability/rwr_whole.csv', index=False)"
   ]
  },
  {
   "cell_type": "code",
   "execution_count": null,
   "metadata": {},
   "outputs": [],
   "source": [
    "importlib.reload(classifiers)\n",
    "disease_conservative_rwr_whole_clf = classifiers.whole_clf(disease_rwr_conservative, disgenet_labels_conservative_df, disease_conservative_rwr_models, disease_conservative_rwr_fs, disease_conservative_n_rwr, disease_conservative_rwr_threshold)\n",
    "disease_conservative_rwr_whole_clf.to_csv('../../models/GAP-MINE/disease/probability/rwr_conservative_whole.csv', index=False)"
   ]
  }
 ],
 "metadata": {
  "interpreter": {
   "hash": "42555cd0c5f1594a81e40866f5733b2cbf65026c937bf0149d49f47f234897c3"
  },
  "kernelspec": {
   "display_name": "Python 3 (ipykernel)",
   "language": "python",
   "name": "python3"
  },
  "language_info": {
   "codemirror_mode": {
    "name": "ipython",
    "version": 3
   },
   "file_extension": ".py",
   "mimetype": "text/x-python",
   "name": "python",
   "nbconvert_exporter": "python",
   "pygments_lexer": "ipython3",
   "version": "3.8.8"
  }
 },
 "nbformat": 4,
 "nbformat_minor": 2
}
