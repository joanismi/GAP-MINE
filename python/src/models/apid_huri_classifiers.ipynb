{
 "cells": [
  {
   "attachments": {},
   "cell_type": "markdown",
   "id": "e16730ee",
   "metadata": {},
   "source": [
    "# 0. Imports"
   ]
  },
  {
   "cell_type": "code",
   "execution_count": 1,
   "id": "ebce7fbd",
   "metadata": {},
   "outputs": [],
   "source": [
    "import pandas as pd\n",
    "import numpy as np\n",
    "from sklearn.linear_model import LogisticRegression\n",
    "from tqdm.notebook import tqdm\n",
    "import classifiers\n",
    "import importlib\n",
    "import pickle"
   ]
  },
  {
   "attachments": {},
   "cell_type": "markdown",
   "id": "88438d25",
   "metadata": {},
   "source": [
    "# 1. Data Load"
   ]
  },
  {
   "cell_type": "code",
   "execution_count": 15,
   "id": "6aab1581",
   "metadata": {},
   "outputs": [
    {
     "name": "stdout",
     "output_type": "stream",
     "text": [
      "(17089, 426)\n"
     ]
    },
    {
     "data": {
      "text/plain": [
       "array([[1.62865015e-04, 1.43420032e-04, 1.43420032e-04, ...,\n",
       "        1.82655022e-04, 1.65701943e-04, 1.65701943e-04],\n",
       "       [1.00566462e-04, 5.35673183e-05, 5.35673183e-05, ...,\n",
       "        9.61235563e-05, 1.29070399e-04, 1.29070399e-04],\n",
       "       [1.78111514e-05, 1.48345008e-05, 1.48345008e-05, ...,\n",
       "        1.76992570e-05, 2.03986618e-05, 2.03986618e-05],\n",
       "       ...,\n",
       "       [9.17502364e-07, 1.08097815e-06, 1.08097815e-06, ...,\n",
       "        1.03499977e-06, 1.04754001e-06, 1.04754001e-06],\n",
       "       [9.27519950e-07, 1.44721395e-06, 1.44721395e-06, ...,\n",
       "        1.73030818e-06, 1.07996238e-06, 1.07996238e-06],\n",
       "       [9.17502364e-07, 1.08097815e-06, 1.08097815e-06, ...,\n",
       "        1.03499977e-06, 1.04754001e-06, 1.04754001e-06]])"
      ]
     },
     "execution_count": 15,
     "metadata": {},
     "output_type": "execute_result"
    }
   ],
   "source": [
    "reactome = np.array(pd.read_csv(\"../../data/processed/metrics/reactome_metrics_apid_huri.csv\", sep=',', header=0, index_col=0))\n",
    "print(reactome.shape)\n",
    "reactome"
   ]
  },
  {
   "cell_type": "code",
   "execution_count": 16,
   "id": "b219c68f",
   "metadata": {},
   "outputs": [
    {
     "name": "stdout",
     "output_type": "stream",
     "text": [
      "(17089, 426)\n"
     ]
    },
    {
     "data": {
      "text/html": [
       "<div>\n",
       "<style scoped>\n",
       "    .dataframe tbody tr th:only-of-type {\n",
       "        vertical-align: middle;\n",
       "    }\n",
       "\n",
       "    .dataframe tbody tr th {\n",
       "        vertical-align: top;\n",
       "    }\n",
       "\n",
       "    .dataframe thead th {\n",
       "        text-align: right;\n",
       "    }\n",
       "</style>\n",
       "<table border=\"1\" class=\"dataframe\">\n",
       "  <thead>\n",
       "    <tr style=\"text-align: right;\">\n",
       "      <th></th>\n",
       "      <th>R-HSA-1031716</th>\n",
       "      <th>R-HSA-112379</th>\n",
       "      <th>R-HSA-112385</th>\n",
       "      <th>R-HSA-1168640</th>\n",
       "      <th>R-HSA-1214188</th>\n",
       "      <th>R-HSA-1234159</th>\n",
       "      <th>R-HSA-141409</th>\n",
       "      <th>R-HSA-141422</th>\n",
       "      <th>R-HSA-141431</th>\n",
       "      <th>R-HSA-141439</th>\n",
       "      <th>...</th>\n",
       "      <th>R-HSA-9670149</th>\n",
       "      <th>R-HSA-9698928</th>\n",
       "      <th>R-HSA-9710490</th>\n",
       "      <th>R-HSA-977224</th>\n",
       "      <th>R-HSA-983140</th>\n",
       "      <th>R-HSA-983147</th>\n",
       "      <th>R-HSA-983156</th>\n",
       "      <th>R-HSA-983157</th>\n",
       "      <th>R-HSA-983259</th>\n",
       "      <th>R-HSA-983266</th>\n",
       "    </tr>\n",
       "  </thead>\n",
       "  <tbody>\n",
       "    <tr>\n",
       "      <th>SCRIB</th>\n",
       "      <td>0.0</td>\n",
       "      <td>0.0</td>\n",
       "      <td>0.0</td>\n",
       "      <td>0.0</td>\n",
       "      <td>0.0</td>\n",
       "      <td>0.0</td>\n",
       "      <td>0.0</td>\n",
       "      <td>0.0</td>\n",
       "      <td>0.0</td>\n",
       "      <td>0.0</td>\n",
       "      <td>...</td>\n",
       "      <td>0.0</td>\n",
       "      <td>0.0</td>\n",
       "      <td>0.0</td>\n",
       "      <td>0.0</td>\n",
       "      <td>0.0</td>\n",
       "      <td>0.0</td>\n",
       "      <td>0.0</td>\n",
       "      <td>0.0</td>\n",
       "      <td>0.0</td>\n",
       "      <td>0.0</td>\n",
       "    </tr>\n",
       "    <tr>\n",
       "      <th>ARHGEF7</th>\n",
       "      <td>0.0</td>\n",
       "      <td>0.0</td>\n",
       "      <td>0.0</td>\n",
       "      <td>0.0</td>\n",
       "      <td>0.0</td>\n",
       "      <td>0.0</td>\n",
       "      <td>0.0</td>\n",
       "      <td>0.0</td>\n",
       "      <td>0.0</td>\n",
       "      <td>0.0</td>\n",
       "      <td>...</td>\n",
       "      <td>0.0</td>\n",
       "      <td>0.0</td>\n",
       "      <td>0.0</td>\n",
       "      <td>0.0</td>\n",
       "      <td>0.0</td>\n",
       "      <td>0.0</td>\n",
       "      <td>0.0</td>\n",
       "      <td>0.0</td>\n",
       "      <td>0.0</td>\n",
       "      <td>0.0</td>\n",
       "    </tr>\n",
       "  </tbody>\n",
       "</table>\n",
       "<p>2 rows × 426 columns</p>\n",
       "</div>"
      ],
      "text/plain": [
       "         R-HSA-1031716  R-HSA-112379  R-HSA-112385  R-HSA-1168640  \\\n",
       "SCRIB              0.0           0.0           0.0            0.0   \n",
       "ARHGEF7            0.0           0.0           0.0            0.0   \n",
       "\n",
       "         R-HSA-1214188  R-HSA-1234159  R-HSA-141409  R-HSA-141422  \\\n",
       "SCRIB              0.0            0.0           0.0           0.0   \n",
       "ARHGEF7            0.0            0.0           0.0           0.0   \n",
       "\n",
       "         R-HSA-141431  R-HSA-141439  ...  R-HSA-9670149  R-HSA-9698928  \\\n",
       "SCRIB             0.0           0.0  ...            0.0            0.0   \n",
       "ARHGEF7           0.0           0.0  ...            0.0            0.0   \n",
       "\n",
       "         R-HSA-9710490  R-HSA-977224  R-HSA-983140  R-HSA-983147  \\\n",
       "SCRIB              0.0           0.0           0.0           0.0   \n",
       "ARHGEF7            0.0           0.0           0.0           0.0   \n",
       "\n",
       "         R-HSA-983156  R-HSA-983157  R-HSA-983259  R-HSA-983266  \n",
       "SCRIB             0.0           0.0           0.0           0.0  \n",
       "ARHGEF7           0.0           0.0           0.0           0.0  \n",
       "\n",
       "[2 rows x 426 columns]"
      ]
     },
     "execution_count": 16,
     "metadata": {},
     "output_type": "execute_result"
    }
   ],
   "source": [
    "reactome_labels = pd.read_csv('../../data/processed/reactome_labels_apid_huri.csv', header = None)\n",
    "reactome_labels.index= pd.read_csv(\"../../data/processed/metrics/reactome_metrics_apid_huri.csv\", header=0, index_col=0).index\n",
    "reactome_labels.columns= pd.read_csv(\"../../data/processed/metrics/reactome_metrics_apid_huri.csv\", header=0, index_col=0).columns\n",
    "print(reactome_labels.shape)\n",
    "reactome_labels.head(2)"
   ]
  },
  {
   "cell_type": "code",
   "execution_count": 4,
   "id": "5d908579",
   "metadata": {},
   "outputs": [
    {
     "name": "stdout",
     "output_type": "stream",
     "text": [
      "(426, 299)\n"
     ]
    },
    {
     "data": {
      "text/html": [
       "<div>\n",
       "<style scoped>\n",
       "    .dataframe tbody tr th:only-of-type {\n",
       "        vertical-align: middle;\n",
       "    }\n",
       "\n",
       "    .dataframe tbody tr th {\n",
       "        vertical-align: top;\n",
       "    }\n",
       "\n",
       "    .dataframe thead th {\n",
       "        text-align: right;\n",
       "    }\n",
       "</style>\n",
       "<table border=\"1\" class=\"dataframe\">\n",
       "  <thead>\n",
       "    <tr style=\"text-align: right;\">\n",
       "      <th></th>\n",
       "      <th>result.1</th>\n",
       "      <th>result.2</th>\n",
       "      <th>result.3</th>\n",
       "      <th>result.4</th>\n",
       "      <th>result.5</th>\n",
       "      <th>result.6</th>\n",
       "      <th>result.7</th>\n",
       "      <th>result.8</th>\n",
       "      <th>result.9</th>\n",
       "      <th>result.10</th>\n",
       "      <th>...</th>\n",
       "      <th>result.414</th>\n",
       "      <th>result.415</th>\n",
       "      <th>result.417</th>\n",
       "      <th>result.419</th>\n",
       "      <th>result.421</th>\n",
       "      <th>result.422</th>\n",
       "      <th>result.423</th>\n",
       "      <th>result.424</th>\n",
       "      <th>result.425</th>\n",
       "      <th>result.426</th>\n",
       "    </tr>\n",
       "  </thead>\n",
       "  <tbody>\n",
       "    <tr>\n",
       "      <th>0</th>\n",
       "      <td>18.424554</td>\n",
       "      <td>0.125218</td>\n",
       "      <td>0.114776</td>\n",
       "      <td>0.165712</td>\n",
       "      <td>0.028801</td>\n",
       "      <td>0.229715</td>\n",
       "      <td>0.163529</td>\n",
       "      <td>0.128769</td>\n",
       "      <td>0.130604</td>\n",
       "      <td>0.102407</td>\n",
       "      <td>...</td>\n",
       "      <td>0.075334</td>\n",
       "      <td>0.012056</td>\n",
       "      <td>0.013855</td>\n",
       "      <td>0.029297</td>\n",
       "      <td>0.985202</td>\n",
       "      <td>0.709918</td>\n",
       "      <td>1.059249</td>\n",
       "      <td>0.975577</td>\n",
       "      <td>0.177692</td>\n",
       "      <td>0.220787</td>\n",
       "    </tr>\n",
       "    <tr>\n",
       "      <th>1</th>\n",
       "      <td>0.133560</td>\n",
       "      <td>7.985435</td>\n",
       "      <td>8.777931</td>\n",
       "      <td>0.057642</td>\n",
       "      <td>0.054015</td>\n",
       "      <td>0.135188</td>\n",
       "      <td>0.062448</td>\n",
       "      <td>0.084157</td>\n",
       "      <td>0.044868</td>\n",
       "      <td>0.133419</td>\n",
       "      <td>...</td>\n",
       "      <td>0.001542</td>\n",
       "      <td>0.104665</td>\n",
       "      <td>0.822205</td>\n",
       "      <td>0.070612</td>\n",
       "      <td>0.544571</td>\n",
       "      <td>0.426107</td>\n",
       "      <td>0.471597</td>\n",
       "      <td>0.407100</td>\n",
       "      <td>0.020350</td>\n",
       "      <td>0.049993</td>\n",
       "    </tr>\n",
       "  </tbody>\n",
       "</table>\n",
       "<p>2 rows × 299 columns</p>\n",
       "</div>"
      ],
      "text/plain": [
       "    result.1  result.2  result.3  result.4  result.5  result.6  result.7  \\\n",
       "0  18.424554  0.125218  0.114776  0.165712  0.028801  0.229715  0.163529   \n",
       "1   0.133560  7.985435  8.777931  0.057642  0.054015  0.135188  0.062448   \n",
       "\n",
       "   result.8  result.9  result.10  ...  result.414  result.415  result.417  \\\n",
       "0  0.128769  0.130604   0.102407  ...    0.075334    0.012056    0.013855   \n",
       "1  0.084157  0.044868   0.133419  ...    0.001542    0.104665    0.822205   \n",
       "\n",
       "   result.419  result.421  result.422  result.423  result.424  result.425  \\\n",
       "0    0.029297    0.985202    0.709918    1.059249    0.975577    0.177692   \n",
       "1    0.070612    0.544571    0.426107    0.471597    0.407100    0.020350   \n",
       "\n",
       "   result.426  \n",
       "0    0.220787  \n",
       "1    0.049993  \n",
       "\n",
       "[2 rows x 299 columns]"
      ]
     },
     "execution_count": 4,
     "metadata": {},
     "output_type": "execute_result"
    }
   ],
   "source": [
    "reactome_fs = pd.read_csv(\"../../data/processed/fs/reactome_apid_huri.csv\")\n",
    "print(reactome_fs.shape)\n",
    "reactome_fs.head(2)"
   ]
  },
  {
   "attachments": {},
   "cell_type": "markdown",
   "id": "a95499cb",
   "metadata": {},
   "source": [
    "# 2. Classification Tasks"
   ]
  },
  {
   "attachments": {},
   "cell_type": "markdown",
   "id": "5917b165",
   "metadata": {},
   "source": [
    "## 2.1. Complete Network"
   ]
  },
  {
   "cell_type": "code",
   "execution_count": 96,
   "id": "01ff43ba",
   "metadata": {},
   "outputs": [
    {
     "data": {
      "application/vnd.jupyter.widget-view+json": {
       "model_id": "7356580b71ed46f982981766b9699bee",
       "version_major": 2,
       "version_minor": 0
      },
      "text/plain": [
       "  0%|          | 0/426 [00:00<?, ?it/s]"
      ]
     },
     "metadata": {},
     "output_type": "display_data"
    },
    {
     "ename": "KeyboardInterrupt",
     "evalue": "",
     "output_type": "error",
     "traceback": [
      "\u001b[0;31m---------------------------------------------------------------------------\u001b[0m",
      "\u001b[0;31mKeyboardInterrupt\u001b[0m                         Traceback (most recent call last)",
      "Cell \u001b[0;32mIn[96], line 2\u001b[0m\n\u001b[1;32m      1\u001b[0m importlib\u001b[39m.\u001b[39mreload(classifiers)\n\u001b[0;32m----> 2\u001b[0m classifier_results, classifier_results_proba_df, cv_results, n_fs, clf_models \u001b[39m=\u001b[39m classifiers\u001b[39m.\u001b[39;49mlogistic_classifier(reactome, reactome_fs, reactome_labels)\n",
      "File \u001b[0;32m~/GAP-MINE/python/src/models/classifiers.py:317\u001b[0m, in \u001b[0;36mlogistic_classifier\u001b[0;34m(data_, data_fs, labels, n_jobs)\u001b[0m\n\u001b[1;32m    315\u001b[0m     os\u001b[39m.\u001b[39menviron[\u001b[39m\"\u001b[39m\u001b[39mPYTHONWARNINGS\u001b[39m\u001b[39m\"\u001b[39m] \u001b[39m=\u001b[39m \u001b[39m\"\u001b[39m\u001b[39mignore\u001b[39m\u001b[39m\"\u001b[39m\n\u001b[1;32m    316\u001b[0m     cv \u001b[39m=\u001b[39m cross_val_score(clf, X_train, y_train, scoring\u001b[39m=\u001b[39mscoring_f1, cv\u001b[39m=\u001b[39m\u001b[39m10\u001b[39m, n_jobs\u001b[39m=\u001b[39mn_jobs)\n\u001b[0;32m--> 317\u001b[0m     clf\u001b[39m.\u001b[39;49mfit(X_train, y_train)\n\u001b[1;32m    319\u001b[0m cv_mean, cv_std \u001b[39m=\u001b[39m cv\u001b[39m.\u001b[39mmean(), cv\u001b[39m.\u001b[39mstd()\n\u001b[1;32m    321\u001b[0m \u001b[39mif\u001b[39;00m cv_mean \u001b[39m>\u001b[39m mean_f_measure:\n",
      "File \u001b[0;32m~/GAP-MINE/.venv/lib/python3.10/site-packages/sklearn/linear_model/_logistic.py:1291\u001b[0m, in \u001b[0;36mLogisticRegression.fit\u001b[0;34m(self, X, y, sample_weight)\u001b[0m\n\u001b[1;32m   1288\u001b[0m \u001b[39melse\u001b[39;00m:\n\u001b[1;32m   1289\u001b[0m     n_threads \u001b[39m=\u001b[39m \u001b[39m1\u001b[39m\n\u001b[0;32m-> 1291\u001b[0m fold_coefs_ \u001b[39m=\u001b[39m Parallel(n_jobs\u001b[39m=\u001b[39;49m\u001b[39mself\u001b[39;49m\u001b[39m.\u001b[39;49mn_jobs, verbose\u001b[39m=\u001b[39;49m\u001b[39mself\u001b[39;49m\u001b[39m.\u001b[39;49mverbose, prefer\u001b[39m=\u001b[39;49mprefer)(\n\u001b[1;32m   1292\u001b[0m     path_func(\n\u001b[1;32m   1293\u001b[0m         X,\n\u001b[1;32m   1294\u001b[0m         y,\n\u001b[1;32m   1295\u001b[0m         pos_class\u001b[39m=\u001b[39;49mclass_,\n\u001b[1;32m   1296\u001b[0m         Cs\u001b[39m=\u001b[39;49m[C_],\n\u001b[1;32m   1297\u001b[0m         l1_ratio\u001b[39m=\u001b[39;49m\u001b[39mself\u001b[39;49m\u001b[39m.\u001b[39;49ml1_ratio,\n\u001b[1;32m   1298\u001b[0m         fit_intercept\u001b[39m=\u001b[39;49m\u001b[39mself\u001b[39;49m\u001b[39m.\u001b[39;49mfit_intercept,\n\u001b[1;32m   1299\u001b[0m         tol\u001b[39m=\u001b[39;49m\u001b[39mself\u001b[39;49m\u001b[39m.\u001b[39;49mtol,\n\u001b[1;32m   1300\u001b[0m         verbose\u001b[39m=\u001b[39;49m\u001b[39mself\u001b[39;49m\u001b[39m.\u001b[39;49mverbose,\n\u001b[1;32m   1301\u001b[0m         solver\u001b[39m=\u001b[39;49msolver,\n\u001b[1;32m   1302\u001b[0m         multi_class\u001b[39m=\u001b[39;49mmulti_class,\n\u001b[1;32m   1303\u001b[0m         max_iter\u001b[39m=\u001b[39;49m\u001b[39mself\u001b[39;49m\u001b[39m.\u001b[39;49mmax_iter,\n\u001b[1;32m   1304\u001b[0m         class_weight\u001b[39m=\u001b[39;49m\u001b[39mself\u001b[39;49m\u001b[39m.\u001b[39;49mclass_weight,\n\u001b[1;32m   1305\u001b[0m         check_input\u001b[39m=\u001b[39;49m\u001b[39mFalse\u001b[39;49;00m,\n\u001b[1;32m   1306\u001b[0m         random_state\u001b[39m=\u001b[39;49m\u001b[39mself\u001b[39;49m\u001b[39m.\u001b[39;49mrandom_state,\n\u001b[1;32m   1307\u001b[0m         coef\u001b[39m=\u001b[39;49mwarm_start_coef_,\n\u001b[1;32m   1308\u001b[0m         penalty\u001b[39m=\u001b[39;49mpenalty,\n\u001b[1;32m   1309\u001b[0m         max_squared_sum\u001b[39m=\u001b[39;49mmax_squared_sum,\n\u001b[1;32m   1310\u001b[0m         sample_weight\u001b[39m=\u001b[39;49msample_weight,\n\u001b[1;32m   1311\u001b[0m         n_threads\u001b[39m=\u001b[39;49mn_threads,\n\u001b[1;32m   1312\u001b[0m     )\n\u001b[1;32m   1313\u001b[0m     \u001b[39mfor\u001b[39;49;00m class_, warm_start_coef_ \u001b[39min\u001b[39;49;00m \u001b[39mzip\u001b[39;49m(classes_, warm_start_coef)\n\u001b[1;32m   1314\u001b[0m )\n\u001b[1;32m   1316\u001b[0m fold_coefs_, _, n_iter_ \u001b[39m=\u001b[39m \u001b[39mzip\u001b[39m(\u001b[39m*\u001b[39mfold_coefs_)\n\u001b[1;32m   1317\u001b[0m \u001b[39mself\u001b[39m\u001b[39m.\u001b[39mn_iter_ \u001b[39m=\u001b[39m np\u001b[39m.\u001b[39masarray(n_iter_, dtype\u001b[39m=\u001b[39mnp\u001b[39m.\u001b[39mint32)[:, \u001b[39m0\u001b[39m]\n",
      "File \u001b[0;32m~/GAP-MINE/.venv/lib/python3.10/site-packages/sklearn/utils/parallel.py:63\u001b[0m, in \u001b[0;36mParallel.__call__\u001b[0;34m(self, iterable)\u001b[0m\n\u001b[1;32m     58\u001b[0m config \u001b[39m=\u001b[39m get_config()\n\u001b[1;32m     59\u001b[0m iterable_with_config \u001b[39m=\u001b[39m (\n\u001b[1;32m     60\u001b[0m     (_with_config(delayed_func, config), args, kwargs)\n\u001b[1;32m     61\u001b[0m     \u001b[39mfor\u001b[39;00m delayed_func, args, kwargs \u001b[39min\u001b[39;00m iterable\n\u001b[1;32m     62\u001b[0m )\n\u001b[0;32m---> 63\u001b[0m \u001b[39mreturn\u001b[39;00m \u001b[39msuper\u001b[39;49m()\u001b[39m.\u001b[39;49m\u001b[39m__call__\u001b[39;49m(iterable_with_config)\n",
      "File \u001b[0;32m~/GAP-MINE/.venv/lib/python3.10/site-packages/joblib/parallel.py:1108\u001b[0m, in \u001b[0;36mParallel.__call__\u001b[0;34m(self, iterable)\u001b[0m\n\u001b[1;32m   1106\u001b[0m     \u001b[39mself\u001b[39m\u001b[39m.\u001b[39m_backend\u001b[39m.\u001b[39mstop_call()\n\u001b[1;32m   1107\u001b[0m \u001b[39mif\u001b[39;00m \u001b[39mnot\u001b[39;00m \u001b[39mself\u001b[39m\u001b[39m.\u001b[39m_managed_backend:\n\u001b[0;32m-> 1108\u001b[0m     \u001b[39mself\u001b[39;49m\u001b[39m.\u001b[39;49m_terminate_backend()\n\u001b[1;32m   1109\u001b[0m \u001b[39mself\u001b[39m\u001b[39m.\u001b[39m_jobs \u001b[39m=\u001b[39m \u001b[39mlist\u001b[39m()\n\u001b[1;32m   1110\u001b[0m \u001b[39mself\u001b[39m\u001b[39m.\u001b[39m_pickle_cache \u001b[39m=\u001b[39m \u001b[39mNone\u001b[39;00m\n",
      "File \u001b[0;32m~/GAP-MINE/.venv/lib/python3.10/site-packages/joblib/parallel.py:799\u001b[0m, in \u001b[0;36mParallel._terminate_backend\u001b[0;34m(self)\u001b[0m\n\u001b[1;32m    797\u001b[0m \u001b[39mdef\u001b[39;00m \u001b[39m_terminate_backend\u001b[39m(\u001b[39mself\u001b[39m):\n\u001b[1;32m    798\u001b[0m     \u001b[39mif\u001b[39;00m \u001b[39mself\u001b[39m\u001b[39m.\u001b[39m_backend \u001b[39mis\u001b[39;00m \u001b[39mnot\u001b[39;00m \u001b[39mNone\u001b[39;00m:\n\u001b[0;32m--> 799\u001b[0m         \u001b[39mself\u001b[39;49m\u001b[39m.\u001b[39;49m_backend\u001b[39m.\u001b[39;49mterminate()\n",
      "File \u001b[0;32m~/GAP-MINE/.venv/lib/python3.10/site-packages/joblib/_parallel_backends.py:576\u001b[0m, in \u001b[0;36mLokyBackend.terminate\u001b[0;34m(self)\u001b[0m\n\u001b[1;32m    571\u001b[0m \u001b[39mdef\u001b[39;00m \u001b[39mterminate\u001b[39m(\u001b[39mself\u001b[39m):\n\u001b[1;32m    572\u001b[0m     \u001b[39mif\u001b[39;00m \u001b[39mself\u001b[39m\u001b[39m.\u001b[39m_workers \u001b[39mis\u001b[39;00m \u001b[39mnot\u001b[39;00m \u001b[39mNone\u001b[39;00m:\n\u001b[1;32m    573\u001b[0m         \u001b[39m# Don't terminate the workers as we want to reuse them in later\u001b[39;00m\n\u001b[1;32m    574\u001b[0m         \u001b[39m# calls, but cleanup the temporary resources that the Parallel call\u001b[39;00m\n\u001b[1;32m    575\u001b[0m         \u001b[39m# created. This 'hack' requires a private, low-level operation.\u001b[39;00m\n\u001b[0;32m--> 576\u001b[0m         \u001b[39mself\u001b[39;49m\u001b[39m.\u001b[39;49m_workers\u001b[39m.\u001b[39;49m_temp_folder_manager\u001b[39m.\u001b[39;49m_unlink_temporary_resources(\n\u001b[1;32m    577\u001b[0m             context_id\u001b[39m=\u001b[39;49m\u001b[39mself\u001b[39;49m\u001b[39m.\u001b[39;49mparallel\u001b[39m.\u001b[39;49m_id\n\u001b[1;32m    578\u001b[0m         )\n\u001b[1;32m    579\u001b[0m         \u001b[39mself\u001b[39m\u001b[39m.\u001b[39m_workers \u001b[39m=\u001b[39m \u001b[39mNone\u001b[39;00m\n\u001b[1;32m    581\u001b[0m     \u001b[39mself\u001b[39m\u001b[39m.\u001b[39mreset_batch_stats()\n",
      "File \u001b[0;32m~/GAP-MINE/.venv/lib/python3.10/site-packages/joblib/_memmapping_reducer.py:631\u001b[0m, in \u001b[0;36mTemporaryResourcesManager._unlink_temporary_resources\u001b[0;34m(self, context_id)\u001b[0m\n\u001b[1;32m    627\u001b[0m \u001b[39mfor\u001b[39;00m filename \u001b[39min\u001b[39;00m os\u001b[39m.\u001b[39mlistdir(temp_folder):\n\u001b[1;32m    628\u001b[0m     resource_tracker\u001b[39m.\u001b[39mmaybe_unlink(\n\u001b[1;32m    629\u001b[0m         os\u001b[39m.\u001b[39mpath\u001b[39m.\u001b[39mjoin(temp_folder, filename), \u001b[39m\"\u001b[39m\u001b[39mfile\u001b[39m\u001b[39m\"\u001b[39m\n\u001b[1;32m    630\u001b[0m     )\n\u001b[0;32m--> 631\u001b[0m \u001b[39mself\u001b[39;49m\u001b[39m.\u001b[39;49m_try_delete_folder(\n\u001b[1;32m    632\u001b[0m     allow_non_empty\u001b[39m=\u001b[39;49m\u001b[39mFalse\u001b[39;49;00m, context_id\u001b[39m=\u001b[39;49mcontext_id\n\u001b[1;32m    633\u001b[0m )\n",
      "File \u001b[0;32m~/GAP-MINE/.venv/lib/python3.10/site-packages/joblib/_memmapping_reducer.py:658\u001b[0m, in \u001b[0;36mTemporaryResourcesManager._try_delete_folder\u001b[0;34m(self, allow_non_empty, context_id)\u001b[0m\n\u001b[1;32m    656\u001b[0m temp_folder \u001b[39m=\u001b[39m \u001b[39mself\u001b[39m\u001b[39m.\u001b[39m_cached_temp_folders[context_id]\n\u001b[1;32m    657\u001b[0m \u001b[39mtry\u001b[39;00m:\n\u001b[0;32m--> 658\u001b[0m     delete_folder(\n\u001b[1;32m    659\u001b[0m         temp_folder, allow_non_empty\u001b[39m=\u001b[39;49mallow_non_empty\n\u001b[1;32m    660\u001b[0m     )\n\u001b[1;32m    661\u001b[0m     \u001b[39m# Now that this folder is deleted, we can forget about it\u001b[39;00m\n\u001b[1;32m    662\u001b[0m     \u001b[39mself\u001b[39m\u001b[39m.\u001b[39m_unregister_context(context_id)\n",
      "File \u001b[0;32m~/GAP-MINE/.venv/lib/python3.10/site-packages/joblib/disk.py:136\u001b[0m, in \u001b[0;36mdelete_folder\u001b[0;34m(folder_path, onerror, allow_non_empty)\u001b[0m\n\u001b[1;32m    131\u001b[0m     \u001b[39mif\u001b[39;00m err_count \u001b[39m>\u001b[39m RM_SUBDIRS_N_RETRY:\n\u001b[1;32m    132\u001b[0m         \u001b[39m# the folder cannot be deleted right now. It maybe\u001b[39;00m\n\u001b[1;32m    133\u001b[0m         \u001b[39m# because some temporary files have not been deleted\u001b[39;00m\n\u001b[1;32m    134\u001b[0m         \u001b[39m# yet.\u001b[39;00m\n\u001b[1;32m    135\u001b[0m         \u001b[39mraise\u001b[39;00m\n\u001b[0;32m--> 136\u001b[0m time\u001b[39m.\u001b[39;49msleep(RM_SUBDIRS_RETRY_TIME)\n",
      "\u001b[0;31mKeyboardInterrupt\u001b[0m: "
     ]
    }
   ],
   "source": [
    "importlib.reload(classifiers)\n",
    "classifier_results, classifier_results_proba_df, cv_results, n_fs, clf_models = classifiers.logistic_classifier(reactome, reactome_fs, reactome_labels)"
   ]
  },
  {
   "cell_type": "code",
   "execution_count": null,
   "id": "76413f62",
   "metadata": {},
   "outputs": [],
   "source": []
  },
  {
   "cell_type": "code",
   "execution_count": null,
   "id": "adcc5a34",
   "metadata": {},
   "outputs": [],
   "source": []
  },
  {
   "cell_type": "code",
   "execution_count": null,
   "id": "b6f242aa",
   "metadata": {},
   "outputs": [],
   "source": [
    "importlib.reload(classifiers)\n",
    "\n",
    "rwr_lgr_clf, rwr_lgr_proba_clf, rwr_cv, rwr_n_fs, rwr_models = logistic_classifier(\n",
    "    clf, reactome, reactome_rwr_test_index, reactome_rwr_fs_ar, reactome_labels, jobs=20)\n",
    "rwr_lgr_clf.to_csv('../../models/GAP-MINE/process/binary/rwr_lgr.csv', index=False)\n",
    "rwr_lgr_proba_clf.to_csv('../../models/GAP-MINE/process/probability/rwr_lgr_proba.csv', index=False)\n",
    "with open('../../models/GAP-MINE/process/cv_results/rwr.txt', 'w') as fp:\n",
    "    fp.write('\\n'.join('%s %s' % x for x in rwr_cv))\n",
    "with open(\"../../models/GAP-MINE/process/n_fs/rwr.txt\", \"w\") as f:\n",
    "    for s in rwr_n_fs:\n",
    "        f.write(str(s) +\"\\n\")\n",
    "with open(\"../../models/GAP-MINE/process/models/rwr.pckl\", \"wb\") as f:\n",
    "    for model in rwr_models:\n",
    "         pickle.dump(model, f)"
   ]
  },
  {
   "cell_type": "code",
   "execution_count": null,
   "id": "b79340f3",
   "metadata": {},
   "outputs": [],
   "source": [
    "importlib.reload(classifiers)\n",
    "clf = LogisticRegression(random_state=22)\n",
    "parameters = [{'penalty':['l1','l2'], 'C':[100, 10, 1.0, 0.1, 0.01],\n",
    "             'solver': ['liblinear'], 'max_iter':[10, 50, 100]}, \n",
    "              {'penalty':['l2', 'none'], 'C':[100, 10, 1.0, 0.1, 0.01],\n",
    "             'solver': ['sag', 'saga', 'newton-cg'], 'max_iter':[10, 50, 100]}]\n",
    "rwr_lgr_clf, rwr_lgr_proba_clf, rwr_cv, rwr_n_fs, rwr_models = classifiers.multiple_fs_classifier(clf, parameters, reactome, reactome_rwr_test_index, reactome_rwr_fs_ar, reactome_labels, jobs=20)\n",
    "rwr_lgr_clf.to_csv('../../models/GAP-MINE/process/binary/rwr_lgr.csv', index=False)\n",
    "rwr_lgr_proba_clf.to_csv('../../models/GAP-MINE/process/probability/rwr_lgr_proba.csv', index=False)\n",
    "with open('../../models/GAP-MINE/process/cv_results/rwr.txt', 'w') as fp:\n",
    "    fp.write('\\n'.join('%s %s' % x for x in rwr_cv))\n",
    "with open(\"../../models/GAP-MINE/process/n_fs/rwr.txt\", \"w\") as f:\n",
    "    for s in rwr_n_fs:\n",
    "        f.write(str(s) +\"\\n\")\n",
    "with open(\"../../models/GAP-MINE/process/models/rwr.pckl\", \"wb\") as f:\n",
    "    for model in rwr_models:\n",
    "         pickle.dump(model, f)"
   ]
  }
 ],
 "metadata": {
  "kernelspec": {
   "display_name": "Python 3 (ipykernel)",
   "language": "python",
   "name": "python3"
  },
  "language_info": {
   "codemirror_mode": {
    "name": "ipython",
    "version": 3
   },
   "file_extension": ".py",
   "mimetype": "text/x-python",
   "name": "python",
   "nbconvert_exporter": "python",
   "pygments_lexer": "ipython3",
   "version": "3.10.11"
  },
  "vscode": {
   "interpreter": {
    "hash": "42555cd0c5f1594a81e40866f5733b2cbf65026c937bf0149d49f47f234897c3"
   }
  }
 },
 "nbformat": 4,
 "nbformat_minor": 5
}
