{
 "cells": [
  {
   "cell_type": "code",
   "execution_count": 14,
   "id": "ebce7fbd",
   "metadata": {},
   "outputs": [],
   "source": [
    "import pandas as pd\n",
    "import classifiers\n",
    "import importlib\n",
    "import os\n",
    "import pickle\n",
    "import itertools\n",
    "from tqdm.notebook import tqdm\n",
    "import numpy as np\n",
    "from igraph import Graph\n",
    "from joblib import Parallel, delayed"
   ]
  },
  {
   "attachments": {},
   "cell_type": "markdown",
   "id": "2b2b2914",
   "metadata": {},
   "source": [
    "# GAP-MINE"
   ]
  },
  {
   "cell_type": "code",
   "execution_count": 40,
   "id": "cc66811a",
   "metadata": {},
   "outputs": [],
   "source": [
    "directories = dict(\n",
    "    clf_results = '../../models/GAP-MINE/clf_results/',\n",
    "    cv_results = '../../models/GAP-MINE/cv_results/',\n",
    "    models = '../../models/GAP-MINE/models/'\n",
    ")"
   ]
  },
  {
   "cell_type": "code",
   "execution_count": 41,
   "id": "4046cc81",
   "metadata": {},
   "outputs": [],
   "source": [
    "metrics_dir = \"../../data/processed/metrics/\"\n",
    "labels_dir = \"../../data/processed/\"\n",
    "fs_dir = \"../../data/processed/fs/\""
   ]
  },
  {
   "cell_type": "code",
   "execution_count": 42,
   "id": "a2729e01",
   "metadata": {},
   "outputs": [],
   "source": [
    "networks = ['apid_huri']\n",
    "datasets = ['reactome', 'disgenet_sca', 'disgenet_conservative']\n",
    "false_annotations = ['yes', 'no']"
   ]
  },
  {
   "cell_type": "code",
   "execution_count": 44,
   "id": "4ca6d961",
   "metadata": {},
   "outputs": [
    {
     "data": {
      "application/vnd.jupyter.widget-view+json": {
       "model_id": "7e1c7e3845514aa19ebbda91c421dd82",
       "version_major": 2,
       "version_minor": 0
      },
      "text/plain": [
       "  0%|          | 0/293 [00:00<?, ?it/s]"
      ]
     },
     "metadata": {},
     "output_type": "display_data"
    },
    {
     "data": {
      "application/vnd.jupyter.widget-view+json": {
       "model_id": "432c4f36ec48466c93ae974437b23616",
       "version_major": 2,
       "version_minor": 0
      },
      "text/plain": [
       "  0%|          | 0/204 [00:00<?, ?it/s]"
      ]
     },
     "metadata": {},
     "output_type": "display_data"
    },
    {
     "data": {
      "application/vnd.jupyter.widget-view+json": {
       "model_id": "fe822eab43b941fc8fa5696eb701f5f0",
       "version_major": 2,
       "version_minor": 0
      },
      "text/plain": [
       "  0%|          | 0/300 [00:00<?, ?it/s]"
      ]
     },
     "metadata": {},
     "output_type": "display_data"
    }
   ],
   "source": [
    "importlib.reload(classifiers)\n",
    "for dataset_label, network_label, fa in itertools.product(datasets, networks, false_annotations):\n",
    "    \n",
    "    for k, dir in directories.items():\n",
    "        \n",
    "        if os.path.exists(dir) and os.path.isdir(dir):\n",
    "            pass\n",
    "        else:\n",
    "            os.makedirs(dir)\n",
    "\n",
    "    ############### load data #############################\n",
    "    if fa == 'no':\n",
    "\n",
    "        fa_label = '_'\n",
    "        fa_proteins = None\n",
    "\n",
    "    elif fa == 'yes':\n",
    "        \n",
    "        fa_label = '_fa_'\n",
    "       \n",
    "        mod = pd.read_csv(\n",
    "            labels_dir + f\"{dataset_label}_modules_{network_label}.csv\",\n",
    "            converters={'protein_id': eval, 'protein_index': eval}\n",
    "            )\n",
    "        mod_fa = pd.read_csv(\n",
    "            labels_dir + f\"{dataset_label}_modules_fa_{network_label}.csv\", \n",
    "            converters={'protein_id': eval, 'protein_index': eval}\n",
    "            )\n",
    "        \n",
    "        fa_proteins = []\n",
    "        for i in range(mod.shape[0]):\n",
    "            fa_proteins.append(list(set(mod_fa.protein_id.iloc[i]) - set(mod.protein_id.iloc[i])))\n",
    "\n",
    "        fa_proteins = pd.Series(fa_proteins, index=mod.module_id)\n",
    "    \n",
    "    metrics = pd.read_csv(metrics_dir + f\"{dataset_label}{fa_label}{network_label}.csv\", header=0, index_col=0)\n",
    "\n",
    "    labels = pd.read_csv(labels_dir + f\"{dataset_label}{fa_label}labels_{network_label}.csv\", header=None)\n",
    "    labels.columns = metrics.columns\n",
    "    labels.index = metrics.index\n",
    "\n",
    "    fs = pd.read_csv(fs_dir + f\"{dataset_label}{fa_label}{network_label}.csv\")\n",
    "    \n",
    "\n",
    "    ####################### Prepare data #######################################################\n",
    "\n",
    "    fs_indices = [int(i)-1 for i in fs.columns.str.split('.').str[1].to_list()]\n",
    "    module_labels = metrics.columns[fs_indices].to_list()\n",
    "\n",
    "    fs.columns = module_labels\n",
    "\n",
    "    ###################### Run classifier ######################################\n",
    "\n",
    "    clf_results, cv_results, clf_models = classifiers.logistic_classifier(metrics, fs, labels, module_labels, fa=fa_proteins)\n",
    "    \n",
    "    clf_results.to_csv(directories['clf_results']+f'{dataset_label}{fa_label}{network_label}.csv', index=False)\n",
    "    cv_results.to_csv(directories['cv_results']+f'{dataset_label}{fa_label}{network_label}.csv', index=False)\n",
    "\n",
    "    with open(directories['models']+f\"{dataset_label}{fa_label}{network_label}.pckl\", \"wb\") as f:\n",
    "        for model in clf_models:\n",
    "            pickle.dump(model, f)"
   ]
  },
  {
   "cell_type": "markdown",
   "id": "a5f52879",
   "metadata": {},
   "source": [
    "# TEST GAP-MINE"
   ]
  },
  {
   "cell_type": "code",
   "execution_count": 20,
   "id": "ed8d3c46",
   "metadata": {},
   "outputs": [],
   "source": [
    "directories = dict(\n",
    "    clf_results = '../../models/GAP-MINE/clf_results/',\n",
    "    cv_results = '../../models/GAP-MINE/cv_results/',\n",
    "    models = '../../models/GAP-MINE/models/'\n",
    ")"
   ]
  },
  {
   "cell_type": "code",
   "execution_count": 21,
   "id": "deefafe1",
   "metadata": {},
   "outputs": [],
   "source": [
    "metrics_dir = \"../../data/processed/metrics/\"\n",
    "labels_dir = \"../../data/processed/\"\n",
    "fs_dir = \"../../data/processed/fs/\""
   ]
  },
  {
   "cell_type": "code",
   "execution_count": 48,
   "id": "672e084a",
   "metadata": {},
   "outputs": [],
   "source": [
    "networks = ['apid_huri']\n",
    "datasets = ['reactome', 'disgenet_sca', 'disgenet_conservative']\n",
    "false_annotations = [False, True]\n",
    "\n",
    "graph = Graph.Read_GML(\"../../data/processed/apid_huri_graph\")"
   ]
  },
  {
   "cell_type": "code",
   "execution_count": null,
   "id": "ddc2fdd7",
   "metadata": {},
   "outputs": [],
   "source": [
    "# compute shortest paths\n",
    "shortest_paths = graph.distances()\n",
    "shortest_paths = np.array(shortest_paths)"
   ]
  },
  {
   "cell_type": "code",
   "execution_count": 49,
   "id": "1e55c36d",
   "metadata": {},
   "outputs": [
    {
     "data": {
      "application/vnd.jupyter.widget-view+json": {
       "model_id": "58ad11633f7a416395018574c63e166a",
       "version_major": 2,
       "version_minor": 0
      },
      "text/plain": [
       "  0%|          | 0/426 [00:00<?, ?it/s]"
      ]
     },
     "metadata": {},
     "output_type": "display_data"
    },
    {
     "data": {
      "application/vnd.jupyter.widget-view+json": {
       "model_id": "081829197fc344aa8f8a72b694b18cb5",
       "version_major": 2,
       "version_minor": 0
      },
      "text/plain": [
       "  0%|          | 0/426 [00:00<?, ?it/s]"
      ]
     },
     "metadata": {},
     "output_type": "display_data"
    },
    {
     "data": {
      "application/vnd.jupyter.widget-view+json": {
       "model_id": "991c1601e9ab4f6b8317563c6c66893f",
       "version_major": 2,
       "version_minor": 0
      },
      "text/plain": [
       "  0%|          | 0/204 [00:00<?, ?it/s]"
      ]
     },
     "metadata": {},
     "output_type": "display_data"
    },
    {
     "data": {
      "application/vnd.jupyter.widget-view+json": {
       "model_id": "b51393b0d76647e58b7b372c5f637796",
       "version_major": 2,
       "version_minor": 0
      },
      "text/plain": [
       "  0%|          | 0/204 [00:00<?, ?it/s]"
      ]
     },
     "metadata": {},
     "output_type": "display_data"
    },
    {
     "data": {
      "application/vnd.jupyter.widget-view+json": {
       "model_id": "f50536b5519944fd9c13b7b57152a392",
       "version_major": 2,
       "version_minor": 0
      },
      "text/plain": [
       "  0%|          | 0/300 [00:00<?, ?it/s]"
      ]
     },
     "metadata": {},
     "output_type": "display_data"
    },
    {
     "data": {
      "application/vnd.jupyter.widget-view+json": {
       "model_id": "9eb25b338ede434fa8e644873f4eaf26",
       "version_major": 2,
       "version_minor": 0
      },
      "text/plain": [
       "  0%|          | 0/300 [00:00<?, ?it/s]"
      ]
     },
     "metadata": {},
     "output_type": "display_data"
    }
   ],
   "source": [
    "importlib.reload(classifiers)\n",
    "for dataset_label, network_label, fa in itertools.product(datasets, networks, false_annotations):\n",
    "    \n",
    "    for k, dir in directories.items():\n",
    "        \n",
    "        if os.path.exists(dir) and os.path.isdir(dir):\n",
    "            pass\n",
    "        else:\n",
    "            os.makedirs(dir)\n",
    "\n",
    "    ############### load data #############################\n",
    "    if fa:\n",
    "        fa_label = '_fa_'\n",
    "        g=graph\n",
    "        sp=shortest_paths\n",
    "\n",
    "    else:\n",
    "        fa_label = '_'\n",
    "        g=None\n",
    "        sp=None\n",
    "        \n",
    "    metrics = pd.read_csv(metrics_dir + f\"{dataset_label}_{network_label}.csv\", header=0, index_col=0)\n",
    "\n",
    "    labels = pd.read_csv(labels_dir + f\"{dataset_label}_labels_{network_label}.csv\", header=None)   \n",
    "    \n",
    "    ####################### Prepare data #######################################################\n",
    "\n",
    "    module_labels = metrics.columns.to_list()\n",
    "\n",
    "    X = metrics.to_numpy()\n",
    "    y = labels.to_numpy(dtype='int')\n",
    "    \n",
    "    ###################### Compute GAP-MINE ######################################################\n",
    "    results = Parallel(n_jobs=-1)(\n",
    "        delayed(classifiers.gapmine)(\n",
    "            X, y[:, module], beta=0.5, false_annotations=fa, shortest_paths=sp, graph=g, random_state=0\n",
    "            ) for module in tqdm(range(len(module_labels)))\n",
    "        )\n",
    "    \n",
    "    cv_results = pd.DataFrame([i[0] for i in results])\n",
    "    cv_results['target_module'] = module_labels\n",
    "    clf_results = pd.DataFrame([i[1] for i in results])\n",
    "    clf_results['target_module'] = module_labels\n",
    "    clf_models = [i[2] for i in results]\n",
    "\n",
    "    ###################### Save Results ###########################################################\n",
    "    clf_results.to_csv(directories['clf_results']+f'{dataset_label}{fa_label}{network_label}.csv', index=False)\n",
    "    cv_results.to_csv(directories['cv_results']+f'{dataset_label}{fa_label}{network_label}.csv', index=False)\n",
    "\n",
    "    with open(directories['models']+f\"{dataset_label}{fa_label}{network_label}.pckl\", \"wb\") as f:\n",
    "        for model in clf_models:\n",
    "            pickle.dump(model, f)"
   ]
  },
  {
   "attachments": {},
   "cell_type": "markdown",
   "id": "dce0c4b3",
   "metadata": {},
   "source": [
    "# Baseline Model"
   ]
  },
  {
   "cell_type": "code",
   "execution_count": 20,
   "id": "342fb355",
   "metadata": {},
   "outputs": [],
   "source": [
    "metrics_dir = \"../../data/processed/metrics/\"\n",
    "labels_dir = \"../../data/processed/\"\n",
    "fs_dir = \"../../data/processed/fs/\""
   ]
  },
  {
   "cell_type": "code",
   "execution_count": 21,
   "id": "adbff948",
   "metadata": {},
   "outputs": [],
   "source": [
    "networks = ['apid_huri']\n",
    "datasets = ['reactome', 'disgenet_sca', 'disgenet_conservative']\n",
    "false_annotations = ['no', 'yes']"
   ]
  },
  {
   "cell_type": "code",
   "execution_count": 22,
   "id": "86f5c628",
   "metadata": {},
   "outputs": [],
   "source": [
    "directory = '../../models/baseline_model/'"
   ]
  },
  {
   "cell_type": "code",
   "execution_count": 23,
   "id": "a3313620",
   "metadata": {},
   "outputs": [
    {
     "data": {
      "application/vnd.jupyter.widget-view+json": {
       "model_id": "8522a2705158452586af32096ed2f282",
       "version_major": 2,
       "version_minor": 0
      },
      "text/plain": [
       "  0%|          | 0/299 [00:00<?, ?it/s]"
      ]
     },
     "metadata": {},
     "output_type": "display_data"
    },
    {
     "data": {
      "application/vnd.jupyter.widget-view+json": {
       "model_id": "37cf5a1f829b4737a552c14a7a0cedec",
       "version_major": 2,
       "version_minor": 0
      },
      "text/plain": [
       "  0%|          | 0/293 [00:00<?, ?it/s]"
      ]
     },
     "metadata": {},
     "output_type": "display_data"
    },
    {
     "data": {
      "application/vnd.jupyter.widget-view+json": {
       "model_id": "b432b122e1e94a8b904f96cde567cf6d",
       "version_major": 2,
       "version_minor": 0
      },
      "text/plain": [
       "  0%|          | 0/204 [00:00<?, ?it/s]"
      ]
     },
     "metadata": {},
     "output_type": "display_data"
    },
    {
     "data": {
      "application/vnd.jupyter.widget-view+json": {
       "model_id": "0b672f6d2b2c430cabff77927b6e9866",
       "version_major": 2,
       "version_minor": 0
      },
      "text/plain": [
       "  0%|          | 0/204 [00:00<?, ?it/s]"
      ]
     },
     "metadata": {},
     "output_type": "display_data"
    },
    {
     "data": {
      "application/vnd.jupyter.widget-view+json": {
       "model_id": "349e032c792442dfa5590f1d23066c3d",
       "version_major": 2,
       "version_minor": 0
      },
      "text/plain": [
       "  0%|          | 0/300 [00:00<?, ?it/s]"
      ]
     },
     "metadata": {},
     "output_type": "display_data"
    },
    {
     "data": {
      "application/vnd.jupyter.widget-view+json": {
       "model_id": "6cd308dd83e24dc191d8122c7acbab76",
       "version_major": 2,
       "version_minor": 0
      },
      "text/plain": [
       "  0%|          | 0/300 [00:00<?, ?it/s]"
      ]
     },
     "metadata": {},
     "output_type": "display_data"
    }
   ],
   "source": [
    "importlib.reload(classifiers)\n",
    "for dataset_label, network_label, fa in itertools.product(datasets, networks, false_annotations):\n",
    "    \n",
    "    if os.path.exists(directory) and os.path.isdir(directory):\n",
    "        pass\n",
    "    else:\n",
    "        os.makedirs(directory)\n",
    "\n",
    "\n",
    "    ############### load data #############################\n",
    "    if fa == 'no':\n",
    "\n",
    "        fa_label = '_'\n",
    "        fa_proteins = None\n",
    "\n",
    "    elif fa == 'yes':\n",
    "        \n",
    "        fa_label = '_fa_'\n",
    "       \n",
    "        mod = pd.read_csv(\n",
    "            labels_dir + f\"{dataset_label}_modules_{network_label}.csv\",\n",
    "            converters={'protein_id': eval, 'protein_index': eval}\n",
    "            )\n",
    "        mod_fa = pd.read_csv(\n",
    "            labels_dir + f\"{dataset_label}_modules{fa_label}{network_label}.csv\", \n",
    "            converters={'protein_id': eval, 'protein_index': eval}\n",
    "            )\n",
    "        \n",
    "        fa_proteins = []\n",
    "        for i in range(mod.shape[0]):\n",
    "            fa_proteins.append(list(set(mod_fa.protein_id.iloc[i]) - set(mod.protein_id.iloc[i])))\n",
    "\n",
    "        fa_proteins = pd.Series(fa_proteins, index=mod.module_id)\n",
    "\n",
    "\n",
    "    metrics = pd.read_csv(metrics_dir + f\"{dataset_label}{fa_label}{network_label}.csv\", header=0, index_col=0)\n",
    "\n",
    "    labels = pd.read_csv(labels_dir + f\"{dataset_label}{fa_label}labels_{network_label}.csv\", header=None)\n",
    "    labels.columns = metrics.columns\n",
    "    labels.index = metrics.index\n",
    "\n",
    "    fs = pd.read_csv(fs_dir + f\"{dataset_label}{fa_label}{network_label}.csv\")\n",
    "\n",
    "\n",
    "    ####################### Prepare data #######################################################\n",
    "\n",
    "    fs_indices = [int(i)-1 for i in fs.columns.str.split('.').str[1].to_list()]\n",
    "    module_labels = metrics.columns[fs_indices].to_list()\n",
    "\n",
    "    ###################### Run classifier ######################################\n",
    "      \n",
    "    clf_results = classifiers.baseline_classifier(metrics, labels, module_labels, fa=fa_proteins)\n",
    "    \n",
    "    clf_results.to_csv(directory+f'{dataset_label}{fa_label}{network_label}.csv', index=False)"
   ]
  },
  {
   "cell_type": "markdown",
   "id": "cc5d24d7",
   "metadata": {},
   "source": [
    "# TEST"
   ]
  },
  {
   "cell_type": "code",
   "execution_count": null,
   "id": "47967203",
   "metadata": {},
   "outputs": [],
   "source": [
    "metrics_dir = \"../../data/processed/metrics/\"\n",
    "labels_dir = \"../../data/processed/\"\n",
    "fs_dir = \"../../data/processed/fs/\""
   ]
  },
  {
   "cell_type": "code",
   "execution_count": 53,
   "id": "9ce9071a",
   "metadata": {},
   "outputs": [],
   "source": [
    "directory = '../../models/baseline_model/'"
   ]
  },
  {
   "cell_type": "code",
   "execution_count": null,
   "id": "dbabb3d0",
   "metadata": {},
   "outputs": [],
   "source": [
    "networks = ['apid_huri']\n",
    "datasets = ['reactome', 'disgenet_sca', 'disgenet_conservative']\n",
    "false_annotations = [False, True]\n",
    "\n",
    "graph = Graph.Read_GML(\"../../data/processed/apid_huri_graph\")"
   ]
  },
  {
   "cell_type": "code",
   "execution_count": null,
   "id": "1fcc87ff",
   "metadata": {},
   "outputs": [],
   "source": [
    "# compute shortest paths\n",
    "shortest_paths = graph.distances()\n",
    "shortest_paths = np.array(shortest_paths)"
   ]
  },
  {
   "cell_type": "code",
   "execution_count": 56,
   "id": "d191e204",
   "metadata": {},
   "outputs": [
    {
     "data": {
      "application/vnd.jupyter.widget-view+json": {
       "model_id": "78ad869c00c844109e229e77648fc990",
       "version_major": 2,
       "version_minor": 0
      },
      "text/plain": [
       "  0%|          | 0/426 [00:00<?, ?it/s]"
      ]
     },
     "metadata": {},
     "output_type": "display_data"
    },
    {
     "data": {
      "application/vnd.jupyter.widget-view+json": {
       "model_id": "e4534ee13a0a4e18b820c9d90b217535",
       "version_major": 2,
       "version_minor": 0
      },
      "text/plain": [
       "  0%|          | 0/426 [00:00<?, ?it/s]"
      ]
     },
     "metadata": {},
     "output_type": "display_data"
    },
    {
     "data": {
      "application/vnd.jupyter.widget-view+json": {
       "model_id": "5a6f11f29c5146638d70451d92a510a8",
       "version_major": 2,
       "version_minor": 0
      },
      "text/plain": [
       "  0%|          | 0/204 [00:00<?, ?it/s]"
      ]
     },
     "metadata": {},
     "output_type": "display_data"
    },
    {
     "data": {
      "application/vnd.jupyter.widget-view+json": {
       "model_id": "f289fb6681d347c1b402c9a3cea94ab5",
       "version_major": 2,
       "version_minor": 0
      },
      "text/plain": [
       "  0%|          | 0/204 [00:00<?, ?it/s]"
      ]
     },
     "metadata": {},
     "output_type": "display_data"
    },
    {
     "data": {
      "application/vnd.jupyter.widget-view+json": {
       "model_id": "b6bb4058db504513958107837c81f07c",
       "version_major": 2,
       "version_minor": 0
      },
      "text/plain": [
       "  0%|          | 0/300 [00:00<?, ?it/s]"
      ]
     },
     "metadata": {},
     "output_type": "display_data"
    },
    {
     "data": {
      "application/vnd.jupyter.widget-view+json": {
       "model_id": "f904927820a24ca7a4f2c5a970839ecb",
       "version_major": 2,
       "version_minor": 0
      },
      "text/plain": [
       "  0%|          | 0/300 [00:00<?, ?it/s]"
      ]
     },
     "metadata": {},
     "output_type": "display_data"
    }
   ],
   "source": [
    "importlib.reload(classifiers)\n",
    "for dataset_label, network_label, fa in itertools.product(datasets, networks, false_annotations):\n",
    "    \n",
    "    if os.path.exists(directory) and os.path.isdir(directory):\n",
    "        pass\n",
    "    else:\n",
    "        os.makedirs(directory)\n",
    "\n",
    "    ############### load data #############################\n",
    "    if fa:\n",
    "        fa_label = '_fa_'\n",
    "        g=graph\n",
    "        sp=shortest_paths\n",
    "\n",
    "    else:\n",
    "        fa_label = '_'\n",
    "        g=None\n",
    "        sp=None\n",
    "        \n",
    "    metrics = pd.read_csv(metrics_dir + f\"{dataset_label}_{network_label}.csv\", header=0, index_col=0)\n",
    "\n",
    "    labels = pd.read_csv(labels_dir + f\"{dataset_label}_labels_{network_label}.csv\", header=None)   \n",
    "    \n",
    "    ####################### Prepare data #######################################################\n",
    "\n",
    "    module_labels = metrics.columns.to_list()\n",
    "\n",
    "    X = metrics.to_numpy()\n",
    "    y = labels.to_numpy(dtype='int')\n",
    "    \n",
    "    ###################### Compute GAP-MINE ######################################################\n",
    "    clf_results = Parallel(n_jobs=-1)(\n",
    "        delayed(classifiers.baseline)(\n",
    "            X[:, module], y[:, module], beta=0.5, false_annotations=fa, shortest_paths=sp, graph=g, random_state=0\n",
    "            ) for module in tqdm(range(len(module_labels)))\n",
    "        )\n",
    "    \n",
    "    clf_results = pd.DataFrame(clf_results)\n",
    "    clf_results['target_module'] = module_labels\n",
    "\n",
    "    ###################### Save Results ###########################################################\n",
    "    clf_results.to_csv(directory['clf_results']+f'{dataset_label}{fa_label}{network_label}.csv', index=False)"
   ]
  },
  {
   "cell_type": "markdown",
   "id": "84ebf99a",
   "metadata": {},
   "source": []
  }
 ],
 "metadata": {
  "kernelspec": {
   "display_name": "Python 3 (ipykernel)",
   "language": "python",
   "name": "python3"
  },
  "language_info": {
   "codemirror_mode": {
    "name": "ipython",
    "version": 3
   },
   "file_extension": ".py",
   "mimetype": "text/x-python",
   "name": "python",
   "nbconvert_exporter": "python",
   "pygments_lexer": "ipython3",
   "version": "3.10.12"
  },
  "vscode": {
   "interpreter": {
    "hash": "42555cd0c5f1594a81e40866f5733b2cbf65026c937bf0149d49f47f234897c3"
   }
  }
 },
 "nbformat": 4,
 "nbformat_minor": 5
}
